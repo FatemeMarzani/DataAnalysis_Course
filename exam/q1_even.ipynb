{
 "cells": [
  {
   "cell_type": "code",
   "execution_count": 1,
   "metadata": {},
   "outputs": [],
   "source": [
    "# conda install -c conda-forge jdatetime\n",
    "import jdatetime\n",
    "\n",
    "def date_difference(s, t):\n",
    "    date1 = jdatetime.datetime.strptime(s, '%Y/%m/%d')\n",
    "    date2 = jdatetime.datetime.strptime(t, '%Y/%m/%d')\n",
    "\n",
    "    return (date1 - date2).days\n"
   ]
  }
 ],
 "metadata": {
  "kernelspec": {
   "display_name": "Python 3",
   "language": "python",
   "name": "python3"
  },
  "language_info": {
   "codemirror_mode": {
    "name": "ipython",
    "version": 3
   },
   "file_extension": ".py",
   "mimetype": "text/x-python",
   "name": "python",
   "nbconvert_exporter": "python",
   "pygments_lexer": "ipython3",
   "version": "3.8.3"
  }
 },
 "nbformat": 4,
 "nbformat_minor": 4
}
