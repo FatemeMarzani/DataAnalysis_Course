{
 "cells": [
  {
   "cell_type": "markdown",
   "metadata": {},
   "source": [
    "# A visualization demonstrating impact of Lockdown length on COVID infection rate and death"
   ]
  },
  {
   "cell_type": "markdown",
   "metadata": {},
   "source": [
    "### Import required libraries"
   ]
  },
  {
   "cell_type": "code",
   "execution_count": 1,
   "metadata": {},
   "outputs": [],
   "source": [
    "import pandas as pd\n",
    "import numpy as np\n",
    "import matplotlib.pyplot as plt\n",
    "import datetime\n",
    "from scipy.signal import savgol_filter"
   ]
  },
  {
   "cell_type": "markdown",
   "metadata": {},
   "source": [
    "### Read COVID cases and death dataset, filter and subset as well"
   ]
  },
  {
   "cell_type": "raw",
   "metadata": {},
   "source": [
    "dataset is downloaded from https://www.ecdc.europa.eu/sites/default/files/documents/COVID-19-geographic-disbtribution-worldwide.xlsx"
   ]
  },
  {
   "cell_type": "code",
   "execution_count": 2,
   "metadata": {},
   "outputs": [],
   "source": [
    "covid_data=pd.read_excel('../visualisation proj/data/COVID-19-geographic-disbtribution-worldwide.xlsx')\n",
    "covid_data = covid_data[['countryterritoryCode','country', 'date', 'cases', 'deaths']]\n",
    "covid_data.date=pd.to_datetime(covid_data.date, format='%Y-%m-%d', errors='coerce')\n"
   ]
  },
  {
   "cell_type": "code",
   "execution_count": 3,
   "metadata": {},
   "outputs": [
    {
     "data": {
      "text/plain": [
       "Timestamp('2020-12-14 00:00:00')"
      ]
     },
     "execution_count": 3,
     "metadata": {},
     "output_type": "execute_result"
    }
   ],
   "source": [
    "covid_data.date.max()"
   ]
  },
  {
   "cell_type": "code",
   "execution_count": 4,
   "metadata": {},
   "outputs": [
    {
     "data": {
      "text/html": [
       "<div>\n",
       "<style scoped>\n",
       "    .dataframe tbody tr th:only-of-type {\n",
       "        vertical-align: middle;\n",
       "    }\n",
       "\n",
       "    .dataframe tbody tr th {\n",
       "        vertical-align: top;\n",
       "    }\n",
       "\n",
       "    .dataframe thead th {\n",
       "        text-align: right;\n",
       "    }\n",
       "</style>\n",
       "<table border=\"1\" class=\"dataframe\">\n",
       "  <thead>\n",
       "    <tr style=\"text-align: right;\">\n",
       "      <th></th>\n",
       "      <th>countryterritoryCode</th>\n",
       "      <th>country</th>\n",
       "      <th>date</th>\n",
       "      <th>cases</th>\n",
       "      <th>deaths</th>\n",
       "    </tr>\n",
       "  </thead>\n",
       "  <tbody>\n",
       "    <tr>\n",
       "      <th>0</th>\n",
       "      <td>AFG</td>\n",
       "      <td>Afghanistan</td>\n",
       "      <td>2020-12-14</td>\n",
       "      <td>746</td>\n",
       "      <td>6</td>\n",
       "    </tr>\n",
       "    <tr>\n",
       "      <th>1</th>\n",
       "      <td>AFG</td>\n",
       "      <td>Afghanistan</td>\n",
       "      <td>2020-12-13</td>\n",
       "      <td>298</td>\n",
       "      <td>9</td>\n",
       "    </tr>\n",
       "    <tr>\n",
       "      <th>2</th>\n",
       "      <td>AFG</td>\n",
       "      <td>Afghanistan</td>\n",
       "      <td>2020-12-12</td>\n",
       "      <td>113</td>\n",
       "      <td>11</td>\n",
       "    </tr>\n",
       "    <tr>\n",
       "      <th>3</th>\n",
       "      <td>AFG</td>\n",
       "      <td>Afghanistan</td>\n",
       "      <td>2020-12-11</td>\n",
       "      <td>63</td>\n",
       "      <td>10</td>\n",
       "    </tr>\n",
       "    <tr>\n",
       "      <th>4</th>\n",
       "      <td>AFG</td>\n",
       "      <td>Afghanistan</td>\n",
       "      <td>2020-12-10</td>\n",
       "      <td>202</td>\n",
       "      <td>16</td>\n",
       "    </tr>\n",
       "  </tbody>\n",
       "</table>\n",
       "</div>"
      ],
      "text/plain": [
       "  countryterritoryCode      country       date  cases  deaths\n",
       "0                  AFG  Afghanistan 2020-12-14    746       6\n",
       "1                  AFG  Afghanistan 2020-12-13    298       9\n",
       "2                  AFG  Afghanistan 2020-12-12    113      11\n",
       "3                  AFG  Afghanistan 2020-12-11     63      10\n",
       "4                  AFG  Afghanistan 2020-12-10    202      16"
      ]
     },
     "execution_count": 4,
     "metadata": {},
     "output_type": "execute_result"
    }
   ],
   "source": [
    "covid_data.head(5)"
   ]
  },
  {
   "cell_type": "markdown",
   "metadata": {},
   "source": [
    "### Read COVID natinal lockdown data"
   ]
  },
  {
   "cell_type": "markdown",
   "metadata": {},
   "source": [
    "dataset is collected from https://en.wikipedia.org/wiki/Template:COVID-19_pandemic_lockdowns\n",
    "        and saved to an exel file.\n",
    "        \n",
    "   "
   ]
  },
  {
   "cell_type": "code",
   "execution_count": 5,
   "metadata": {},
   "outputs": [],
   "source": [
    "ds=pd.read_excel('../visualisation proj/data/national - first-lockdown-world.xlsx')"
   ]
  },
  {
   "cell_type": "code",
   "execution_count": 6,
   "metadata": {},
   "outputs": [
    {
     "data": {
      "text/html": [
       "<div>\n",
       "<style scoped>\n",
       "    .dataframe tbody tr th:only-of-type {\n",
       "        vertical-align: middle;\n",
       "    }\n",
       "\n",
       "    .dataframe tbody tr th {\n",
       "        vertical-align: top;\n",
       "    }\n",
       "\n",
       "    .dataframe thead th {\n",
       "        text-align: right;\n",
       "    }\n",
       "</style>\n",
       "<table border=\"1\" class=\"dataframe\">\n",
       "  <thead>\n",
       "    <tr style=\"text-align: right;\">\n",
       "      <th></th>\n",
       "      <th>Country</th>\n",
       "      <th>start</th>\n",
       "      <th>end</th>\n",
       "      <th>Length_days</th>\n",
       "      <th>Level</th>\n",
       "      <th>population</th>\n",
       "    </tr>\n",
       "  </thead>\n",
       "  <tbody>\n",
       "    <tr>\n",
       "      <th>0</th>\n",
       "      <td>Mongolia</td>\n",
       "      <td>2020-03-10</td>\n",
       "      <td>2020-03-16</td>\n",
       "      <td>6</td>\n",
       "      <td>National</td>\n",
       "      <td>3278292</td>\n",
       "    </tr>\n",
       "    <tr>\n",
       "      <th>1</th>\n",
       "      <td>Hungary</td>\n",
       "      <td>2020-03-28</td>\n",
       "      <td>2020-04-10</td>\n",
       "      <td>13</td>\n",
       "      <td>National</td>\n",
       "      <td>9660350</td>\n",
       "    </tr>\n",
       "    <tr>\n",
       "      <th>2</th>\n",
       "      <td>Lebanon</td>\n",
       "      <td>2020-03-15</td>\n",
       "      <td>2020-03-28</td>\n",
       "      <td>13</td>\n",
       "      <td>National</td>\n",
       "      <td>6825442</td>\n",
       "    </tr>\n",
       "    <tr>\n",
       "      <th>3</th>\n",
       "      <td>Samoa</td>\n",
       "      <td>2020-03-26</td>\n",
       "      <td>2020-04-08</td>\n",
       "      <td>13</td>\n",
       "      <td>National</td>\n",
       "      <td>198410</td>\n",
       "    </tr>\n",
       "    <tr>\n",
       "      <th>4</th>\n",
       "      <td>Papua New Guinea</td>\n",
       "      <td>2020-03-24</td>\n",
       "      <td>2020-04-07</td>\n",
       "      <td>14</td>\n",
       "      <td>National</td>\n",
       "      <td>8947027</td>\n",
       "    </tr>\n",
       "  </tbody>\n",
       "</table>\n",
       "</div>"
      ],
      "text/plain": [
       "            Country      start        end  Length_days     Level  population\n",
       "0          Mongolia 2020-03-10 2020-03-16            6  National     3278292\n",
       "1           Hungary 2020-03-28 2020-04-10           13  National     9660350\n",
       "2           Lebanon 2020-03-15 2020-03-28           13  National     6825442\n",
       "3             Samoa 2020-03-26 2020-04-08           13  National      198410\n",
       "4  Papua New Guinea 2020-03-24 2020-04-07           14  National     8947027"
      ]
     },
     "execution_count": 6,
     "metadata": {},
     "output_type": "execute_result"
    }
   ],
   "source": [
    "ds.head(5)"
   ]
  },
  {
   "cell_type": "markdown",
   "metadata": {},
   "source": [
    "### Select countries which is common in covid dataset and first lockdown dataset ."
   ]
  },
  {
   "cell_type": "code",
   "execution_count": 7,
   "metadata": {},
   "outputs": [],
   "source": [
    "covid_data= covid_data[covid_data['country'].isin(ds.Country)]"
   ]
  },
  {
   "cell_type": "code",
   "execution_count": 8,
   "metadata": {},
   "outputs": [
    {
     "data": {
      "text/plain": [
       "60"
      ]
     },
     "execution_count": 8,
     "metadata": {},
     "output_type": "execute_result"
    }
   ],
   "source": [
    "len(covid_data.country.value_counts())"
   ]
  },
  {
   "cell_type": "code",
   "execution_count": 9,
   "metadata": {},
   "outputs": [
    {
     "data": {
      "text/plain": [
       "72"
      ]
     },
     "execution_count": 9,
     "metadata": {},
     "output_type": "execute_result"
    }
   ],
   "source": [
    "len(ds.Country.value_counts())"
   ]
  },
  {
   "cell_type": "markdown",
   "metadata": {},
   "source": [
    "limit lock-down data with countries in covid dataset"
   ]
  },
  {
   "cell_type": "code",
   "execution_count": 10,
   "metadata": {},
   "outputs": [],
   "source": [
    "ds=ds[ds['Country'].isin(covid_data.country)]"
   ]
  },
  {
   "cell_type": "code",
   "execution_count": 11,
   "metadata": {},
   "outputs": [
    {
     "data": {
      "text/plain": [
       "60"
      ]
     },
     "execution_count": 11,
     "metadata": {},
     "output_type": "execute_result"
    }
   ],
   "source": [
    "len(ds.Country.value_counts())"
   ]
  },
  {
   "cell_type": "markdown",
   "metadata": {},
   "source": [
    "### filling missing values"
   ]
  },
  {
   "cell_type": "code",
   "execution_count": 12,
   "metadata": {},
   "outputs": [
    {
     "name": "stderr",
     "output_type": "stream",
     "text": [
      "C:\\Users\\zst2019\\anaconda3\\lib\\site-packages\\pandas\\core\\generic.py:6245: SettingWithCopyWarning: \n",
      "A value is trying to be set on a copy of a slice from a DataFrame\n",
      "\n",
      "See the caveats in the documentation: https://pandas.pydata.org/pandas-docs/stable/user_guide/indexing.html#returning-a-view-versus-a-copy\n",
      "  self._update_inplace(new_data)\n"
     ]
    }
   ],
   "source": [
    "for country in ds.Country:\n",
    "        covid_data.loc[(covid_data['country']==country),:].cases.fillna(method='bfill',inplace=True)\n",
    "        covid_data.loc[(covid_data['country']==country),:].deaths.fillna(method='bfill',inplace=True)"
   ]
  },
  {
   "cell_type": "markdown",
   "metadata": {},
   "source": [
    "### Detecting outlayers and filling with new value"
   ]
  },
  {
   "cell_type": "code",
   "execution_count": 13,
   "metadata": {},
   "outputs": [],
   "source": [
    "for country in ds.Country:\n",
    "    dataframe=covid_data.loc[(covid_data['country']==country),:]\n",
    "    covid_data.loc[(covid_data['country']==country),'expected_cases']=(dataframe['cases'].shift(1)+dataframe['cases'].shift(-1))/2\n",
    "   "
   ]
  },
  {
   "cell_type": "code",
   "execution_count": 14,
   "metadata": {},
   "outputs": [
    {
     "name": "stderr",
     "output_type": "stream",
     "text": [
      "C:\\Users\\zst2019\\anaconda3\\lib\\site-packages\\pandas\\core\\indexing.py:966: SettingWithCopyWarning: \n",
      "A value is trying to be set on a copy of a slice from a DataFrame.\n",
      "Try using .loc[row_indexer,col_indexer] = value instead\n",
      "\n",
      "See the caveats in the documentation: https://pandas.pydata.org/pandas-docs/stable/user_guide/indexing.html#returning-a-view-versus-a-copy\n",
      "  self.obj[item] = s\n"
     ]
    }
   ],
   "source": [
    "for country in ds.Country:\n",
    "    country=covid_data.loc[covid_data['country']==country,:]\n",
    "    isoutlier=np.abs((country.loc[:,'expected_cases']-country.loc[:,'cases'])/country.loc[:,'expected_cases'])>0.8\n",
    "    country.loc[isoutlier,'cases']=country.loc[isoutlier,'expected_cases']"
   ]
  },
  {
   "cell_type": "markdown",
   "metadata": {},
   "source": [
    "### select five countries for first exploring"
   ]
  },
  {
   "cell_type": "code",
   "execution_count": 15,
   "metadata": {},
   "outputs": [],
   "source": [
    "df_ir=covid_data.loc[covid_data['country']==\"Iran\",:]\n",
    "df_france=covid_data.loc[covid_data['country']==\"France\",:]\n",
    "df_italy=covid_data.loc[covid_data['country']==\"Italy\",:]\n",
    "df_spain=covid_data.loc[covid_data['country']==\"Spain\",:]\n",
    "df_germany=covid_data.loc[covid_data['country']==\"Germany\",:]\n",
    "selected=[df_ir,df_france,df_italy,df_spain,df_germany]"
   ]
  },
  {
   "cell_type": "markdown",
   "metadata": {},
   "source": [
    "find the minimum start of lockdown and maximum end of lockdown date"
   ]
  },
  {
   "cell_type": "code",
   "execution_count": 16,
   "metadata": {},
   "outputs": [],
   "source": [
    "start_date=min(ds[ds['Country'].isin([\"Iran\",\"France\",\"Italy\",\"Germany\",\"Spain\"])]['start'])\n",
    "end_date=max(ds[ds['Country'].isin([\"Iran\",\"France\",\"Italy\",\"Germany\",\"Spain\"])]['end'])"
   ]
  },
  {
   "cell_type": "code",
   "execution_count": 17,
   "metadata": {},
   "outputs": [
    {
     "data": {
      "text/plain": [
       "Timestamp('2020-03-09 00:00:00')"
      ]
     },
     "execution_count": 17,
     "metadata": {},
     "output_type": "execute_result"
    }
   ],
   "source": [
    "start_date"
   ]
  },
  {
   "cell_type": "code",
   "execution_count": 18,
   "metadata": {},
   "outputs": [
    {
     "data": {
      "text/plain": [
       "Timestamp('2020-05-18 00:00:00')"
      ]
     },
     "execution_count": 18,
     "metadata": {},
     "output_type": "execute_result"
    }
   ],
   "source": [
    "end_date"
   ]
  },
  {
   "cell_type": "markdown",
   "metadata": {},
   "source": [
    "limit covid data from 10 days befor start date_to 21 days after end_date"
   ]
  },
  {
   "cell_type": "code",
   "execution_count": 19,
   "metadata": {},
   "outputs": [],
   "source": [
    "fr_df=df_france.loc[(df_france['date']>start_date + datetime.timedelta(days=-10)) & (df_france['date'] < end_date +  datetime.timedelta(days=21))]\n",
    "it_df=df_italy.loc[(df_italy['date']>start_date+ datetime.timedelta(days=-10)) & (df_italy['date'] < end_date+  datetime.timedelta(days=21))]\n",
    "gr_df=df_germany.loc[(df_germany['date']>start_date+ datetime.timedelta(days=-10)) & (df_germany['date'] < end_date+  datetime.timedelta(days=21))]\n",
    "sp_df=df_spain.loc[(df_spain['date']>start_date+ datetime.timedelta(days=-10)) & (df_spain['date'] < end_date+  datetime.timedelta(days=21))]\n",
    "ir_df=df_ir.loc[(df_ir['date']>start_date+ datetime.timedelta(days=-10)) & (df_ir['date'] < end_date+  datetime.timedelta(days=21))]\n",
    "countries=[fr_df,it_df,gr_df,sp_df,ir_df]"
   ]
  },
  {
   "cell_type": "markdown",
   "metadata": {},
   "source": [
    "smooth our data for better visualization "
   ]
  },
  {
   "cell_type": "code",
   "execution_count": 61,
   "metadata": {},
   "outputs": [
    {
     "name": "stderr",
     "output_type": "stream",
     "text": [
      "C:\\Users\\zst2019\\anaconda3\\lib\\site-packages\\pandas\\core\\generic.py:5303: SettingWithCopyWarning: \n",
      "A value is trying to be set on a copy of a slice from a DataFrame.\n",
      "Try using .loc[row_indexer,col_indexer] = value instead\n",
      "\n",
      "See the caveats in the documentation: https://pandas.pydata.org/pandas-docs/stable/user_guide/indexing.html#returning-a-view-versus-a-copy\n",
      "  self[name] = value\n"
     ]
    }
   ],
   "source": [
    "from scipy.signal import savgol_filter\n",
    "for country in countries:\n",
    "    country.cases=savgol_filter(country.cases,51, 2)\n",
    "    country.deaths=savgol_filter(country.deaths,51, 2)"
   ]
  },
  {
   "cell_type": "markdown",
   "metadata": {},
   "source": [
    "find the start and end date of lockdown for selected country to highligth lockdown period"
   ]
  },
  {
   "cell_type": "code",
   "execution_count": 21,
   "metadata": {},
   "outputs": [],
   "source": [
    "start_fr=ds.loc[ds['Country']=='France',:].start.iloc[0]\n",
    "end_fr=ds.loc[ds['Country']=='France',:].end.iloc[0]\n",
    "start_gr=ds.loc[ds['Country']=='Germany',:].start.iloc[0]\n",
    "end_gr=ds.loc[ds['Country']=='Germany',:].end.iloc[0]\n",
    "start_it=ds.loc[ds['Country']=='Italy',:].start.iloc[0]\n",
    "end_it=ds.loc[ds['Country']=='Italy',:].end.iloc[0]\n",
    "start_sp=ds.loc[ds['Country']=='Spain',:].start.iloc[0]\n",
    "end_sp=ds.loc[ds['Country']=='Spain',:].end.iloc[0]\n",
    "start_ir=ds.loc[ds['Country']=='Iran',:].start.iloc[0]\n",
    "end_ir=ds.loc[ds['Country']=='Iran',:].end.iloc[0]"
   ]
  },
  {
   "cell_type": "markdown",
   "metadata": {},
   "source": [
    "import visualization library"
   ]
  },
  {
   "cell_type": "code",
   "execution_count": 22,
   "metadata": {},
   "outputs": [],
   "source": [
    "from bokeh.io import output_notebook, show\n",
    "from bokeh.plotting import figure\n",
    "from bokeh.plotting import figure, show, ColumnDataSource, output_file\n",
    "from bokeh.models import Grid, LinearAxis, Plot, Range1d, DatetimeAxis"
   ]
  },
  {
   "cell_type": "code",
   "execution_count": 23,
   "metadata": {},
   "outputs": [
    {
     "data": {
      "text/html": [
       "\n",
       "    <div class=\"bk-root\">\n",
       "        <a href=\"https://bokeh.org\" target=\"_blank\" class=\"bk-logo bk-logo-small bk-logo-notebook\"></a>\n",
       "        <span id=\"1001\">Loading BokehJS ...</span>\n",
       "    </div>"
      ]
     },
     "metadata": {},
     "output_type": "display_data"
    },
    {
     "data": {
      "application/javascript": [
       "\n",
       "(function(root) {\n",
       "  function now() {\n",
       "    return new Date();\n",
       "  }\n",
       "\n",
       "  var force = true;\n",
       "\n",
       "  if (typeof root._bokeh_onload_callbacks === \"undefined\" || force === true) {\n",
       "    root._bokeh_onload_callbacks = [];\n",
       "    root._bokeh_is_loading = undefined;\n",
       "  }\n",
       "\n",
       "  var JS_MIME_TYPE = 'application/javascript';\n",
       "  var HTML_MIME_TYPE = 'text/html';\n",
       "  var EXEC_MIME_TYPE = 'application/vnd.bokehjs_exec.v0+json';\n",
       "  var CLASS_NAME = 'output_bokeh rendered_html';\n",
       "\n",
       "  /**\n",
       "   * Render data to the DOM node\n",
       "   */\n",
       "  function render(props, node) {\n",
       "    var script = document.createElement(\"script\");\n",
       "    node.appendChild(script);\n",
       "  }\n",
       "\n",
       "  /**\n",
       "   * Handle when an output is cleared or removed\n",
       "   */\n",
       "  function handleClearOutput(event, handle) {\n",
       "    var cell = handle.cell;\n",
       "\n",
       "    var id = cell.output_area._bokeh_element_id;\n",
       "    var server_id = cell.output_area._bokeh_server_id;\n",
       "    // Clean up Bokeh references\n",
       "    if (id != null && id in Bokeh.index) {\n",
       "      Bokeh.index[id].model.document.clear();\n",
       "      delete Bokeh.index[id];\n",
       "    }\n",
       "\n",
       "    if (server_id !== undefined) {\n",
       "      // Clean up Bokeh references\n",
       "      var cmd = \"from bokeh.io.state import curstate; print(curstate().uuid_to_server['\" + server_id + \"'].get_sessions()[0].document.roots[0]._id)\";\n",
       "      cell.notebook.kernel.execute(cmd, {\n",
       "        iopub: {\n",
       "          output: function(msg) {\n",
       "            var id = msg.content.text.trim();\n",
       "            if (id in Bokeh.index) {\n",
       "              Bokeh.index[id].model.document.clear();\n",
       "              delete Bokeh.index[id];\n",
       "            }\n",
       "          }\n",
       "        }\n",
       "      });\n",
       "      // Destroy server and session\n",
       "      var cmd = \"import bokeh.io.notebook as ion; ion.destroy_server('\" + server_id + \"')\";\n",
       "      cell.notebook.kernel.execute(cmd);\n",
       "    }\n",
       "  }\n",
       "\n",
       "  /**\n",
       "   * Handle when a new output is added\n",
       "   */\n",
       "  function handleAddOutput(event, handle) {\n",
       "    var output_area = handle.output_area;\n",
       "    var output = handle.output;\n",
       "\n",
       "    // limit handleAddOutput to display_data with EXEC_MIME_TYPE content only\n",
       "    if ((output.output_type != \"display_data\") || (!output.data.hasOwnProperty(EXEC_MIME_TYPE))) {\n",
       "      return\n",
       "    }\n",
       "\n",
       "    var toinsert = output_area.element.find(\".\" + CLASS_NAME.split(' ')[0]);\n",
       "\n",
       "    if (output.metadata[EXEC_MIME_TYPE][\"id\"] !== undefined) {\n",
       "      toinsert[toinsert.length - 1].firstChild.textContent = output.data[JS_MIME_TYPE];\n",
       "      // store reference to embed id on output_area\n",
       "      output_area._bokeh_element_id = output.metadata[EXEC_MIME_TYPE][\"id\"];\n",
       "    }\n",
       "    if (output.metadata[EXEC_MIME_TYPE][\"server_id\"] !== undefined) {\n",
       "      var bk_div = document.createElement(\"div\");\n",
       "      bk_div.innerHTML = output.data[HTML_MIME_TYPE];\n",
       "      var script_attrs = bk_div.children[0].attributes;\n",
       "      for (var i = 0; i < script_attrs.length; i++) {\n",
       "        toinsert[toinsert.length - 1].firstChild.setAttribute(script_attrs[i].name, script_attrs[i].value);\n",
       "        toinsert[toinsert.length - 1].firstChild.textContent = bk_div.children[0].textContent\n",
       "      }\n",
       "      // store reference to server id on output_area\n",
       "      output_area._bokeh_server_id = output.metadata[EXEC_MIME_TYPE][\"server_id\"];\n",
       "    }\n",
       "  }\n",
       "\n",
       "  function register_renderer(events, OutputArea) {\n",
       "\n",
       "    function append_mime(data, metadata, element) {\n",
       "      // create a DOM node to render to\n",
       "      var toinsert = this.create_output_subarea(\n",
       "        metadata,\n",
       "        CLASS_NAME,\n",
       "        EXEC_MIME_TYPE\n",
       "      );\n",
       "      this.keyboard_manager.register_events(toinsert);\n",
       "      // Render to node\n",
       "      var props = {data: data, metadata: metadata[EXEC_MIME_TYPE]};\n",
       "      render(props, toinsert[toinsert.length - 1]);\n",
       "      element.append(toinsert);\n",
       "      return toinsert\n",
       "    }\n",
       "\n",
       "    /* Handle when an output is cleared or removed */\n",
       "    events.on('clear_output.CodeCell', handleClearOutput);\n",
       "    events.on('delete.Cell', handleClearOutput);\n",
       "\n",
       "    /* Handle when a new output is added */\n",
       "    events.on('output_added.OutputArea', handleAddOutput);\n",
       "\n",
       "    /**\n",
       "     * Register the mime type and append_mime function with output_area\n",
       "     */\n",
       "    OutputArea.prototype.register_mime_type(EXEC_MIME_TYPE, append_mime, {\n",
       "      /* Is output safe? */\n",
       "      safe: true,\n",
       "      /* Index of renderer in `output_area.display_order` */\n",
       "      index: 0\n",
       "    });\n",
       "  }\n",
       "\n",
       "  // register the mime type if in Jupyter Notebook environment and previously unregistered\n",
       "  if (root.Jupyter !== undefined) {\n",
       "    var events = require('base/js/events');\n",
       "    var OutputArea = require('notebook/js/outputarea').OutputArea;\n",
       "\n",
       "    if (OutputArea.prototype.mime_types().indexOf(EXEC_MIME_TYPE) == -1) {\n",
       "      register_renderer(events, OutputArea);\n",
       "    }\n",
       "  }\n",
       "\n",
       "  \n",
       "  if (typeof (root._bokeh_timeout) === \"undefined\" || force === true) {\n",
       "    root._bokeh_timeout = Date.now() + 5000;\n",
       "    root._bokeh_failed_load = false;\n",
       "  }\n",
       "\n",
       "  var NB_LOAD_WARNING = {'data': {'text/html':\n",
       "     \"<div style='background-color: #fdd'>\\n\"+\n",
       "     \"<p>\\n\"+\n",
       "     \"BokehJS does not appear to have successfully loaded. If loading BokehJS from CDN, this \\n\"+\n",
       "     \"may be due to a slow or bad network connection. Possible fixes:\\n\"+\n",
       "     \"</p>\\n\"+\n",
       "     \"<ul>\\n\"+\n",
       "     \"<li>re-rerun `output_notebook()` to attempt to load from CDN again, or</li>\\n\"+\n",
       "     \"<li>use INLINE resources instead, as so:</li>\\n\"+\n",
       "     \"</ul>\\n\"+\n",
       "     \"<code>\\n\"+\n",
       "     \"from bokeh.resources import INLINE\\n\"+\n",
       "     \"output_notebook(resources=INLINE)\\n\"+\n",
       "     \"</code>\\n\"+\n",
       "     \"</div>\"}};\n",
       "\n",
       "  function display_loaded() {\n",
       "    var el = document.getElementById(\"1001\");\n",
       "    if (el != null) {\n",
       "      el.textContent = \"BokehJS is loading...\";\n",
       "    }\n",
       "    if (root.Bokeh !== undefined) {\n",
       "      if (el != null) {\n",
       "        el.textContent = \"BokehJS \" + root.Bokeh.version + \" successfully loaded.\";\n",
       "      }\n",
       "    } else if (Date.now() < root._bokeh_timeout) {\n",
       "      setTimeout(display_loaded, 100)\n",
       "    }\n",
       "  }\n",
       "\n",
       "\n",
       "  function run_callbacks() {\n",
       "    try {\n",
       "      root._bokeh_onload_callbacks.forEach(function(callback) {\n",
       "        if (callback != null)\n",
       "          callback();\n",
       "      });\n",
       "    } finally {\n",
       "      delete root._bokeh_onload_callbacks\n",
       "    }\n",
       "    console.debug(\"Bokeh: all callbacks have finished\");\n",
       "  }\n",
       "\n",
       "  function load_libs(css_urls, js_urls, callback) {\n",
       "    if (css_urls == null) css_urls = [];\n",
       "    if (js_urls == null) js_urls = [];\n",
       "\n",
       "    root._bokeh_onload_callbacks.push(callback);\n",
       "    if (root._bokeh_is_loading > 0) {\n",
       "      console.debug(\"Bokeh: BokehJS is being loaded, scheduling callback at\", now());\n",
       "      return null;\n",
       "    }\n",
       "    if (js_urls == null || js_urls.length === 0) {\n",
       "      run_callbacks();\n",
       "      return null;\n",
       "    }\n",
       "    console.debug(\"Bokeh: BokehJS not loaded, scheduling load and callback at\", now());\n",
       "    root._bokeh_is_loading = css_urls.length + js_urls.length;\n",
       "\n",
       "    function on_load() {\n",
       "      root._bokeh_is_loading--;\n",
       "      if (root._bokeh_is_loading === 0) {\n",
       "        console.debug(\"Bokeh: all BokehJS libraries/stylesheets loaded\");\n",
       "        run_callbacks()\n",
       "      }\n",
       "    }\n",
       "\n",
       "    function on_error() {\n",
       "      console.error(\"failed to load \" + url);\n",
       "    }\n",
       "\n",
       "    for (var i = 0; i < css_urls.length; i++) {\n",
       "      var url = css_urls[i];\n",
       "      const element = document.createElement(\"link\");\n",
       "      element.onload = on_load;\n",
       "      element.onerror = on_error;\n",
       "      element.rel = \"stylesheet\";\n",
       "      element.type = \"text/css\";\n",
       "      element.href = url;\n",
       "      console.debug(\"Bokeh: injecting link tag for BokehJS stylesheet: \", url);\n",
       "      document.body.appendChild(element);\n",
       "    }\n",
       "\n",
       "    const hashes = {\"https://cdn.bokeh.org/bokeh/release/bokeh-2.1.1.min.js\": \"kLr4fYcqcSpbuI95brIH3vnnYCquzzSxHPU6XGQCIkQRGJwhg0StNbj1eegrHs12\", \"https://cdn.bokeh.org/bokeh/release/bokeh-widgets-2.1.1.min.js\": \"xIGPmVtaOm+z0BqfSOMn4lOR6ciex448GIKG4eE61LsAvmGj48XcMQZtKcE/UXZe\", \"https://cdn.bokeh.org/bokeh/release/bokeh-tables-2.1.1.min.js\": \"Dc9u1wF/0zApGIWoBbH77iWEHtdmkuYWG839Uzmv8y8yBLXebjO9ZnERsde5Ln/P\", \"https://cdn.bokeh.org/bokeh/release/bokeh-gl-2.1.1.min.js\": \"cT9JaBz7GiRXdENrJLZNSC6eMNF3nh3fa5fTF51Svp+ukxPdwcU5kGXGPBgDCa2j\"};\n",
       "\n",
       "    for (var i = 0; i < js_urls.length; i++) {\n",
       "      var url = js_urls[i];\n",
       "      var element = document.createElement('script');\n",
       "      element.onload = on_load;\n",
       "      element.onerror = on_error;\n",
       "      element.async = false;\n",
       "      element.src = url;\n",
       "      if (url in hashes) {\n",
       "        element.crossOrigin = \"anonymous\";\n",
       "        element.integrity = \"sha384-\" + hashes[url];\n",
       "      }\n",
       "      console.debug(\"Bokeh: injecting script tag for BokehJS library: \", url);\n",
       "      document.head.appendChild(element);\n",
       "    }\n",
       "  };\n",
       "\n",
       "  function inject_raw_css(css) {\n",
       "    const element = document.createElement(\"style\");\n",
       "    element.appendChild(document.createTextNode(css));\n",
       "    document.body.appendChild(element);\n",
       "  }\n",
       "\n",
       "  \n",
       "  var js_urls = [\"https://cdn.bokeh.org/bokeh/release/bokeh-2.1.1.min.js\", \"https://cdn.bokeh.org/bokeh/release/bokeh-widgets-2.1.1.min.js\", \"https://cdn.bokeh.org/bokeh/release/bokeh-tables-2.1.1.min.js\", \"https://cdn.bokeh.org/bokeh/release/bokeh-gl-2.1.1.min.js\"];\n",
       "  var css_urls = [];\n",
       "  \n",
       "\n",
       "  var inline_js = [\n",
       "    function(Bokeh) {\n",
       "      Bokeh.set_log_level(\"info\");\n",
       "    },\n",
       "    function(Bokeh) {\n",
       "    \n",
       "    \n",
       "    }\n",
       "  ];\n",
       "\n",
       "  function run_inline_js() {\n",
       "    \n",
       "    if (root.Bokeh !== undefined || force === true) {\n",
       "      \n",
       "    for (var i = 0; i < inline_js.length; i++) {\n",
       "      inline_js[i].call(root, root.Bokeh);\n",
       "    }\n",
       "    if (force === true) {\n",
       "        display_loaded();\n",
       "      }} else if (Date.now() < root._bokeh_timeout) {\n",
       "      setTimeout(run_inline_js, 100);\n",
       "    } else if (!root._bokeh_failed_load) {\n",
       "      console.log(\"Bokeh: BokehJS failed to load within specified timeout.\");\n",
       "      root._bokeh_failed_load = true;\n",
       "    } else if (force !== true) {\n",
       "      var cell = $(document.getElementById(\"1001\")).parents('.cell').data().cell;\n",
       "      cell.output_area.append_execute_result(NB_LOAD_WARNING)\n",
       "    }\n",
       "\n",
       "  }\n",
       "\n",
       "  if (root._bokeh_is_loading === 0) {\n",
       "    console.debug(\"Bokeh: BokehJS loaded, going straight to plotting\");\n",
       "    run_inline_js();\n",
       "  } else {\n",
       "    load_libs(css_urls, js_urls, function() {\n",
       "      console.debug(\"Bokeh: BokehJS plotting callback run at\", now());\n",
       "      run_inline_js();\n",
       "    });\n",
       "  }\n",
       "}(window));"
      ],
      "application/vnd.bokehjs_load.v0+json": "\n(function(root) {\n  function now() {\n    return new Date();\n  }\n\n  var force = true;\n\n  if (typeof root._bokeh_onload_callbacks === \"undefined\" || force === true) {\n    root._bokeh_onload_callbacks = [];\n    root._bokeh_is_loading = undefined;\n  }\n\n  \n\n  \n  if (typeof (root._bokeh_timeout) === \"undefined\" || force === true) {\n    root._bokeh_timeout = Date.now() + 5000;\n    root._bokeh_failed_load = false;\n  }\n\n  var NB_LOAD_WARNING = {'data': {'text/html':\n     \"<div style='background-color: #fdd'>\\n\"+\n     \"<p>\\n\"+\n     \"BokehJS does not appear to have successfully loaded. If loading BokehJS from CDN, this \\n\"+\n     \"may be due to a slow or bad network connection. Possible fixes:\\n\"+\n     \"</p>\\n\"+\n     \"<ul>\\n\"+\n     \"<li>re-rerun `output_notebook()` to attempt to load from CDN again, or</li>\\n\"+\n     \"<li>use INLINE resources instead, as so:</li>\\n\"+\n     \"</ul>\\n\"+\n     \"<code>\\n\"+\n     \"from bokeh.resources import INLINE\\n\"+\n     \"output_notebook(resources=INLINE)\\n\"+\n     \"</code>\\n\"+\n     \"</div>\"}};\n\n  function display_loaded() {\n    var el = document.getElementById(\"1001\");\n    if (el != null) {\n      el.textContent = \"BokehJS is loading...\";\n    }\n    if (root.Bokeh !== undefined) {\n      if (el != null) {\n        el.textContent = \"BokehJS \" + root.Bokeh.version + \" successfully loaded.\";\n      }\n    } else if (Date.now() < root._bokeh_timeout) {\n      setTimeout(display_loaded, 100)\n    }\n  }\n\n\n  function run_callbacks() {\n    try {\n      root._bokeh_onload_callbacks.forEach(function(callback) {\n        if (callback != null)\n          callback();\n      });\n    } finally {\n      delete root._bokeh_onload_callbacks\n    }\n    console.debug(\"Bokeh: all callbacks have finished\");\n  }\n\n  function load_libs(css_urls, js_urls, callback) {\n    if (css_urls == null) css_urls = [];\n    if (js_urls == null) js_urls = [];\n\n    root._bokeh_onload_callbacks.push(callback);\n    if (root._bokeh_is_loading > 0) {\n      console.debug(\"Bokeh: BokehJS is being loaded, scheduling callback at\", now());\n      return null;\n    }\n    if (js_urls == null || js_urls.length === 0) {\n      run_callbacks();\n      return null;\n    }\n    console.debug(\"Bokeh: BokehJS not loaded, scheduling load and callback at\", now());\n    root._bokeh_is_loading = css_urls.length + js_urls.length;\n\n    function on_load() {\n      root._bokeh_is_loading--;\n      if (root._bokeh_is_loading === 0) {\n        console.debug(\"Bokeh: all BokehJS libraries/stylesheets loaded\");\n        run_callbacks()\n      }\n    }\n\n    function on_error() {\n      console.error(\"failed to load \" + url);\n    }\n\n    for (var i = 0; i < css_urls.length; i++) {\n      var url = css_urls[i];\n      const element = document.createElement(\"link\");\n      element.onload = on_load;\n      element.onerror = on_error;\n      element.rel = \"stylesheet\";\n      element.type = \"text/css\";\n      element.href = url;\n      console.debug(\"Bokeh: injecting link tag for BokehJS stylesheet: \", url);\n      document.body.appendChild(element);\n    }\n\n    const hashes = {\"https://cdn.bokeh.org/bokeh/release/bokeh-2.1.1.min.js\": \"kLr4fYcqcSpbuI95brIH3vnnYCquzzSxHPU6XGQCIkQRGJwhg0StNbj1eegrHs12\", \"https://cdn.bokeh.org/bokeh/release/bokeh-widgets-2.1.1.min.js\": \"xIGPmVtaOm+z0BqfSOMn4lOR6ciex448GIKG4eE61LsAvmGj48XcMQZtKcE/UXZe\", \"https://cdn.bokeh.org/bokeh/release/bokeh-tables-2.1.1.min.js\": \"Dc9u1wF/0zApGIWoBbH77iWEHtdmkuYWG839Uzmv8y8yBLXebjO9ZnERsde5Ln/P\", \"https://cdn.bokeh.org/bokeh/release/bokeh-gl-2.1.1.min.js\": \"cT9JaBz7GiRXdENrJLZNSC6eMNF3nh3fa5fTF51Svp+ukxPdwcU5kGXGPBgDCa2j\"};\n\n    for (var i = 0; i < js_urls.length; i++) {\n      var url = js_urls[i];\n      var element = document.createElement('script');\n      element.onload = on_load;\n      element.onerror = on_error;\n      element.async = false;\n      element.src = url;\n      if (url in hashes) {\n        element.crossOrigin = \"anonymous\";\n        element.integrity = \"sha384-\" + hashes[url];\n      }\n      console.debug(\"Bokeh: injecting script tag for BokehJS library: \", url);\n      document.head.appendChild(element);\n    }\n  };\n\n  function inject_raw_css(css) {\n    const element = document.createElement(\"style\");\n    element.appendChild(document.createTextNode(css));\n    document.body.appendChild(element);\n  }\n\n  \n  var js_urls = [\"https://cdn.bokeh.org/bokeh/release/bokeh-2.1.1.min.js\", \"https://cdn.bokeh.org/bokeh/release/bokeh-widgets-2.1.1.min.js\", \"https://cdn.bokeh.org/bokeh/release/bokeh-tables-2.1.1.min.js\", \"https://cdn.bokeh.org/bokeh/release/bokeh-gl-2.1.1.min.js\"];\n  var css_urls = [];\n  \n\n  var inline_js = [\n    function(Bokeh) {\n      Bokeh.set_log_level(\"info\");\n    },\n    function(Bokeh) {\n    \n    \n    }\n  ];\n\n  function run_inline_js() {\n    \n    if (root.Bokeh !== undefined || force === true) {\n      \n    for (var i = 0; i < inline_js.length; i++) {\n      inline_js[i].call(root, root.Bokeh);\n    }\n    if (force === true) {\n        display_loaded();\n      }} else if (Date.now() < root._bokeh_timeout) {\n      setTimeout(run_inline_js, 100);\n    } else if (!root._bokeh_failed_load) {\n      console.log(\"Bokeh: BokehJS failed to load within specified timeout.\");\n      root._bokeh_failed_load = true;\n    } else if (force !== true) {\n      var cell = $(document.getElementById(\"1001\")).parents('.cell').data().cell;\n      cell.output_area.append_execute_result(NB_LOAD_WARNING)\n    }\n\n  }\n\n  if (root._bokeh_is_loading === 0) {\n    console.debug(\"Bokeh: BokehJS loaded, going straight to plotting\");\n    run_inline_js();\n  } else {\n    load_libs(css_urls, js_urls, function() {\n      console.debug(\"Bokeh: BokehJS plotting callback run at\", now());\n      run_inline_js();\n    });\n  }\n}(window));"
     },
     "metadata": {},
     "output_type": "display_data"
    }
   ],
   "source": [
    "output_notebook()"
   ]
  },
  {
   "cell_type": "code",
   "execution_count": 62,
   "metadata": {},
   "outputs": [
    {
     "data": {
      "text/html": [
       "\n",
       "\n",
       "\n",
       "\n",
       "\n",
       "\n",
       "  <div class=\"bk-root\" id=\"62ec283d-7b10-4ae8-8eca-438a2e85e287\" data-root-id=\"4054\"></div>\n"
      ]
     },
     "metadata": {},
     "output_type": "display_data"
    },
    {
     "data": {
      "application/javascript": [
       "(function(root) {\n",
       "  function embed_document(root) {\n",
       "    \n",
       "  var docs_json = {\"598b4a1c-2570-40d3-a479-851d19c170e7\":{\"roots\":{\"references\":[{\"attributes\":{\"below\":[{\"id\":\"4065\"}],\"center\":[{\"id\":\"4068\"},{\"id\":\"4072\"}],\"left\":[{\"id\":\"4069\"}],\"plot_height\":400,\"plot_width\":900,\"renderers\":[{\"id\":\"4090\"},{\"id\":\"4095\"},{\"id\":\"4100\"},{\"id\":\"4105\"},{\"id\":\"4110\"},{\"id\":\"4115\"},{\"id\":\"4120\"},{\"id\":\"4125\"},{\"id\":\"4130\"},{\"id\":\"4135\"}],\"right\":[{\"id\":\"4137\"}],\"title\":{\"id\":\"4055\"},\"toolbar\":{\"id\":\"4080\"},\"x_range\":{\"id\":\"4057\"},\"x_scale\":{\"id\":\"4061\"},\"y_range\":{\"id\":\"4059\"},\"y_scale\":{\"id\":\"4063\"}},\"id\":\"4054\",\"subtype\":\"Figure\",\"type\":\"Plot\"},{\"attributes\":{\"data\":{\"x\":{\"__ndarray__\":\"AADAfxAgd0IAAAAavh93QgAAQLRrH3dCAACAThkfd0IAAMDoxh53QgAAAIN0HndCAABAHSIed0IAAIC3zx13QgAAwFF9HXdCAAAA7Codd0IAAECG2Bx3QgAAgCCGHHdCAADAujMcd0IAAABV4Rt3QgAAQO+OG3dCAACAiTwbd0IAAMAj6hp3QgAAAL6XGndCAABAWEUad0IAAIDy8hl3QgAAwIygGXdCAAAAJ04Zd0IAAEDB+xh3QgAAgFupGHdCAADA9VYYd0IAAACQBBh3QgAAQCqyF3dCAACAxF8Xd0IAAMBeDRd3QgAAAPm6FndCAABAk2gWd0IAAIAtFhZ3QgAAwMfDFXdCAAAAYnEVd0IAAED8HhV3QgAAgJbMFHdCAADAMHoUd0IAAADLJxR3QgAAQGXVE3dCAACA/4ITd0IAAMCZMBN3QgAAADTeEndCAABAzosSd0IAAIBoORJ3QgAAwALnEXdCAAAAnZQRd0IAAEA3QhF3QgAAgNHvEHdCAADAa50Qd0IAAAAGSxB3QgAAQKD4D3dCAACAOqYPd0IAAMDUUw93QgAAAG8BD3dCAABACa8Od0IAAICjXA53Qg==\",\"dtype\":\"float64\",\"order\":\"little\",\"shape\":[56]},\"y\":{\"__ndarray__\":\"3YTCnvEmhUCqwm8wbB2GQMXz0tMIOodAplBrkGN8iEAWVZke0OaJQNYkHoY3ZYtAV4PcBWUOjUDYzr73guiOQLCD6YGte5BAA20yK+ybkUD/Owpw0NWSQGFPToE6J5RAEKcuSBiOlUAYOuFfIQyXQGyAntjtnphA6zevYixImkBLD8r8VAKcQNfCu+h1yp1AthuW4rCen0CZ0QygBL6gQMvrW8VqrqFA7kZ1pTGgokC/d+dD9pOjQHqGn1QOgqRA1ePRsjFppUDvghmPv0amQL7hg0StGadASt7bEU7cp0CSdT9U3JGoQCAr9+bJOKlATfak2uPOqUDkXdxTu1CqQFTHAcGVwKpANgINpLkcq0AToyW8eWqrQGcM1rmipKtA13FXoXLOq0AQlaRlieOrQBJ1za9z4atAoG1Pkn/Nq0Ct8QvoAKOrQLwNibMIXatATrQodmcBq0Bqm+UJn5OqQOq7nDxwEKpAJeSeb894qUATvA2ILM2oQPyExT7xD6hAr2CBybVgp0DXjqyNtqGmQIcSR4vz0qVAv+tQwmz0pEB/GsoyIgakQMeestwTCKNAl3gKwEH6oUDvp9Hcq9ygQA==\",\"dtype\":\"float64\",\"order\":\"little\",\"shape\":[56]}},\"selected\":{\"id\":\"4303\"},\"selection_policy\":{\"id\":\"4304\"}},\"id\":\"4092\",\"type\":\"ColumnDataSource\"},{\"attributes\":{\"line_color\":\"red\",\"x\":{\"field\":\"x\"},\"y\":{\"field\":\"y\"}},\"id\":\"4093\",\"type\":\"Line\"},{\"attributes\":{},\"id\":\"4315\",\"type\":\"Selection\"},{\"attributes\":{},\"id\":\"4316\",\"type\":\"UnionRenderers\"},{\"attributes\":{\"data_source\":{\"id\":\"4097\"},\"glyph\":{\"id\":\"4098\"},\"hover_glyph\":null,\"muted_glyph\":null,\"nonselection_glyph\":{\"id\":\"4099\"},\"selection_glyph\":null,\"view\":{\"id\":\"4101\"}},\"id\":\"4100\",\"type\":\"GlyphRenderer\"},{\"attributes\":{\"data\":{\"x\":{\"__ndarray__\":\"AAAAO8Eod0IAAEDVbih3QgAAgG8cKHdCAADACcond0IAAACkdyd3QgAAQD4lJ3dCAACA2NImd0IAAMBygCZ3QgAAAA0uJndCAABAp9sld0IAAIBBiSV3QgAAwNs2JXdCAAAAduQkd0IAAEAQkiR3QgAAgKo/JHdCAADARO0jd0IAAADfmiN3QgAAQHlII3dCAACAE/Yid0IAAMCtoyJ3QgAAAEhRIndCAABA4v4hd0IAAIB8rCF3QgAAwBZaIXdCAAAAsQchd0IAAEBLtSB3QgAAgOViIHdCAADAfxAgd0IAAAAavh93QgAAQLRrH3dCAACAThkfd0IAAMDoxh53QgAAAIN0HndCAABAHSIed0IAAIC3zx13QgAAwFF9HXdCAAAA7Codd0IAAECG2Bx3QgAAgCCGHHdCAADAujMcd0IAAABV4Rt3QgAAQO+OG3dCAACAiTwbd0IAAMAj6hp3QgAAAL6XGndCAABAWEUad0IAAIDy8hl3QgAAwIygGXdCAAAAJ04Zd0IAAEDB+xh3QgAAgFupGHdCAADA9VYYd0IAAACQBBh3QgAAQCqyF3dCAACAxF8Xd0IAAMBeDRd3QgAAAPm6FndCAABAk2gWd0IAAIAtFhZ3QgAAwMfDFXdCAAAAYnEVd0IAAED8HhV3QgAAgJbMFHdCAADAMHoUd0IAAADLJxR3QgAAQGXVE3dCAACA/4ITd0IAAMCZMBN3QgAAADTeEndCAABAzosSd0IAAIBoORJ3QgAAwALnEXdCAAAAnZQRd0IAAEA3QhF3QgAAgNHvEHdCAADAa50Qd0IAAAAGSxB3QgAAQKD4D3dCAACAOqYPd0IAAMDUUw93QgAAAG8BD3dCAABACa8Od0IAAICjXA53QgAAwD0KDndCAAAA2LcNd0IAAEByZQ13QgAAgAwTDXdCAADApsAMd0IAAABBbgx3QgAAQNsbDHdCAACAdckLd0IAAMAPdwt3QgAAAKokC3dCAABARNIKd0IAAIDefwp3QgAAwHgtCndCAAAAE9sJd0IAAECtiAl3QgAAgEc2CXdCAADA4eMId0I=\",\"dtype\":\"float64\",\"order\":\"little\",\"shape\":[100]},\"y\":{\"__ndarray__\":\"+gD7AbyKdkC7F9KY3Dd2QD/wrq3sDXZAhYqRQOwMdkCO5nlR2zR2QFoEaOC5hXZA6eNb7Yf/dkA6hVV4RaJ3QE7oVIHybXhAJQ1aCI9ieUC/82QNG4B6QBucdZCWxntAOgaMkQE2fUAcMqgQXM5+QOAP5QbTR4BAlOd4xO88gUAooA9BhEaCQJ85qXyQZINA9rNFdxSXhEAvD+UwEN6FQEpLh6mDOYdARmgs4W6piEAiZtTX0S2KQOFEf42sxotAgQQtAv9zjUD7oN01yTWPQHnSLQK5kpBAIPYVCv+YkUAoYFxBnaqSQMppjjlUxJNAnjMYk6HilEDIhjcrIwWWQN9BWGpxL5dA61Et8f1gmECNAuml0p2ZQErCjMUH5JpAFuHks1E0nEBwnGvXHo+dQNwIzcuU8p5AzLZRC4UxoEAcwWcnYPCgQHiuWmiitqFAsNA/0wSDokDZUBBm41WjQIUCZ08ALqRARh5MPOALpUDGhGr49u2lQDw7a8Rp1aZAVUAgRPfBp0AOTvytnrGoQPrkRXwwoqlA9ayZuZGSqkAIRjPM2ICrQJmzHSF1bqxAYlos+UFZrUCaM4WSCECuQD3V1iMAIK9ANzafA6f2r0C0FeuAL2KwQMWl+pnWw7BA96S7xyMgsUBAZIfiUXexQPpIyJlayLFA7/uhBOIRskC3BGprxVKyQCdUZmHOirJAAwzfsn+5skBwu05tOt6yQDZ/TRYd+bJA2yO5MKwJs0AZ5qSAiw6zQKAAjKpCBrNAeLi+ZYbwskDJMX6l8MyyQPUhCkfkm7JAdv2k5tRPskDyNBd2gPexQMrKYPXmkrFAAb+BZAgisUCUEXrD5KSwQIbCSRJ8G7BApqPhoZwLr0D7ft7+tsetQAwXijtHa6xA1mvkV032qkBcfe1TyWipQJtLpS+7wqdAk9YL6yIEpkBIHiGGAC2kQLYi5QBUPaJA4ONXWx01oECHw/IquSicQL84k14jtpdAbCeRUXkSk0AYH9kHdnuMQETiSuvQb4JA4DDvmgYEcECg9AWNlm9WwFhF/OMiAHzA4JOgk1iUicA=\",\"dtype\":\"float64\",\"order\":\"little\",\"shape\":[100]}},\"selected\":{\"id\":\"4305\"},\"selection_policy\":{\"id\":\"4306\"}},\"id\":\"4097\",\"type\":\"ColumnDataSource\"},{\"attributes\":{\"source\":{\"id\":\"4092\"}},\"id\":\"4096\",\"type\":\"CDSView\"},{\"attributes\":{\"line_alpha\":0.1,\"line_color\":\"red\",\"x\":{\"field\":\"x\"},\"y\":{\"field\":\"y\"}},\"id\":\"4094\",\"type\":\"Line\"},{\"attributes\":{\"data_source\":{\"id\":\"4102\"},\"glyph\":{\"id\":\"4103\"},\"hover_glyph\":null,\"muted_glyph\":null,\"nonselection_glyph\":{\"id\":\"4104\"},\"selection_glyph\":null,\"view\":{\"id\":\"4106\"}},\"id\":\"4105\",\"type\":\"GlyphRenderer\"},{\"attributes\":{\"line_alpha\":0.8,\"line_color\":\"blue\",\"line_dash\":[6],\"x\":{\"field\":\"x\"},\"y\":{\"field\":\"y\"}},\"id\":\"4098\",\"type\":\"Line\"},{\"attributes\":{},\"id\":\"4317\",\"type\":\"Selection\"},{\"attributes\":{\"source\":{\"id\":\"4097\"}},\"id\":\"4101\",\"type\":\"CDSView\"},{\"attributes\":{},\"id\":\"4318\",\"type\":\"UnionRenderers\"},{\"attributes\":{\"line_alpha\":0.1,\"line_color\":\"blue\",\"line_dash\":[6],\"x\":{\"field\":\"x\"},\"y\":{\"field\":\"y\"}},\"id\":\"4099\",\"type\":\"Line\"},{\"attributes\":{\"data\":{\"x\":{\"__ndarray__\":\"AAAASFEid0IAAEDi/iF3QgAAgHysIXdCAADAFlohd0IAAACxByF3QgAAQEu1IHdCAACA5WIgd0IAAMB/ECB3QgAAABq+H3dCAABAtGsfd0IAAIBOGR93QgAAwOjGHndCAAAAg3Qed0IAAEAdIh53QgAAgLfPHXdCAADAUX0dd0IAAADsKh13QgAAQIbYHHdCAACAIIYcd0IAAMC6Mxx3QgAAAFXhG3dCAABA744bd0IAAICJPBt3QgAAwCPqGndCAAAAvpcad0IAAEBYRRp3QgAAgPLyGXdCAADAjKAZd0IAAAAnThl3QgAAQMH7GHdCAACAW6kYd0IAAMD1Vhh3QgAAAJAEGHdCAABAKrIXd0IAAIDEXxd3QgAAwF4NF3dCAAAA+boWd0IAAECTaBZ3QgAAgC0WFndCAADAx8MVd0IAAABicRV3QgAAQPweFXdCAACAlswUd0IAAMAwehR3QgAAAMsnFHdCAABAZdUTd0IAAID/ghN3QgAAwJkwE3dCAAAANN4Sd0IAAEDOixJ3QgAAgGg5EndCAADAAucRd0IAAACdlBF3QgAAQDdCEXdCAACA0e8Qd0IAAMBrnRB3QgAAAAZLEHdCAABAoPgPd0IAAIA6pg93QgAAwNRTD3dCAAAAbwEPd0IAAEAJrw53QgAAgKNcDndCAADAPQoOd0IAAADYtw13QgAAQHJlDXdCAACADBMNd0IAAMCmwAx3QgAAAEFuDHdCAABA2xsMd0IAAIB1yQt3Qg==\",\"dtype\":\"float64\",\"order\":\"little\",\"shape\":[71]},\"y\":{\"__ndarray__\":\"SkuHqYM5h0BGaCzhbqmIQCJm1NfRLYpA4UR/jazGi0CBBC0C/3ONQPug3TXJNY9AedItArmSkEAg9hUK/5iRQChgXEGdqpJAymmOOVTEk0CeMxiToeKUQMiGNysjBZZA30FYanEvl0DrUS3x/WCYQI0C6aXSnZlASsKMxQfkmkAW4eSzUTScQHCca9cej51A3AjNy5TynkDMtlELhTGgQBzBZydg8KBAeK5aaKK2oUCw0D/TBIOiQNlQEGbjVaNAhQJnTwAupEBGHkw84AulQMaEavj27aVAPDtrxGnVpkBVQCBE98GnQA5O/K2esahA+uRFfDCiqUD1rJm5kZKqQAhGM8zYgKtAmbMdIXVurEBiWiz5QVmtQJozhZIIQK5APdXWIwAgr0A3Np8Dp/avQLQV64AvYrBAxaX6mdbDsED3pLvHIyCxQEBkh+JRd7FA+kjImVrIsUDv+6EE4hGyQLcEamvFUrJAJ1RmYc6KskADDN+yf7myQHC7Tm063rJANn9NFh35skDbI7kwrAmzQBnmpICLDrNAoACMqkIGs0B4uL5lhvCyQMkxfqXwzLJA9SEKR+SbskB2/aTm1E+yQPI0F3aA97FAyspg9eaSsUABv4FkCCKxQJQResPkpLBAhsJJEnwbsECmo+GhnAuvQPt+3v62x61ADBeKO0drrEDWa+RXTfaqQFx97VPJaKlAm0ulL7vCp0CT1gvrIgSmQEgeIYYALaRAtiLlAFQ9okDg41dbHTWgQA==\",\"dtype\":\"float64\",\"order\":\"little\",\"shape\":[71]}},\"selected\":{\"id\":\"4307\"},\"selection_policy\":{\"id\":\"4308\"}},\"id\":\"4102\",\"type\":\"ColumnDataSource\"},{\"attributes\":{\"line_color\":\"blue\",\"x\":{\"field\":\"x\"},\"y\":{\"field\":\"y\"}},\"id\":\"4103\",\"type\":\"Line\"},{\"attributes\":{},\"id\":\"4319\",\"type\":\"Selection\"},{\"attributes\":{},\"id\":\"4320\",\"type\":\"UnionRenderers\"},{\"attributes\":{\"data\":{\"x\":{\"__ndarray__\":\"AAAAO8Eod0IAAEDVbih3QgAAgG8cKHdCAADACcond0IAAACkdyd3QgAAQD4lJ3dCAACA2NImd0IAAMBygCZ3QgAAAA0uJndCAABAp9sld0IAAIBBiSV3QgAAwNs2JXdCAAAAduQkd0IAAEAQkiR3QgAAgKo/JHdCAADARO0jd0IAAADfmiN3QgAAQHlII3dCAACAE/Yid0IAAMCtoyJ3QgAAAEhRIndCAABA4v4hd0IAAIB8rCF3QgAAwBZaIXdCAAAAsQchd0IAAEBLtSB3QgAAgOViIHdCAADAfxAgd0IAAAAavh93QgAAQLRrH3dCAACAThkfd0IAAMDoxh53QgAAAIN0HndCAABAHSIed0IAAIC3zx13QgAAwFF9HXdCAAAA7Codd0IAAECG2Bx3QgAAgCCGHHdCAADAujMcd0IAAABV4Rt3QgAAQO+OG3dCAACAiTwbd0IAAMAj6hp3QgAAAL6XGndCAABAWEUad0IAAIDy8hl3QgAAwIygGXdCAAAAJ04Zd0IAAEDB+xh3QgAAgFupGHdCAADA9VYYd0IAAACQBBh3QgAAQCqyF3dCAACAxF8Xd0IAAMBeDRd3QgAAAPm6FndCAABAk2gWd0IAAIAtFhZ3QgAAwMfDFXdCAAAAYnEVd0IAAED8HhV3QgAAgJbMFHdCAADAMHoUd0IAAADLJxR3QgAAQGXVE3dCAACA/4ITd0IAAMCZMBN3QgAAADTeEndCAABAzosSd0IAAIBoORJ3QgAAwALnEXdCAAAAnZQRd0IAAEA3QhF3QgAAgNHvEHdCAADAa50Qd0IAAAAGSxB3QgAAQKD4D3dCAACAOqYPd0IAAMDUUw93QgAAAG8BD3dCAABACa8Od0IAAICjXA53QgAAwD0KDndCAAAA2LcNd0IAAEByZQ13QgAAgAwTDXdCAADApsAMd0IAAABBbgx3QgAAQNsbDHdCAACAdckLd0IAAMAPdwt3QgAAAKokC3dCAABARNIKd0IAAIDefwp3QgAAwHgtCndCAAAAE9sJd0IAAECtiAl3QgAAgEc2CXdCAADA4eMId0I=\",\"dtype\":\"float64\",\"order\":\"little\",\"shape\":[100]},\"y\":{\"__ndarray__\":\"KM8GtI1zgkBEvgxI8F2BQP4tpl7oYIBAqjym7+v4fkCUHicnMmF9QLoBz2Oj+ntAHOadpT/FekC5y5PsBsF5QJKysDj57XhAppr0iRZMeED2g1/gXtt3QIFu8TvSm3dASFqqnHCNd0BKR4oCOrB3QIg1kW0uBHhAAiW/3U2JeEC3FRRTmD95QKcHkM0NJ3pA1PoyTa4/e0A77/zReYl8QN/k7VtwBH5Av9sF65Gwf0DsaaI/78aAQJdmVQwrzoFA4OObW/ztgkAo33UtYyaEQI9RRA+cIoVAqq0D79M3hkD8ZzKhnXOHQLqzuU5F4YhAIYhXRNReikBk4CLW+/aLQI3YYw+ZsY1AyE7n0x6Xj0Ci7ERpwNaQQAhwG+3w/JFA33L0BxFAk0BAmp09VZ+UQI4/abVJGZZALxqJ1IKvl0C7HTitLmKZQJXJqeDlMZtABBisyHUenUDb4d/STiOfQF/mfHubnqBAvCXBv3G0oUDLbXup1tGiQH0MhrWH9aNAJXcdx8EepUCLYhtAs0umQI2ywaAadadAnxV8GoKZqEAANzMhqbWpQHnnlM5FyapAsjyxveLTq0CH2vhas9SsQBxkajV1ya1AI2D1SPuvrkB8aH2qvYSvQFSRPuUYIrBAC+4qaUh3sEDya+1ZUcKwQGt5J+OHArFAZZiVM4s3sUCeft56+V6xQAQYALIgeLFATdVBhKmCsUA8liMfg36xQEJz+ujwa7FA47zrMs1LsUA0I631/x2xQLvGCrjy4rBA6G5KtWeYsECKvlghAj+wQBCuF/Eor69AkGFYNM7frkCqC7mfMvmtQGuwOTNW+6xA0k/a7jjmq0Dc6ZrS2rmqQI9+e947dqlA6A18ElwbqEDnl5xuO6mmQIsc3fLZH6VA1Js9nzd/o0DEFb5zVMehQLYUveBg8J9AMPM9KpcjnED1xv7DSyiYQAGQ/61+/pNAvJyA0F9Mj0AQBILlvj6GQPCrBjY1qHlA4JMkiJdjWECwGelh4GBswLg0eYHmmYHAcDj4SZh4jMDEqPu4JtqTwBRAu/yCppnADOI68GChn8A=\",\"dtype\":\"float64\",\"order\":\"little\",\"shape\":[100]}},\"selected\":{\"id\":\"4309\"},\"selection_policy\":{\"id\":\"4310\"}},\"id\":\"4107\",\"type\":\"ColumnDataSource\"},{\"attributes\":{\"source\":{\"id\":\"4102\"}},\"id\":\"4106\",\"type\":\"CDSView\"},{\"attributes\":{\"line_alpha\":0.1,\"line_color\":\"blue\",\"x\":{\"field\":\"x\"},\"y\":{\"field\":\"y\"}},\"id\":\"4104\",\"type\":\"Line\"},{\"attributes\":{\"line_color\":\"green\",\"x\":{\"field\":\"x\"},\"y\":{\"field\":\"y\"}},\"id\":\"4113\",\"type\":\"Line\"},{\"attributes\":{\"data\":{\"x\":{\"__ndarray__\":\"AAAAO8Eod0IAAEDVbih3QgAAgG8cKHdCAADACcond0IAAACkdyd3QgAAQD4lJ3dCAACA2NImd0IAAMBygCZ3QgAAAA0uJndCAABAp9sld0IAAIBBiSV3QgAAwNs2JXdCAAAAduQkd0IAAEAQkiR3QgAAgKo/JHdCAADARO0jd0IAAADfmiN3QgAAQHlII3dCAACAE/Yid0IAAMCtoyJ3QgAAAEhRIndCAABA4v4hd0IAAIB8rCF3QgAAwBZaIXdCAAAAsQchd0IAAEBLtSB3QgAAgOViIHdCAADAfxAgd0IAAAAavh93QgAAQLRrH3dCAACAThkfd0IAAMDoxh53QgAAAIN0HndCAABAHSIed0IAAIC3zx13QgAAwFF9HXdCAAAA7Codd0IAAECG2Bx3QgAAgCCGHHdCAADAujMcd0IAAABV4Rt3QgAAQO+OG3dCAACAiTwbd0IAAMAj6hp3QgAAAL6XGndCAABAWEUad0IAAIDy8hl3QgAAwIygGXdCAAAAJ04Zd0IAAEDB+xh3QgAAgFupGHdCAADA9VYYd0IAAACQBBh3QgAAQCqyF3dCAACAxF8Xd0IAAMBeDRd3QgAAAPm6FndCAABAk2gWd0IAAIAtFhZ3QgAAwMfDFXdCAAAAYnEVd0IAAED8HhV3QgAAgJbMFHdCAADAMHoUd0IAAADLJxR3QgAAQGXVE3dCAACA/4ITd0IAAMCZMBN3QgAAADTeEndCAABAzosSd0IAAIBoORJ3QgAAwALnEXdCAAAAnZQRd0IAAEA3QhF3QgAAgNHvEHdCAADAa50Qd0IAAAAGSxB3QgAAQKD4D3dCAACAOqYPd0IAAMDUUw93QgAAAG8BD3dCAABACa8Od0IAAICjXA53QgAAwD0KDndCAAAA2LcNd0IAAEByZQ13QgAAgAwTDXdCAADApsAMd0IAAABBbgx3QgAAQNsbDHdCAACAdckLd0IAAMAPdwt3QgAAAKokC3dCAABARNIKd0IAAIDefwp3QgAAwHgtCndCAAAAE9sJd0IAAECtiAl3QgAAgEc2CXdCAADA4eMId0I=\",\"dtype\":\"float64\",\"order\":\"little\",\"shape\":[100]},\"y\":{\"__ndarray__\":\"tVhN/77YgEDmdcIT/Px/QL0vMOWPdn5A7t7jcjkefUB8g928+PN7QGQdHcPN93pAqKyihbgpekBHMW4EuYl5QEGrfz/PF3lAlhrXNvvTeEBGf3TqPL54QFLZV1qU1nhAuSiBhgEdeUB8bfBuhJF5QJinpRMdNHpAENegdMsEe0Dk++GRjwN8QBMWaWtpMH1AnSU2AVmLfkBBlaQpLwqAQGES0bC85YBAL4ogFlXYgUCq/JJZ+OGCQNNpKHumAoRAqtHgel86hUBBMbxYI4mGQGgck7iZcIdA0pwqVDViiEAbGcJdu2uJQAIkc3z9eopAt/h++BWpi0BzAdmb+vqMQBTMBZRldY5AuHXB6r0PkEBGeJiJKAORQMTdiJgMGpJAQLybBYBWk0A+mXBE3bmUQB5hzZsuRpZAEcnTfM/9l0AdmNUT9OKZQPeuxrpJ9JtAqg+jxKQxnkAuLMCRZk2gQHDH8znMlaFAPJJEMPLxokDNOu/VWF+kQGxVwtOp3aVAFg/YaxJqp0B2qJzR5QOpQNl462/qo6pAWLjZtSJIrECLyi0ctOutQAQw1ieqjK9AGk8FNueTsEDIhJ+9nl6xQEhMvCV/JbJACtpj34nmskDuD5hh5p+zQLw/SGFZULRA5JDd9hT2tEBhfhutLZC1QCJW27hxHrZAFFkYEL+gtkAj60ds0BS3QGRQKwOFd7dADp4lwffHt0DaHCRW9gS4QEOZTJUwL7hAef5l1mBEuEDGycCF8kW4QO68ie2xMrhAA3nizEsIuEBuuxnpy8W3QIn4ef/sardAOtBap431tkASf1XMwWy2QBAIam6J0LVANmuYjeQgtUCCqOAp0120QPK/QkNVh7NAi7G+2WqdskBKfVTtE6CxQC4jBH5Qj7BAdUabF0HWrkDa+mEtCGesQI1jXD320KlAiICKRwsUp0DUUexLRzCkQG7XgUqqJaFAnyKWhmjom0AG/49syjeVQAyI4o30coxAgMbnVuC1e0DABr/ihIdFwNDy/N5EJ4HA/pF/w7rIkMAIQhkjhUuZwLbEJccADqHAGjSLAhidpcA=\",\"dtype\":\"float64\",\"order\":\"little\",\"shape\":[100]}},\"selected\":{\"id\":\"4313\"},\"selection_policy\":{\"id\":\"4314\"}},\"id\":\"4117\",\"type\":\"ColumnDataSource\"},{\"attributes\":{\"source\":{\"id\":\"4112\"}},\"id\":\"4116\",\"type\":\"CDSView\"},{\"attributes\":{\"data_source\":{\"id\":\"4117\"},\"glyph\":{\"id\":\"4118\"},\"hover_glyph\":null,\"muted_glyph\":null,\"nonselection_glyph\":{\"id\":\"4119\"},\"selection_glyph\":null,\"view\":{\"id\":\"4121\"}},\"id\":\"4120\",\"type\":\"GlyphRenderer\"},{\"attributes\":{\"data_source\":{\"id\":\"4122\"},\"glyph\":{\"id\":\"4123\"},\"hover_glyph\":null,\"muted_glyph\":null,\"nonselection_glyph\":{\"id\":\"4124\"},\"selection_glyph\":null,\"view\":{\"id\":\"4126\"}},\"id\":\"4125\",\"type\":\"GlyphRenderer\"},{\"attributes\":{\"line_alpha\":0.1,\"line_color\":\"green\",\"x\":{\"field\":\"x\"},\"y\":{\"field\":\"y\"}},\"id\":\"4114\",\"type\":\"Line\"},{\"attributes\":{\"line_alpha\":0.8,\"line_dash\":[6],\"x\":{\"field\":\"x\"},\"y\":{\"field\":\"y\"}},\"id\":\"4118\",\"type\":\"Line\"},{\"attributes\":{\"data\":{\"x\":{\"__ndarray__\":\"AABAtGsfd0IAAIBOGR93QgAAwOjGHndCAAAAg3Qed0IAAEAdIh53QgAAgLfPHXdCAADAUX0dd0IAAADsKh13QgAAQIbYHHdCAACAIIYcd0IAAMC6Mxx3QgAAAFXhG3dCAABA744bd0IAAICJPBt3QgAAwCPqGndCAAAAvpcad0IAAEBYRRp3QgAAgPLyGXdCAADAjKAZd0IAAAAnThl3QgAAQMH7GHdCAACAW6kYd0IAAMD1Vhh3QgAAAJAEGHdCAABAKrIXd0IAAIDEXxd3QgAAwF4NF3dCAAAA+boWd0IAAECTaBZ3QgAAgC0WFndCAADAx8MVd0IAAABicRV3QgAAQPweFXdCAACAlswUd0IAAMAwehR3QgAAAMsnFHdCAABAZdUTd0IAAID/ghN3QgAAwJkwE3dCAAAANN4Sd0IAAEDOixJ3QgAAgGg5EndCAADAAucRd0IAAACdlBF3QgAAQDdCEXdCAACA0e8Qd0IAAMBrnRB3QgAAAAZLEHdCAABAoPgPd0IAAIA6pg93QgAAwNRTD3dCAAAAbwEPd0IAAEAJrw53QgAAgKNcDndCAADAPQoOd0IAAADYtw13QgAAQHJlDXdC\",\"dtype\":\"float64\",\"order\":\"little\",\"shape\":[57]},\"y\":{\"__ndarray__\":\"AiRzfP16ikC3+H74FamLQHMB2Zv6+oxAFMwFlGV1jkC4dcHqvQ+QQEZ4mIkoA5FAxN2ImAwakkBAvJsFgFaTQD6ZcETduZRAHmHNmy5GlkARydN8z/2XQB2Y1RP04plA967Gukn0m0CqD6PEpDGeQC4swJFmTaBAcMfzOcyVoUA8kkQw8vGiQM0679VYX6RAbFXC06ndpUAWD9hrEmqnQHaonNHlA6lA2Xjrb+qjqkBYuNm1IkisQIvKLRy0661ABDDWJ6qMr0AaTwU255OwQMiEn72eXrFASEy8JX8lskAK2mPfieayQO4PmGHmn7NAvD9IYVlQtEDkkN32FPa0QGF+G60tkLVAIlbbuHEetkAUWRgQv6C2QCPrR2zQFLdAZFArA4V3t0AOniXB98e3QNocJFb2BLhAQ5lMlTAvuEB5/mXWYES4QMbJwIXyRbhA7ryJ7bEyuEADeeLMSwi4QG67GenLxbdAifh5/+xqt0A60FqnjfW2QBJ/VczBbLZAEAhqbonQtUA2a5iN5CC1QIKo4CnTXbRA8r9CQ1WHs0CLsb7Zap2yQEp9VO0ToLFALiMEflCPsEB1RpsXQdauQNr6YS0IZ6xA\",\"dtype\":\"float64\",\"order\":\"little\",\"shape\":[57]}},\"selected\":{\"id\":\"4315\"},\"selection_policy\":{\"id\":\"4316\"}},\"id\":\"4122\",\"type\":\"ColumnDataSource\"},{\"attributes\":{\"source\":{\"id\":\"4117\"}},\"id\":\"4121\",\"type\":\"CDSView\"},{\"attributes\":{\"line_alpha\":0.1,\"line_dash\":[6],\"x\":{\"field\":\"x\"},\"y\":{\"field\":\"y\"}},\"id\":\"4119\",\"type\":\"Line\"},{\"attributes\":{\"x\":{\"field\":\"x\"},\"y\":{\"field\":\"y\"}},\"id\":\"4123\",\"type\":\"Line\"},{\"attributes\":{\"data_source\":{\"id\":\"4127\"},\"glyph\":{\"id\":\"4128\"},\"hover_glyph\":null,\"muted_glyph\":null,\"nonselection_glyph\":{\"id\":\"4129\"},\"selection_glyph\":null,\"view\":{\"id\":\"4131\"}},\"id\":\"4130\",\"type\":\"GlyphRenderer\"},{\"attributes\":{\"source\":{\"id\":\"4122\"}},\"id\":\"4126\",\"type\":\"CDSView\"},{\"attributes\":{\"data_source\":{\"id\":\"4132\"},\"glyph\":{\"id\":\"4133\"},\"hover_glyph\":null,\"muted_glyph\":null,\"nonselection_glyph\":{\"id\":\"4134\"},\"selection_glyph\":null,\"view\":{\"id\":\"4136\"}},\"id\":\"4135\",\"type\":\"GlyphRenderer\"},{\"attributes\":{\"line_alpha\":0.1,\"x\":{\"field\":\"x\"},\"y\":{\"field\":\"y\"}},\"id\":\"4124\",\"type\":\"Line\"},{\"attributes\":{\"data\":{\"x\":{\"__ndarray__\":\"AAAAO8Eod0IAAEDVbih3QgAAgG8cKHdCAADACcond0IAAACkdyd3QgAAQD4lJ3dCAACA2NImd0IAAMBygCZ3QgAAAA0uJndCAABAp9sld0IAAIBBiSV3QgAAwNs2JXdCAAAAduQkd0IAAEAQkiR3QgAAgKo/JHdCAADARO0jd0IAAADfmiN3QgAAQHlII3dCAACAE/Yid0IAAMCtoyJ3QgAAAEhRIndCAABA4v4hd0IAAIB8rCF3QgAAwBZaIXdCAAAAsQchd0IAAEBLtSB3QgAAgOViIHdCAADAfxAgd0IAAAAavh93QgAAQLRrH3dCAACAThkfd0IAAMDoxh53QgAAAIN0HndCAABAHSIed0IAAIC3zx13QgAAwFF9HXdCAAAA7Codd0IAAECG2Bx3QgAAgCCGHHdCAADAujMcd0IAAABV4Rt3QgAAQO+OG3dCAACAiTwbd0IAAMAj6hp3QgAAAL6XGndCAABAWEUad0IAAIDy8hl3QgAAwIygGXdCAAAAJ04Zd0IAAEDB+xh3QgAAgFupGHdCAADA9VYYd0IAAACQBBh3QgAAQCqyF3dCAACAxF8Xd0IAAMBeDRd3QgAAAPm6FndCAABAk2gWd0IAAIAtFhZ3QgAAwMfDFXdCAAAAYnEVd0IAAED8HhV3QgAAgJbMFHdCAADAMHoUd0IAAADLJxR3QgAAQGXVE3dCAACA/4ITd0IAAMCZMBN3QgAAADTeEndCAABAzosSd0IAAIBoORJ3QgAAwALnEXdCAAAAnZQRd0IAAEA3QhF3QgAAgNHvEHdCAADAa50Qd0IAAAAGSxB3QgAAQKD4D3dCAACAOqYPd0IAAMDUUw93QgAAAG8BD3dCAABACa8Od0IAAICjXA53QgAAwD0KDndCAAAA2LcNd0IAAEByZQ13QgAAgAwTDXdCAADApsAMd0IAAABBbgx3QgAAQNsbDHdCAACAdckLd0IAAMAPdwt3QgAAAKokC3dCAABARNIKd0IAAIDefwp3QgAAwHgtCndCAAAAE9sJd0IAAECtiAl3QgAAgEc2CXdCAADA4eMId0I=\",\"dtype\":\"float64\",\"order\":\"little\",\"shape\":[100]},\"y\":{\"__ndarray__\":\"QbWUH6vmqEBOySViAC6oQOlXt1rQeadAEGFJCRvKpkDE5Ntt4B6mQATjboggeKVA0lsCWdvVpEAsT5bfEDikQBS9KhzBnqNAiKW/DuwJo0CJCFW3kXmiQBfm6hWy7aFAMj6BKk1moUDZEBj1YuOgQA5er3XzZKBAnUuOWP3Vn0A60L4xCeueQPBJ8HYKCZ5AwLgiKAEwnUCpHFZF7V+cQK11is7OmJtAycO/w6XamkAAB/YkciWaQFA/LfIzeZlAu2xlK+vVmEAhjJ7QlzuYQACdCE4Hf5dACIJnSpjKlkCYZZI8SSKWQDGYs5OphpVASHq36675lEDXEUc4zXyUQAijOhwQEJRAJlAnqzG2k0ACyu/qonCTQIYHRlVPQJNAOYEBV2glk0ANNUOSJh+TQHN5UEWWLZNAE2IPJaZPk0DxueKny4WTQGhvfOkh0ZNAEN7EwqswlEDULwP/cKGUQPnS4Q7AIpVAHk/b5QK1lUB1eRQYf1WWQMbEvi9oApdAZI8/2Sy6l0CB5iZpaXuYQOyDALe7QplAp4o+UKoOmkCSIUGdpdiaQERee2AZoZtA2g2RZRlpnECaDY85Mi6dQI/WCtNG751Arf5YdGGqnkA25KhEU1yfQKFm398AAqBAONHfYHBQoED6/JqH0pegQFa2bmvT1qBAgTEFPcULoUA9ErtydzGhQJ4sJhTTUKFAFq7uusljoUA4UUPAg2qhQDN4B5jOZKFAs2waOHtSoUBsujwesTOhQBUSTP2hCKFAeQv+RevQoEB08CIqhY2gQLbc81ypP6BASGYA9A7nn0By9voKFT2fQBRu1/5kgZ5AL82Vz/6znUDEEzZ94tScQNBBuAcQ5JtAV1ccb4fhmkBXVGKzSM2ZQM44itRTp5hAvwSU0qhvl0AouH+tRyaWQAxTTWUwy5RAaNX8+WJek0A8P45r39+RQIqQAbqlT5BApJKtymtbjUAg0xvbH/SJQJTiTaVnaYZA+cBDKUO7gkCU3PrNZNN9QCjV9bxq6XVAKNfwPjBxa0CwfwrWswNVQKBuXAe27EvAgDukB+YFacA=\",\"dtype\":\"float64\",\"order\":\"little\",\"shape\":[100]}},\"selected\":{\"id\":\"4317\"},\"selection_policy\":{\"id\":\"4318\"}},\"id\":\"4127\",\"type\":\"ColumnDataSource\"},{\"attributes\":{\"line_alpha\":0.8,\"line_color\":\"orange\",\"line_dash\":[6],\"x\":{\"field\":\"x\"},\"y\":{\"field\":\"y\"}},\"id\":\"4128\",\"type\":\"Line\"},{\"attributes\":{\"source\":{\"id\":\"4127\"}},\"id\":\"4131\",\"type\":\"CDSView\"},{\"attributes\":{\"line_alpha\":0.1,\"line_color\":\"orange\",\"line_dash\":[6],\"x\":{\"field\":\"x\"},\"y\":{\"field\":\"y\"}},\"id\":\"4129\",\"type\":\"Line\"},{\"attributes\":{\"data\":{\"x\":{\"__ndarray__\":\"AAAAJ04Zd0IAAEDB+xh3QgAAgFupGHdCAADA9VYYd0IAAACQBBh3QgAAQCqyF3dCAACAxF8Xd0IAAMBeDRd3QgAAAPm6FndCAABAk2gWd0IAAIAtFhZ3QgAAwMfDFXdCAAAAYnEVd0IAAED8HhV3QgAAgJbMFHdCAADAMHoUd0IAAADLJxR3QgAAQGXVE3dCAACA/4ITd0IAAMCZMBN3QgAAADTeEndCAABAzosSd0IAAIBoORJ3QgAAwALnEXdCAAAAnZQRd0IAAEA3QhF3QgAAgNHvEHdCAADAa50Qd0IAAAAGSxB3QgAAQKD4D3dCAACAOqYPd0IAAMDUUw93QgAAAG8BD3dCAABACa8Od0IAAICjXA53QgAAwD0KDndCAAAA2LcNd0IAAEByZQ13Qg==\",\"dtype\":\"float64\",\"order\":\"little\",\"shape\":[38]},\"y\":{\"__ndarray__\":\"ZI8/2Sy6l0CB5iZpaXuYQOyDALe7QplAp4o+UKoOmkCSIUGdpdiaQERee2AZoZtA2g2RZRlpnECaDY85Mi6dQI/WCtNG751Arf5YdGGqnkA25KhEU1yfQKFm398AAqBAONHfYHBQoED6/JqH0pegQFa2bmvT1qBAgTEFPcULoUA9ErtydzGhQJ4sJhTTUKFAFq7uusljoUA4UUPAg2qhQDN4B5jOZKFAs2waOHtSoUBsujwesTOhQBUSTP2hCKFAeQv+RevQoEB08CIqhY2gQLbc81ypP6BASGYA9A7nn0By9voKFT2fQBRu1/5kgZ5AL82Vz/6znUDEEzZ94tScQNBBuAcQ5JtAV1ccb4fhmkBXVGKzSM2ZQM44itRTp5hAvwSU0qhvl0AouH+tRyaWQA==\",\"dtype\":\"float64\",\"order\":\"little\",\"shape\":[38]}},\"selected\":{\"id\":\"4319\"},\"selection_policy\":{\"id\":\"4320\"}},\"id\":\"4132\",\"type\":\"ColumnDataSource\"},{\"attributes\":{\"items\":[{\"id\":\"4138\"},{\"id\":\"4139\"},{\"id\":\"4140\"},{\"id\":\"4141\"},{\"id\":\"4142\"}],\"location\":[-98,195]},\"id\":\"4137\",\"type\":\"Legend\"},{\"attributes\":{\"line_color\":\"orange\",\"x\":{\"field\":\"x\"},\"y\":{\"field\":\"y\"}},\"id\":\"4133\",\"type\":\"Line\"},{\"attributes\":{\"source\":{\"id\":\"4132\"}},\"id\":\"4136\",\"type\":\"CDSView\"},{\"attributes\":{\"line_alpha\":0.1,\"line_color\":\"orange\",\"x\":{\"field\":\"x\"},\"y\":{\"field\":\"y\"}},\"id\":\"4134\",\"type\":\"Line\"},{\"attributes\":{\"label\":{\"value\":\"Spain\"},\"renderers\":[{\"id\":\"4125\"}]},\"id\":\"4138\",\"type\":\"LegendItem\"},{\"attributes\":{\"label\":{\"value\":\"Italy\"},\"renderers\":[{\"id\":\"4105\"}]},\"id\":\"4139\",\"type\":\"LegendItem\"},{\"attributes\":{\"label\":{\"value\":\"Germany\"},\"renderers\":[{\"id\":\"4115\"}]},\"id\":\"4140\",\"type\":\"LegendItem\"},{\"attributes\":{},\"id\":\"4286\",\"type\":\"DatetimeTickFormatter\"},{\"attributes\":{\"label\":{\"value\":\"France\"},\"renderers\":[{\"id\":\"4095\"}]},\"id\":\"4141\",\"type\":\"LegendItem\"},{\"attributes\":{\"label\":{\"value\":\"Iran\"},\"renderers\":[{\"id\":\"4135\"}]},\"id\":\"4142\",\"type\":\"LegendItem\"},{\"attributes\":{\"text\":\"Numbers of Covid-19 cases over time - The lockdown period is highlighted\"},\"id\":\"4055\",\"type\":\"Title\"},{\"attributes\":{\"data_source\":{\"id\":\"4087\"},\"glyph\":{\"id\":\"4088\"},\"hover_glyph\":null,\"muted_glyph\":null,\"nonselection_glyph\":{\"id\":\"4089\"},\"selection_glyph\":null,\"view\":{\"id\":\"4091\"}},\"id\":\"4090\",\"type\":\"GlyphRenderer\"},{\"attributes\":{},\"id\":\"4057\",\"type\":\"DataRange1d\"},{\"attributes\":{},\"id\":\"4301\",\"type\":\"Selection\"},{\"attributes\":{},\"id\":\"4070\",\"type\":\"BasicTicker\"},{\"attributes\":{},\"id\":\"4302\",\"type\":\"UnionRenderers\"},{\"attributes\":{\"axis_label\":\"date\",\"formatter\":{\"id\":\"4286\"},\"ticker\":{\"id\":\"4066\"}},\"id\":\"4065\",\"type\":\"DatetimeAxis\"},{\"attributes\":{\"axis_label\":\"number of cases\",\"formatter\":{\"id\":\"4288\"},\"ticker\":{\"id\":\"4070\"}},\"id\":\"4069\",\"type\":\"LinearAxis\"},{\"attributes\":{},\"id\":\"4063\",\"type\":\"LinearScale\"},{\"attributes\":{\"end\":7000},\"id\":\"4059\",\"type\":\"Range1d\"},{\"attributes\":{},\"id\":\"4061\",\"type\":\"LinearScale\"},{\"attributes\":{\"num_minor_ticks\":5,\"tickers\":[{\"id\":\"4289\"},{\"id\":\"4290\"},{\"id\":\"4291\"},{\"id\":\"4292\"},{\"id\":\"4293\"},{\"id\":\"4294\"},{\"id\":\"4295\"},{\"id\":\"4296\"},{\"id\":\"4297\"},{\"id\":\"4298\"},{\"id\":\"4299\"},{\"id\":\"4300\"}]},\"id\":\"4066\",\"type\":\"DatetimeTicker\"},{\"attributes\":{\"axis\":{\"id\":\"4065\"},\"ticker\":null},\"id\":\"4068\",\"type\":\"Grid\"},{\"attributes\":{},\"id\":\"4073\",\"type\":\"PanTool\"},{\"attributes\":{},\"id\":\"4303\",\"type\":\"Selection\"},{\"attributes\":{},\"id\":\"4304\",\"type\":\"UnionRenderers\"},{\"attributes\":{\"axis\":{\"id\":\"4069\"},\"dimension\":1,\"ticker\":null},\"id\":\"4072\",\"type\":\"Grid\"},{\"attributes\":{},\"id\":\"4288\",\"type\":\"BasicTickFormatter\"},{\"attributes\":{\"data\":{\"x\":{\"__ndarray__\":\"AAAAO8Eod0IAAEDVbih3QgAAgG8cKHdCAADACcond0IAAACkdyd3QgAAQD4lJ3dCAACA2NImd0IAAMBygCZ3QgAAAA0uJndCAABAp9sld0IAAIBBiSV3QgAAwNs2JXdCAAAAduQkd0IAAEAQkiR3QgAAgKo/JHdCAADARO0jd0IAAADfmiN3QgAAQHlII3dCAACAE/Yid0IAAMCtoyJ3QgAAAEhRIndCAABA4v4hd0IAAIB8rCF3QgAAwBZaIXdCAAAAsQchd0IAAEBLtSB3QgAAgOViIHdCAADAfxAgd0IAAAAavh93QgAAQLRrH3dCAACAThkfd0IAAMDoxh53QgAAAIN0HndCAABAHSIed0IAAIC3zx13QgAAwFF9HXdCAAAA7Codd0IAAECG2Bx3QgAAgCCGHHdCAADAujMcd0IAAABV4Rt3QgAAQO+OG3dCAACAiTwbd0IAAMAj6hp3QgAAAL6XGndCAABAWEUad0IAAIDy8hl3QgAAwIygGXdCAAAAJ04Zd0IAAEDB+xh3QgAAgFupGHdCAADA9VYYd0IAAACQBBh3QgAAQCqyF3dCAACAxF8Xd0IAAMBeDRd3QgAAAPm6FndCAABAk2gWd0IAAIAtFhZ3QgAAwMfDFXdCAAAAYnEVd0IAAED8HhV3QgAAgJbMFHdCAADAMHoUd0IAAADLJxR3QgAAQGXVE3dCAACA/4ITd0IAAMCZMBN3QgAAADTeEndCAABAzosSd0IAAIBoORJ3QgAAwALnEXdCAAAAnZQRd0IAAEA3QhF3QgAAgNHvEHdCAADAa50Qd0IAAAAGSxB3QgAAQKD4D3dCAACAOqYPd0IAAMDUUw93QgAAAG8BD3dCAABACa8Od0IAAICjXA53QgAAwD0KDndCAAAA2LcNd0IAAEByZQ13QgAAgAwTDXdCAADApsAMd0IAAABBbgx3QgAAQNsbDHdCAACAdckLd0IAAMAPdwt3QgAAAKokC3dCAABARNIKd0IAAIDefwp3QgAAwHgtCndCAAAAE9sJd0IAAECtiAl3QgAAgEc2CXdCAADA4eMId0I=\",\"dtype\":\"float64\",\"order\":\"little\",\"shape\":[100]},\"y\":{\"__ndarray__\":\"jCRX4UMYh0Cv1me1n9iFQJs9Pn2hsIRAT1naOEmgg0DMKTzolqeCQBCvY4uKxoFAHulQIiT9gED01wOtY0uAQCT3+FaSYn9A8qd1O6ldfkBQwn0HDIh9QD9GEbu64XxAvzMwVrVqfEDPitrY+yJ8QHFLEEOOCnxAo3XRlGwhfEBmCR7Olmd8QLoG9u4M3XxAnm1Z986BfUAUPkjn3FV+QBp4wr42WX9A2Q3kPu5FgEBtlCwS5/aAQMnPOtmFv4FA778OlMqfgkBRYqhCtZeDQJuuMBSmUYRA3YTCnvEmhUCqwm8wbB2GQMXz0tMIOodAplBrkGN8iEAWVZke0OaJQNYkHoY3ZYtAV4PcBWUOjUDYzr73guiOQLCD6YGte5BAA20yK+ybkUD/Owpw0NWSQGFPToE6J5RAEKcuSBiOlUAYOuFfIQyXQGyAntjtnphA6zevYixImkBLD8r8VAKcQNfCu+h1yp1AthuW4rCen0CZ0QygBL6gQMvrW8VqrqFA7kZ1pTGgokC/d+dD9pOjQHqGn1QOgqRA1ePRsjFppUDvghmPv0amQL7hg0StGadASt7bEU7cp0CSdT9U3JGoQCAr9+bJOKlATfak2uPOqUDkXdxTu1CqQFTHAcGVwKpANgINpLkcq0AToyW8eWqrQGcM1rmipKtA13FXoXLOq0AQlaRlieOrQBJ1za9z4atAoG1Pkn/Nq0Ct8QvoAKOrQLwNibMIXatATrQodmcBq0Bqm+UJn5OqQOq7nDxwEKpAJeSeb894qUATvA2ILM2oQPyExT7xD6hAr2CBybVgp0DXjqyNtqGmQIcSR4vz0qVAv+tQwmz0pEB/GsoyIgakQMeestwTCKNAl3gKwEH6oUDvp9Hcq9ygQJ5ZEGakXp9AbQ5chWnknEBNboYXp0qaQDx5jxxdkZdAQS93lIu4lEBRkD1/MsCRQOA4xbmjUI1AQKfMWtPhhkDAa5Hh8zOAQMAMJ5wKjnJAALmXAj3YUEAACMGeFEBlwABK7BNC9HnA4LF+BkzjhMCg6EkdhguNwJzkK6dnuZLA3CnUzJMMl8A=\",\"dtype\":\"float64\",\"order\":\"little\",\"shape\":[100]}},\"selected\":{\"id\":\"4301\"},\"selection_policy\":{\"id\":\"4302\"}},\"id\":\"4087\",\"type\":\"ColumnDataSource\"},{\"attributes\":{},\"id\":\"4074\",\"type\":\"WheelZoomTool\"},{\"attributes\":{},\"id\":\"4078\",\"type\":\"HelpTool\"},{\"attributes\":{\"overlay\":{\"id\":\"4079\"}},\"id\":\"4075\",\"type\":\"BoxZoomTool\"},{\"attributes\":{},\"id\":\"4076\",\"type\":\"SaveTool\"},{\"attributes\":{},\"id\":\"4077\",\"type\":\"ResetTool\"},{\"attributes\":{},\"id\":\"4305\",\"type\":\"Selection\"},{\"attributes\":{},\"id\":\"4306\",\"type\":\"UnionRenderers\"},{\"attributes\":{\"line_alpha\":0.8,\"line_color\":\"green\",\"line_dash\":[6],\"x\":{\"field\":\"x\"},\"y\":{\"field\":\"y\"}},\"id\":\"4108\",\"type\":\"Line\"},{\"attributes\":{\"data\":{\"x\":{\"__ndarray__\":\"AAAAJ04Zd0IAAEDB+xh3QgAAgFupGHdCAADA9VYYd0IAAACQBBh3QgAAQCqyF3dCAACAxF8Xd0IAAMBeDRd3QgAAAPm6FndCAABAk2gWd0IAAIAtFhZ3QgAAwMfDFXdCAAAAYnEVd0IAAED8HhV3QgAAgJbMFHdCAADAMHoUd0IAAADLJxR3QgAAQGXVE3dCAACA/4ITd0IAAMCZMBN3QgAAADTeEndCAABAzosSd0IAAIBoORJ3QgAAwALnEXdCAAAAnZQRd0IAAEA3QhF3QgAAgNHvEHdCAADAa50Qd0IAAAAGSxB3Qg==\",\"dtype\":\"float64\",\"order\":\"little\",\"shape\":[29]},\"y\":{\"__ndarray__\":\"JXcdx8EepUCLYhtAs0umQI2ywaAadadAnxV8GoKZqEAANzMhqbWpQHnnlM5FyapAsjyxveLTq0CH2vhas9SsQBxkajV1ya1AI2D1SPuvrkB8aH2qvYSvQFSRPuUYIrBAC+4qaUh3sEDya+1ZUcKwQGt5J+OHArFAZZiVM4s3sUCeft56+V6xQAQYALIgeLFATdVBhKmCsUA8liMfg36xQEJz+ujwa7FA47zrMs1LsUA0I631/x2xQLvGCrjy4rBA6G5KtWeYsECKvlghAj+wQBCuF/Eor69AkGFYNM7frkCqC7mfMvmtQA==\",\"dtype\":\"float64\",\"order\":\"little\",\"shape\":[29]}},\"selected\":{\"id\":\"4311\"},\"selection_policy\":{\"id\":\"4312\"}},\"id\":\"4112\",\"type\":\"ColumnDataSource\"},{\"attributes\":{\"data_source\":{\"id\":\"4112\"},\"glyph\":{\"id\":\"4113\"},\"hover_glyph\":null,\"muted_glyph\":null,\"nonselection_glyph\":{\"id\":\"4114\"},\"selection_glyph\":null,\"view\":{\"id\":\"4116\"}},\"id\":\"4115\",\"type\":\"GlyphRenderer\"},{\"attributes\":{\"data_source\":{\"id\":\"4092\"},\"glyph\":{\"id\":\"4093\"},\"hover_glyph\":null,\"muted_glyph\":null,\"nonselection_glyph\":{\"id\":\"4094\"},\"selection_glyph\":null,\"view\":{\"id\":\"4096\"}},\"id\":\"4095\",\"type\":\"GlyphRenderer\"},{\"attributes\":{},\"id\":\"4307\",\"type\":\"Selection\"},{\"attributes\":{\"data_source\":{\"id\":\"4107\"},\"glyph\":{\"id\":\"4108\"},\"hover_glyph\":null,\"muted_glyph\":null,\"nonselection_glyph\":{\"id\":\"4109\"},\"selection_glyph\":null,\"view\":{\"id\":\"4111\"}},\"id\":\"4110\",\"type\":\"GlyphRenderer\"},{\"attributes\":{},\"id\":\"4308\",\"type\":\"UnionRenderers\"},{\"attributes\":{\"line_alpha\":0.1,\"line_color\":\"green\",\"line_dash\":[6],\"x\":{\"field\":\"x\"},\"y\":{\"field\":\"y\"}},\"id\":\"4109\",\"type\":\"Line\"},{\"attributes\":{\"source\":{\"id\":\"4107\"}},\"id\":\"4111\",\"type\":\"CDSView\"},{\"attributes\":{\"line_alpha\":0.1,\"line_color\":\"red\",\"line_dash\":[6],\"x\":{\"field\":\"x\"},\"y\":{\"field\":\"y\"}},\"id\":\"4089\",\"type\":\"Line\"},{\"attributes\":{\"bottom_units\":\"screen\",\"fill_alpha\":0.5,\"fill_color\":\"lightgrey\",\"left_units\":\"screen\",\"level\":\"overlay\",\"line_alpha\":1.0,\"line_color\":\"black\",\"line_dash\":[4,4],\"line_width\":2,\"right_units\":\"screen\",\"top_units\":\"screen\"},\"id\":\"4079\",\"type\":\"BoxAnnotation\"},{\"attributes\":{},\"id\":\"4309\",\"type\":\"Selection\"},{\"attributes\":{\"source\":{\"id\":\"4087\"}},\"id\":\"4091\",\"type\":\"CDSView\"},{\"attributes\":{},\"id\":\"4310\",\"type\":\"UnionRenderers\"},{\"attributes\":{\"mantissas\":[1,2,5],\"max_interval\":500.0,\"num_minor_ticks\":0},\"id\":\"4289\",\"type\":\"AdaptiveTicker\"},{\"attributes\":{\"base\":60,\"mantissas\":[1,2,5,10,15,20,30],\"max_interval\":1800000.0,\"min_interval\":1000.0,\"num_minor_ticks\":0},\"id\":\"4290\",\"type\":\"AdaptiveTicker\"},{\"attributes\":{\"days\":[1,2,3,4,5,6,7,8,9,10,11,12,13,14,15,16,17,18,19,20,21,22,23,24,25,26,27,28,29,30,31]},\"id\":\"4292\",\"type\":\"DaysTicker\"},{\"attributes\":{\"base\":24,\"mantissas\":[1,2,4,6,8,12],\"max_interval\":43200000.0,\"min_interval\":3600000.0,\"num_minor_ticks\":0},\"id\":\"4291\",\"type\":\"AdaptiveTicker\"},{\"attributes\":{\"months\":[0,1,2,3,4,5,6,7,8,9,10,11]},\"id\":\"4296\",\"type\":\"MonthsTicker\"},{\"attributes\":{\"months\":[0,2,4,6,8,10]},\"id\":\"4297\",\"type\":\"MonthsTicker\"},{\"attributes\":{\"days\":[1,4,7,10,13,16,19,22,25,28]},\"id\":\"4293\",\"type\":\"DaysTicker\"},{\"attributes\":{},\"id\":\"4311\",\"type\":\"Selection\"},{\"attributes\":{\"days\":[1,15]},\"id\":\"4295\",\"type\":\"DaysTicker\"},{\"attributes\":{},\"id\":\"4312\",\"type\":\"UnionRenderers\"},{\"attributes\":{\"months\":[0,6]},\"id\":\"4299\",\"type\":\"MonthsTicker\"},{\"attributes\":{\"days\":[1,8,15,22]},\"id\":\"4294\",\"type\":\"DaysTicker\"},{\"attributes\":{},\"id\":\"4300\",\"type\":\"YearsTicker\"},{\"attributes\":{\"active_drag\":\"auto\",\"active_inspect\":\"auto\",\"active_multi\":null,\"active_scroll\":\"auto\",\"active_tap\":\"auto\",\"tools\":[{\"id\":\"4073\"},{\"id\":\"4074\"},{\"id\":\"4075\"},{\"id\":\"4076\"},{\"id\":\"4077\"},{\"id\":\"4078\"}]},\"id\":\"4080\",\"type\":\"Toolbar\"},{\"attributes\":{\"months\":[0,4,8]},\"id\":\"4298\",\"type\":\"MonthsTicker\"},{\"attributes\":{},\"id\":\"4313\",\"type\":\"Selection\"},{\"attributes\":{},\"id\":\"4314\",\"type\":\"UnionRenderers\"},{\"attributes\":{\"line_alpha\":0.8,\"line_color\":\"red\",\"line_dash\":[6],\"x\":{\"field\":\"x\"},\"y\":{\"field\":\"y\"}},\"id\":\"4088\",\"type\":\"Line\"}],\"root_ids\":[\"4054\"]},\"title\":\"Bokeh Application\",\"version\":\"2.1.1\"}};\n",
       "  var render_items = [{\"docid\":\"598b4a1c-2570-40d3-a479-851d19c170e7\",\"root_ids\":[\"4054\"],\"roots\":{\"4054\":\"62ec283d-7b10-4ae8-8eca-438a2e85e287\"}}];\n",
       "  root.Bokeh.embed.embed_items_notebook(docs_json, render_items);\n",
       "\n",
       "  }\n",
       "  if (root.Bokeh !== undefined) {\n",
       "    embed_document(root);\n",
       "  } else {\n",
       "    var attempts = 0;\n",
       "    var timer = setInterval(function(root) {\n",
       "      if (root.Bokeh !== undefined) {\n",
       "        clearInterval(timer);\n",
       "        embed_document(root);\n",
       "      } else {\n",
       "        attempts++;\n",
       "        if (attempts > 100) {\n",
       "          clearInterval(timer);\n",
       "          console.log(\"Bokeh: ERROR: Unable to run BokehJS code because BokehJS library is missing\");\n",
       "        }\n",
       "      }\n",
       "    }, 10, root)\n",
       "  }\n",
       "})(window);"
      ],
      "application/vnd.bokehjs_exec.v0+json": ""
     },
     "metadata": {
      "application/vnd.bokehjs_exec.v0+json": {
       "id": "4054"
      }
     },
     "output_type": "display_data"
    }
   ],
   "source": [
    "from bokeh.models import Legend\n",
    "fig=figure(x_axis_type='datetime',title='Numbers of Covid-19 cases over time - The lockdown period is highlighted',plot_height=400, plot_width=900,y_range=(0,7000))\n",
    "fig.yaxis.axis_label = 'number of cases'\n",
    "fig.xaxis.axis_label = 'date'\n",
    "fig.line(fr_df.date ,fr_df.cases,color = \"red\",alpha=0.8, line_dash='dashed')\n",
    "r0=fig.line(fr_df.loc[(fr_df['date']>=start_fr) & (fr_df['date']<=end_fr),:].date ,fr_df.loc[(fr_df['date']>=start_fr) & (fr_df['date']<=end_fr),:].cases, color = \"red\",alpha=1)\n",
    "\n",
    "fig.line(it_df.date ,it_df.cases,color = \"blue\",alpha=0.8, line_dash='dashed')\n",
    "r1=fig.line(it_df.loc[(it_df['date']>=start_it) & (it_df['date']<=end_it),:].date ,it_df.loc[(it_df['date']>=start_it) & (it_df['date']<=end_it),:].cases, color = \"blue\",alpha=1)\n",
    "\n",
    "fig.line(gr_df.date ,gr_df.cases,color = \"green\",alpha=0.8, line_dash='dashed')\n",
    "r2 =fig.line(gr_df.loc[(gr_df['date']>=start_gr) & (gr_df['date']<=end_gr),:].date ,gr_df.loc[(gr_df['date']>=start_gr) & (gr_df['date']<=end_gr),:].cases, color = \"green\",alpha=1)\n",
    "\n",
    "fig.line(sp_df.date ,sp_df.cases,color = \"black\",alpha=0.8, line_dash='dashed')\n",
    "r3 =fig.line(sp_df.loc[(sp_df['date']>=start_sp) & (sp_df['date']<=end_sp),:].date ,sp_df.loc[(sp_df['date']>=start_sp) & (sp_df['date']<=end_sp),:].cases, color = \"black\",alpha=1)\n",
    "\n",
    "fig.line(ir_df.date ,ir_df.cases,color = \"orange\",alpha=0.8, line_dash='dashed')\n",
    "r4 =fig.line(ir_df.loc[(ir_df['date']>=start_ir) & (ir_df['date']<=end_ir),:].date ,ir_df.loc[(ir_df['date']>=start_ir) & (ir_df['date']<=end_ir),:].cases, color = \"orange\",alpha=1)\n",
    "legend1 = Legend(items=[(\"Spain\" , [r3]),(\"Italy\" , [r1]),(\"Germany\" , [r2]),(\"France\" , [r0]),(\"Iran\" , [r4])],\n",
    "                 location=(-98,195))\n",
    "fig.add_layout(legend1, 'right' )                 \n",
    "show(fig)"
   ]
  },
  {
   "cell_type": "code",
   "execution_count": 63,
   "metadata": {},
   "outputs": [
    {
     "data": {
      "text/html": [
       "\n",
       "\n",
       "\n",
       "\n",
       "\n",
       "\n",
       "  <div class=\"bk-root\" id=\"bde8b35b-660a-4307-a923-f8b2cf8cac10\" data-root-id=\"5045\"></div>\n"
      ]
     },
     "metadata": {},
     "output_type": "display_data"
    },
    {
     "data": {
      "application/javascript": [
       "(function(root) {\n",
       "  function embed_document(root) {\n",
       "    \n",
       "  var docs_json = {\"e2d518a8-6a5f-470e-a50e-91b3bd51f670\":{\"roots\":{\"references\":[{\"attributes\":{\"below\":[{\"id\":\"5056\"}],\"center\":[{\"id\":\"5059\"},{\"id\":\"5063\"}],\"left\":[{\"id\":\"5060\"}],\"plot_height\":400,\"plot_width\":900,\"renderers\":[{\"id\":\"5081\"},{\"id\":\"5086\"},{\"id\":\"5091\"},{\"id\":\"5096\"},{\"id\":\"5101\"},{\"id\":\"5106\"},{\"id\":\"5111\"},{\"id\":\"5116\"},{\"id\":\"5121\"},{\"id\":\"5126\"}],\"right\":[{\"id\":\"5128\"}],\"title\":{\"id\":\"5046\"},\"toolbar\":{\"id\":\"5071\"},\"x_range\":{\"id\":\"5048\"},\"x_scale\":{\"id\":\"5052\"},\"y_range\":{\"id\":\"5050\"},\"y_scale\":{\"id\":\"5054\"}},\"id\":\"5045\",\"subtype\":\"Figure\",\"type\":\"Plot\"},{\"attributes\":{\"data_source\":{\"id\":\"5093\"},\"glyph\":{\"id\":\"5094\"},\"hover_glyph\":null,\"muted_glyph\":null,\"nonselection_glyph\":{\"id\":\"5095\"},\"selection_glyph\":null,\"view\":{\"id\":\"5097\"}},\"id\":\"5096\",\"type\":\"GlyphRenderer\"},{\"attributes\":{},\"id\":\"5315\",\"type\":\"DatetimeTickFormatter\"},{\"attributes\":{\"line_color\":\"blue\",\"x\":{\"field\":\"x\"},\"y\":{\"field\":\"y\"}},\"id\":\"5094\",\"type\":\"Line\"},{\"attributes\":{\"text\":\"Number of Covid-19 deaths over time - The lockdown period is highlighted\"},\"id\":\"5046\",\"type\":\"Title\"},{\"attributes\":{\"source\":{\"id\":\"5093\"}},\"id\":\"5097\",\"type\":\"CDSView\"},{\"attributes\":{\"data_source\":{\"id\":\"5078\"},\"glyph\":{\"id\":\"5079\"},\"hover_glyph\":null,\"muted_glyph\":null,\"nonselection_glyph\":{\"id\":\"5080\"},\"selection_glyph\":null,\"view\":{\"id\":\"5082\"}},\"id\":\"5081\",\"type\":\"GlyphRenderer\"},{\"attributes\":{\"axis_label\":\"number of deaths\",\"formatter\":{\"id\":\"5317\"},\"ticker\":{\"id\":\"5061\"}},\"id\":\"5060\",\"type\":\"LinearAxis\"},{\"attributes\":{},\"id\":\"5061\",\"type\":\"BasicTicker\"},{\"attributes\":{},\"id\":\"5054\",\"type\":\"LinearScale\"},{\"attributes\":{\"num_minor_ticks\":5,\"tickers\":[{\"id\":\"5318\"},{\"id\":\"5319\"},{\"id\":\"5320\"},{\"id\":\"5321\"},{\"id\":\"5322\"},{\"id\":\"5323\"},{\"id\":\"5324\"},{\"id\":\"5325\"},{\"id\":\"5326\"},{\"id\":\"5327\"},{\"id\":\"5328\"},{\"id\":\"5329\"}]},\"id\":\"5057\",\"type\":\"DatetimeTicker\"},{\"attributes\":{},\"id\":\"5317\",\"type\":\"BasicTickFormatter\"},{\"attributes\":{\"line_alpha\":0.1,\"line_color\":\"blue\",\"x\":{\"field\":\"x\"},\"y\":{\"field\":\"y\"}},\"id\":\"5095\",\"type\":\"Line\"},{\"attributes\":{\"axis_label\":\"date\",\"formatter\":{\"id\":\"5315\"},\"ticker\":{\"id\":\"5057\"}},\"id\":\"5056\",\"type\":\"DatetimeAxis\"},{\"attributes\":{\"axis\":{\"id\":\"5056\"},\"ticker\":null},\"id\":\"5059\",\"type\":\"Grid\"},{\"attributes\":{},\"id\":\"5064\",\"type\":\"PanTool\"},{\"attributes\":{\"axis\":{\"id\":\"5060\"},\"dimension\":1,\"ticker\":null},\"id\":\"5063\",\"type\":\"Grid\"},{\"attributes\":{\"data\":{\"x\":{\"__ndarray__\":\"AAAAO8Eod0IAAEDVbih3QgAAgG8cKHdCAADACcond0IAAACkdyd3QgAAQD4lJ3dCAACA2NImd0IAAMBygCZ3QgAAAA0uJndCAABAp9sld0IAAIBBiSV3QgAAwNs2JXdCAAAAduQkd0IAAEAQkiR3QgAAgKo/JHdCAADARO0jd0IAAADfmiN3QgAAQHlII3dCAACAE/Yid0IAAMCtoyJ3QgAAAEhRIndCAABA4v4hd0IAAIB8rCF3QgAAwBZaIXdCAAAAsQchd0IAAEBLtSB3QgAAgOViIHdCAADAfxAgd0IAAAAavh93QgAAQLRrH3dCAACAThkfd0IAAMDoxh53QgAAAIN0HndCAABAHSIed0IAAIC3zx13QgAAwFF9HXdCAAAA7Codd0IAAECG2Bx3QgAAgCCGHHdCAADAujMcd0IAAABV4Rt3QgAAQO+OG3dCAACAiTwbd0IAAMAj6hp3QgAAAL6XGndCAABAWEUad0IAAIDy8hl3QgAAwIygGXdCAAAAJ04Zd0IAAEDB+xh3QgAAgFupGHdCAADA9VYYd0IAAACQBBh3QgAAQCqyF3dCAACAxF8Xd0IAAMBeDRd3QgAAAPm6FndCAABAk2gWd0IAAIAtFhZ3QgAAwMfDFXdCAAAAYnEVd0IAAED8HhV3QgAAgJbMFHdCAADAMHoUd0IAAADLJxR3QgAAQGXVE3dCAACA/4ITd0IAAMCZMBN3QgAAADTeEndCAABAzosSd0IAAIBoORJ3QgAAwALnEXdCAAAAnZQRd0IAAEA3QhF3QgAAgNHvEHdCAADAa50Qd0IAAAAGSxB3QgAAQKD4D3dCAACAOqYPd0IAAMDUUw93QgAAAG8BD3dCAABACa8Od0IAAICjXA53QgAAwD0KDndCAAAA2LcNd0IAAEByZQ13QgAAgAwTDXdCAADApsAMd0IAAABBbgx3QgAAQNsbDHdCAACAdckLd0IAAMAPdwt3QgAAAKokC3dCAABARNIKd0IAAIDefwp3QgAAwHgtCndCAAAAE9sJd0IAAECtiAl3QgAAgEc2CXdCAADA4eMId0I=\",\"dtype\":\"float64\",\"order\":\"little\",\"shape\":[100]},\"y\":{\"__ndarray__\":\"pf5g8T4NV0BIgjMSPSlVQBtUXTN+eVNAHHTeVAL+UUBL4rZ2ybZQQFI9zTGnR09Aa1LbdkGKTUDhA5i8YTVMQLVRAwMISUtA5jsdSjTFSkB0wuWR5qlKQGDlXNoe90pAqKSCI92sS0BOAFdtIctMQFL42bfrUU5AWcaFAZ4gUEC43nUniUxRQEZFvU23rFJAAvpbdChBVEDs/FGb3AlWQAZOn8LTBlhATO1D6g04WkDE2j8Si51cQGsWkzpLN19AH9CeMacCYUC5uR9GyoNiQDFpGgKvBmRAvfVHpuGuZUDtg/Fe2YJnQK6wUQfMhGlAaApU0OGua0AAz0vj1gFuQM/9D2onPXBAwSg1YgqLcUCUoICvselyQDUlZ4FrWnRAkL14UzzbdUBJ7ODTqWl3QH2XGlKFAnlA7OWFbMGhekCzx+FrukV8QF6fOv/H6n1AXh/9qO+Qf0CogGjVy5mAQOwPBS68Z4FAn/BAOeUvgkDPdc2LjfCCQPioQb1DqINAOnM9DWhVhEBRRMCeifeEQGNoqFbGh4VAR5a6rj8FhkDYPCCxBG6GQGJGIx7vvIZAxbIKBWH2hkAcC5+2zhuHQP5NRl6SLYdA3res17wqh0AM/KEG9hCHQGwDphY73oZAjkqZT4GYhkBFPEzwXDqGQBu1nvCTyIVAd1nqHmxGhUBe4Ymt4bCEQHzJ5EYcAoRA+MAWFuZFg0C90yNwY32CQGHWS+HyqYFAUhNimprNgEBuW3vXRtV/QFWD6TBSBX5ASZBGu3ksfEDsqE3pMUx6QDs3MVsGaXhAZFSzez0Od0BMxlDpwrB1QA6QCaSWUHRArrHdq7jtckAsK80AKYhxQIb816LnH3BAfEv8I+lpbUCkTX+cn45qQIj/OK/yrWdAKGEpXOLHZECAclCjbtxhQChnXAkv111AyEiFALrqV0DQiRssfvNRQLBUPhj34kdAYKlAgsiSN0AAILtIC2/pv4DdFmXUVDnAIDIZz6UEScA4G2aBN7pSwAA+0ubi/FjAUAHRF1VKX8CUMjEKR9FiwMQ0Q+7GAmbAPIceOKo5acA=\",\"dtype\":\"float64\",\"order\":\"little\",\"shape\":[100]}},\"selected\":{\"id\":\"5330\"},\"selection_policy\":{\"id\":\"5331\"}},\"id\":\"5078\",\"type\":\"ColumnDataSource\"},{\"attributes\":{},\"id\":\"5065\",\"type\":\"WheelZoomTool\"},{\"attributes\":{},\"id\":\"5069\",\"type\":\"HelpTool\"},{\"attributes\":{\"overlay\":{\"id\":\"5070\"}},\"id\":\"5066\",\"type\":\"BoxZoomTool\"},{\"attributes\":{},\"id\":\"5067\",\"type\":\"SaveTool\"},{\"attributes\":{},\"id\":\"5068\",\"type\":\"ResetTool\"},{\"attributes\":{\"line_color\":\"green\",\"x\":{\"field\":\"x\"},\"y\":{\"field\":\"y\"}},\"id\":\"5104\",\"type\":\"Line\"},{\"attributes\":{\"data_source\":{\"id\":\"5108\"},\"glyph\":{\"id\":\"5109\"},\"hover_glyph\":null,\"muted_glyph\":null,\"nonselection_glyph\":{\"id\":\"5110\"},\"selection_glyph\":null,\"view\":{\"id\":\"5112\"}},\"id\":\"5111\",\"type\":\"GlyphRenderer\"},{\"attributes\":{\"source\":{\"id\":\"5103\"}},\"id\":\"5107\",\"type\":\"CDSView\"},{\"attributes\":{\"line_alpha\":0.1,\"line_color\":\"green\",\"x\":{\"field\":\"x\"},\"y\":{\"field\":\"y\"}},\"id\":\"5105\",\"type\":\"Line\"},{\"attributes\":{\"data\":{\"x\":{\"__ndarray__\":\"AAAAJ04Zd0IAAEDB+xh3QgAAgFupGHdCAADA9VYYd0IAAACQBBh3QgAAQCqyF3dCAACAxF8Xd0IAAMBeDRd3QgAAAPm6FndCAABAk2gWd0IAAIAtFhZ3QgAAwMfDFXdCAAAAYnEVd0IAAED8HhV3QgAAgJbMFHdCAADAMHoUd0IAAADLJxR3QgAAQGXVE3dCAACA/4ITd0IAAMCZMBN3QgAAADTeEndCAABAzosSd0IAAIBoORJ3QgAAwALnEXdCAAAAnZQRd0IAAEA3QhF3QgAAgNHvEHdCAADAa50Qd0IAAAAGSxB3Qg==\",\"dtype\":\"float64\",\"order\":\"little\",\"shape\":[29]},\"y\":{\"__ndarray__\":\"OiHfvS/aaECvEqjCyQVpQKM7KPzUGmlALmPhexQZaUDdu/GMmf5oQLJSGFmcy2hApC5K14SBaECEWw5vNCRoQBKADT2vtWdAnVbR1CM2Z0CFTpujGKVmQOsb0makAGZAqz7mHBBLZUDwwPWrVIVkQE7Vify9s2NAeEWHBqLZYkA6On+70PVhQAE5OcC6CWFAoIMvnPQWYEDzGZmtWT5eQOh27nnIRVxAyeissnBJWkA5zD4UHVFYQDwP3RpAX1ZALQFNv6dyVECHXhwoUI5SQFkT3fFVtVBAZL9PnsW/TkCkOvcd2SdMQA==\",\"dtype\":\"float64\",\"order\":\"little\",\"shape\":[29]}},\"selected\":{\"id\":\"5340\"},\"selection_policy\":{\"id\":\"5341\"}},\"id\":\"5103\",\"type\":\"ColumnDataSource\"},{\"attributes\":{\"data_source\":{\"id\":\"5103\"},\"glyph\":{\"id\":\"5104\"},\"hover_glyph\":null,\"muted_glyph\":null,\"nonselection_glyph\":{\"id\":\"5105\"},\"selection_glyph\":null,\"view\":{\"id\":\"5107\"}},\"id\":\"5106\",\"type\":\"GlyphRenderer\"},{\"attributes\":{\"data\":{\"x\":{\"__ndarray__\":\"AAAAO8Eod0IAAEDVbih3QgAAgG8cKHdCAADACcond0IAAACkdyd3QgAAQD4lJ3dCAACA2NImd0IAAMBygCZ3QgAAAA0uJndCAABAp9sld0IAAIBBiSV3QgAAwNs2JXdCAAAAduQkd0IAAEAQkiR3QgAAgKo/JHdCAADARO0jd0IAAADfmiN3QgAAQHlII3dCAACAE/Yid0IAAMCtoyJ3QgAAAEhRIndCAABA4v4hd0IAAIB8rCF3QgAAwBZaIXdCAAAAsQchd0IAAEBLtSB3QgAAgOViIHdCAADAfxAgd0IAAAAavh93QgAAQLRrH3dCAACAThkfd0IAAMDoxh53QgAAAIN0HndCAABAHSIed0IAAIC3zx13QgAAwFF9HXdCAAAA7Codd0IAAECG2Bx3QgAAgCCGHHdCAADAujMcd0IAAABV4Rt3QgAAQO+OG3dCAACAiTwbd0IAAMAj6hp3QgAAAL6XGndCAABAWEUad0IAAIDy8hl3QgAAwIygGXdCAAAAJ04Zd0IAAEDB+xh3QgAAgFupGHdCAADA9VYYd0IAAACQBBh3QgAAQCqyF3dCAACAxF8Xd0IAAMBeDRd3QgAAAPm6FndCAABAk2gWd0IAAIAtFhZ3QgAAwMfDFXdCAAAAYnEVd0IAAED8HhV3QgAAgJbMFHdCAADAMHoUd0IAAADLJxR3QgAAQGXVE3dCAACA/4ITd0IAAMCZMBN3QgAAADTeEndCAABAzosSd0IAAIBoORJ3QgAAwALnEXdCAAAAnZQRd0IAAEA3QhF3QgAAgNHvEHdCAADAa50Qd0IAAAAGSxB3QgAAQKD4D3dCAACAOqYPd0IAAMDUUw93QgAAAG8BD3dCAABACa8Od0IAAICjXA53QgAAwD0KDndCAAAA2LcNd0IAAEByZQ13QgAAgAwTDXdCAADApsAMd0IAAABBbgx3QgAAQNsbDHdCAACAdckLd0IAAMAPdwt3QgAAAKokC3dCAABARNIKd0IAAIDefwp3QgAAwHgtCndCAAAAE9sJd0IAAECtiAl3QgAAgEc2CXdCAADA4eMId0I=\",\"dtype\":\"float64\",\"order\":\"little\",\"shape\":[100]},\"y\":{\"__ndarray__\":\"7U56wZRdTcDx4RdZoBFMwA6mbt0UlkrARZt+TvLqSMCVwUesOBBHwP4YyvbnBUXAgKEFLgDMQsAaW/pRgWJAwJ6LUMXWkjvAOMMewHwBNsAGXV+U9BAwwAyyJIR8giPAsLm9Sc6SCMBAQ4Sxxt0PQJzLTDjz0SZABuGpiGg1M0AO+rqbBWE7QG/YrGro9UFAvwLDGuVqRkD3+x/eeA9LQBXEw7Sj409AjC1Xz7JzUkCE4O9NXw1VQOz6K1bXvldAynwL6BqIWkBNYo4DKmldQGkvToQtH2BA/ST7n3yUYUBifOjwvhdjQAs3Kb3kqmRA7WWVHRROZkAItNeb/QdoQAz/CcZD1mlAiQnVPAu+a0BBiv8dyr5tQGvcieQo229A0KvjB9kJcUCnYLx+QjJyQAm6b9tgZnNAiIqXlfWldEAQGAZVM+11QInrrxiKOHdANFLy3XyPeECidSx8e+x5QF8F5tR2THtApvF2ZpqtfEAhFi7uxAx+QNlbC/jLZ39APwXCQTZegEBCjmetVQSBQBZ7+vZxoYFApa3c9MA0gkBhJtG7jb2CQFV6sB00O4NAgfcsKyusg0AYuiRSEhKEQBQcilXza4RAB8h/cV66hEAg6IoahfyEQB33BMXGMYVA/a23l5lZhUB1bAq2GHSFQBR63JYRgoVAvyZku1+DhUDXF3X8mXmFQFdwoOF8UoVAX5JjuhEZhUClh8Anp82EQELnOXSWdYRAi+EonK0NhED5nWhla5aDQE1vCSHnD4NAWZ6y38l6gkDJygVoY9iBQE1XdzChKIFAh/s4kGiRgEAyzHKc2d9/QGYy8dRbiH5AqintyVccfUABsmZ7zZt7QGjLXem8BnpA4HXSEyZdeEBpscT6CJ92QAN+NJ5lzHRArtsh/jvlckBqyowajOlwQHCU6uarsm1ALLa2ETNpaUAK+n21rfZkQApgQNIbW2BAWND7z/osV0DASdraSaNKQIDtpeavISlAAJU1B0htPcDwQ3kO8yxSwFjeLimtUF3APBr3KEBjZMAwo1tENkdqwACFYnMcKnDAVqcZCCRFc8A=\",\"dtype\":\"float64\",\"order\":\"little\",\"shape\":[100]}},\"selected\":{\"id\":\"5342\"},\"selection_policy\":{\"id\":\"5343\"}},\"id\":\"5108\",\"type\":\"ColumnDataSource\"},{\"attributes\":{\"mantissas\":[1,2,5],\"max_interval\":500.0,\"num_minor_ticks\":0},\"id\":\"5318\",\"type\":\"AdaptiveTicker\"},{\"attributes\":{\"base\":60,\"mantissas\":[1,2,5,10,15,20,30],\"max_interval\":1800000.0,\"min_interval\":1000.0,\"num_minor_ticks\":0},\"id\":\"5319\",\"type\":\"AdaptiveTicker\"},{\"attributes\":{\"bottom_units\":\"screen\",\"fill_alpha\":0.5,\"fill_color\":\"lightgrey\",\"left_units\":\"screen\",\"level\":\"overlay\",\"line_alpha\":1.0,\"line_color\":\"black\",\"line_dash\":[4,4],\"line_width\":2,\"right_units\":\"screen\",\"top_units\":\"screen\"},\"id\":\"5070\",\"type\":\"BoxAnnotation\"},{\"attributes\":{\"days\":[1,2,3,4,5,6,7,8,9,10,11,12,13,14,15,16,17,18,19,20,21,22,23,24,25,26,27,28,29,30,31]},\"id\":\"5321\",\"type\":\"DaysTicker\"},{\"attributes\":{\"base\":24,\"mantissas\":[1,2,4,6,8,12],\"max_interval\":43200000.0,\"min_interval\":3600000.0,\"num_minor_ticks\":0},\"id\":\"5320\",\"type\":\"AdaptiveTicker\"},{\"attributes\":{\"months\":[0,1,2,3,4,5,6,7,8,9,10,11]},\"id\":\"5325\",\"type\":\"MonthsTicker\"},{\"attributes\":{\"months\":[0,2,4,6,8,10]},\"id\":\"5326\",\"type\":\"MonthsTicker\"},{\"attributes\":{\"days\":[1,4,7,10,13,16,19,22,25,28]},\"id\":\"5322\",\"type\":\"DaysTicker\"},{\"attributes\":{\"days\":[1,15]},\"id\":\"5324\",\"type\":\"DaysTicker\"},{\"attributes\":{\"months\":[0,6]},\"id\":\"5328\",\"type\":\"MonthsTicker\"},{\"attributes\":{\"days\":[1,8,15,22]},\"id\":\"5323\",\"type\":\"DaysTicker\"},{\"attributes\":{},\"id\":\"5329\",\"type\":\"YearsTicker\"},{\"attributes\":{\"months\":[0,4,8]},\"id\":\"5327\",\"type\":\"MonthsTicker\"},{\"attributes\":{\"line_alpha\":0.1,\"line_color\":\"red\",\"line_dash\":[6],\"x\":{\"field\":\"x\"},\"y\":{\"field\":\"y\"}},\"id\":\"5080\",\"type\":\"Line\"},{\"attributes\":{\"active_drag\":\"auto\",\"active_inspect\":\"auto\",\"active_multi\":null,\"active_scroll\":\"auto\",\"active_tap\":\"auto\",\"tools\":[{\"id\":\"5064\"},{\"id\":\"5065\"},{\"id\":\"5066\"},{\"id\":\"5067\"},{\"id\":\"5068\"},{\"id\":\"5069\"}]},\"id\":\"5071\",\"type\":\"Toolbar\"},{\"attributes\":{\"line_color\":\"red\",\"line_dash\":[6],\"x\":{\"field\":\"x\"},\"y\":{\"field\":\"y\"}},\"id\":\"5079\",\"type\":\"Line\"},{\"attributes\":{},\"id\":\"5330\",\"type\":\"Selection\"},{\"attributes\":{\"source\":{\"id\":\"5078\"}},\"id\":\"5082\",\"type\":\"CDSView\"},{\"attributes\":{},\"id\":\"5331\",\"type\":\"UnionRenderers\"},{\"attributes\":{\"data_source\":{\"id\":\"5083\"},\"glyph\":{\"id\":\"5084\"},\"hover_glyph\":null,\"muted_glyph\":null,\"nonselection_glyph\":{\"id\":\"5085\"},\"selection_glyph\":null,\"view\":{\"id\":\"5087\"}},\"id\":\"5086\",\"type\":\"GlyphRenderer\"},{\"attributes\":{\"data\":{\"x\":{\"__ndarray__\":\"AADAfxAgd0IAAAAavh93QgAAQLRrH3dCAACAThkfd0IAAMDoxh53QgAAAIN0HndCAABAHSIed0IAAIC3zx13QgAAwFF9HXdCAAAA7Codd0IAAECG2Bx3QgAAgCCGHHdCAADAujMcd0IAAABV4Rt3QgAAQO+OG3dCAACAiTwbd0IAAMAj6hp3QgAAAL6XGndCAABAWEUad0IAAIDy8hl3QgAAwIygGXdCAAAAJ04Zd0IAAEDB+xh3QgAAgFupGHdCAADA9VYYd0IAAACQBBh3QgAAQCqyF3dCAACAxF8Xd0IAAMBeDRd3QgAAAPm6FndCAABAk2gWd0IAAIAtFhZ3QgAAwMfDFXdCAAAAYnEVd0IAAED8HhV3QgAAgJbMFHdCAADAMHoUd0IAAADLJxR3QgAAQGXVE3dCAACA/4ITd0IAAMCZMBN3QgAAADTeEndCAABAzosSd0IAAIBoORJ3QgAAwALnEXdCAAAAnZQRd0IAAEA3QhF3QgAAgNHvEHdCAADAa50Qd0IAAAAGSxB3QgAAQKD4D3dCAACAOqYPd0IAAMDUUw93QgAAAG8BD3dCAABACa8Od0IAAICjXA53Qg==\",\"dtype\":\"float64\",\"order\":\"little\",\"shape\":[56]},\"y\":{\"__ndarray__\":\"vfVHpuGuZUDtg/Fe2YJnQK6wUQfMhGlAaApU0OGua0AAz0vj1gFuQM/9D2onPXBAwSg1YgqLcUCUoICvselyQDUlZ4FrWnRAkL14UzzbdUBJ7ODTqWl3QH2XGlKFAnlA7OWFbMGhekCzx+FrukV8QF6fOv/H6n1AXh/9qO+Qf0CogGjVy5mAQOwPBS68Z4FAn/BAOeUvgkDPdc2LjfCCQPioQb1DqINAOnM9DWhVhEBRRMCeifeEQGNoqFbGh4VAR5a6rj8FhkDYPCCxBG6GQGJGIx7vvIZAxbIKBWH2hkAcC5+2zhuHQP5NRl6SLYdA3res17wqh0AM/KEG9hCHQGwDphY73oZAjkqZT4GYhkBFPEzwXDqGQBu1nvCTyIVAd1nqHmxGhUBe4Ymt4bCEQHzJ5EYcAoRA+MAWFuZFg0C90yNwY32CQGHWS+HyqYFAUhNimprNgEBuW3vXRtV/QFWD6TBSBX5ASZBGu3ksfEDsqE3pMUx6QDs3MVsGaXhAZFSzez0Od0BMxlDpwrB1QA6QCaSWUHRArrHdq7jtckAsK80AKYhxQIb816LnH3BAfEv8I+lpbUCkTX+cn45qQA==\",\"dtype\":\"float64\",\"order\":\"little\",\"shape\":[56]}},\"selected\":{\"id\":\"5332\"},\"selection_policy\":{\"id\":\"5333\"}},\"id\":\"5083\",\"type\":\"ColumnDataSource\"},{\"attributes\":{\"line_color\":\"red\",\"x\":{\"field\":\"x\"},\"y\":{\"field\":\"y\"}},\"id\":\"5084\",\"type\":\"Line\"},{\"attributes\":{},\"id\":\"5334\",\"type\":\"Selection\"},{\"attributes\":{\"data\":{\"x\":{\"__ndarray__\":\"AAAAO8Eod0IAAEDVbih3QgAAgG8cKHdCAADACcond0IAAACkdyd3QgAAQD4lJ3dCAACA2NImd0IAAMBygCZ3QgAAAA0uJndCAABAp9sld0IAAIBBiSV3QgAAwNs2JXdCAAAAduQkd0IAAEAQkiR3QgAAgKo/JHdCAADARO0jd0IAAADfmiN3QgAAQHlII3dCAACAE/Yid0IAAMCtoyJ3QgAAAEhRIndCAABA4v4hd0IAAIB8rCF3QgAAwBZaIXdCAAAAsQchd0IAAEBLtSB3QgAAgOViIHdCAADAfxAgd0IAAAAavh93QgAAQLRrH3dCAACAThkfd0IAAMDoxh53QgAAAIN0HndCAABAHSIed0IAAIC3zx13QgAAwFF9HXdCAAAA7Codd0IAAECG2Bx3QgAAgCCGHHdCAADAujMcd0IAAABV4Rt3QgAAQO+OG3dCAACAiTwbd0IAAMAj6hp3QgAAAL6XGndCAABAWEUad0IAAIDy8hl3QgAAwIygGXdCAAAAJ04Zd0IAAEDB+xh3QgAAgFupGHdCAADA9VYYd0IAAACQBBh3QgAAQCqyF3dCAACAxF8Xd0IAAMBeDRd3QgAAAPm6FndCAABAk2gWd0IAAIAtFhZ3QgAAwMfDFXdCAAAAYnEVd0IAAED8HhV3QgAAgJbMFHdCAADAMHoUd0IAAADLJxR3QgAAQGXVE3dCAACA/4ITd0IAAMCZMBN3QgAAADTeEndCAABAzosSd0IAAIBoORJ3QgAAwALnEXdCAAAAnZQRd0IAAEA3QhF3QgAAgNHvEHdCAADAa50Qd0IAAAAGSxB3QgAAQKD4D3dCAACAOqYPd0IAAMDUUw93QgAAAG8BD3dCAABACa8Od0IAAICjXA53QgAAwD0KDndCAAAA2LcNd0IAAEByZQ13QgAAgAwTDXdCAADApsAMd0IAAABBbgx3QgAAQNsbDHdCAACAdckLd0IAAMAPdwt3QgAAAKokC3dCAABARNIKd0IAAIDefwp3QgAAwHgtCndCAAAAE9sJd0IAAECtiAl3QgAAgEc2CXdCAADA4eMId0I=\",\"dtype\":\"float64\",\"order\":\"little\",\"shape\":[100]},\"y\":{\"__ndarray__\":\"NIlQLPeOUECpFTcIjQFRQEcLADZqhlFAD2qrtY4dUkD/MTmH+sZSQBljqaqtglNAXP37H6hQVEDIADHn6TBVQF5tSABzI1ZAHENCa0MoV0AEgh4oWz9YQBQq3Ta6aFlATzt+l2CkWkCytQFKTvJbQD6ZZ06DUl1A9OWvpP/EXkDqTW2m4SRgQG3dcyNn8GBAhqFrSRDFYUA0mlQY3aJiQHXHLpDNiWNASyn6sOF5ZEC2v7Z6GXNlQLaKZO10dWZAS4oDCfSAZ0BKu5PNlpVoQAkNGptssmlAkH3KaIfcakBAjGmRRhBsQMyWlnLiSW1ACqHmORyMbkAhNiw4eNVvQHuhxMkyk3BAU+XcjdZCcUBL4S5k5vhxQLNVEXUpuHJAdRFWdpd8c0AEVHWEAEp0QIdKvGNkIHVAUTH2xtj+dUBwad66YeV2QNdSV/OK03dAFNZE46TKeECmoB4VNch5QGUD61uIy3pAkSk89F7Te0AeGIRAF998QORESNMw7H1ALZnC3aX6fkBGBWEqrwSAQADl941/iYBATv1OrR4LgUDv+XNP/IiBQMcSK09KAoJADm4OXl52gkC4pXmt2+SCQJNci2H+TYNAmBMt5uOvg0BrKSNSZAqEQNOF6Q3sXIRAJh6XfUunhEA4bs2PXeiEQHuUssawH4VALoRXMjdNhUCy0U1VYm+FQIT60jCzhIVAwgteVRWNhUBSzZTdX4iFQOubiVqVdYVAagfV/6BUhUD5AYySmiWFQAiSzBnX5oRAJ5OcXb6XhEDb+WBwTDqEQEP2d6/dzoNAkmJKXDZXg0DIIoNmt9KCQG45Is5gQYJAgqYnkzKjgUAFapO1LPiAQPeDZTVPQIBAr+g7JTT3fkBPdnmaGlR9QMywg8pRl3tAKJhatdnAeUBhLP5astB3QHhtbrvbxnVAbVur1lWjc0BA9rSsIGZxQN17Fnt4Hm5AAGVcElE9aUDUpzsfyyhkQNyIaEPNwV1AcHWMM0fLUkBQVow7ELg9QKBbTqrwVzHA1I/XeLmAUMBk1ejbMxJdwK6z46k1BWXA/qI58K+0a8A=\",\"dtype\":\"float64\",\"order\":\"little\",\"shape\":[100]}},\"selected\":{\"id\":\"5334\"},\"selection_policy\":{\"id\":\"5335\"}},\"id\":\"5088\",\"type\":\"ColumnDataSource\"},{\"attributes\":{\"source\":{\"id\":\"5083\"}},\"id\":\"5087\",\"type\":\"CDSView\"},{\"attributes\":{\"line_alpha\":0.1,\"line_color\":\"red\",\"x\":{\"field\":\"x\"},\"y\":{\"field\":\"y\"}},\"id\":\"5085\",\"type\":\"Line\"},{\"attributes\":{},\"id\":\"5332\",\"type\":\"Selection\"},{\"attributes\":{\"data_source\":{\"id\":\"5088\"},\"glyph\":{\"id\":\"5089\"},\"hover_glyph\":null,\"muted_glyph\":null,\"nonselection_glyph\":{\"id\":\"5090\"},\"selection_glyph\":null,\"view\":{\"id\":\"5092\"}},\"id\":\"5091\",\"type\":\"GlyphRenderer\"},{\"attributes\":{},\"id\":\"5333\",\"type\":\"UnionRenderers\"},{\"attributes\":{\"line_color\":\"green\",\"line_dash\":[6],\"x\":{\"field\":\"x\"},\"y\":{\"field\":\"y\"}},\"id\":\"5099\",\"type\":\"Line\"},{\"attributes\":{\"line_color\":\"blue\",\"line_dash\":[6],\"x\":{\"field\":\"x\"},\"y\":{\"field\":\"y\"}},\"id\":\"5089\",\"type\":\"Line\"},{\"attributes\":{},\"id\":\"5348\",\"type\":\"Selection\"},{\"attributes\":{},\"id\":\"5349\",\"type\":\"UnionRenderers\"},{\"attributes\":{\"data\":{\"x\":{\"__ndarray__\":\"AAAASFEid0IAAEDi/iF3QgAAgHysIXdCAADAFlohd0IAAACxByF3QgAAQEu1IHdCAACA5WIgd0IAAMB/ECB3QgAAABq+H3dCAABAtGsfd0IAAIBOGR93QgAAwOjGHndCAAAAg3Qed0IAAEAdIh53QgAAgLfPHXdCAADAUX0dd0IAAADsKh13QgAAQIbYHHdCAACAIIYcd0IAAMC6Mxx3QgAAAFXhG3dCAABA744bd0IAAICJPBt3QgAAwCPqGndCAAAAvpcad0IAAEBYRRp3QgAAgPLyGXdCAADAjKAZd0IAAAAnThl3QgAAQMH7GHdCAACAW6kYd0IAAMD1Vhh3QgAAAJAEGHdCAABAKrIXd0IAAIDEXxd3QgAAwF4NF3dCAAAA+boWd0IAAECTaBZ3QgAAgC0WFndCAADAx8MVd0IAAABicRV3QgAAQPweFXdCAACAlswUd0IAAMAwehR3QgAAAMsnFHdCAABAZdUTd0IAAID/ghN3QgAAwJkwE3dCAAAANN4Sd0IAAEDOixJ3QgAAgGg5EndCAADAAucRd0IAAACdlBF3QgAAQDdCEXdCAACA0e8Qd0IAAMBrnRB3QgAAAAZLEHdCAABAoPgPd0IAAIA6pg93QgAAwNRTD3dCAAAAbwEPd0IAAEAJrw53QgAAgKNcDndCAADAPQoOd0IAAADYtw13QgAAQHJlDXdCAACADBMNd0IAAMCmwAx3QgAAAEFuDHdCAABA2xsMd0IAAIB1yQt3Qg==\",\"dtype\":\"float64\",\"order\":\"little\",\"shape\":[71]},\"y\":{\"__ndarray__\":\"dccukM2JY0BLKfqw4XlkQLa/tnoZc2VAtopk7XR1ZkBLigMJ9IBnQEq7k82WlWhACQ0am2yyaUCQfcpoh9xqQECMaZFGEGxAzJaWcuJJbUAKoeY5HIxuQCE2LDh41W9Ae6HEyTKTcEBT5dyN1kJxQEvhLmTm+HFAs1URdSm4ckB1EVZ2l3xzQARUdYQASnRAh0q8Y2QgdUBRMfbG2P51QHBp3rph5XZA11JX84rTd0AU1kTjpMp4QKagHhU1yHlAZQPrW4jLekCRKTz0XtN7QB4YhEAX33xA5ERI0zDsfUAtmcLdpfp+QEYFYSqvBIBAAOX3jX+JgEBO/U6tHguBQO/5c0/8iIFAxxIrT0oCgkAObg5eXnaCQLilea3b5IJAk1yLYf5Ng0CYEy3m46+DQGspI1JkCoRA04XpDexchEAmHpd9S6eEQDhuzY9d6IRAe5SyxrAfhUAuhFcyN02FQLLRTVVib4VAhPrSMLOEhUDCC15VFY2FQFLNlN1fiIVA65uJWpV1hUBqB9X/oFSFQPkBjJKaJYVACJLMGdfmhEAnk5xdvpeEQNv5YHBMOoRAQ/Z3r93Og0CSYkpcNleDQMgig2a30oJAbjkizmBBgkCCpieTMqOBQAVqk7Us+IBA94NlNU9AgECv6DslNPd+QE92eZoaVH1AzLCDylGXe0AomFq12cB5QGEs/lqy0HdAeG1uu9vGdUBtW6vWVaNzQED2tKwgZnFA3XsWe3gebkAAZVwSUT1pQA==\",\"dtype\":\"float64\",\"order\":\"little\",\"shape\":[71]}},\"selected\":{\"id\":\"5336\"},\"selection_policy\":{\"id\":\"5337\"}},\"id\":\"5093\",\"type\":\"ColumnDataSource\"},{\"attributes\":{\"source\":{\"id\":\"5088\"}},\"id\":\"5092\",\"type\":\"CDSView\"},{\"attributes\":{\"line_alpha\":0.1,\"line_color\":\"blue\",\"line_dash\":[6],\"x\":{\"field\":\"x\"},\"y\":{\"field\":\"y\"}},\"id\":\"5090\",\"type\":\"Line\"},{\"attributes\":{},\"id\":\"5335\",\"type\":\"UnionRenderers\"},{\"attributes\":{\"data_source\":{\"id\":\"5098\"},\"glyph\":{\"id\":\"5099\"},\"hover_glyph\":null,\"muted_glyph\":null,\"nonselection_glyph\":{\"id\":\"5100\"},\"selection_glyph\":null,\"view\":{\"id\":\"5102\"}},\"id\":\"5101\",\"type\":\"GlyphRenderer\"},{\"attributes\":{\"data\":{\"x\":{\"__ndarray__\":\"AAAAO8Eod0IAAEDVbih3QgAAgG8cKHdCAADACcond0IAAACkdyd3QgAAQD4lJ3dCAACA2NImd0IAAMBygCZ3QgAAAA0uJndCAABAp9sld0IAAIBBiSV3QgAAwNs2JXdCAAAAduQkd0IAAEAQkiR3QgAAgKo/JHdCAADARO0jd0IAAADfmiN3QgAAQHlII3dCAACAE/Yid0IAAMCtoyJ3QgAAAEhRIndCAABA4v4hd0IAAIB8rCF3QgAAwBZaIXdCAAAAsQchd0IAAEBLtSB3QgAAgOViIHdCAADAfxAgd0IAAAAavh93QgAAQLRrH3dCAACAThkfd0IAAMDoxh53QgAAAIN0HndCAABAHSIed0IAAIC3zx13QgAAwFF9HXdCAAAA7Codd0IAAECG2Bx3QgAAgCCGHHdCAADAujMcd0IAAABV4Rt3QgAAQO+OG3dCAACAiTwbd0IAAMAj6hp3QgAAAL6XGndCAABAWEUad0IAAIDy8hl3QgAAwIygGXdCAAAAJ04Zd0IAAEDB+xh3QgAAgFupGHdCAADA9VYYd0IAAACQBBh3QgAAQCqyF3dCAACAxF8Xd0IAAMBeDRd3QgAAAPm6FndCAABAk2gWd0IAAIAtFhZ3QgAAwMfDFXdCAAAAYnEVd0IAAED8HhV3QgAAgJbMFHdCAADAMHoUd0IAAADLJxR3QgAAQGXVE3dCAACA/4ITd0IAAMCZMBN3QgAAADTeEndCAABAzosSd0IAAIBoORJ3QgAAwALnEXdCAAAAnZQRd0IAAEA3QhF3QgAAgNHvEHdCAADAa50Qd0IAAAAGSxB3QgAAQKD4D3dCAACAOqYPd0IAAMDUUw93QgAAAG8BD3dCAABACa8Od0IAAICjXA53QgAAwD0KDndCAAAA2LcNd0IAAEByZQ13QgAAgAwTDXdCAADApsAMd0IAAABBbgx3QgAAQNsbDHdCAACAdckLd0IAAMAPdwt3QgAAAKokC3dCAABARNIKd0IAAIDefwp3QgAAwHgtCndCAAAAE9sJd0IAAECtiAl3QgAAgEc2CXdCAADA4eMId0I=\",\"dtype\":\"float64\",\"order\":\"little\",\"shape\":[100]},\"y\":{\"__ndarray__\":\"98MXMWYaMkArv8iyDyYzQLXaRyqnUjRAlhaVlyygNUDOcrD6nw43QFzvmVMBnjhAQYxRolBOOkB8SdfmjR88QA8nKyG5ET5AfJKmKGkSQECcoZ67bCxBQOjAfUnnVkJAXvBD0tiRQ0AAMPFVQd1EQM5/hdQgOUZAxt8ATnelR0DqT2PCRCJJQDrQrDGJr0pAtGDdm0RNTEBaAfUAd/tNQCyy82Aguk9AlLnsXaDEUEApItMIbLRRQNISLTFzrFJAkov61rWsU0C6iTv6M7VUQIlc6bfj9lVAeJnxcxVEV0AdlGwEoqBYQNnys2IcDVpAXkhFm3OCW0AXheepGf1cQN9+29YOfV5AIyDDm3/+X0DE2xXKeMBgQOTWjhvFg2FAMHBThDZHYkAQfJdC+ghjQAL5Lzb8xGNA61LJioN6ZEB3MFTIXSdlQK8umjFPy2VAEnJN+39mZkAJkz87yPZmQODdJdjCeWdAOX07f9bsZ0C+KuAGKE9oQIx26tDKnWhAOiHfvS/aaECvEqjCyQVpQKM7KPzUGmlALmPhexQZaUDdu/GMmf5oQLJSGFmcy2hApC5K14SBaECEWw5vNCRoQBKADT2vtWdAnVbR1CM2Z0CFTpujGKVmQOsb0makAGZAqz7mHBBLZUDwwPWrVIVkQE7Vify9s2NAeEWHBqLZYkA6On+70PVhQAE5OcC6CWFAoIMvnPQWYEDzGZmtWT5eQOh27nnIRVxAyeissnBJWkA5zD4UHVFYQDwP3RpAX1ZALQFNv6dyVECHXhwoUI5SQFkT3fFVtVBAZL9PnsW/TkCkOvcd2SdMQLycsGLmoklAsOV7bO0wR0CEFVk77tFEQCwsSM/ohUJAsClJKN1MQEAgHLiMlk08QJCyAVNmJzhAwBZvoyknNECgSAB+4EwwQFCQasUVMSlA8Coco1EUIkDgwSoq6YYWQEDJWG36+QJAAA0WogSp579AYkVt4J4NwOBpc7DxERrA0HXagFJeIsBQmzMVxWcnwHAlRZVQJSzAGIqHgHpLMMC4s0gsWV4ywKgP5k1ESzTA2J1f5TsSNsA=\",\"dtype\":\"float64\",\"order\":\"little\",\"shape\":[100]}},\"selected\":{\"id\":\"5338\"},\"selection_policy\":{\"id\":\"5339\"}},\"id\":\"5098\",\"type\":\"ColumnDataSource\"},{\"attributes\":{},\"id\":\"5048\",\"type\":\"DataRange1d\"},{\"attributes\":{\"line_dash\":[6],\"x\":{\"field\":\"x\"},\"y\":{\"field\":\"y\"}},\"id\":\"5109\",\"type\":\"Line\"},{\"attributes\":{\"source\":{\"id\":\"5098\"}},\"id\":\"5102\",\"type\":\"CDSView\"},{\"attributes\":{\"line_alpha\":0.1,\"line_color\":\"green\",\"line_dash\":[6],\"x\":{\"field\":\"x\"},\"y\":{\"field\":\"y\"}},\"id\":\"5100\",\"type\":\"Line\"},{\"attributes\":{\"source\":{\"id\":\"5108\"}},\"id\":\"5112\",\"type\":\"CDSView\"},{\"attributes\":{},\"id\":\"5336\",\"type\":\"Selection\"},{\"attributes\":{},\"id\":\"5337\",\"type\":\"UnionRenderers\"},{\"attributes\":{\"line_alpha\":0.1,\"line_dash\":[6],\"x\":{\"field\":\"x\"},\"y\":{\"field\":\"y\"}},\"id\":\"5110\",\"type\":\"Line\"},{\"attributes\":{\"data\":{\"x\":{\"__ndarray__\":\"AABAtGsfd0IAAIBOGR93QgAAwOjGHndCAAAAg3Qed0IAAEAdIh53QgAAgLfPHXdCAADAUX0dd0IAAADsKh13QgAAQIbYHHdCAACAIIYcd0IAAMC6Mxx3QgAAAFXhG3dCAABA744bd0IAAICJPBt3QgAAwCPqGndCAAAAvpcad0IAAEBYRRp3QgAAgPLyGXdCAADAjKAZd0IAAAAnThl3QgAAQMH7GHdCAACAW6kYd0IAAMD1Vhh3QgAAAJAEGHdCAABAKrIXd0IAAIDEXxd3QgAAwF4NF3dCAAAA+boWd0IAAECTaBZ3QgAAgC0WFndCAADAx8MVd0IAAABicRV3QgAAQPweFXdCAACAlswUd0IAAMAwehR3QgAAAMsnFHdCAABAZdUTd0IAAID/ghN3QgAAwJkwE3dCAAAANN4Sd0IAAEDOixJ3QgAAgGg5EndCAADAAucRd0IAAACdlBF3QgAAQDdCEXdCAACA0e8Qd0IAAMBrnRB3QgAAAAZLEHdCAABAoPgPd0IAAIA6pg93QgAAwNRTD3dCAAAAbwEPd0IAAEAJrw53QgAAgKNcDndCAADAPQoOd0IAAADYtw13QgAAQHJlDXdC\",\"dtype\":\"float64\",\"order\":\"little\",\"shape\":[57]},\"y\":{\"__ndarray__\":\"CzcpveSqZEDtZZUdFE5mQAi015v9B2hADP8JxkPWaUCJCdU8C75rQEGK/x3Kvm1Aa9yJ5Cjbb0DQq+MH2QlxQKdgvH5CMnJACbpv22Bmc0CIipeV9aV0QBAYBlUz7XVAieuvGIo4d0A0UvLdfI94QKJ1LHx77HlAXwXm1HZMe0Cm8XZmmq18QCEWLu7EDH5A2VsL+Mtnf0A/BcJBNl6AQEKOZ61VBIFAFnv69nGhgUClrdz0wDSCQGEm0buNvYJAVXqwHTQ7g0CB9ywrK6yDQBi6JFISEoRAFByKVfNrhEAHyH9xXrqEQCDoihqF/IRAHfcExcYxhUD9rbeXmVmFQHVsCrYYdIVAFHrclhGChUC/JmS7X4OFQNcXdfyZeYVAV3Cg4XxShUBfkmO6ERmFQKWHwCenzYRAQuc5dJZ1hECL4SicrQ2EQPmdaGVrloNATW8JIecPg0BZnrLfyXqCQMnKBWhj2IFATVd3MKEogUCH+ziQaJGAQDLMcpzZ339AZjLx1FuIfkCqKe3JVxx9QAGyZnvNm3tAaMtd6bwGekDgddITJl14QGmxxPoIn3ZAA340nmXMdECu2yH+O+VyQGrKjBqM6XBA\",\"dtype\":\"float64\",\"order\":\"little\",\"shape\":[57]}},\"selected\":{\"id\":\"5344\"},\"selection_policy\":{\"id\":\"5345\"}},\"id\":\"5113\",\"type\":\"ColumnDataSource\"},{\"attributes\":{\"data_source\":{\"id\":\"5113\"},\"glyph\":{\"id\":\"5114\"},\"hover_glyph\":null,\"muted_glyph\":null,\"nonselection_glyph\":{\"id\":\"5115\"},\"selection_glyph\":null,\"view\":{\"id\":\"5117\"}},\"id\":\"5116\",\"type\":\"GlyphRenderer\"},{\"attributes\":{},\"id\":\"5347\",\"type\":\"UnionRenderers\"},{\"attributes\":{\"x\":{\"field\":\"x\"},\"y\":{\"field\":\"y\"}},\"id\":\"5114\",\"type\":\"Line\"},{\"attributes\":{\"data_source\":{\"id\":\"5118\"},\"glyph\":{\"id\":\"5119\"},\"hover_glyph\":null,\"muted_glyph\":null,\"nonselection_glyph\":{\"id\":\"5120\"},\"selection_glyph\":null,\"view\":{\"id\":\"5122\"}},\"id\":\"5121\",\"type\":\"GlyphRenderer\"},{\"attributes\":{\"source\":{\"id\":\"5113\"}},\"id\":\"5117\",\"type\":\"CDSView\"},{\"attributes\":{\"data_source\":{\"id\":\"5123\"},\"glyph\":{\"id\":\"5124\"},\"hover_glyph\":null,\"muted_glyph\":null,\"nonselection_glyph\":{\"id\":\"5125\"},\"selection_glyph\":null,\"view\":{\"id\":\"5127\"}},\"id\":\"5126\",\"type\":\"GlyphRenderer\"},{\"attributes\":{},\"id\":\"5338\",\"type\":\"Selection\"},{\"attributes\":{\"line_alpha\":0.1,\"x\":{\"field\":\"x\"},\"y\":{\"field\":\"y\"}},\"id\":\"5115\",\"type\":\"Line\"},{\"attributes\":{},\"id\":\"5339\",\"type\":\"UnionRenderers\"},{\"attributes\":{\"data\":{\"x\":{\"__ndarray__\":\"AAAAO8Eod0IAAEDVbih3QgAAgG8cKHdCAADACcond0IAAACkdyd3QgAAQD4lJ3dCAACA2NImd0IAAMBygCZ3QgAAAA0uJndCAABAp9sld0IAAIBBiSV3QgAAwNs2JXdCAAAAduQkd0IAAEAQkiR3QgAAgKo/JHdCAADARO0jd0IAAADfmiN3QgAAQHlII3dCAACAE/Yid0IAAMCtoyJ3QgAAAEhRIndCAABA4v4hd0IAAIB8rCF3QgAAwBZaIXdCAAAAsQchd0IAAEBLtSB3QgAAgOViIHdCAADAfxAgd0IAAAAavh93QgAAQLRrH3dCAACAThkfd0IAAMDoxh53QgAAAIN0HndCAABAHSIed0IAAIC3zx13QgAAwFF9HXdCAAAA7Codd0IAAECG2Bx3QgAAgCCGHHdCAADAujMcd0IAAABV4Rt3QgAAQO+OG3dCAACAiTwbd0IAAMAj6hp3QgAAAL6XGndCAABAWEUad0IAAIDy8hl3QgAAwIygGXdCAAAAJ04Zd0IAAEDB+xh3QgAAgFupGHdCAADA9VYYd0IAAACQBBh3QgAAQCqyF3dCAACAxF8Xd0IAAMBeDRd3QgAAAPm6FndCAABAk2gWd0IAAIAtFhZ3QgAAwMfDFXdCAAAAYnEVd0IAAED8HhV3QgAAgJbMFHdCAADAMHoUd0IAAADLJxR3QgAAQGXVE3dCAACA/4ITd0IAAMCZMBN3QgAAADTeEndCAABAzosSd0IAAIBoORJ3QgAAwALnEXdCAAAAnZQRd0IAAEA3QhF3QgAAgNHvEHdCAADAa50Qd0IAAAAGSxB3QgAAQKD4D3dCAACAOqYPd0IAAMDUUw93QgAAAG8BD3dCAABACa8Od0IAAICjXA53QgAAwD0KDndCAAAA2LcNd0IAAEByZQ13QgAAgAwTDXdCAADApsAMd0IAAABBbgx3QgAAQNsbDHdCAACAdckLd0IAAMAPdwt3QgAAAKokC3dCAABARNIKd0IAAIDefwp3QgAAwHgtCndCAAAAE9sJd0IAAECtiAl3QgAAgEc2CXdCAADA4eMId0I=\",\"dtype\":\"float64\",\"order\":\"little\",\"shape\":[100]},\"y\":{\"__ndarray__\":\"OEiLim2TUUAkNZeRLCdRQLGF4inowFBA3TltU6BgUECqUTcOVQZQQC2agbQMZE9AR1gTb2jHTkCi3SNMvTZOQDwqs0sLsk1AFj7BbVI5TUAyGU6yksxMQI27WRnMa0xAKSXkov4WTEAFVu1OKs5LQCJOdR1PkUtAfg18Dm1gS0AblAEihDtLQPjhBViUIktAFveIsJ0VS0B004oroBRLQBJ3C8mbH0tA8OEKiZA2S0AQFIlrfllLQG4NhnBliEtADs4BmEXDS0BPUvzhHgpMQF7g8glRVkxAGJSaWs2wTEAyzYLg+BtNQAv73X2+l01A5oQ2wcAiTkAArkD0JbpOQEII8GZuXE9A3zOG5xMFUEAMGfoEwGBQQBSxvU3SwlBA8n2vzYwqUUBTiryUOphRQMd5bfnEC1JAVqM+X+aEUkD2q42YHAVTQLDquzYeilNAytO68HAWVECMKKalmqlUQDxB7JvvQlVAUB4Ke3TiVUDFgmGW34dWQIj+B3UiM1dAcR1mWHXjV0BAr0gUWphYQLehi0BnT1lAkQVWFZEHWkCEuPMoe8BaQBAskJt5eFtA0mthgwMuXECScflg9N9cQMDWREmpjF1APJzCs9EzXkB6UIaX0tNeQOK1xCCfa19ATeoV73r5X0AFH2hDND5gQGUaSblzeWBAMXiP0JytYED/K1ZgkdVgQLQvnBCU+WBAo7ACkdUVYUA4Ev70SSlhQBd9AQDmM2FAAAQTm/41YUChSQL2Ey9hQIBaA8OsHmFAqSo3suQDYUAfw0J+gt1gQMIEcQTZq2BAALJPq3ZhYECu1FfYzgxgQNzdEhfDW19AgAHJiV2JXkBIFNIIbaJdQDEWLpTxplxAQAfdK+uWW0By597PWXJaQMe2M4A9OVlAQHXbPJbrV0DeItYFZIlWQJ2/I9umElVAgUvEvF6HU0CKxreqi+dRQLYw/qQtM1BABRQvV4nUTEDrpAd9oRlJQBgUhrujNUVAiGGqEpAoQUCGGukEzeQ5QIwuyRVOJjFAKP7pr0YrIECAPDdJM9P0vzBUoB9rBCbA5CPBuWMJNcA=\",\"dtype\":\"float64\",\"order\":\"little\",\"shape\":[100]}},\"selected\":{\"id\":\"5346\"},\"selection_policy\":{\"id\":\"5347\"}},\"id\":\"5118\",\"type\":\"ColumnDataSource\"},{\"attributes\":{\"line_color\":\"orange\",\"line_dash\":[6],\"x\":{\"field\":\"x\"},\"y\":{\"field\":\"y\"}},\"id\":\"5119\",\"type\":\"Line\"},{\"attributes\":{\"items\":[{\"id\":\"5129\"},{\"id\":\"5130\"},{\"id\":\"5131\"},{\"id\":\"5132\"},{\"id\":\"5133\"}],\"location\":[-98,195]},\"id\":\"5128\",\"type\":\"Legend\"},{\"attributes\":{\"source\":{\"id\":\"5118\"}},\"id\":\"5122\",\"type\":\"CDSView\"},{\"attributes\":{\"line_alpha\":0.1,\"line_color\":\"orange\",\"line_dash\":[6],\"x\":{\"field\":\"x\"},\"y\":{\"field\":\"y\"}},\"id\":\"5120\",\"type\":\"Line\"},{\"attributes\":{},\"id\":\"5343\",\"type\":\"UnionRenderers\"},{\"attributes\":{},\"id\":\"5340\",\"type\":\"Selection\"},{\"attributes\":{\"data\":{\"x\":{\"__ndarray__\":\"AAAAJ04Zd0IAAEDB+xh3QgAAgFupGHdCAADA9VYYd0IAAACQBBh3QgAAQCqyF3dCAACAxF8Xd0IAAMBeDRd3QgAAAPm6FndCAABAk2gWd0IAAIAtFhZ3QgAAwMfDFXdCAAAAYnEVd0IAAED8HhV3QgAAgJbMFHdCAADAMHoUd0IAAADLJxR3QgAAQGXVE3dCAACA/4ITd0IAAMCZMBN3QgAAADTeEndCAABAzosSd0IAAIBoORJ3QgAAwALnEXdCAAAAnZQRd0IAAEA3QhF3QgAAgNHvEHdCAADAa50Qd0IAAAAGSxB3QgAAQKD4D3dCAACAOqYPd0IAAMDUUw93QgAAAG8BD3dCAABACa8Od0IAAICjXA53QgAAwD0KDndCAAAA2LcNd0IAAEByZQ13Qg==\",\"dtype\":\"float64\",\"order\":\"little\",\"shape\":[38]},\"y\":{\"__ndarray__\":\"cR1mWHXjV0BAr0gUWphYQLehi0BnT1lAkQVWFZEHWkCEuPMoe8BaQBAskJt5eFtA0mthgwMuXECScflg9N9cQMDWREmpjF1APJzCs9EzXkB6UIaX0tNeQOK1xCCfa19ATeoV73r5X0AFH2hDND5gQGUaSblzeWBAMXiP0JytYED/K1ZgkdVgQLQvnBCU+WBAo7ACkdUVYUA4Ev70SSlhQBd9AQDmM2FAAAQTm/41YUChSQL2Ey9hQIBaA8OsHmFAqSo3suQDYUAfw0J+gt1gQMIEcQTZq2BAALJPq3ZhYECu1FfYzgxgQNzdEhfDW19AgAHJiV2JXkBIFNIIbaJdQDEWLpTxplxAQAfdK+uWW0By597PWXJaQMe2M4A9OVlAQHXbPJbrV0DeItYFZIlWQA==\",\"dtype\":\"float64\",\"order\":\"little\",\"shape\":[38]}},\"selected\":{\"id\":\"5348\"},\"selection_policy\":{\"id\":\"5349\"}},\"id\":\"5123\",\"type\":\"ColumnDataSource\"},{\"attributes\":{},\"id\":\"5341\",\"type\":\"UnionRenderers\"},{\"attributes\":{},\"id\":\"5052\",\"type\":\"LinearScale\"},{\"attributes\":{\"end\":800},\"id\":\"5050\",\"type\":\"Range1d\"},{\"attributes\":{\"line_color\":\"orange\",\"x\":{\"field\":\"x\"},\"y\":{\"field\":\"y\"}},\"id\":\"5124\",\"type\":\"Line\"},{\"attributes\":{\"source\":{\"id\":\"5123\"}},\"id\":\"5127\",\"type\":\"CDSView\"},{\"attributes\":{\"line_alpha\":0.1,\"line_color\":\"orange\",\"x\":{\"field\":\"x\"},\"y\":{\"field\":\"y\"}},\"id\":\"5125\",\"type\":\"Line\"},{\"attributes\":{\"label\":{\"value\":\"France\"},\"renderers\":[{\"id\":\"5086\"}]},\"id\":\"5129\",\"type\":\"LegendItem\"},{\"attributes\":{},\"id\":\"5342\",\"type\":\"Selection\"},{\"attributes\":{\"label\":{\"value\":\"Spain\"},\"renderers\":[{\"id\":\"5116\"}]},\"id\":\"5130\",\"type\":\"LegendItem\"},{\"attributes\":{},\"id\":\"5346\",\"type\":\"Selection\"},{\"attributes\":{\"label\":{\"value\":\"Italy\"},\"renderers\":[{\"id\":\"5096\"}]},\"id\":\"5131\",\"type\":\"LegendItem\"},{\"attributes\":{\"label\":{\"value\":\"Germany\"},\"renderers\":[{\"id\":\"5106\"}]},\"id\":\"5132\",\"type\":\"LegendItem\"},{\"attributes\":{\"label\":{\"value\":\"Iran\"},\"renderers\":[{\"id\":\"5126\"}]},\"id\":\"5133\",\"type\":\"LegendItem\"},{\"attributes\":{},\"id\":\"5344\",\"type\":\"Selection\"},{\"attributes\":{},\"id\":\"5345\",\"type\":\"UnionRenderers\"}],\"root_ids\":[\"5045\"]},\"title\":\"Bokeh Application\",\"version\":\"2.1.1\"}};\n",
       "  var render_items = [{\"docid\":\"e2d518a8-6a5f-470e-a50e-91b3bd51f670\",\"root_ids\":[\"5045\"],\"roots\":{\"5045\":\"bde8b35b-660a-4307-a923-f8b2cf8cac10\"}}];\n",
       "  root.Bokeh.embed.embed_items_notebook(docs_json, render_items);\n",
       "\n",
       "  }\n",
       "  if (root.Bokeh !== undefined) {\n",
       "    embed_document(root);\n",
       "  } else {\n",
       "    var attempts = 0;\n",
       "    var timer = setInterval(function(root) {\n",
       "      if (root.Bokeh !== undefined) {\n",
       "        clearInterval(timer);\n",
       "        embed_document(root);\n",
       "      } else {\n",
       "        attempts++;\n",
       "        if (attempts > 100) {\n",
       "          clearInterval(timer);\n",
       "          console.log(\"Bokeh: ERROR: Unable to run BokehJS code because BokehJS library is missing\");\n",
       "        }\n",
       "      }\n",
       "    }, 10, root)\n",
       "  }\n",
       "})(window);"
      ],
      "application/vnd.bokehjs_exec.v0+json": ""
     },
     "metadata": {
      "application/vnd.bokehjs_exec.v0+json": {
       "id": "5045"
      }
     },
     "output_type": "display_data"
    }
   ],
   "source": [
    "\n",
    "fig=figure(x_axis_type='datetime',title='Number of Covid-19 deaths over time - The lockdown period is highlighted',plot_height=400, plot_width=900,y_range=(0, 800))\n",
    "fig.yaxis.axis_label = 'number of deaths'\n",
    "fig.xaxis.axis_label = 'date'\n",
    "fig.line(fr_df.date ,fr_df.deaths,color = \"red\", line_dash='dashed')\n",
    "r0=fig.line(fr_df.loc[(fr_df['date']>=start_fr) & (fr_df['date']<=end_fr),:].date ,fr_df.loc[(fr_df['date']>=start_fr) & (fr_df['date']<=end_fr),:].deaths, color = \"red\",alpha=1)\n",
    "\n",
    "fig.line(it_df.date ,it_df.deaths,color = \"blue\", line_dash='dashed')\n",
    "r1=fig.line(it_df.loc[(it_df['date']>=start_it) & (it_df['date']<=end_it),:].date ,it_df.loc[(it_df['date']>=start_it) & (it_df['date']<=end_it),:].deaths, color = \"blue\",alpha=1)\n",
    "\n",
    "fig.line(gr_df.date ,gr_df.deaths,color = \"green\", line_dash='dashed')\n",
    "r2=fig.line(gr_df.loc[(gr_df['date']>=start_gr) & (gr_df['date']<=end_gr),:].date ,gr_df.loc[(gr_df['date']>=start_gr) & (gr_df['date']<=end_gr),:].deaths, color = \"green\",alpha=1)\n",
    "\n",
    "fig.line(sp_df.date ,sp_df.deaths,color = \"black\", line_dash='dashed')\n",
    "r3=fig.line(sp_df.loc[(sp_df['date']>=start_sp) & (sp_df['date']<=end_sp),:].date ,sp_df.loc[(sp_df['date']>=start_sp) & (sp_df['date']<=end_sp),:].deaths, color = \"black\",alpha=1)\n",
    "\n",
    "fig.line(ir_df.date ,ir_df.deaths,color = \"orange\", line_dash='dashed')\n",
    "r4=fig.line(ir_df.loc[(ir_df['date']>=start_ir) & (ir_df['date']<=end_ir),:].date ,ir_df.loc[(ir_df['date']>=start_ir) & (ir_df['date']<=end_ir),:].deaths, color = \"orange\",alpha=1)\n",
    "\n",
    "legend1 = Legend(items=[(\"France\" , [r0]),(\"Spain\" , [r3]),(\"Italy\" , [r1]),(\"Germany\" , [r2]),(\"Iran\" , [r4])],\n",
    "                 location=(-98,195))\n",
    "fig.add_layout(legend1, 'right' ) \n",
    "show(fig)"
   ]
  },
  {
   "cell_type": "markdown",
   "metadata": {},
   "source": [
    "### What is the best lockdown length?"
   ]
  },
  {
   "cell_type": "code",
   "execution_count": 27,
   "metadata": {},
   "outputs": [
    {
     "name": "stderr",
     "output_type": "stream",
     "text": [
      "BokehUserWarning: ColumnDataSource's columns must be of the same length. Current lengths: ('left', 7), ('top', 6)\n",
      "BokehUserWarning: ColumnDataSource's columns must be of the same length. Current lengths: ('left', 7), ('right', 6), ('top', 6)\n",
      "C:\\Users\\zst2019\\anaconda3\\lib\\site-packages\\bokeh\\models\\plots.py:764: UserWarning: \n",
      "You are attempting to set `plot.legend.location` on a plot that has zero legends added, this will have no effect.\n",
      "\n",
      "Before legend properties can be set, you must add a Legend explicitly, or call a glyph method with a legend parameter set.\n",
      "\n",
      "  warnings.warn(_LEGEND_EMPTY_WARNING % attr)\n",
      "C:\\Users\\zst2019\\anaconda3\\lib\\site-packages\\bokeh\\models\\plots.py:764: UserWarning: \n",
      "You are attempting to set `plot.legend.background_fill_color` on a plot that has zero legends added, this will have no effect.\n",
      "\n",
      "Before legend properties can be set, you must add a Legend explicitly, or call a glyph method with a legend parameter set.\n",
      "\n",
      "  warnings.warn(_LEGEND_EMPTY_WARNING % attr)\n"
     ]
    },
    {
     "data": {
      "text/html": [
       "\n",
       "\n",
       "\n",
       "\n",
       "\n",
       "\n",
       "  <div class=\"bk-root\" id=\"317a1de8-da27-46c4-996d-b9042c97e0a6\" data-root-id=\"1783\"></div>\n"
      ]
     },
     "metadata": {},
     "output_type": "display_data"
    },
    {
     "data": {
      "application/javascript": [
       "(function(root) {\n",
       "  function embed_document(root) {\n",
       "    \n",
       "  var docs_json = {\"157de034-0df8-4b24-90f3-d5f2d58e0901\":{\"roots\":{\"references\":[{\"attributes\":{\"children\":[[{\"id\":\"1750\"},0,0]]},\"id\":\"1783\",\"type\":\"GridBox\"},{\"attributes\":{},\"id\":\"1757\",\"type\":\"LinearScale\"},{\"attributes\":{\"bottom\":{\"value\":0},\"fill_color\":{\"value\":\"navy\"},\"left\":{\"field\":\"left\"},\"line_color\":{\"value\":\"#1f77b4\"},\"right\":{\"field\":\"right\"},\"top\":{\"field\":\"top\"}},\"id\":\"1771\",\"type\":\"Quad\"},{\"attributes\":{},\"id\":\"1781\",\"type\":\"UnionRenderers\"},{\"attributes\":{\"data_source\":{\"id\":\"1770\"},\"glyph\":{\"id\":\"1771\"},\"hover_glyph\":null,\"muted_glyph\":null,\"nonselection_glyph\":{\"id\":\"1772\"},\"selection_glyph\":null,\"view\":{\"id\":\"1774\"}},\"id\":\"1773\",\"type\":\"GlyphRenderer\"},{\"attributes\":{\"data\":{\"left\":{\"__ndarray__\":\"AAAAAAAA8D+rqqqqqio6QKuqqqqqqklAAAAAAAAgU0CrqqqqqmpZQFZVVVVVtV9AAAAAAAAAY0A=\",\"dtype\":\"float64\",\"order\":\"little\",\"shape\":[7]},\"right\":{\"__ndarray__\":\"q6qqqqoqOkCrqqqqqqpJQAAAAAAAIFNAq6qqqqpqWUBWVVVVVbVfQAAAAAAAAGNA\",\"dtype\":\"float64\",\"order\":\"little\",\"shape\":[6]},\"top\":[46,16,7,5,3,3]},\"selected\":{\"id\":\"1780\"},\"selection_policy\":{\"id\":\"1781\"}},\"id\":\"1770\",\"type\":\"ColumnDataSource\"},{\"attributes\":{\"axis_label\":\"x\",\"formatter\":{\"id\":\"1777\"},\"ticker\":{\"id\":\"1762\"}},\"id\":\"1761\",\"type\":\"LinearAxis\"},{\"attributes\":{\"start\":0},\"id\":\"1755\",\"type\":\"DataRange1d\"},{\"attributes\":{\"text\":\"title\"},\"id\":\"1751\",\"type\":\"Title\"},{\"attributes\":{},\"id\":\"1779\",\"type\":\"BasicTickFormatter\"},{\"attributes\":{\"background_fill_color\":\"#fafafa\",\"below\":[{\"id\":\"1761\"}],\"center\":[{\"id\":\"1764\"},{\"id\":\"1768\"}],\"left\":[{\"id\":\"1765\"}],\"plot_height\":400,\"plot_width\":800,\"renderers\":[{\"id\":\"1773\"}],\"title\":{\"id\":\"1751\"},\"toolbar\":{\"id\":\"1769\"},\"toolbar_location\":null,\"x_range\":{\"id\":\"1753\"},\"x_scale\":{\"id\":\"1757\"},\"y_range\":{\"id\":\"1755\"},\"y_scale\":{\"id\":\"1759\"}},\"id\":\"1750\",\"subtype\":\"Figure\",\"type\":\"Plot\"},{\"attributes\":{\"bottom\":{\"value\":0},\"fill_alpha\":{\"value\":0.1},\"fill_color\":{\"value\":\"navy\"},\"left\":{\"field\":\"left\"},\"line_alpha\":{\"value\":0.1},\"line_color\":{\"value\":\"#1f77b4\"},\"right\":{\"field\":\"right\"},\"top\":{\"field\":\"top\"}},\"id\":\"1772\",\"type\":\"Quad\"},{\"attributes\":{},\"id\":\"1766\",\"type\":\"BasicTicker\"},{\"attributes\":{},\"id\":\"1777\",\"type\":\"BasicTickFormatter\"},{\"attributes\":{\"axis\":{\"id\":\"1765\"},\"dimension\":1,\"grid_line_color\":\"white\",\"ticker\":null},\"id\":\"1768\",\"type\":\"Grid\"},{\"attributes\":{\"active_drag\":\"auto\",\"active_inspect\":\"auto\",\"active_multi\":null,\"active_scroll\":\"auto\",\"active_tap\":\"auto\"},\"id\":\"1769\",\"type\":\"Toolbar\"},{\"attributes\":{\"axis_label\":\"y\",\"formatter\":{\"id\":\"1779\"},\"ticker\":{\"id\":\"1766\"}},\"id\":\"1765\",\"type\":\"LinearAxis\"},{\"attributes\":{},\"id\":\"1759\",\"type\":\"LinearScale\"},{\"attributes\":{},\"id\":\"1762\",\"type\":\"BasicTicker\"},{\"attributes\":{\"axis\":{\"id\":\"1761\"},\"grid_line_color\":\"white\",\"ticker\":null},\"id\":\"1764\",\"type\":\"Grid\"},{\"attributes\":{},\"id\":\"1780\",\"type\":\"Selection\"},{\"attributes\":{\"start\":0},\"id\":\"1753\",\"type\":\"DataRange1d\"},{\"attributes\":{\"source\":{\"id\":\"1770\"}},\"id\":\"1774\",\"type\":\"CDSView\"}],\"root_ids\":[\"1783\"]},\"title\":\"Bokeh Application\",\"version\":\"2.1.1\"}};\n",
       "  var render_items = [{\"docid\":\"157de034-0df8-4b24-90f3-d5f2d58e0901\",\"root_ids\":[\"1783\"],\"roots\":{\"1783\":\"317a1de8-da27-46c4-996d-b9042c97e0a6\"}}];\n",
       "  root.Bokeh.embed.embed_items_notebook(docs_json, render_items);\n",
       "\n",
       "  }\n",
       "  if (root.Bokeh !== undefined) {\n",
       "    embed_document(root);\n",
       "  } else {\n",
       "    var attempts = 0;\n",
       "    var timer = setInterval(function(root) {\n",
       "      if (root.Bokeh !== undefined) {\n",
       "        clearInterval(timer);\n",
       "        embed_document(root);\n",
       "      } else {\n",
       "        attempts++;\n",
       "        if (attempts > 100) {\n",
       "          clearInterval(timer);\n",
       "          console.log(\"Bokeh: ERROR: Unable to run BokehJS code because BokehJS library is missing\");\n",
       "        }\n",
       "      }\n",
       "    }, 10, root)\n",
       "  }\n",
       "})(window);"
      ],
      "application/vnd.bokehjs_exec.v0+json": ""
     },
     "metadata": {
      "application/vnd.bokehjs_exec.v0+json": {
       "id": "1783"
      }
     },
     "output_type": "display_data"
    }
   ],
   "source": [
    "import numpy as np\n",
    "import scipy.special\n",
    "\n",
    "from bokeh.layouts import gridplot\n",
    "from bokeh.plotting import figure, output_file, show\n",
    "\n",
    "\n",
    "def make_plot(title, hist):\n",
    "    p = figure(title=title, tools='', background_fill_color=\"#fafafa\")\n",
    "    p.quad(top=hist, bottom=0, left=edges[:], right=edges[1:],\n",
    "           fill_color=\"navy\")\n",
    "#     p.line(x, pdf, line_color=\"#ff8888\", line_width=4, alpha=0.7, legend_label=\"PDF\")\n",
    "#     p.line(x, cdf, line_color=\"orange\", line_width=2, alpha=0.7, legend_label=\"CDF\")\n",
    "\n",
    "    p.y_range.start = 0\n",
    "    p.x_range.start = 0\n",
    "    p.legend.location = \"center_right\"\n",
    "    p.legend.background_fill_color = \"#fefefe\"\n",
    "    p.xaxis.axis_label = 'x'\n",
    "    p.yaxis.axis_label = 'y'\n",
    "    p.grid.grid_line_color=\"white\"\n",
    "    return p\n",
    "\n",
    "# Normal Distribution\n",
    "\n",
    "\n",
    "\n",
    "measured = ds.groupby(by=['Length_days']).count().index,ds.groupby(by=['Length_days']).count().Country\n",
    "hist, edges = np.histogram(measured, bins=6)\n",
    "\n",
    "\n",
    "\n",
    "p1 = make_plot(\"title\", hist)\n",
    "show(gridplot([p1], ncols=2, plot_width=800, plot_height=400, toolbar_location=None))"
   ]
  },
  {
   "cell_type": "markdown",
   "metadata": {},
   "source": [
    "As best lockdown period is suggested 50 days in this article:https://journals.plos.org/plosone/article?id=10.1371/journal.pone.0243413\n",
    "        we categorize the lockdown dataset based on lockdown Length(days) in 6 groups with a distace of 25 days to increase accuracy "
   ]
  },
  {
   "cell_type": "code",
   "execution_count": 28,
   "metadata": {},
   "outputs": [
    {
     "data": {
      "text/html": [
       "\n",
       "\n",
       "\n",
       "\n",
       "\n",
       "\n",
       "  <div class=\"bk-root\" id=\"36df7b0b-237d-4f61-a939-7f6e4eb43d96\" data-root-id=\"1910\"></div>\n"
      ]
     },
     "metadata": {},
     "output_type": "display_data"
    },
    {
     "data": {
      "application/javascript": [
       "(function(root) {\n",
       "  function embed_document(root) {\n",
       "    \n",
       "  var docs_json = {\"6933e178-5ef2-4638-aeeb-d21e1fa3c41c\":{\"roots\":{\"references\":[{\"attributes\":{\"below\":[{\"id\":\"1921\"}],\"center\":[{\"id\":\"1923\"},{\"id\":\"1927\"}],\"left\":[{\"id\":\"1924\"}],\"plot_height\":350,\"plot_width\":700,\"renderers\":[{\"id\":\"1945\"}],\"title\":{\"id\":\"1911\"},\"toolbar\":{\"id\":\"1935\"},\"x_range\":{\"id\":\"1913\"},\"x_scale\":{\"id\":\"1917\"},\"y_range\":{\"id\":\"1915\"},\"y_scale\":{\"id\":\"1919\"}},\"id\":\"1910\",\"subtype\":\"Figure\",\"type\":\"Plot\"},{\"attributes\":{},\"id\":\"1928\",\"type\":\"PanTool\"},{\"attributes\":{\"active_drag\":\"auto\",\"active_inspect\":\"auto\",\"active_multi\":null,\"active_scroll\":\"auto\",\"active_tap\":\"auto\",\"tools\":[{\"id\":\"1928\"},{\"id\":\"1929\"},{\"id\":\"1930\"},{\"id\":\"1931\"},{\"id\":\"1932\"},{\"id\":\"1933\"}]},\"id\":\"1935\",\"type\":\"Toolbar\"},{\"attributes\":{},\"id\":\"1933\",\"type\":\"HelpTool\"},{\"attributes\":{\"fill_alpha\":{\"value\":0.1},\"line_alpha\":{\"value\":0.1},\"line_color\":{\"value\":\"gray\"},\"top\":{\"field\":\"counts\"},\"width\":{\"value\":0.8},\"x\":{\"field\":\"lockdown_length\"}},\"id\":\"1944\",\"type\":\"VBar\"},{\"attributes\":{\"source\":{\"id\":\"1909\"}},\"id\":\"1946\",\"type\":\"CDSView\"},{\"attributes\":{\"data_source\":{\"id\":\"1909\"},\"glyph\":{\"id\":\"1943\"},\"hover_glyph\":null,\"muted_glyph\":null,\"nonselection_glyph\":{\"id\":\"1944\"},\"selection_glyph\":null,\"view\":{\"id\":\"1946\"}},\"id\":\"1945\",\"type\":\"GlyphRenderer\"},{\"attributes\":{\"factors\":[\"0 to 25 \",\"25 to 50 \",\"50 to 75 \",\"75 to 100 \",\"100 to 125 \",\"125 to 150 \"]},\"id\":\"1913\",\"type\":\"FactorRange\"},{\"attributes\":{},\"id\":\"1932\",\"type\":\"ResetTool\"},{\"attributes\":{},\"id\":\"2035\",\"type\":\"Selection\"},{\"attributes\":{},\"id\":\"2036\",\"type\":\"UnionRenderers\"},{\"attributes\":{\"data\":{\"color\":[\"#3288bd\",\"#99d594\",\"#e6f598\",\"#fee08b\",\"#fc8d59\",\"#d53e4f\"],\"counts\":[11,23,13,7,3,2],\"lockdown_length\":[\"0 to 25 \",\"25 to 50 \",\"50 to 75 \",\"75 to 100 \",\"100 to 125 \",\"125 to 150 \"]},\"selected\":{\"id\":\"2035\"},\"selection_policy\":{\"id\":\"2036\"}},\"id\":\"1909\",\"type\":\"ColumnDataSource\"},{\"attributes\":{\"bottom_units\":\"screen\",\"fill_alpha\":0.5,\"fill_color\":\"lightgrey\",\"left_units\":\"screen\",\"level\":\"overlay\",\"line_alpha\":1.0,\"line_color\":\"black\",\"line_dash\":[4,4],\"line_width\":2,\"right_units\":\"screen\",\"top_units\":\"screen\"},\"id\":\"1934\",\"type\":\"BoxAnnotation\"},{\"attributes\":{},\"id\":\"2032\",\"type\":\"CategoricalTickFormatter\"},{\"attributes\":{\"line_color\":{\"value\":\"gray\"},\"top\":{\"field\":\"counts\"},\"width\":{\"value\":0.8},\"x\":{\"field\":\"lockdown_length\"}},\"id\":\"1943\",\"type\":\"VBar\"},{\"attributes\":{},\"id\":\"1931\",\"type\":\"SaveTool\"},{\"attributes\":{},\"id\":\"1929\",\"type\":\"WheelZoomTool\"},{\"attributes\":{},\"id\":\"1922\",\"type\":\"CategoricalTicker\"},{\"attributes\":{},\"id\":\"2034\",\"type\":\"BasicTickFormatter\"},{\"attributes\":{\"text\":\"Number of countries based on lockdown length\"},\"id\":\"1911\",\"type\":\"Title\"},{\"attributes\":{},\"id\":\"1919\",\"type\":\"LinearScale\"},{\"attributes\":{\"axis_label\":\"count of countries\",\"formatter\":{\"id\":\"2034\"},\"ticker\":{\"id\":\"1925\"}},\"id\":\"1924\",\"type\":\"LinearAxis\"},{\"attributes\":{},\"id\":\"1917\",\"type\":\"CategoricalScale\"},{\"attributes\":{\"axis_label\":\"lockdown length (days)\",\"formatter\":{\"id\":\"2032\"},\"ticker\":{\"id\":\"1922\"}},\"id\":\"1921\",\"type\":\"CategoricalAxis\"},{\"attributes\":{\"end\":30},\"id\":\"1915\",\"type\":\"Range1d\"},{\"attributes\":{\"overlay\":{\"id\":\"1934\"}},\"id\":\"1930\",\"type\":\"BoxZoomTool\"},{\"attributes\":{\"axis\":{\"id\":\"1921\"},\"ticker\":null},\"id\":\"1923\",\"type\":\"Grid\"},{\"attributes\":{},\"id\":\"1925\",\"type\":\"BasicTicker\"},{\"attributes\":{\"axis\":{\"id\":\"1924\"},\"dimension\":1,\"ticker\":null},\"id\":\"1927\",\"type\":\"Grid\"}],\"root_ids\":[\"1910\"]},\"title\":\"Bokeh Application\",\"version\":\"2.1.1\"}};\n",
       "  var render_items = [{\"docid\":\"6933e178-5ef2-4638-aeeb-d21e1fa3c41c\",\"root_ids\":[\"1910\"],\"roots\":{\"1910\":\"36df7b0b-237d-4f61-a939-7f6e4eb43d96\"}}];\n",
       "  root.Bokeh.embed.embed_items_notebook(docs_json, render_items);\n",
       "\n",
       "  }\n",
       "  if (root.Bokeh !== undefined) {\n",
       "    embed_document(root);\n",
       "  } else {\n",
       "    var attempts = 0;\n",
       "    var timer = setInterval(function(root) {\n",
       "      if (root.Bokeh !== undefined) {\n",
       "        clearInterval(timer);\n",
       "        embed_document(root);\n",
       "      } else {\n",
       "        attempts++;\n",
       "        if (attempts > 100) {\n",
       "          clearInterval(timer);\n",
       "          console.log(\"Bokeh: ERROR: Unable to run BokehJS code because BokehJS library is missing\");\n",
       "        }\n",
       "      }\n",
       "    }, 10, root)\n",
       "  }\n",
       "})(window);"
      ],
      "application/vnd.bokehjs_exec.v0+json": ""
     },
     "metadata": {
      "application/vnd.bokehjs_exec.v0+json": {
       "id": "1910"
      }
     },
     "output_type": "display_data"
    }
   ],
   "source": [
    "from bokeh.models import ColumnDataSource\n",
    "from bokeh.palettes import Spectral6\n",
    "from bokeh.plotting import figure,output_file, show\n",
    "output_file(\"line.html\")\n",
    "\n",
    "lockdown_length= ['0 to 25 ', '25 to 50 ', '50 to 75 ', '75 to 100 ','100 to 125 ','125 to 150 ']\n",
    "counts =[ds.loc[(ds['Length_days']>0) & (ds['Length_days']<=25),'Country' ].count(), ds.loc[(ds['Length_days']>25) & (ds['Length_days']<=50),'Country' ].count(), ds.loc[(ds['Length_days']>50) & (ds['Length_days']<=75),'Country' ].count(), ds.loc[(ds['Length_days']>75) & (ds['Length_days']<=100),'Country' ].count(), ds.loc[(ds['Length_days']>100) & (ds['Length_days']<=125),'Country' ].count(), ds.loc[(ds['Length_days']>125) & (ds['Length_days']<=150),'Country' ].count()]\n",
    "\n",
    "source = ColumnDataSource(data=dict(lockdown_length=lockdown_length, counts=counts, color=Spectral6))\n",
    "\n",
    "fig = figure(x_range=lockdown_length ,plot_height=350, plot_width=700,y_range=(0, 30), title=\"Number of countries based on lockdown length\")\n",
    "\n",
    "fig.vbar(x='lockdown_length', top='counts', width=0.8, color='gray', source=source)\n",
    "\n",
    "\n",
    "fig.yaxis.axis_label = 'count of countries'\n",
    "fig.xaxis.axis_label = 'lockdown length (days)'\n",
    "show(fig)"
   ]
  },
  {
   "cell_type": "markdown",
   "metadata": {},
   "source": [
    "as it's shown in the bar chart, majority of countries apply 25 to 50 days lockdown."
   ]
  },
  {
   "cell_type": "markdown",
   "metadata": {},
   "source": [
    "### How can we measure their effectiveness?"
   ]
  },
  {
   "cell_type": "markdown",
   "metadata": {},
   "source": [
    "assume the limited part of the date which the first country started its lockdown and the last country ended. This period has no overlap with the second lockdown."
   ]
  },
  {
   "cell_type": "code",
   "execution_count": 29,
   "metadata": {},
   "outputs": [],
   "source": [
    "min_start=min(ds.start)\n",
    "max_end=max(ds.end)"
   ]
  },
  {
   "cell_type": "code",
   "execution_count": 30,
   "metadata": {},
   "outputs": [
    {
     "data": {
      "text/plain": [
       "Timestamp('2020-03-09 00:00:00')"
      ]
     },
     "execution_count": 30,
     "metadata": {},
     "output_type": "execute_result"
    }
   ],
   "source": [
    "min_start"
   ]
  },
  {
   "cell_type": "code",
   "execution_count": 31,
   "metadata": {},
   "outputs": [
    {
     "data": {
      "text/plain": [
       "Timestamp('2020-09-01 00:00:00')"
      ]
     },
     "execution_count": 31,
     "metadata": {},
     "output_type": "execute_result"
    }
   ],
   "source": [
    "max_end"
   ]
  },
  {
   "cell_type": "code",
   "execution_count": 32,
   "metadata": {},
   "outputs": [],
   "source": [
    "df_sum=covid_data.loc[(covid_data['date']>=min_start) & (covid_data['date']<=max_end)].groupby(by=['country']).sum().reset_index()"
   ]
  },
  {
   "cell_type": "markdown",
   "metadata": {},
   "source": [
    "calculate the ratio of the total number of cases to the population of each country during this period.\n"
   ]
  },
  {
   "cell_type": "code",
   "execution_count": 33,
   "metadata": {},
   "outputs": [],
   "source": [
    "sumCases=dict()\n",
    "for country in ds.Country:\n",
    "    if (len(df_sum.loc[(df_sum['country']==country)].cases.values)!=0):\n",
    "            sumCases[country]=df_sum.loc[(df_sum['country']==country)].cases.values[0]"
   ]
  },
  {
   "cell_type": "code",
   "execution_count": 34,
   "metadata": {},
   "outputs": [],
   "source": [
    "for country in sumCases.keys():\n",
    "    ds.loc[(ds['Country']==country),'sum_cases']=(sumCases[country])"
   ]
  },
  {
   "cell_type": "markdown",
   "metadata": {},
   "source": [
    "calculate an average ratio of the total number of cases to the population of countries  by grouping on lockdown length"
   ]
  },
  {
   "cell_type": "code",
   "execution_count": 35,
   "metadata": {},
   "outputs": [],
   "source": [
    "sum_cases0_25=(((ds.loc[(ds['Length_days']>0) & (ds['Length_days']<=25),: ].sum_cases)/(ds.loc[(ds['Length_days']>0) & (ds['Length_days']<=25),: ].population))*100).mean()\n",
    "sum_cases25_50=(((ds.loc[(ds['Length_days']>25) & (ds['Length_days']<=50),: ].sum_cases)/(ds.loc[(ds['Length_days']>25) & (ds['Length_days']<=50),: ].population))*100).mean()\n",
    "sum_cases50_75=(((ds.loc[(ds['Length_days']>50) & (ds['Length_days']<=75),: ].sum_cases)/(ds.loc[(ds['Length_days']>50) & (ds['Length_days']<=75),: ].population))*100).mean()\n",
    "sum_cases75_100=(((ds.loc[(ds['Length_days']>75) & (ds['Length_days']<=100),: ].sum_cases)/(ds.loc[(ds['Length_days']>75) & (ds['Length_days']<=100),: ].population))*100).mean()\n",
    "sum_cases100_125=(((ds.loc[(ds['Length_days']>100) & (ds['Length_days']<=125),: ].sum_cases)/(ds.loc[(ds['Length_days']>100) & (ds['Length_days']<=125),: ].population))*100).mean()\n",
    "sum_cases125_150=(((ds.loc[(ds['Length_days']>125) & (ds['Length_days']<=150),: ].sum_cases)/(ds.loc[(ds['Length_days']>125) & (ds['Length_days']<=150),: ].population))*100).mean()\n"
   ]
  },
  {
   "cell_type": "markdown",
   "metadata": {},
   "source": [
    "calculate the ratio of the total number of deaths to the population of each country during this period."
   ]
  },
  {
   "cell_type": "code",
   "execution_count": 36,
   "metadata": {},
   "outputs": [],
   "source": [
    "sumDeaths=dict()\n",
    "for country in ds.Country:\n",
    "    if (len(df_sum.loc[(df_sum['country']==country)].deaths.values)!=0):\n",
    "            sumDeaths[country]=df_sum.loc[(df_sum['country']==country)].deaths.values[0]"
   ]
  },
  {
   "cell_type": "code",
   "execution_count": 37,
   "metadata": {},
   "outputs": [],
   "source": [
    "for country in sumDeaths.keys():\n",
    "    ds.loc[(ds['Country']==country),'sum_deaths']=(sumDeaths[country])"
   ]
  },
  {
   "cell_type": "markdown",
   "metadata": {},
   "source": [
    "calculate an average ratio of the total number of deaths to the population of countries  by grouping on lockdown length"
   ]
  },
  {
   "cell_type": "code",
   "execution_count": 38,
   "metadata": {},
   "outputs": [],
   "source": [
    "sum_deaths0_25=(((ds.loc[(ds['Length_days']>0) & (ds['Length_days']<=25),: ].sum_deaths)/(ds.loc[(ds['Length_days']>0) & (ds['Length_days']<=25),: ].population))*100).mean()\n",
    "sum_deaths25_50=(((ds.loc[(ds['Length_days']>25) & (ds['Length_days']<=50),: ].sum_deaths)/(ds.loc[(ds['Length_days']>25) & (ds['Length_days']<=50),: ].population))*100).mean()\n",
    "sum_deaths50_75=(((ds.loc[(ds['Length_days']>50) & (ds['Length_days']<=75),: ].sum_deaths)/(ds.loc[(ds['Length_days']>50) & (ds['Length_days']<=75),: ].population))*100).mean()\n",
    "sum_deaths75_100=(((ds.loc[(ds['Length_days']>75) & (ds['Length_days']<=100),: ].sum_deaths)/(ds.loc[(ds['Length_days']>75) & (ds['Length_days']<=100),: ].population))*100).mean()\n",
    "sum_deaths100_125=(((ds.loc[(ds['Length_days']>100) & (ds['Length_days']<=125),: ].sum_deaths)/(ds.loc[(ds['Length_days']>100) & (ds['Length_days']<=125),: ].population))*100).mean()\n",
    "sum_deaths125_150=(((ds.loc[(ds['Length_days']>125) & (ds['Length_days']<=150),: ].sum_deaths)/(ds.loc[(ds['Length_days']>125) & (ds['Length_days']<=150),: ].population))*100).mean()\n"
   ]
  },
  {
   "cell_type": "code",
   "execution_count": 40,
   "metadata": {},
   "outputs": [
    {
     "data": {
      "text/html": [
       "\n",
       "\n",
       "\n",
       "\n",
       "\n",
       "\n",
       "  <div class=\"bk-root\" id=\"fc65bacd-d670-42ad-abfa-6943755a28fa\" data-root-id=\"2192\"></div>\n"
      ]
     },
     "metadata": {},
     "output_type": "display_data"
    },
    {
     "data": {
      "application/javascript": [
       "(function(root) {\n",
       "  function embed_document(root) {\n",
       "    \n",
       "  var docs_json = {\"9ee1cfff-9326-4440-8dae-31228af45b78\":{\"roots\":{\"references\":[{\"attributes\":{\"below\":[{\"id\":\"2203\"}],\"center\":[{\"id\":\"2205\"},{\"id\":\"2209\"},{\"id\":\"2240\"}],\"left\":[{\"id\":\"2206\"}],\"plot_height\":350,\"plot_width\":800,\"renderers\":[{\"id\":\"2230\"},{\"id\":\"2246\"}],\"title\":{\"id\":\"2193\"},\"toolbar\":{\"id\":\"2218\"},\"x_range\":{\"id\":\"2195\"},\"x_scale\":{\"id\":\"2199\"},\"y_range\":{\"id\":\"2197\"},\"y_scale\":{\"id\":\"2201\"}},\"id\":\"2192\",\"subtype\":\"Figure\",\"type\":\"Plot\"},{\"attributes\":{\"axis\":{\"id\":\"2203\"},\"grid_line_color\":null,\"ticker\":null},\"id\":\"2205\",\"type\":\"Grid\"},{\"attributes\":{\"range\":{\"id\":\"2195\"},\"value\":0.2},\"id\":\"2242\",\"type\":\"Dodge\"},{\"attributes\":{},\"id\":\"2201\",\"type\":\"LinearScale\"},{\"attributes\":{},\"id\":\"2204\",\"type\":\"CategoricalTicker\"},{\"attributes\":{},\"id\":\"2237\",\"type\":\"Selection\"},{\"attributes\":{\"fill_color\":{\"value\":\"#e84d60\"},\"line_color\":{\"value\":\"#e84d60\"},\"top\":{\"field\":\"deaths\"},\"width\":{\"value\":0.4},\"x\":{\"field\":\"labels\",\"transform\":{\"id\":\"2242\"}}},\"id\":\"2244\",\"type\":\"VBar\"},{\"attributes\":{\"axis_label\":\"lockdown length(days)\",\"formatter\":{\"id\":\"2234\"},\"ticker\":{\"id\":\"2204\"}},\"id\":\"2203\",\"type\":\"CategoricalAxis\"},{\"attributes\":{},\"id\":\"2236\",\"type\":\"BasicTickFormatter\"},{\"attributes\":{},\"id\":\"2215\",\"type\":\"HelpTool\"},{\"attributes\":{\"fill_alpha\":{\"value\":0.1},\"fill_color\":{\"value\":\"#e84d60\"},\"line_alpha\":{\"value\":0.1},\"line_color\":{\"value\":\"#e84d60\"},\"top\":{\"field\":\"deaths\"},\"width\":{\"value\":0.4},\"x\":{\"field\":\"labels\",\"transform\":{\"id\":\"2242\"}}},\"id\":\"2245\",\"type\":\"VBar\"},{\"attributes\":{\"text\":\"Average ratio of total deaths/cases to the population in countries, grouped by lockdown length\"},\"id\":\"2193\",\"type\":\"Title\"},{\"attributes\":{\"axis\":{\"id\":\"2206\"},\"dimension\":1,\"ticker\":null},\"id\":\"2209\",\"type\":\"Grid\"},{\"attributes\":{\"data\":{\"cases\":[0.38491172553765496,0.3026968182910144,0.6165551878707913,0.35061342206672824,0.8690740824933121,0.5139484190327559],\"deaths\":[0.008700173306387496,0.01165086474948886,0.02732213624473201,0.011942194685107944,0.0498989734160413,0.021532543095712346],\"labels\":[\"0 to 25\",\"25 to 50\",\"50 to 75\",\"75 to 100 \",\"100 to 125\",\"125 to 150\"]},\"selected\":{\"id\":\"2237\"},\"selection_policy\":{\"id\":\"2238\"}},\"id\":\"2191\",\"type\":\"ColumnDataSource\"},{\"attributes\":{\"source\":{\"id\":\"2191\"}},\"id\":\"2247\",\"type\":\"CDSView\"},{\"attributes\":{\"axis_label\":\" value (percentage) \",\"formatter\":{\"id\":\"2236\"},\"ticker\":{\"id\":\"2207\"}},\"id\":\"2206\",\"type\":\"LinearAxis\"},{\"attributes\":{\"range\":{\"id\":\"2195\"},\"value\":-0.2},\"id\":\"2226\",\"type\":\"Dodge\"},{\"attributes\":{},\"id\":\"2207\",\"type\":\"BasicTicker\"},{\"attributes\":{\"data_source\":{\"id\":\"2191\"},\"glyph\":{\"id\":\"2228\"},\"hover_glyph\":null,\"muted_glyph\":null,\"nonselection_glyph\":{\"id\":\"2229\"},\"selection_glyph\":null,\"view\":{\"id\":\"2231\"}},\"id\":\"2230\",\"type\":\"GlyphRenderer\"},{\"attributes\":{},\"id\":\"2238\",\"type\":\"UnionRenderers\"},{\"attributes\":{\"callback\":null,\"tooltips\":\" @labels: $%.3f $y\"},\"id\":\"2217\",\"type\":\"HoverTool\"},{\"attributes\":{},\"id\":\"2211\",\"type\":\"WheelZoomTool\"},{\"attributes\":{\"label\":{\"value\":\"deaths\"},\"renderers\":[{\"id\":\"2246\"}]},\"id\":\"2256\",\"type\":\"LegendItem\"},{\"attributes\":{},\"id\":\"2197\",\"type\":\"Range1d\"},{\"attributes\":{},\"id\":\"2234\",\"type\":\"CategoricalTickFormatter\"},{\"attributes\":{\"source\":{\"id\":\"2191\"}},\"id\":\"2231\",\"type\":\"CDSView\"},{\"attributes\":{\"fill_alpha\":{\"value\":0.1},\"fill_color\":{\"value\":\"#718dbf\"},\"line_alpha\":{\"value\":0.1},\"line_color\":{\"value\":\"#718dbf\"},\"top\":{\"field\":\"cases\"},\"width\":{\"value\":0.4},\"x\":{\"field\":\"labels\",\"transform\":{\"id\":\"2226\"}}},\"id\":\"2229\",\"type\":\"VBar\"},{\"attributes\":{\"bottom_units\":\"screen\",\"fill_alpha\":0.5,\"fill_color\":\"lightgrey\",\"left_units\":\"screen\",\"level\":\"overlay\",\"line_alpha\":1.0,\"line_color\":\"black\",\"line_dash\":[4,4],\"line_width\":2,\"right_units\":\"screen\",\"top_units\":\"screen\"},\"id\":\"2216\",\"type\":\"BoxAnnotation\"},{\"attributes\":{\"fill_color\":{\"value\":\"#718dbf\"},\"line_color\":{\"value\":\"#718dbf\"},\"top\":{\"field\":\"cases\"},\"width\":{\"value\":0.4},\"x\":{\"field\":\"labels\",\"transform\":{\"id\":\"2226\"}}},\"id\":\"2228\",\"type\":\"VBar\"},{\"attributes\":{},\"id\":\"2213\",\"type\":\"SaveTool\"},{\"attributes\":{},\"id\":\"2210\",\"type\":\"PanTool\"},{\"attributes\":{},\"id\":\"2199\",\"type\":\"CategoricalScale\"},{\"attributes\":{\"factors\":[\"0 to 25\",\"25 to 50\",\"50 to 75\",\"75 to 100 \",\"100 to 125\",\"125 to 150\"],\"range_padding\":0.15},\"id\":\"2195\",\"type\":\"FactorRange\"},{\"attributes\":{\"label\":{\"value\":\"cases\"},\"renderers\":[{\"id\":\"2230\"}]},\"id\":\"2241\",\"type\":\"LegendItem\"},{\"attributes\":{\"active_drag\":\"auto\",\"active_inspect\":\"auto\",\"active_multi\":null,\"active_scroll\":\"auto\",\"active_tap\":\"auto\",\"tools\":[{\"id\":\"2210\"},{\"id\":\"2211\"},{\"id\":\"2212\"},{\"id\":\"2213\"},{\"id\":\"2214\"},{\"id\":\"2215\"},{\"id\":\"2217\"}]},\"id\":\"2218\",\"type\":\"Toolbar\"},{\"attributes\":{\"data_source\":{\"id\":\"2191\"},\"glyph\":{\"id\":\"2244\"},\"hover_glyph\":null,\"muted_glyph\":null,\"nonselection_glyph\":{\"id\":\"2245\"},\"selection_glyph\":null,\"view\":{\"id\":\"2247\"}},\"id\":\"2246\",\"type\":\"GlyphRenderer\"},{\"attributes\":{},\"id\":\"2214\",\"type\":\"ResetTool\"},{\"attributes\":{\"items\":[{\"id\":\"2241\"},{\"id\":\"2256\"}]},\"id\":\"2240\",\"type\":\"Legend\"},{\"attributes\":{\"overlay\":{\"id\":\"2216\"}},\"id\":\"2212\",\"type\":\"BoxZoomTool\"}],\"root_ids\":[\"2192\"]},\"title\":\"Bokeh Application\",\"version\":\"2.1.1\"}};\n",
       "  var render_items = [{\"docid\":\"9ee1cfff-9326-4440-8dae-31228af45b78\",\"root_ids\":[\"2192\"],\"roots\":{\"2192\":\"fc65bacd-d670-42ad-abfa-6943755a28fa\"}}];\n",
       "  root.Bokeh.embed.embed_items_notebook(docs_json, render_items);\n",
       "\n",
       "  }\n",
       "  if (root.Bokeh !== undefined) {\n",
       "    embed_document(root);\n",
       "  } else {\n",
       "    var attempts = 0;\n",
       "    var timer = setInterval(function(root) {\n",
       "      if (root.Bokeh !== undefined) {\n",
       "        clearInterval(timer);\n",
       "        embed_document(root);\n",
       "      } else {\n",
       "        attempts++;\n",
       "        if (attempts > 100) {\n",
       "          clearInterval(timer);\n",
       "          console.log(\"Bokeh: ERROR: Unable to run BokehJS code because BokehJS library is missing\");\n",
       "        }\n",
       "      }\n",
       "    }, 10, root)\n",
       "  }\n",
       "})(window);"
      ],
      "application/vnd.bokehjs_exec.v0+json": ""
     },
     "metadata": {
      "application/vnd.bokehjs_exec.v0+json": {
       "id": "2192"
      }
     },
     "output_type": "display_data"
    }
   ],
   "source": [
    "from bokeh.io import output_file, show\n",
    "from bokeh.models import ColumnDataSource\n",
    "from bokeh.plotting import figure\n",
    "from bokeh.transform import dodge\n",
    "\n",
    "np.set_printoptions(precision=2)\n",
    "labels = ['0 to 25','25 to 50','50 to 75','75 to 100 ','100 to 125','125 to 150']\n",
    "\n",
    "catgories = ['cases', 'deaths']\n",
    "\n",
    "data = {'labels' : labels,\n",
    "        'cases'   : [sum_cases0_25, sum_cases25_50, sum_cases50_75, sum_cases75_100, sum_cases100_125,sum_cases125_150],\n",
    "        'deaths'   : [sum_deaths0_25, sum_deaths25_50, sum_deaths50_75, sum_deaths75_100, sum_deaths100_125,sum_deaths125_150]\n",
    "       }\n",
    "\n",
    "\n",
    "x = [ (label, category) for label in labels for category in catgories ]\n",
    "source = ColumnDataSource(data=data)\n",
    "p = figure(x_range=labels,plot_height=350, plot_width=800,y_range=(0, 1), title=\"Average ratio of total deaths/cases to the population in countries, grouped by lockdown length\",\n",
    "       tooltips=\" @labels: $%.3f $y\")\n",
    "p.yaxis.axis_label = ' value (percentage) '\n",
    "p.xaxis.axis_label = 'lockdown length(days)'\n",
    "\n",
    "p.vbar(x=dodge('labels',  -0.2,  range=p.x_range), top='cases', width=0.4, source=source,\n",
    "       color=\"#718dbf\", legend_label=\"cases\")\n",
    "\n",
    "p.vbar(x=dodge('labels',  0.2, range=p.x_range), top='deaths', width=0.4, source=source,\n",
    "       color=\"#e84d60\", legend_label=\"deaths\")\n",
    "\n",
    "p.y_range.start = 0\n",
    "p.x_range.range_padding = 0.15\n",
    "\n",
    "p.xgrid.grid_line_color = None\n",
    "\n",
    "p.legend.location = \"top_right\"\n",
    "\n",
    "# autolabel(data['deaths'].values().astype(float32))\n",
    "show(p)"
   ]
  },
  {
   "cell_type": "markdown",
   "metadata": {},
   "source": [
    "### Has lockdown length related to start and end time?"
   ]
  },
  {
   "cell_type": "code",
   "execution_count": 41,
   "metadata": {},
   "outputs": [
    {
     "data": {
      "text/plain": [
       "[0.008700173306387496,\n",
       " 0.01165086474948886,\n",
       " 0.02732213624473201,\n",
       " 0.011942194685107944,\n",
       " 0.0498989734160413,\n",
       " 0.021532543095712346]"
      ]
     },
     "execution_count": 41,
     "metadata": {},
     "output_type": "execute_result"
    }
   ],
   "source": [
    "data['deaths']"
   ]
  },
  {
   "cell_type": "markdown",
   "metadata": {},
   "source": [
    "Calculate first peak of cases date befor 2020-05-1."
   ]
  },
  {
   "cell_type": "code",
   "execution_count": 42,
   "metadata": {},
   "outputs": [],
   "source": [
    "df_peak=covid_data.loc[(covid_data['date']<='2020-05-1')]"
   ]
  },
  {
   "cell_type": "code",
   "execution_count": 43,
   "metadata": {},
   "outputs": [],
   "source": [
    "peak_dict=dict()\n",
    "for country in ds.Country:\n",
    "    df=df_peak.loc[(df_peak['country']==country)]\n",
    "    peak_dict[country]=df.loc[(df['cases']==max(df.cases))].date.values[0]"
   ]
  },
  {
   "cell_type": "code",
   "execution_count": 44,
   "metadata": {},
   "outputs": [],
   "source": [
    "for country in peak_dict.keys():\n",
    "    ds.loc[(ds['Country']==country),'peak_cases_date']=(peak_dict[country])"
   ]
  },
  {
   "cell_type": "markdown",
   "metadata": {},
   "source": [
    "number of countries ended lockdown befor their peak:"
   ]
  },
  {
   "cell_type": "code",
   "execution_count": 45,
   "metadata": {},
   "outputs": [
    {
     "data": {
      "text/plain": [
       "5"
      ]
     },
     "execution_count": 45,
     "metadata": {},
     "output_type": "execute_result"
    }
   ],
   "source": [
    "len(ds.loc[(ds['end']<ds['peak_cases_date'])])"
   ]
  },
  {
   "cell_type": "markdown",
   "metadata": {},
   "source": [
    "number of countries ended lockdown after their peak:"
   ]
  },
  {
   "cell_type": "code",
   "execution_count": 46,
   "metadata": {},
   "outputs": [
    {
     "data": {
      "text/plain": [
       "54"
      ]
     },
     "execution_count": 46,
     "metadata": {},
     "output_type": "execute_result"
    }
   ],
   "source": [
    "len(ds.loc[(ds['end']>ds['peak_cases_date'])])"
   ]
  },
  {
   "cell_type": "code",
   "execution_count": 47,
   "metadata": {},
   "outputs": [
    {
     "data": {
      "text/plain": [
       "3"
      ]
     },
     "execution_count": 47,
     "metadata": {},
     "output_type": "execute_result"
    }
   ],
   "source": [
    "len(ds.loc[(ds['start']>ds['peak_cases_date'])])"
   ]
  },
  {
   "cell_type": "code",
   "execution_count": 48,
   "metadata": {},
   "outputs": [
    {
     "data": {
      "text/html": [
       "\n",
       "\n",
       "\n",
       "\n",
       "\n",
       "\n",
       "  <div class=\"bk-root\" id=\"a64f2adc-be0a-4cd7-acee-b48fde1cce09\" data-root-id=\"2510\"></div>\n"
      ]
     },
     "metadata": {},
     "output_type": "display_data"
    },
    {
     "data": {
      "application/javascript": [
       "(function(root) {\n",
       "  function embed_document(root) {\n",
       "    \n",
       "  var docs_json = {\"8dbb8b67-bdf0-4032-be02-92e020f9edda\":{\"roots\":{\"references\":[{\"attributes\":{\"below\":[{\"id\":\"2521\"}],\"center\":[{\"id\":\"2523\"},{\"id\":\"2527\"},{\"id\":\"2556\"}],\"left\":[{\"id\":\"2524\"}],\"plot_height\":350,\"plot_width\":500,\"renderers\":[{\"id\":\"2546\"},{\"id\":\"2562\"}],\"title\":{\"id\":\"2511\"},\"toolbar\":{\"id\":\"2535\"},\"toolbar_location\":null,\"x_range\":{\"id\":\"2513\"},\"x_scale\":{\"id\":\"2517\"},\"y_range\":{\"id\":\"2515\"},\"y_scale\":{\"id\":\"2519\"}},\"id\":\"2510\",\"subtype\":\"Figure\",\"type\":\"Plot\"},{\"attributes\":{\"range\":{\"id\":\"2513\"},\"value\":0.2},\"id\":\"2558\",\"type\":\"Dodge\"},{\"attributes\":{\"axis_label\":\"count of countries \",\"formatter\":{\"id\":\"2552\"},\"ticker\":{\"id\":\"2525\"}},\"id\":\"2524\",\"type\":\"LinearAxis\"},{\"attributes\":{\"source\":{\"id\":\"2509\"}},\"id\":\"2563\",\"type\":\"CDSView\"},{\"attributes\":{},\"id\":\"2528\",\"type\":\"PanTool\"},{\"attributes\":{\"axis\":{\"id\":\"2521\"},\"grid_line_color\":null,\"ticker\":null},\"id\":\"2523\",\"type\":\"Grid\"},{\"attributes\":{\"axis_label\":\"category\",\"formatter\":{\"id\":\"2550\"},\"ticker\":{\"id\":\"2522\"}},\"id\":\"2521\",\"type\":\"CategoricalAxis\"},{\"attributes\":{},\"id\":\"2525\",\"type\":\"BasicTicker\"},{\"attributes\":{\"fill_alpha\":{\"value\":0.1},\"fill_color\":{\"value\":\"#B0C4DE\"},\"line_alpha\":{\"value\":0.1},\"line_color\":{\"value\":\"#B0C4DE\"},\"top\":{\"field\":\"end\"},\"width\":{\"value\":0.4},\"x\":{\"field\":\"labels\",\"transform\":{\"id\":\"2558\"}}},\"id\":\"2561\",\"type\":\"VBar\"},{\"attributes\":{\"axis\":{\"id\":\"2524\"},\"dimension\":1,\"ticker\":null},\"id\":\"2527\",\"type\":\"Grid\"},{\"attributes\":{\"end\":60},\"id\":\"2515\",\"type\":\"Range1d\"},{\"attributes\":{\"factors\":[\" before\",\"after\"],\"range_padding\":0.1},\"id\":\"2513\",\"type\":\"FactorRange\"},{\"attributes\":{\"label\":{\"value\":\"end\"},\"renderers\":[{\"id\":\"2562\"}]},\"id\":\"2572\",\"type\":\"LegendItem\"},{\"attributes\":{\"fill_alpha\":{\"value\":0.9},\"fill_color\":{\"value\":\"#B0C4DE\"},\"line_alpha\":{\"value\":0.9},\"line_color\":{\"value\":\"#B0C4DE\"},\"top\":{\"field\":\"end\"},\"width\":{\"value\":0.4},\"x\":{\"field\":\"labels\",\"transform\":{\"id\":\"2558\"}}},\"id\":\"2560\",\"type\":\"VBar\"},{\"attributes\":{\"data_source\":{\"id\":\"2509\"},\"glyph\":{\"id\":\"2560\"},\"hover_glyph\":null,\"muted_glyph\":null,\"nonselection_glyph\":{\"id\":\"2561\"},\"selection_glyph\":null,\"view\":{\"id\":\"2563\"}},\"id\":\"2562\",\"type\":\"GlyphRenderer\"},{\"attributes\":{},\"id\":\"2517\",\"type\":\"CategoricalScale\"},{\"attributes\":{},\"id\":\"2529\",\"type\":\"WheelZoomTool\"},{\"attributes\":{},\"id\":\"2533\",\"type\":\"HelpTool\"},{\"attributes\":{\"active_drag\":\"auto\",\"active_inspect\":\"auto\",\"active_multi\":null,\"active_scroll\":\"auto\",\"active_tap\":\"auto\",\"tools\":[{\"id\":\"2528\"},{\"id\":\"2529\"},{\"id\":\"2530\"},{\"id\":\"2531\"},{\"id\":\"2532\"},{\"id\":\"2533\"}]},\"id\":\"2535\",\"type\":\"Toolbar\"},{\"attributes\":{\"overlay\":{\"id\":\"2534\"}},\"id\":\"2530\",\"type\":\"BoxZoomTool\"},{\"attributes\":{\"data\":{\"end\":[5,54],\"labels\":[\" before\",\"after\"],\"start\":[56,3]},\"selected\":{\"id\":\"2553\"},\"selection_policy\":{\"id\":\"2554\"}},\"id\":\"2509\",\"type\":\"ColumnDataSource\"},{\"attributes\":{},\"id\":\"2531\",\"type\":\"SaveTool\"},{\"attributes\":{},\"id\":\"2532\",\"type\":\"ResetTool\"},{\"attributes\":{\"source\":{\"id\":\"2509\"}},\"id\":\"2547\",\"type\":\"CDSView\"},{\"attributes\":{\"fill_alpha\":{\"value\":0.1},\"fill_color\":{\"value\":\"red\"},\"line_alpha\":{\"value\":0.1},\"line_color\":{\"value\":\"red\"},\"top\":{\"field\":\"start\"},\"width\":{\"value\":0.4},\"x\":{\"field\":\"labels\",\"transform\":{\"id\":\"2542\"}}},\"id\":\"2545\",\"type\":\"VBar\"},{\"attributes\":{},\"id\":\"2519\",\"type\":\"LinearScale\"},{\"attributes\":{\"fill_alpha\":{\"value\":0.9},\"fill_color\":{\"value\":\"red\"},\"line_alpha\":{\"value\":0.9},\"line_color\":{\"value\":\"red\"},\"top\":{\"field\":\"start\"},\"width\":{\"value\":0.4},\"x\":{\"field\":\"labels\",\"transform\":{\"id\":\"2542\"}}},\"id\":\"2544\",\"type\":\"VBar\"},{\"attributes\":{\"items\":[{\"id\":\"2557\"},{\"id\":\"2572\"}],\"location\":\"top_center\"},\"id\":\"2556\",\"type\":\"Legend\"},{\"attributes\":{\"label\":{\"value\":\"start\"},\"renderers\":[{\"id\":\"2546\"}]},\"id\":\"2557\",\"type\":\"LegendItem\"},{\"attributes\":{},\"id\":\"2522\",\"type\":\"CategoricalTicker\"},{\"attributes\":{\"data_source\":{\"id\":\"2509\"},\"glyph\":{\"id\":\"2544\"},\"hover_glyph\":null,\"muted_glyph\":null,\"nonselection_glyph\":{\"id\":\"2545\"},\"selection_glyph\":null,\"view\":{\"id\":\"2547\"}},\"id\":\"2546\",\"type\":\"GlyphRenderer\"},{\"attributes\":{},\"id\":\"2553\",\"type\":\"Selection\"},{\"attributes\":{},\"id\":\"2554\",\"type\":\"UnionRenderers\"},{\"attributes\":{\"range\":{\"id\":\"2513\"},\"value\":-0.2},\"id\":\"2542\",\"type\":\"Dodge\"},{\"attributes\":{},\"id\":\"2552\",\"type\":\"BasicTickFormatter\"},{\"attributes\":{\"text\":\"Number of countries started/ended lockdown before or after their peak date.\"},\"id\":\"2511\",\"type\":\"Title\"},{\"attributes\":{\"bottom_units\":\"screen\",\"fill_alpha\":0.5,\"fill_color\":\"lightgrey\",\"left_units\":\"screen\",\"level\":\"overlay\",\"line_alpha\":1.0,\"line_color\":\"black\",\"line_dash\":[4,4],\"line_width\":2,\"right_units\":\"screen\",\"top_units\":\"screen\"},\"id\":\"2534\",\"type\":\"BoxAnnotation\"},{\"attributes\":{},\"id\":\"2550\",\"type\":\"CategoricalTickFormatter\"}],\"root_ids\":[\"2510\"]},\"title\":\"Bokeh Application\",\"version\":\"2.1.1\"}};\n",
       "  var render_items = [{\"docid\":\"8dbb8b67-bdf0-4032-be02-92e020f9edda\",\"root_ids\":[\"2510\"],\"roots\":{\"2510\":\"a64f2adc-be0a-4cd7-acee-b48fde1cce09\"}}];\n",
       "  root.Bokeh.embed.embed_items_notebook(docs_json, render_items);\n",
       "\n",
       "  }\n",
       "  if (root.Bokeh !== undefined) {\n",
       "    embed_document(root);\n",
       "  } else {\n",
       "    var attempts = 0;\n",
       "    var timer = setInterval(function(root) {\n",
       "      if (root.Bokeh !== undefined) {\n",
       "        clearInterval(timer);\n",
       "        embed_document(root);\n",
       "      } else {\n",
       "        attempts++;\n",
       "        if (attempts > 100) {\n",
       "          clearInterval(timer);\n",
       "          console.log(\"Bokeh: ERROR: Unable to run BokehJS code because BokehJS library is missing\");\n",
       "        }\n",
       "      }\n",
       "    }, 10, root)\n",
       "  }\n",
       "})(window);"
      ],
      "application/vnd.bokehjs_exec.v0+json": ""
     },
     "metadata": {
      "application/vnd.bokehjs_exec.v0+json": {
       "id": "2510"
      }
     },
     "output_type": "display_data"
    }
   ],
   "source": [
    "from bokeh.io import output_file, show\n",
    "from bokeh.models import ColumnDataSource\n",
    "from bokeh.plotting import figure\n",
    "from bokeh.transform import dodge\n",
    "from bokeh.models import ColumnDataSource, FactorRange\n",
    "\n",
    "labels = [' before','after']\n",
    "\n",
    "catgories = ['start', 'end']\n",
    "\n",
    "data = {'labels' : labels,\n",
    "        'start'   : [len(ds.loc[(ds['start']<ds['peak_cases_date'])]),len(ds.loc[(ds['start']>ds['peak_cases_date'])])],\n",
    "        'end'   :[len(ds.loc[(ds['end']<ds['peak_cases_date'])]),len(ds.loc[(ds['end']>ds['peak_cases_date'])])]\n",
    "\n",
    "       }\n",
    "\n",
    "\n",
    "x = [ (label, category) for label in labels for category in catgories ]\n",
    "source = ColumnDataSource(data=data)\n",
    "# catgories = sum(zip(data['start'], data['end']), ()) # like an hstack\n",
    "# source = ColumnDataSource(data=dict(x=x, labels=labels))\n",
    "\n",
    "p = figure(x_range=labels,plot_height=350, plot_width=500,y_range=(0, 60), title=\"Number of countries started/ended lockdown before or after their peak date.\",\n",
    "           toolbar_location=None)\n",
    "# p = figure(x_range=FactorRange(*x),plot_height=350, plot_width=600,y_range=(0, 60), title=\"Number of countries started/ended lockdown before or after their peak date.\",\n",
    "#            toolbar_location=None)\n",
    "p.yaxis.axis_label = 'count of countries '\n",
    "p.xaxis.axis_label = 'category'\n",
    "x\n",
    "p.vbar(x=dodge('labels',  -0.2, range=p.x_range), top='start', width=0.40, source=source,\n",
    "       color=\"red\", legend_label=\"start\", alpha=0.9)\n",
    "\n",
    "p.vbar(x=dodge('labels',  0.2, range=p.x_range), top='end', width=0.40, source=source,\n",
    "       color=\"#B0C4DE\", legend_label=\"end\", alpha=0.9)\n",
    "\n",
    "p.y_range.start = 0\n",
    "p.x_range.range_padding = 0.1\n",
    "p.legend.location = \"top_center\"\n",
    "p.xgrid.grid_line_color = None\n",
    "\n",
    "\n",
    "\n",
    "\n",
    "show(p)"
   ]
  },
  {
   "cell_type": "markdown",
   "metadata": {},
   "source": [
    "Calculate start date distance to peak date:\n",
    "    distance=start date of lockdown- peak date "
   ]
  },
  {
   "cell_type": "code",
   "execution_count": 49,
   "metadata": {},
   "outputs": [],
   "source": [
    "dis_dict=dict()\n",
    "for country in ds.Country:\n",
    "    df=ds.loc[(ds['Country']==country)]\n",
    "    dis_dict[country]= df.start.values[0]-df.peak_cases_date.values[0]"
   ]
  },
  {
   "cell_type": "code",
   "execution_count": 50,
   "metadata": {},
   "outputs": [],
   "source": [
    "for country in dis_dict.keys():\n",
    "    ds.loc[(ds['Country']==country),'distance_start_peak']=(dis_dict[country])"
   ]
  },
  {
   "cell_type": "code",
   "execution_count": 51,
   "metadata": {},
   "outputs": [],
   "source": [
    "ds.distance_start_peak=ds.distance_start_peak.values / np.timedelta64(1, 'D')"
   ]
  },
  {
   "cell_type": "markdown",
   "metadata": {},
   "source": [
    "calculate end date distance to peak date: distance=peak date - end date of lockdown"
   ]
  },
  {
   "cell_type": "code",
   "execution_count": 52,
   "metadata": {},
   "outputs": [],
   "source": [
    "dis_dict=dict()\n",
    "for country in ds.Country:\n",
    "    df=ds.loc[(ds['Country']==country)]\n",
    "    dis_dict[country]=df.end.values[0]-df.peak_cases_date.values[0]"
   ]
  },
  {
   "cell_type": "code",
   "execution_count": 53,
   "metadata": {},
   "outputs": [],
   "source": [
    "for country in dis_dict.keys():\n",
    "    ds.loc[(ds['Country']==country),'distance_end_peak']=(dis_dict[country])"
   ]
  },
  {
   "cell_type": "code",
   "execution_count": 54,
   "metadata": {},
   "outputs": [],
   "source": [
    "ds.distance_end_peak=ds.distance_end_peak.values / np.timedelta64(1, 'D')"
   ]
  },
  {
   "cell_type": "code",
   "execution_count": 55,
   "metadata": {},
   "outputs": [
    {
     "data": {
      "text/html": [
       "\n",
       "\n",
       "\n",
       "\n",
       "\n",
       "\n",
       "  <div class=\"bk-root\" id=\"3887f9ee-094d-411e-92d2-bf712545e096\" data-root-id=\"2833\"></div>\n"
      ]
     },
     "metadata": {},
     "output_type": "display_data"
    },
    {
     "data": {
      "application/javascript": [
       "(function(root) {\n",
       "  function embed_document(root) {\n",
       "    \n",
       "  var docs_json = {\"2b00f69f-a818-48e8-9586-7c0802fd1fcc\":{\"roots\":{\"references\":[{\"attributes\":{\"below\":[{\"id\":\"2844\"}],\"center\":[{\"id\":\"2847\"},{\"id\":\"2851\"},{\"id\":\"2879\"},{\"id\":\"2935\"}],\"left\":[{\"id\":\"2848\"}],\"plot_height\":400,\"plot_width\":800,\"renderers\":[{\"id\":\"2869\"},{\"id\":\"2884\"},{\"id\":\"2900\"},{\"id\":\"2918\"}],\"title\":{\"id\":\"2834\"},\"toolbar\":{\"id\":\"2859\"},\"x_range\":{\"id\":\"2836\"},\"x_scale\":{\"id\":\"2840\"},\"y_range\":{\"id\":\"2838\"},\"y_scale\":{\"id\":\"2842\"}},\"id\":\"2833\",\"subtype\":\"Figure\",\"type\":\"Plot\"},{\"attributes\":{\"fill_alpha\":{\"value\":0.1},\"fill_color\":{\"value\":\"red\"},\"line_alpha\":{\"value\":0.1},\"line_color\":{\"value\":\"red\"},\"size\":{\"units\":\"screen\",\"value\":15},\"x\":{\"field\":\"x\"},\"y\":{\"field\":\"y\"}},\"id\":\"2883\",\"type\":\"Circle\"},{\"attributes\":{\"source\":{\"id\":\"2866\"}},\"id\":\"2870\",\"type\":\"CDSView\"},{\"attributes\":{\"data\":{},\"selected\":{\"id\":\"2911\"},\"selection_policy\":{\"id\":\"2912\"}},\"id\":\"2897\",\"type\":\"ColumnDataSource\"},{\"attributes\":{\"data\":{\"x\":{\"__ndarray__\":\"AAAAAAAAQsAAAAAAAAAqwAAAAAAAABzAAAAAAAAAN8AAAAAAAABFwAAAAAAAADDAAAAAAAAAMsAAAAAAAAAIwAAAAAAAADHAAAAAAAAAJEAAAAAAAAAiQAAAAAAAACbAAAAAAAAAKMAAAAAAAAAgwAAAAAAAABTAAAAAAAAAKMAAAAAAAABDwAAAAAAAgEHAAAAAAAAALsAAAAAAAAA7wAAAAAAAADHAAAAAAAAAFMAAAAAAAAA2wAAAAAAAAAAAAAAAAACAQMAAAAAAAIBCwAAAAAAAACbAAAAAAAAAPsAAAAAAAAAkwAAAAAAAAD3AAAAAAAAAP8AAAAAAAAA4wAAAAAAAADLAAAAAAACAQMAAAAAAAIBBwAAAAAAAAD7AAAAAAAAALsAAAAAAAAAswAAAAAAAACrAAAAAAAAAHMAAAAAAAABCwAAAAAAAAD3AAAAAAAAALsAAAAAAAAAYwAAAAAAAACrAAAAAAAAAQsAAAAAAAIBCwAAAAAAAAEbAAAAAAAAAIsAAAAAAAAA+wAAAAAAAACTAAAAAAACARcAAAAAAAAAzwAAAAAAAgEHAAAAAAAAAQMAAAAAAAIBEwAAAAAAAADnAAAAAAAAAQcAAAAAAAIBbQAAAAAAAACLA\",\"dtype\":\"float64\",\"order\":\"little\",\"shape\":[60]},\"y\":[6,13,13,14,15,20,20,21,21,21,21,28,28,28,28,28,29,29,32,33,33,36,37,38,38,41,41,42,43,44,46,47,48,50,51,51,55,55,56,57,58,67,67,67,70,70,74,80,83,83,87,94,94,97,103,106,120,131,143,152]},\"selected\":{\"id\":\"2893\"},\"selection_policy\":{\"id\":\"2894\"}},\"id\":\"2881\",\"type\":\"ColumnDataSource\"},{\"attributes\":{},\"id\":\"2857\",\"type\":\"HelpTool\"},{\"attributes\":{\"label\":{\"value\":\"start\"},\"renderers\":[{\"id\":\"2884\"}]},\"id\":\"2896\",\"type\":\"LegendItem\"},{\"attributes\":{\"fill_alpha\":{\"value\":0.1},\"fill_color\":{\"value\":\"#B0C4DE\"},\"line_alpha\":{\"value\":0.1},\"line_color\":{\"value\":\"#B0C4DE\"},\"size\":{\"units\":\"screen\",\"value\":15},\"x\":{\"field\":\"x\"},\"y\":{\"field\":\"y\"}},\"id\":\"2868\",\"type\":\"Circle\"},{\"attributes\":{},\"id\":\"2842\",\"type\":\"LinearScale\"},{\"attributes\":{\"fill_alpha\":{\"value\":0.5},\"fill_color\":{\"value\":\"#B0C4DE\"},\"line_alpha\":{\"value\":0.5},\"line_color\":{\"value\":\"#B0C4DE\"},\"size\":{\"units\":\"screen\",\"value\":15},\"x\":{\"field\":\"x\"},\"y\":{\"field\":\"y\"}},\"id\":\"2867\",\"type\":\"Circle\"},{\"attributes\":{},\"id\":\"2853\",\"type\":\"WheelZoomTool\"},{\"attributes\":{\"source\":{\"id\":\"2881\"}},\"id\":\"2885\",\"type\":\"CDSView\"},{\"attributes\":{\"label\":{\"value\":\"start average\"},\"renderers\":[{\"id\":\"2918\"}]},\"id\":\"2934\",\"type\":\"LegendItem\"},{\"attributes\":{},\"id\":\"2873\",\"type\":\"BasicTickFormatter\"},{\"attributes\":{\"active_drag\":\"auto\",\"active_inspect\":\"auto\",\"active_multi\":null,\"active_scroll\":\"auto\",\"active_tap\":\"auto\",\"tools\":[{\"id\":\"2852\"},{\"id\":\"2853\"},{\"id\":\"2854\"},{\"id\":\"2855\"},{\"id\":\"2856\"},{\"id\":\"2857\"}]},\"id\":\"2859\",\"type\":\"Toolbar\"},{\"attributes\":{\"axis\":{\"id\":\"2848\"},\"dimension\":1,\"ticker\":null},\"id\":\"2851\",\"type\":\"Grid\"},{\"attributes\":{\"data\":{\"x\":{\"__ndarray__\":\"AAAAAAAAPsAAAAAAAAAAAAAAAAAAABhAAAAAAAAAIsAAAAAAAAA7wAAAAAAAABBAAAAAAAAAAEAAAAAAAAAyQAAAAAAAABBAAAAAAAAAP0AAAAAAAAA+QAAAAAAAADFAAAAAAAAAMEAAAAAAAAA0QAAAAAAAADdAAAAAAAAAMEAAAAAAAAAiwAAAAAAAABjAAAAAAAAAMUAAAAAAAAAUQAAAAAAAADBAAAAAAAAAP0AAAAAAAAAuQAAAAAAAAENAAAAAAAAAFEAAAAAAAAAQQAAAAAAAAD5AAAAAAAAAKEAAAAAAAIBAQAAAAAAAAC5AAAAAAAAALkAAAAAAAAA3QAAAAAAAAD5AAAAAAAAAMUAAAAAAAAAwQAAAAAAAADVAAAAAAAAAREAAAAAAAIBEQAAAAAAAgEVAAAAAAAAASUAAAAAAAAA2QAAAAAAAAENAAAAAAAAASkAAAAAAAIBOQAAAAAAAgExAAAAAAAAAQUAAAAAAAIBCQAAAAAAAAEJAAAAAAACAUkAAAAAAAIBKQAAAAAAAQFNAAAAAAACASUAAAAAAAMBSQAAAAAAAAE9AAAAAAADAUUAAAAAAAEBQQAAAAAAAgFdAAAAAAABAWEAAAAAAAGBgQAAAAAAA4GFA\",\"dtype\":\"float64\",\"order\":\"little\",\"shape\":[60]},\"y\":[6,13,13,14,15,20,20,21,21,21,21,28,28,28,28,28,29,29,32,33,33,36,37,38,38,41,41,42,43,44,46,47,48,50,51,51,55,55,56,57,58,67,67,67,70,70,74,80,83,83,87,94,94,97,103,106,120,131,143,152]},\"selected\":{\"id\":\"2876\"},\"selection_policy\":{\"id\":\"2877\"}},\"id\":\"2866\",\"type\":\"ColumnDataSource\"},{\"attributes\":{\"data_source\":{\"id\":\"2915\"},\"glyph\":{\"id\":\"2916\"},\"hover_glyph\":null,\"muted_glyph\":null,\"nonselection_glyph\":{\"id\":\"2917\"},\"selection_glyph\":null,\"view\":{\"id\":\"2919\"}},\"id\":\"2918\",\"type\":\"GlyphRenderer\"},{\"attributes\":{\"axis_label\":\"Interval between the start/end of lockdown to the cases peak(days)\",\"formatter\":{\"id\":\"2873\"},\"ticker\":{\"id\":\"2845\"}},\"id\":\"2844\",\"type\":\"LinearAxis\"},{\"attributes\":{},\"id\":\"2875\",\"type\":\"BasicTickFormatter\"},{\"attributes\":{\"end\":200},\"id\":\"2838\",\"type\":\"Range1d\"},{\"attributes\":{\"fill_alpha\":{\"value\":0.5},\"fill_color\":{\"value\":\"red\"},\"line_alpha\":{\"value\":0.5},\"line_color\":{\"value\":\"red\"},\"size\":{\"units\":\"screen\",\"value\":15},\"x\":{\"field\":\"x\"},\"y\":{\"field\":\"y\"}},\"id\":\"2882\",\"type\":\"Circle\"},{\"attributes\":{\"source\":{\"id\":\"2915\"}},\"id\":\"2919\",\"type\":\"CDSView\"},{\"attributes\":{},\"id\":\"2856\",\"type\":\"ResetTool\"},{\"attributes\":{\"fill_alpha\":{\"value\":0.1},\"fill_color\":{\"value\":\"black\"},\"line_alpha\":{\"value\":0.1},\"size\":{\"units\":\"screen\",\"value\":10},\"x\":{\"value\":-18.766666666666666},\"y\":{\"value\":53.38333333333333}},\"id\":\"2917\",\"type\":\"Square\"},{\"attributes\":{\"fill_alpha\":0.1,\"fill_color\":\"green\",\"left\":-50,\"right\":0},\"id\":\"2935\",\"type\":\"BoxAnnotation\"},{\"attributes\":{},\"id\":\"2840\",\"type\":\"LinearScale\"},{\"attributes\":{},\"id\":\"2855\",\"type\":\"SaveTool\"},{\"attributes\":{\"text\":\"lockdown length(days) vs. Interval between the start/end of lockdown to the cases peak(days)\"},\"id\":\"2834\",\"type\":\"Title\"},{\"attributes\":{\"bottom_units\":\"screen\",\"fill_alpha\":0.5,\"fill_color\":\"lightgrey\",\"left_units\":\"screen\",\"level\":\"overlay\",\"line_alpha\":1.0,\"line_color\":\"black\",\"line_dash\":[4,4],\"line_width\":2,\"right_units\":\"screen\",\"top_units\":\"screen\"},\"id\":\"2858\",\"type\":\"BoxAnnotation\"},{\"attributes\":{},\"id\":\"2894\",\"type\":\"UnionRenderers\"},{\"attributes\":{\"axis\":{\"id\":\"2844\"},\"ticker\":null},\"id\":\"2847\",\"type\":\"Grid\"},{\"attributes\":{},\"id\":\"2845\",\"type\":\"BasicTicker\"},{\"attributes\":{},\"id\":\"2876\",\"type\":\"Selection\"},{\"attributes\":{},\"id\":\"2877\",\"type\":\"UnionRenderers\"},{\"attributes\":{},\"id\":\"2849\",\"type\":\"BasicTicker\"},{\"attributes\":{\"axis_label\":\"lockdown length(days) \",\"formatter\":{\"id\":\"2875\"},\"ticker\":{\"id\":\"2849\"}},\"id\":\"2848\",\"type\":\"LinearAxis\"},{\"attributes\":{},\"id\":\"2893\",\"type\":\"Selection\"},{\"attributes\":{\"fill_color\":{\"value\":\"black\"},\"size\":{\"units\":\"screen\",\"value\":10},\"x\":{\"value\":-18.766666666666666},\"y\":{\"value\":53.38333333333333}},\"id\":\"2916\",\"type\":\"Square\"},{\"attributes\":{},\"id\":\"2931\",\"type\":\"Selection\"},{\"attributes\":{},\"id\":\"2932\",\"type\":\"UnionRenderers\"},{\"attributes\":{\"label\":{\"value\":\"end\"},\"renderers\":[{\"id\":\"2869\"}]},\"id\":\"2880\",\"type\":\"LegendItem\"},{\"attributes\":{},\"id\":\"2912\",\"type\":\"UnionRenderers\"},{\"attributes\":{\"data_source\":{\"id\":\"2881\"},\"glyph\":{\"id\":\"2882\"},\"hover_glyph\":null,\"muted_glyph\":null,\"nonselection_glyph\":{\"id\":\"2883\"},\"selection_glyph\":null,\"view\":{\"id\":\"2885\"}},\"id\":\"2884\",\"type\":\"GlyphRenderer\"},{\"attributes\":{},\"id\":\"2911\",\"type\":\"Selection\"},{\"attributes\":{\"source\":{\"id\":\"2897\"}},\"id\":\"2901\",\"type\":\"CDSView\"},{\"attributes\":{\"fill_alpha\":{\"value\":0.1},\"fill_color\":{\"value\":\"#0c0071\"},\"line_alpha\":{\"value\":0.1},\"line_color\":{\"value\":\"#0c0071\"},\"size\":{\"units\":\"screen\",\"value\":10},\"x\":{\"value\":32.55},\"y\":{\"value\":53.38333333333333}},\"id\":\"2899\",\"type\":\"Triangle\"},{\"attributes\":{\"data\":{},\"selected\":{\"id\":\"2931\"},\"selection_policy\":{\"id\":\"2932\"}},\"id\":\"2915\",\"type\":\"ColumnDataSource\"},{\"attributes\":{\"fill_color\":{\"value\":\"#0c0071\"},\"line_color\":{\"value\":\"#0c0071\"},\"size\":{\"units\":\"screen\",\"value\":10},\"x\":{\"value\":32.55},\"y\":{\"value\":53.38333333333333}},\"id\":\"2898\",\"type\":\"Triangle\"},{\"attributes\":{\"label\":{\"value\":\"end average\"},\"renderers\":[{\"id\":\"2900\"}]},\"id\":\"2914\",\"type\":\"LegendItem\"},{\"attributes\":{\"end\":170,\"start\":-100},\"id\":\"2836\",\"type\":\"Range1d\"},{\"attributes\":{\"data_source\":{\"id\":\"2897\"},\"glyph\":{\"id\":\"2898\"},\"hover_glyph\":null,\"muted_glyph\":null,\"nonselection_glyph\":{\"id\":\"2899\"},\"selection_glyph\":null,\"view\":{\"id\":\"2901\"}},\"id\":\"2900\",\"type\":\"GlyphRenderer\"},{\"attributes\":{\"overlay\":{\"id\":\"2858\"}},\"id\":\"2854\",\"type\":\"BoxZoomTool\"},{\"attributes\":{},\"id\":\"2852\",\"type\":\"PanTool\"},{\"attributes\":{\"data_source\":{\"id\":\"2866\"},\"glyph\":{\"id\":\"2867\"},\"hover_glyph\":null,\"muted_glyph\":null,\"nonselection_glyph\":{\"id\":\"2868\"},\"selection_glyph\":null,\"view\":{\"id\":\"2870\"}},\"id\":\"2869\",\"type\":\"GlyphRenderer\"},{\"attributes\":{\"items\":[{\"id\":\"2880\"},{\"id\":\"2896\"},{\"id\":\"2914\"},{\"id\":\"2934\"}],\"location\":\"bottom_right\"},\"id\":\"2879\",\"type\":\"Legend\"}],\"root_ids\":[\"2833\"]},\"title\":\"Bokeh Application\",\"version\":\"2.1.1\"}};\n",
       "  var render_items = [{\"docid\":\"2b00f69f-a818-48e8-9586-7c0802fd1fcc\",\"root_ids\":[\"2833\"],\"roots\":{\"2833\":\"3887f9ee-094d-411e-92d2-bf712545e096\"}}];\n",
       "  root.Bokeh.embed.embed_items_notebook(docs_json, render_items);\n",
       "\n",
       "  }\n",
       "  if (root.Bokeh !== undefined) {\n",
       "    embed_document(root);\n",
       "  } else {\n",
       "    var attempts = 0;\n",
       "    var timer = setInterval(function(root) {\n",
       "      if (root.Bokeh !== undefined) {\n",
       "        clearInterval(timer);\n",
       "        embed_document(root);\n",
       "      } else {\n",
       "        attempts++;\n",
       "        if (attempts > 100) {\n",
       "          clearInterval(timer);\n",
       "          console.log(\"Bokeh: ERROR: Unable to run BokehJS code because BokehJS library is missing\");\n",
       "        }\n",
       "      }\n",
       "    }, 10, root)\n",
       "  }\n",
       "})(window);"
      ],
      "application/vnd.bokehjs_exec.v0+json": ""
     },
     "metadata": {
      "application/vnd.bokehjs_exec.v0+json": {
       "id": "2833"
      }
     },
     "output_type": "display_data"
    }
   ],
   "source": [
    "from bokeh.plotting import figure, show\n",
    "from bokeh.models import BoxAnnotation\n",
    "# output to static HTML file\n",
    "\n",
    "\n",
    "p = figure(plot_width=800, plot_height=400,x_range=(-100,170),y_range=(0, 200),title='lockdown length(days) vs. Interval between the start/end of lockdown to the cases peak(days)')\n",
    "p.yaxis.axis_label = 'lockdown length(days) '\n",
    "p.xaxis.axis_label = 'Interval between the start/end of lockdown to the cases peak(days)'\n",
    "\n",
    "\n",
    "# add a circle renderer with a size, color, and alpha\n",
    "c0=p.circle(ds.distance_end_peak,ds.Length_days,  size=15, color=\"#B0C4DE\", alpha=0.5,legend_label=\"end\")\n",
    "c1=p.circle(ds.distance_start_peak,ds.Length_days,  size=15, color=\"red\", alpha=0.5,legend_label=\"start\")\n",
    "c2=p.triangle((ds.distance_end_peak).mean(),(ds.Length_days).mean(),  size=10, color=\"#0c0071\", alpha=1,legend_label=\"end average\")\n",
    "c3=p.square((ds.distance_start_peak).mean(),(ds.Length_days).mean(),  size=10, color=\"black\", alpha=1,legend_label=\"start average\")\n",
    "mid_box = BoxAnnotation(left=-50, right=0, fill_alpha=0.1, fill_color='green')\n",
    "p.add_layout(mid_box)\n",
    "# legend1 = Legend(items=[(\"end\" , [c0]),(\"start\" , [c1]),(\"end average\" , [c2]),(\"start average\" , [c3])],\n",
    "#                  location=(5,-105))\n",
    "# p.add_layout(legend1, 'above' ) \n",
    "# show the results\n",
    "p.legend.location = \"bottom_right\"\n",
    "show(p)"
   ]
  },
  {
   "cell_type": "code",
   "execution_count": 59,
   "metadata": {},
   "outputs": [
    {
     "data": {
      "image/png": "[encoded data removed]",
      "text/plain": [
       "<Figure size 576x432 with 2 Axes>"
      ]
     },
     "metadata": {
      "needs_background": "light"
     },
     "output_type": "display_data"
    }
   ],
   "source": [
    "import seaborn as sns\n",
    "from pylab import savefig\n",
    "fig, ax = plt.subplots(figsize=(8,6))  \n",
    "ax.set_title('Correlation between items')\n",
    "correlation=ds[['Length_days','distance_start_peak', 'distance_end_peak','population','sum_cases','sum_deaths']].corr()\n",
    "sns.color_palette(\"coolwarm\")\n",
    "svm=sns.heatmap(correlation,annot=True,cmap='coolwarm', linewidths=.5, ax=ax)\n",
    "figure = svm.get_figure()    \n",
    "figure.savefig('svm_conf2.png',bbox_inches='tight')"
   ]
  },
  {
   "cell_type": "code",
   "execution_count": null,
   "metadata": {},
   "outputs": [],
   "source": []
  }
 ],
 "metadata": {
  "kernelspec": {
   "display_name": "Python 3",
   "language": "python",
   "name": "python3"
  },
  "language_info": {
   "codemirror_mode": {
    "name": "ipython",
    "version": 3
   },
   "file_extension": ".py",
   "mimetype": "text/x-python",
   "name": "python",
   "nbconvert_exporter": "python",
   "pygments_lexer": "ipython3",
   "version": "3.8.3"
  }
 },
 "nbformat": 4,
 "nbformat_minor": 4
}
