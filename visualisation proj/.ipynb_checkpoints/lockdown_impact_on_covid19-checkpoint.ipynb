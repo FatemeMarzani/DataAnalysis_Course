{
 "cells": [
  {
   "cell_type": "markdown",
   "metadata": {},
   "source": [
    "# A visualization demonstrating impact of Lockdown length on COVID infection rate and death"
   ]
  },
  {
   "cell_type": "markdown",
   "metadata": {},
   "source": [
    "### Import required libraries"
   ]
  },
  {
   "cell_type": "code",
   "execution_count": 54,
   "metadata": {},
   "outputs": [],
   "source": [
    "import pandas as pd\n",
    "import numpy as np\n",
    "import matplotlib.pyplot as plt\n",
    "import datetime\n",
    "from scipy.signal import savgol_filter"
   ]
  },
  {
   "cell_type": "markdown",
   "metadata": {},
   "source": [
    "### Read COVID cases and death dataset, filter and subset as well"
   ]
  },
  {
   "cell_type": "raw",
   "metadata": {},
   "source": [
    "dataset is downloaded from https://www.ecdc.europa.eu/sites/default/files/documents/COVID-19-geographic-disbtribution-worldwide.xlsx"
   ]
  },
  {
   "cell_type": "code",
   "execution_count": 55,
   "metadata": {},
   "outputs": [
    {
     "ename": "AttributeError",
     "evalue": "'Series' object has no attribute 'value_count'",
     "output_type": "error",
     "traceback": [
      "\u001b[1;31m---------------------------------------------------------------------------\u001b[0m",
      "\u001b[1;31mAttributeError\u001b[0m                            Traceback (most recent call last)",
      "\u001b[1;32m<ipython-input-55-8079cc169a98>\u001b[0m in \u001b[0;36m<module>\u001b[1;34m\u001b[0m\n\u001b[0;32m      3\u001b[0m \u001b[0mcovid_data\u001b[0m\u001b[1;33m.\u001b[0m\u001b[0mdate\u001b[0m\u001b[1;33m=\u001b[0m\u001b[0mpd\u001b[0m\u001b[1;33m.\u001b[0m\u001b[0mto_datetime\u001b[0m\u001b[1;33m(\u001b[0m\u001b[0mcovid_data\u001b[0m\u001b[1;33m.\u001b[0m\u001b[0mdate\u001b[0m\u001b[1;33m,\u001b[0m \u001b[0mformat\u001b[0m\u001b[1;33m=\u001b[0m\u001b[1;34m'%Y-%m-%d'\u001b[0m\u001b[1;33m,\u001b[0m \u001b[0merrors\u001b[0m\u001b[1;33m=\u001b[0m\u001b[1;34m'coerce'\u001b[0m\u001b[1;33m)\u001b[0m\u001b[1;33m\u001b[0m\u001b[1;33m\u001b[0m\u001b[0m\n\u001b[0;32m      4\u001b[0m \u001b[1;33m\u001b[0m\u001b[0m\n\u001b[1;32m----> 5\u001b[1;33m \u001b[0mcovid_data\u001b[0m\u001b[1;33m.\u001b[0m\u001b[0mcountry\u001b[0m\u001b[1;33m.\u001b[0m\u001b[0mvalue_count\u001b[0m\u001b[1;33m(\u001b[0m\u001b[1;33m)\u001b[0m\u001b[1;33m\u001b[0m\u001b[1;33m\u001b[0m\u001b[0m\n\u001b[0m",
      "\u001b[1;32m~\\anaconda3\\lib\\site-packages\\pandas\\core\\generic.py\u001b[0m in \u001b[0;36m__getattr__\u001b[1;34m(self, name)\u001b[0m\n\u001b[0;32m   5272\u001b[0m             \u001b[1;32mif\u001b[0m \u001b[0mself\u001b[0m\u001b[1;33m.\u001b[0m\u001b[0m_info_axis\u001b[0m\u001b[1;33m.\u001b[0m\u001b[0m_can_hold_identifiers_and_holds_name\u001b[0m\u001b[1;33m(\u001b[0m\u001b[0mname\u001b[0m\u001b[1;33m)\u001b[0m\u001b[1;33m:\u001b[0m\u001b[1;33m\u001b[0m\u001b[1;33m\u001b[0m\u001b[0m\n\u001b[0;32m   5273\u001b[0m                 \u001b[1;32mreturn\u001b[0m \u001b[0mself\u001b[0m\u001b[1;33m[\u001b[0m\u001b[0mname\u001b[0m\u001b[1;33m]\u001b[0m\u001b[1;33m\u001b[0m\u001b[1;33m\u001b[0m\u001b[0m\n\u001b[1;32m-> 5274\u001b[1;33m             \u001b[1;32mreturn\u001b[0m \u001b[0mobject\u001b[0m\u001b[1;33m.\u001b[0m\u001b[0m__getattribute__\u001b[0m\u001b[1;33m(\u001b[0m\u001b[0mself\u001b[0m\u001b[1;33m,\u001b[0m \u001b[0mname\u001b[0m\u001b[1;33m)\u001b[0m\u001b[1;33m\u001b[0m\u001b[1;33m\u001b[0m\u001b[0m\n\u001b[0m\u001b[0;32m   5275\u001b[0m \u001b[1;33m\u001b[0m\u001b[0m\n\u001b[0;32m   5276\u001b[0m     \u001b[1;32mdef\u001b[0m \u001b[0m__setattr__\u001b[0m\u001b[1;33m(\u001b[0m\u001b[0mself\u001b[0m\u001b[1;33m,\u001b[0m \u001b[0mname\u001b[0m\u001b[1;33m:\u001b[0m \u001b[0mstr\u001b[0m\u001b[1;33m,\u001b[0m \u001b[0mvalue\u001b[0m\u001b[1;33m)\u001b[0m \u001b[1;33m->\u001b[0m \u001b[1;32mNone\u001b[0m\u001b[1;33m:\u001b[0m\u001b[1;33m\u001b[0m\u001b[1;33m\u001b[0m\u001b[0m\n",
      "\u001b[1;31mAttributeError\u001b[0m: 'Series' object has no attribute 'value_count'"
     ]
    }
   ],
   "source": [
    "covid_data=pd.read_excel('../visualisation proj/data/COVID-19-geographic-disbtribution-worldwide.xlsx')\n",
    "covid_data = covid_data[['countryterritoryCode','country', 'date', 'cases', 'deaths']]\n",
    "covid_data.date=pd.to_datetime(covid_data.date, format='%Y-%m-%d', errors='coerce')\n"
   ]
  },
  {
   "cell_type": "code",
   "execution_count": 59,
   "metadata": {},
   "outputs": [
    {
     "data": {
      "text/plain": [
       "Timestamp('2020-12-14 00:00:00')"
      ]
     },
     "execution_count": 59,
     "metadata": {},
     "output_type": "execute_result"
    }
   ],
   "source": [
    "covid_data.date.max()"
   ]
  },
  {
   "cell_type": "code",
   "execution_count": 3,
   "metadata": {},
   "outputs": [
    {
     "data": {
      "text/html": [
       "<div>\n",
       "<style scoped>\n",
       "    .dataframe tbody tr th:only-of-type {\n",
       "        vertical-align: middle;\n",
       "    }\n",
       "\n",
       "    .dataframe tbody tr th {\n",
       "        vertical-align: top;\n",
       "    }\n",
       "\n",
       "    .dataframe thead th {\n",
       "        text-align: right;\n",
       "    }\n",
       "</style>\n",
       "<table border=\"1\" class=\"dataframe\">\n",
       "  <thead>\n",
       "    <tr style=\"text-align: right;\">\n",
       "      <th></th>\n",
       "      <th>countryterritoryCode</th>\n",
       "      <th>country</th>\n",
       "      <th>date</th>\n",
       "      <th>cases</th>\n",
       "      <th>deaths</th>\n",
       "    </tr>\n",
       "  </thead>\n",
       "  <tbody>\n",
       "    <tr>\n",
       "      <th>0</th>\n",
       "      <td>AFG</td>\n",
       "      <td>Afghanistan</td>\n",
       "      <td>2020-12-14</td>\n",
       "      <td>746</td>\n",
       "      <td>6</td>\n",
       "    </tr>\n",
       "    <tr>\n",
       "      <th>1</th>\n",
       "      <td>AFG</td>\n",
       "      <td>Afghanistan</td>\n",
       "      <td>2020-12-13</td>\n",
       "      <td>298</td>\n",
       "      <td>9</td>\n",
       "    </tr>\n",
       "    <tr>\n",
       "      <th>2</th>\n",
       "      <td>AFG</td>\n",
       "      <td>Afghanistan</td>\n",
       "      <td>2020-12-12</td>\n",
       "      <td>113</td>\n",
       "      <td>11</td>\n",
       "    </tr>\n",
       "    <tr>\n",
       "      <th>3</th>\n",
       "      <td>AFG</td>\n",
       "      <td>Afghanistan</td>\n",
       "      <td>2020-12-11</td>\n",
       "      <td>63</td>\n",
       "      <td>10</td>\n",
       "    </tr>\n",
       "    <tr>\n",
       "      <th>4</th>\n",
       "      <td>AFG</td>\n",
       "      <td>Afghanistan</td>\n",
       "      <td>2020-12-10</td>\n",
       "      <td>202</td>\n",
       "      <td>16</td>\n",
       "    </tr>\n",
       "  </tbody>\n",
       "</table>\n",
       "</div>"
      ],
      "text/plain": [
       "  countryterritoryCode      country       date  cases  deaths\n",
       "0                  AFG  Afghanistan 2020-12-14    746       6\n",
       "1                  AFG  Afghanistan 2020-12-13    298       9\n",
       "2                  AFG  Afghanistan 2020-12-12    113      11\n",
       "3                  AFG  Afghanistan 2020-12-11     63      10\n",
       "4                  AFG  Afghanistan 2020-12-10    202      16"
      ]
     },
     "execution_count": 3,
     "metadata": {},
     "output_type": "execute_result"
    }
   ],
   "source": [
    "covid_data.head(5)"
   ]
  },
  {
   "cell_type": "markdown",
   "metadata": {},
   "source": [
    "### Read COVID natinal lockdown data"
   ]
  },
  {
   "cell_type": "markdown",
   "metadata": {},
   "source": [
    "dataset is collected from https://en.wikipedia.org/wiki/Template:COVID-19_pandemic_lockdowns\n",
    "        and saved to an exel file.\n",
    "        \n",
    "   "
   ]
  },
  {
   "cell_type": "code",
   "execution_count": 4,
   "metadata": {},
   "outputs": [],
   "source": [
    "ds=pd.read_excel('../visualisation proj/data/national - first-lockdown-world.xlsx')"
   ]
  },
  {
   "cell_type": "code",
   "execution_count": 5,
   "metadata": {},
   "outputs": [
    {
     "data": {
      "text/html": [
       "<div>\n",
       "<style scoped>\n",
       "    .dataframe tbody tr th:only-of-type {\n",
       "        vertical-align: middle;\n",
       "    }\n",
       "\n",
       "    .dataframe tbody tr th {\n",
       "        vertical-align: top;\n",
       "    }\n",
       "\n",
       "    .dataframe thead th {\n",
       "        text-align: right;\n",
       "    }\n",
       "</style>\n",
       "<table border=\"1\" class=\"dataframe\">\n",
       "  <thead>\n",
       "    <tr style=\"text-align: right;\">\n",
       "      <th></th>\n",
       "      <th>Country</th>\n",
       "      <th>start</th>\n",
       "      <th>end</th>\n",
       "      <th>Length_days</th>\n",
       "      <th>Level</th>\n",
       "      <th>population</th>\n",
       "    </tr>\n",
       "  </thead>\n",
       "  <tbody>\n",
       "    <tr>\n",
       "      <th>0</th>\n",
       "      <td>Mongolia</td>\n",
       "      <td>2020-03-10</td>\n",
       "      <td>2020-03-16</td>\n",
       "      <td>6</td>\n",
       "      <td>National</td>\n",
       "      <td>3278292</td>\n",
       "    </tr>\n",
       "    <tr>\n",
       "      <th>1</th>\n",
       "      <td>Hungary</td>\n",
       "      <td>2020-03-28</td>\n",
       "      <td>2020-04-10</td>\n",
       "      <td>13</td>\n",
       "      <td>National</td>\n",
       "      <td>9660350</td>\n",
       "    </tr>\n",
       "    <tr>\n",
       "      <th>2</th>\n",
       "      <td>Lebanon</td>\n",
       "      <td>2020-03-15</td>\n",
       "      <td>2020-03-28</td>\n",
       "      <td>13</td>\n",
       "      <td>National</td>\n",
       "      <td>6825442</td>\n",
       "    </tr>\n",
       "    <tr>\n",
       "      <th>3</th>\n",
       "      <td>Samoa</td>\n",
       "      <td>2020-03-26</td>\n",
       "      <td>2020-04-08</td>\n",
       "      <td>13</td>\n",
       "      <td>National</td>\n",
       "      <td>198410</td>\n",
       "    </tr>\n",
       "    <tr>\n",
       "      <th>4</th>\n",
       "      <td>Papua New Guinea</td>\n",
       "      <td>2020-03-24</td>\n",
       "      <td>2020-04-07</td>\n",
       "      <td>14</td>\n",
       "      <td>National</td>\n",
       "      <td>8947027</td>\n",
       "    </tr>\n",
       "  </tbody>\n",
       "</table>\n",
       "</div>"
      ],
      "text/plain": [
       "            Country      start        end  Length_days     Level  population\n",
       "0          Mongolia 2020-03-10 2020-03-16            6  National     3278292\n",
       "1           Hungary 2020-03-28 2020-04-10           13  National     9660350\n",
       "2           Lebanon 2020-03-15 2020-03-28           13  National     6825442\n",
       "3             Samoa 2020-03-26 2020-04-08           13  National      198410\n",
       "4  Papua New Guinea 2020-03-24 2020-04-07           14  National     8947027"
      ]
     },
     "execution_count": 5,
     "metadata": {},
     "output_type": "execute_result"
    }
   ],
   "source": [
    "ds.head(5)"
   ]
  },
  {
   "cell_type": "markdown",
   "metadata": {},
   "source": [
    "### Select countries which is common in covid dataset and first lockdown dataset ."
   ]
  },
  {
   "cell_type": "code",
   "execution_count": 62,
   "metadata": {},
   "outputs": [],
   "source": [
    "covid_data= covid_data[covid_data['country'].isin(ds.Country)]"
   ]
  },
  {
   "cell_type": "code",
   "execution_count": 63,
   "metadata": {},
   "outputs": [
    {
     "data": {
      "text/plain": [
       "60"
      ]
     },
     "execution_count": 63,
     "metadata": {},
     "output_type": "execute_result"
    }
   ],
   "source": [
    "len(covid_data.country.value_counts())"
   ]
  },
  {
   "cell_type": "code",
   "execution_count": 64,
   "metadata": {},
   "outputs": [
    {
     "data": {
      "text/plain": [
       "60"
      ]
     },
     "execution_count": 64,
     "metadata": {},
     "output_type": "execute_result"
    }
   ],
   "source": [
    "len(ds.Country.value_counts())"
   ]
  },
  {
   "cell_type": "markdown",
   "metadata": {},
   "source": [
    "limit lock-down data with countries in covid dataset"
   ]
  },
  {
   "cell_type": "code",
   "execution_count": 9,
   "metadata": {},
   "outputs": [],
   "source": [
    "ds=ds[ds['Country'].isin(covid_data.country)]"
   ]
  },
  {
   "cell_type": "code",
   "execution_count": 10,
   "metadata": {},
   "outputs": [
    {
     "data": {
      "text/plain": [
       "60"
      ]
     },
     "execution_count": 10,
     "metadata": {},
     "output_type": "execute_result"
    }
   ],
   "source": [
    "len(ds.Country.value_counts())"
   ]
  },
  {
   "cell_type": "markdown",
   "metadata": {},
   "source": [
    "### filling missing values"
   ]
  },
  {
   "cell_type": "code",
   "execution_count": 11,
   "metadata": {},
   "outputs": [
    {
     "name": "stderr",
     "output_type": "stream",
     "text": [
      "C:\\Users\\zst2019\\anaconda3\\lib\\site-packages\\pandas\\core\\generic.py:6245: SettingWithCopyWarning: \n",
      "A value is trying to be set on a copy of a slice from a DataFrame\n",
      "\n",
      "See the caveats in the documentation: https://pandas.pydata.org/pandas-docs/stable/user_guide/indexing.html#returning-a-view-versus-a-copy\n",
      "  self._update_inplace(new_data)\n"
     ]
    }
   ],
   "source": [
    "for country in ds.Country:\n",
    "        covid_data.loc[(covid_data['country']==country),:].cases.fillna(method='bfill',inplace=True)\n",
    "        covid_data.loc[(covid_data['country']==country),:].deaths.fillna(method='bfill',inplace=True)"
   ]
  },
  {
   "cell_type": "markdown",
   "metadata": {},
   "source": [
    "### Detecting outlayers and filling with new value"
   ]
  },
  {
   "cell_type": "code",
   "execution_count": 12,
   "metadata": {},
   "outputs": [],
   "source": [
    "for country in ds.Country:\n",
    "    dataframe=covid_data.loc[(covid_data['country']==country),:]\n",
    "    covid_data.loc[(covid_data['country']==country),'expected_cases']=(dataframe['cases'].shift(1)+dataframe['cases'].shift(-1))/2\n",
    "   "
   ]
  },
  {
   "cell_type": "code",
   "execution_count": 13,
   "metadata": {},
   "outputs": [
    {
     "name": "stderr",
     "output_type": "stream",
     "text": [
      "C:\\Users\\zst2019\\anaconda3\\lib\\site-packages\\pandas\\core\\indexing.py:966: SettingWithCopyWarning: \n",
      "A value is trying to be set on a copy of a slice from a DataFrame.\n",
      "Try using .loc[row_indexer,col_indexer] = value instead\n",
      "\n",
      "See the caveats in the documentation: https://pandas.pydata.org/pandas-docs/stable/user_guide/indexing.html#returning-a-view-versus-a-copy\n",
      "  self.obj[item] = s\n"
     ]
    }
   ],
   "source": [
    "for country in ds.Country:\n",
    "    country=covid_data.loc[covid_data['country']==country,:]\n",
    "    isoutlier=np.abs((country.loc[:,'expected_cases']-country.loc[:,'cases'])/country.loc[:,'expected_cases'])>0.8\n",
    "    country.loc[isoutlier,'cases']=country.loc[isoutlier,'expected_cases']"
   ]
  },
  {
   "cell_type": "markdown",
   "metadata": {},
   "source": [
    "### select five countries for first exploring"
   ]
  },
  {
   "cell_type": "code",
   "execution_count": 14,
   "metadata": {},
   "outputs": [],
   "source": [
    "df_ir=covid_data.loc[covid_data['country']==\"Iran\",:]\n",
    "df_france=covid_data.loc[covid_data['country']==\"France\",:]\n",
    "df_italy=covid_data.loc[covid_data['country']==\"Italy\",:]\n",
    "df_spain=covid_data.loc[covid_data['country']==\"Spain\",:]\n",
    "df_germany=covid_data.loc[covid_data['country']==\"Germany\",:]\n",
    "selected=[df_ir,df_france,df_italy,df_spain,df_germany]"
   ]
  },
  {
   "cell_type": "markdown",
   "metadata": {},
   "source": [
    "find the minimum start of lockdown and maximum end of lockdown date"
   ]
  },
  {
   "cell_type": "code",
   "execution_count": 15,
   "metadata": {},
   "outputs": [],
   "source": [
    "start_date=min(ds[ds['Country'].isin([\"Iran\",\"France\",\"Italy\",\"Germany\",\"Spain\"])]['start'])\n",
    "end_date=max(ds[ds['Country'].isin([\"Iran\",\"France\",\"Italy\",\"Germany\",\"Spain\"])]['end'])"
   ]
  },
  {
   "cell_type": "code",
   "execution_count": 65,
   "metadata": {},
   "outputs": [
    {
     "data": {
      "text/plain": [
       "Timestamp('2020-03-09 00:00:00')"
      ]
     },
     "execution_count": 65,
     "metadata": {},
     "output_type": "execute_result"
    }
   ],
   "source": [
    "start_date"
   ]
  },
  {
   "cell_type": "code",
   "execution_count": 66,
   "metadata": {},
   "outputs": [
    {
     "data": {
      "text/plain": [
       "Timestamp('2020-05-18 00:00:00')"
      ]
     },
     "execution_count": 66,
     "metadata": {},
     "output_type": "execute_result"
    }
   ],
   "source": [
    "end_date"
   ]
  },
  {
   "cell_type": "markdown",
   "metadata": {},
   "source": [
    "limit covid data from 10 days befor start date_to 21 days after end_date"
   ]
  },
  {
   "cell_type": "code",
   "execution_count": 16,
   "metadata": {},
   "outputs": [],
   "source": [
    "fr_df=df_france.loc[(df_france['date']>start_date + datetime.timedelta(days=-10)) & (df_france['date'] < end_date +  datetime.timedelta(days=21))]\n",
    "it_df=df_italy.loc[(df_italy['date']>start_date+ datetime.timedelta(days=-10)) & (df_italy['date'] < end_date+  datetime.timedelta(days=21))]\n",
    "gr_df=df_germany.loc[(df_germany['date']>start_date+ datetime.timedelta(days=-10)) & (df_germany['date'] < end_date+  datetime.timedelta(days=21))]\n",
    "sp_df=df_spain.loc[(df_spain['date']>start_date+ datetime.timedelta(days=-10)) & (df_spain['date'] < end_date+  datetime.timedelta(days=21))]\n",
    "ir_df=df_ir.loc[(df_ir['date']>start_date+ datetime.timedelta(days=-10)) & (df_ir['date'] < end_date+  datetime.timedelta(days=21))]\n",
    "countries=[fr_df,it_df,gr_df,sp_df,ir_df]"
   ]
  },
  {
   "cell_type": "markdown",
   "metadata": {},
   "source": [
    "smooth our data for better visualization "
   ]
  },
  {
   "cell_type": "code",
   "execution_count": 67,
   "metadata": {},
   "outputs": [
    {
     "name": "stderr",
     "output_type": "stream",
     "text": [
      "C:\\Users\\zst2019\\anaconda3\\lib\\site-packages\\pandas\\core\\generic.py:5303: SettingWithCopyWarning: \n",
      "A value is trying to be set on a copy of a slice from a DataFrame.\n",
      "Try using .loc[row_indexer,col_indexer] = value instead\n",
      "\n",
      "See the caveats in the documentation: https://pandas.pydata.org/pandas-docs/stable/user_guide/indexing.html#returning-a-view-versus-a-copy\n",
      "  self[name] = value\n"
     ]
    }
   ],
   "source": [
    "from scipy.signal import savgol_filter\n",
    "for country in countries:\n",
    "    country.cases=savgol_filter(country.cases,51, 2)\n",
    "    country.deaths=savgol_filter(country.deaths,51, 2)"
   ]
  },
  {
   "cell_type": "markdown",
   "metadata": {},
   "source": [
    "find the start and end date of lockdown for selected country to highligth lockdown period"
   ]
  },
  {
   "cell_type": "code",
   "execution_count": 18,
   "metadata": {},
   "outputs": [],
   "source": [
    "start_fr=ds.loc[ds['Country']=='France',:].start.iloc[0]\n",
    "end_fr=ds.loc[ds['Country']=='France',:].end.iloc[0]\n",
    "start_gr=ds.loc[ds['Country']=='Germany',:].start.iloc[0]\n",
    "end_gr=ds.loc[ds['Country']=='Germany',:].end.iloc[0]\n",
    "start_it=ds.loc[ds['Country']=='Italy',:].start.iloc[0]\n",
    "end_it=ds.loc[ds['Country']=='Italy',:].end.iloc[0]\n",
    "start_sp=ds.loc[ds['Country']=='Spain',:].start.iloc[0]\n",
    "end_sp=ds.loc[ds['Country']=='Spain',:].end.iloc[0]\n",
    "start_ir=ds.loc[ds['Country']=='Iran',:].start.iloc[0]\n",
    "end_ir=ds.loc[ds['Country']=='Iran',:].end.iloc[0]"
   ]
  },
  {
   "cell_type": "markdown",
   "metadata": {},
   "source": [
    "import visualization library"
   ]
  },
  {
   "cell_type": "code",
   "execution_count": 19,
   "metadata": {},
   "outputs": [],
   "source": [
    "from bokeh.io import output_notebook, show\n",
    "from bokeh.plotting import figure\n",
    "from bokeh.plotting import figure, show, ColumnDataSource, output_file\n",
    "from bokeh.models import Grid, LinearAxis, Plot, Range1d, DatetimeAxis"
   ]
  },
  {
   "cell_type": "code",
   "execution_count": 20,
   "metadata": {},
   "outputs": [
    {
     "data": {
      "text/html": [
       "\n",
       "    <div class=\"bk-root\">\n",
       "        <a href=\"https://bokeh.org\" target=\"_blank\" class=\"bk-logo bk-logo-small bk-logo-notebook\"></a>\n",
       "        <span id=\"1001\">Loading BokehJS ...</span>\n",
       "    </div>"
      ]
     },
     "metadata": {},
     "output_type": "display_data"
    },
    {
     "data": {
      "application/javascript": [
       "\n",
       "(function(root) {\n",
       "  function now() {\n",
       "    return new Date();\n",
       "  }\n",
       "\n",
       "  var force = true;\n",
       "\n",
       "  if (typeof root._bokeh_onload_callbacks === \"undefined\" || force === true) {\n",
       "    root._bokeh_onload_callbacks = [];\n",
       "    root._bokeh_is_loading = undefined;\n",
       "  }\n",
       "\n",
       "  var JS_MIME_TYPE = 'application/javascript';\n",
       "  var HTML_MIME_TYPE = 'text/html';\n",
       "  var EXEC_MIME_TYPE = 'application/vnd.bokehjs_exec.v0+json';\n",
       "  var CLASS_NAME = 'output_bokeh rendered_html';\n",
       "\n",
       "  /**\n",
       "   * Render data to the DOM node\n",
       "   */\n",
       "  function render(props, node) {\n",
       "    var script = document.createElement(\"script\");\n",
       "    node.appendChild(script);\n",
       "  }\n",
       "\n",
       "  /**\n",
       "   * Handle when an output is cleared or removed\n",
       "   */\n",
       "  function handleClearOutput(event, handle) {\n",
       "    var cell = handle.cell;\n",
       "\n",
       "    var id = cell.output_area._bokeh_element_id;\n",
       "    var server_id = cell.output_area._bokeh_server_id;\n",
       "    // Clean up Bokeh references\n",
       "    if (id != null && id in Bokeh.index) {\n",
       "      Bokeh.index[id].model.document.clear();\n",
       "      delete Bokeh.index[id];\n",
       "    }\n",
       "\n",
       "    if (server_id !== undefined) {\n",
       "      // Clean up Bokeh references\n",
       "      var cmd = \"from bokeh.io.state import curstate; print(curstate().uuid_to_server['\" + server_id + \"'].get_sessions()[0].document.roots[0]._id)\";\n",
       "      cell.notebook.kernel.execute(cmd, {\n",
       "        iopub: {\n",
       "          output: function(msg) {\n",
       "            var id = msg.content.text.trim();\n",
       "            if (id in Bokeh.index) {\n",
       "              Bokeh.index[id].model.document.clear();\n",
       "              delete Bokeh.index[id];\n",
       "            }\n",
       "          }\n",
       "        }\n",
       "      });\n",
       "      // Destroy server and session\n",
       "      var cmd = \"import bokeh.io.notebook as ion; ion.destroy_server('\" + server_id + \"')\";\n",
       "      cell.notebook.kernel.execute(cmd);\n",
       "    }\n",
       "  }\n",
       "\n",
       "  /**\n",
       "   * Handle when a new output is added\n",
       "   */\n",
       "  function handleAddOutput(event, handle) {\n",
       "    var output_area = handle.output_area;\n",
       "    var output = handle.output;\n",
       "\n",
       "    // limit handleAddOutput to display_data with EXEC_MIME_TYPE content only\n",
       "    if ((output.output_type != \"display_data\") || (!output.data.hasOwnProperty(EXEC_MIME_TYPE))) {\n",
       "      return\n",
       "    }\n",
       "\n",
       "    var toinsert = output_area.element.find(\".\" + CLASS_NAME.split(' ')[0]);\n",
       "\n",
       "    if (output.metadata[EXEC_MIME_TYPE][\"id\"] !== undefined) {\n",
       "      toinsert[toinsert.length - 1].firstChild.textContent = output.data[JS_MIME_TYPE];\n",
       "      // store reference to embed id on output_area\n",
       "      output_area._bokeh_element_id = output.metadata[EXEC_MIME_TYPE][\"id\"];\n",
       "    }\n",
       "    if (output.metadata[EXEC_MIME_TYPE][\"server_id\"] !== undefined) {\n",
       "      var bk_div = document.createElement(\"div\");\n",
       "      bk_div.innerHTML = output.data[HTML_MIME_TYPE];\n",
       "      var script_attrs = bk_div.children[0].attributes;\n",
       "      for (var i = 0; i < script_attrs.length; i++) {\n",
       "        toinsert[toinsert.length - 1].firstChild.setAttribute(script_attrs[i].name, script_attrs[i].value);\n",
       "        toinsert[toinsert.length - 1].firstChild.textContent = bk_div.children[0].textContent\n",
       "      }\n",
       "      // store reference to server id on output_area\n",
       "      output_area._bokeh_server_id = output.metadata[EXEC_MIME_TYPE][\"server_id\"];\n",
       "    }\n",
       "  }\n",
       "\n",
       "  function register_renderer(events, OutputArea) {\n",
       "\n",
       "    function append_mime(data, metadata, element) {\n",
       "      // create a DOM node to render to\n",
       "      var toinsert = this.create_output_subarea(\n",
       "        metadata,\n",
       "        CLASS_NAME,\n",
       "        EXEC_MIME_TYPE\n",
       "      );\n",
       "      this.keyboard_manager.register_events(toinsert);\n",
       "      // Render to node\n",
       "      var props = {data: data, metadata: metadata[EXEC_MIME_TYPE]};\n",
       "      render(props, toinsert[toinsert.length - 1]);\n",
       "      element.append(toinsert);\n",
       "      return toinsert\n",
       "    }\n",
       "\n",
       "    /* Handle when an output is cleared or removed */\n",
       "    events.on('clear_output.CodeCell', handleClearOutput);\n",
       "    events.on('delete.Cell', handleClearOutput);\n",
       "\n",
       "    /* Handle when a new output is added */\n",
       "    events.on('output_added.OutputArea', handleAddOutput);\n",
       "\n",
       "    /**\n",
       "     * Register the mime type and append_mime function with output_area\n",
       "     */\n",
       "    OutputArea.prototype.register_mime_type(EXEC_MIME_TYPE, append_mime, {\n",
       "      /* Is output safe? */\n",
       "      safe: true,\n",
       "      /* Index of renderer in `output_area.display_order` */\n",
       "      index: 0\n",
       "    });\n",
       "  }\n",
       "\n",
       "  // register the mime type if in Jupyter Notebook environment and previously unregistered\n",
       "  if (root.Jupyter !== undefined) {\n",
       "    var events = require('base/js/events');\n",
       "    var OutputArea = require('notebook/js/outputarea').OutputArea;\n",
       "\n",
       "    if (OutputArea.prototype.mime_types().indexOf(EXEC_MIME_TYPE) == -1) {\n",
       "      register_renderer(events, OutputArea);\n",
       "    }\n",
       "  }\n",
       "\n",
       "  \n",
       "  if (typeof (root._bokeh_timeout) === \"undefined\" || force === true) {\n",
       "    root._bokeh_timeout = Date.now() + 5000;\n",
       "    root._bokeh_failed_load = false;\n",
       "  }\n",
       "\n",
       "  var NB_LOAD_WARNING = {'data': {'text/html':\n",
       "     \"<div style='background-color: #fdd'>\\n\"+\n",
       "     \"<p>\\n\"+\n",
       "     \"BokehJS does not appear to have successfully loaded. If loading BokehJS from CDN, this \\n\"+\n",
       "     \"may be due to a slow or bad network connection. Possible fixes:\\n\"+\n",
       "     \"</p>\\n\"+\n",
       "     \"<ul>\\n\"+\n",
       "     \"<li>re-rerun `output_notebook()` to attempt to load from CDN again, or</li>\\n\"+\n",
       "     \"<li>use INLINE resources instead, as so:</li>\\n\"+\n",
       "     \"</ul>\\n\"+\n",
       "     \"<code>\\n\"+\n",
       "     \"from bokeh.resources import INLINE\\n\"+\n",
       "     \"output_notebook(resources=INLINE)\\n\"+\n",
       "     \"</code>\\n\"+\n",
       "     \"</div>\"}};\n",
       "\n",
       "  function display_loaded() {\n",
       "    var el = document.getElementById(\"1001\");\n",
       "    if (el != null) {\n",
       "      el.textContent = \"BokehJS is loading...\";\n",
       "    }\n",
       "    if (root.Bokeh !== undefined) {\n",
       "      if (el != null) {\n",
       "        el.textContent = \"BokehJS \" + root.Bokeh.version + \" successfully loaded.\";\n",
       "      }\n",
       "    } else if (Date.now() < root._bokeh_timeout) {\n",
       "      setTimeout(display_loaded, 100)\n",
       "    }\n",
       "  }\n",
       "\n",
       "\n",
       "  function run_callbacks() {\n",
       "    try {\n",
       "      root._bokeh_onload_callbacks.forEach(function(callback) {\n",
       "        if (callback != null)\n",
       "          callback();\n",
       "      });\n",
       "    } finally {\n",
       "      delete root._bokeh_onload_callbacks\n",
       "    }\n",
       "    console.debug(\"Bokeh: all callbacks have finished\");\n",
       "  }\n",
       "\n",
       "  function load_libs(css_urls, js_urls, callback) {\n",
       "    if (css_urls == null) css_urls = [];\n",
       "    if (js_urls == null) js_urls = [];\n",
       "\n",
       "    root._bokeh_onload_callbacks.push(callback);\n",
       "    if (root._bokeh_is_loading > 0) {\n",
       "      console.debug(\"Bokeh: BokehJS is being loaded, scheduling callback at\", now());\n",
       "      return null;\n",
       "    }\n",
       "    if (js_urls == null || js_urls.length === 0) {\n",
       "      run_callbacks();\n",
       "      return null;\n",
       "    }\n",
       "    console.debug(\"Bokeh: BokehJS not loaded, scheduling load and callback at\", now());\n",
       "    root._bokeh_is_loading = css_urls.length + js_urls.length;\n",
       "\n",
       "    function on_load() {\n",
       "      root._bokeh_is_loading--;\n",
       "      if (root._bokeh_is_loading === 0) {\n",
       "        console.debug(\"Bokeh: all BokehJS libraries/stylesheets loaded\");\n",
       "        run_callbacks()\n",
       "      }\n",
       "    }\n",
       "\n",
       "    function on_error() {\n",
       "      console.error(\"failed to load \" + url);\n",
       "    }\n",
       "\n",
       "    for (var i = 0; i < css_urls.length; i++) {\n",
       "      var url = css_urls[i];\n",
       "      const element = document.createElement(\"link\");\n",
       "      element.onload = on_load;\n",
       "      element.onerror = on_error;\n",
       "      element.rel = \"stylesheet\";\n",
       "      element.type = \"text/css\";\n",
       "      element.href = url;\n",
       "      console.debug(\"Bokeh: injecting link tag for BokehJS stylesheet: \", url);\n",
       "      document.body.appendChild(element);\n",
       "    }\n",
       "\n",
       "    const hashes = {\"https://cdn.bokeh.org/bokeh/release/bokeh-2.1.1.min.js\": \"kLr4fYcqcSpbuI95brIH3vnnYCquzzSxHPU6XGQCIkQRGJwhg0StNbj1eegrHs12\", \"https://cdn.bokeh.org/bokeh/release/bokeh-widgets-2.1.1.min.js\": \"xIGPmVtaOm+z0BqfSOMn4lOR6ciex448GIKG4eE61LsAvmGj48XcMQZtKcE/UXZe\", \"https://cdn.bokeh.org/bokeh/release/bokeh-tables-2.1.1.min.js\": \"Dc9u1wF/0zApGIWoBbH77iWEHtdmkuYWG839Uzmv8y8yBLXebjO9ZnERsde5Ln/P\", \"https://cdn.bokeh.org/bokeh/release/bokeh-gl-2.1.1.min.js\": \"cT9JaBz7GiRXdENrJLZNSC6eMNF3nh3fa5fTF51Svp+ukxPdwcU5kGXGPBgDCa2j\"};\n",
       "\n",
       "    for (var i = 0; i < js_urls.length; i++) {\n",
       "      var url = js_urls[i];\n",
       "      var element = document.createElement('script');\n",
       "      element.onload = on_load;\n",
       "      element.onerror = on_error;\n",
       "      element.async = false;\n",
       "      element.src = url;\n",
       "      if (url in hashes) {\n",
       "        element.crossOrigin = \"anonymous\";\n",
       "        element.integrity = \"sha384-\" + hashes[url];\n",
       "      }\n",
       "      console.debug(\"Bokeh: injecting script tag for BokehJS library: \", url);\n",
       "      document.head.appendChild(element);\n",
       "    }\n",
       "  };\n",
       "\n",
       "  function inject_raw_css(css) {\n",
       "    const element = document.createElement(\"style\");\n",
       "    element.appendChild(document.createTextNode(css));\n",
       "    document.body.appendChild(element);\n",
       "  }\n",
       "\n",
       "  \n",
       "  var js_urls = [\"https://cdn.bokeh.org/bokeh/release/bokeh-2.1.1.min.js\", \"https://cdn.bokeh.org/bokeh/release/bokeh-widgets-2.1.1.min.js\", \"https://cdn.bokeh.org/bokeh/release/bokeh-tables-2.1.1.min.js\", \"https://cdn.bokeh.org/bokeh/release/bokeh-gl-2.1.1.min.js\"];\n",
       "  var css_urls = [];\n",
       "  \n",
       "\n",
       "  var inline_js = [\n",
       "    function(Bokeh) {\n",
       "      Bokeh.set_log_level(\"info\");\n",
       "    },\n",
       "    function(Bokeh) {\n",
       "    \n",
       "    \n",
       "    }\n",
       "  ];\n",
       "\n",
       "  function run_inline_js() {\n",
       "    \n",
       "    if (root.Bokeh !== undefined || force === true) {\n",
       "      \n",
       "    for (var i = 0; i < inline_js.length; i++) {\n",
       "      inline_js[i].call(root, root.Bokeh);\n",
       "    }\n",
       "    if (force === true) {\n",
       "        display_loaded();\n",
       "      }} else if (Date.now() < root._bokeh_timeout) {\n",
       "      setTimeout(run_inline_js, 100);\n",
       "    } else if (!root._bokeh_failed_load) {\n",
       "      console.log(\"Bokeh: BokehJS failed to load within specified timeout.\");\n",
       "      root._bokeh_failed_load = true;\n",
       "    } else if (force !== true) {\n",
       "      var cell = $(document.getElementById(\"1001\")).parents('.cell').data().cell;\n",
       "      cell.output_area.append_execute_result(NB_LOAD_WARNING)\n",
       "    }\n",
       "\n",
       "  }\n",
       "\n",
       "  if (root._bokeh_is_loading === 0) {\n",
       "    console.debug(\"Bokeh: BokehJS loaded, going straight to plotting\");\n",
       "    run_inline_js();\n",
       "  } else {\n",
       "    load_libs(css_urls, js_urls, function() {\n",
       "      console.debug(\"Bokeh: BokehJS plotting callback run at\", now());\n",
       "      run_inline_js();\n",
       "    });\n",
       "  }\n",
       "}(window));"
      ],
      "application/vnd.bokehjs_load.v0+json": "\n(function(root) {\n  function now() {\n    return new Date();\n  }\n\n  var force = true;\n\n  if (typeof root._bokeh_onload_callbacks === \"undefined\" || force === true) {\n    root._bokeh_onload_callbacks = [];\n    root._bokeh_is_loading = undefined;\n  }\n\n  \n\n  \n  if (typeof (root._bokeh_timeout) === \"undefined\" || force === true) {\n    root._bokeh_timeout = Date.now() + 5000;\n    root._bokeh_failed_load = false;\n  }\n\n  var NB_LOAD_WARNING = {'data': {'text/html':\n     \"<div style='background-color: #fdd'>\\n\"+\n     \"<p>\\n\"+\n     \"BokehJS does not appear to have successfully loaded. If loading BokehJS from CDN, this \\n\"+\n     \"may be due to a slow or bad network connection. Possible fixes:\\n\"+\n     \"</p>\\n\"+\n     \"<ul>\\n\"+\n     \"<li>re-rerun `output_notebook()` to attempt to load from CDN again, or</li>\\n\"+\n     \"<li>use INLINE resources instead, as so:</li>\\n\"+\n     \"</ul>\\n\"+\n     \"<code>\\n\"+\n     \"from bokeh.resources import INLINE\\n\"+\n     \"output_notebook(resources=INLINE)\\n\"+\n     \"</code>\\n\"+\n     \"</div>\"}};\n\n  function display_loaded() {\n    var el = document.getElementById(\"1001\");\n    if (el != null) {\n      el.textContent = \"BokehJS is loading...\";\n    }\n    if (root.Bokeh !== undefined) {\n      if (el != null) {\n        el.textContent = \"BokehJS \" + root.Bokeh.version + \" successfully loaded.\";\n      }\n    } else if (Date.now() < root._bokeh_timeout) {\n      setTimeout(display_loaded, 100)\n    }\n  }\n\n\n  function run_callbacks() {\n    try {\n      root._bokeh_onload_callbacks.forEach(function(callback) {\n        if (callback != null)\n          callback();\n      });\n    } finally {\n      delete root._bokeh_onload_callbacks\n    }\n    console.debug(\"Bokeh: all callbacks have finished\");\n  }\n\n  function load_libs(css_urls, js_urls, callback) {\n    if (css_urls == null) css_urls = [];\n    if (js_urls == null) js_urls = [];\n\n    root._bokeh_onload_callbacks.push(callback);\n    if (root._bokeh_is_loading > 0) {\n      console.debug(\"Bokeh: BokehJS is being loaded, scheduling callback at\", now());\n      return null;\n    }\n    if (js_urls == null || js_urls.length === 0) {\n      run_callbacks();\n      return null;\n    }\n    console.debug(\"Bokeh: BokehJS not loaded, scheduling load and callback at\", now());\n    root._bokeh_is_loading = css_urls.length + js_urls.length;\n\n    function on_load() {\n      root._bokeh_is_loading--;\n      if (root._bokeh_is_loading === 0) {\n        console.debug(\"Bokeh: all BokehJS libraries/stylesheets loaded\");\n        run_callbacks()\n      }\n    }\n\n    function on_error() {\n      console.error(\"failed to load \" + url);\n    }\n\n    for (var i = 0; i < css_urls.length; i++) {\n      var url = css_urls[i];\n      const element = document.createElement(\"link\");\n      element.onload = on_load;\n      element.onerror = on_error;\n      element.rel = \"stylesheet\";\n      element.type = \"text/css\";\n      element.href = url;\n      console.debug(\"Bokeh: injecting link tag for BokehJS stylesheet: \", url);\n      document.body.appendChild(element);\n    }\n\n    const hashes = {\"https://cdn.bokeh.org/bokeh/release/bokeh-2.1.1.min.js\": \"kLr4fYcqcSpbuI95brIH3vnnYCquzzSxHPU6XGQCIkQRGJwhg0StNbj1eegrHs12\", \"https://cdn.bokeh.org/bokeh/release/bokeh-widgets-2.1.1.min.js\": \"xIGPmVtaOm+z0BqfSOMn4lOR6ciex448GIKG4eE61LsAvmGj48XcMQZtKcE/UXZe\", \"https://cdn.bokeh.org/bokeh/release/bokeh-tables-2.1.1.min.js\": \"Dc9u1wF/0zApGIWoBbH77iWEHtdmkuYWG839Uzmv8y8yBLXebjO9ZnERsde5Ln/P\", \"https://cdn.bokeh.org/bokeh/release/bokeh-gl-2.1.1.min.js\": \"cT9JaBz7GiRXdENrJLZNSC6eMNF3nh3fa5fTF51Svp+ukxPdwcU5kGXGPBgDCa2j\"};\n\n    for (var i = 0; i < js_urls.length; i++) {\n      var url = js_urls[i];\n      var element = document.createElement('script');\n      element.onload = on_load;\n      element.onerror = on_error;\n      element.async = false;\n      element.src = url;\n      if (url in hashes) {\n        element.crossOrigin = \"anonymous\";\n        element.integrity = \"sha384-\" + hashes[url];\n      }\n      console.debug(\"Bokeh: injecting script tag for BokehJS library: \", url);\n      document.head.appendChild(element);\n    }\n  };\n\n  function inject_raw_css(css) {\n    const element = document.createElement(\"style\");\n    element.appendChild(document.createTextNode(css));\n    document.body.appendChild(element);\n  }\n\n  \n  var js_urls = [\"https://cdn.bokeh.org/bokeh/release/bokeh-2.1.1.min.js\", \"https://cdn.bokeh.org/bokeh/release/bokeh-widgets-2.1.1.min.js\", \"https://cdn.bokeh.org/bokeh/release/bokeh-tables-2.1.1.min.js\", \"https://cdn.bokeh.org/bokeh/release/bokeh-gl-2.1.1.min.js\"];\n  var css_urls = [];\n  \n\n  var inline_js = [\n    function(Bokeh) {\n      Bokeh.set_log_level(\"info\");\n    },\n    function(Bokeh) {\n    \n    \n    }\n  ];\n\n  function run_inline_js() {\n    \n    if (root.Bokeh !== undefined || force === true) {\n      \n    for (var i = 0; i < inline_js.length; i++) {\n      inline_js[i].call(root, root.Bokeh);\n    }\n    if (force === true) {\n        display_loaded();\n      }} else if (Date.now() < root._bokeh_timeout) {\n      setTimeout(run_inline_js, 100);\n    } else if (!root._bokeh_failed_load) {\n      console.log(\"Bokeh: BokehJS failed to load within specified timeout.\");\n      root._bokeh_failed_load = true;\n    } else if (force !== true) {\n      var cell = $(document.getElementById(\"1001\")).parents('.cell').data().cell;\n      cell.output_area.append_execute_result(NB_LOAD_WARNING)\n    }\n\n  }\n\n  if (root._bokeh_is_loading === 0) {\n    console.debug(\"Bokeh: BokehJS loaded, going straight to plotting\");\n    run_inline_js();\n  } else {\n    load_libs(css_urls, js_urls, function() {\n      console.debug(\"Bokeh: BokehJS plotting callback run at\", now());\n      run_inline_js();\n    });\n  }\n}(window));"
     },
     "metadata": {},
     "output_type": "display_data"
    }
   ],
   "source": [
    "output_notebook()"
   ]
  },
  {
   "cell_type": "code",
   "execution_count": 116,
   "metadata": {},
   "outputs": [
    {
     "data": {
      "text/html": [
       "\n",
       "\n",
       "\n",
       "\n",
       "\n",
       "\n",
       "  <div class=\"bk-root\" id=\"e9a9e398-b53c-4d8d-ad35-dd6a26594c5b\" data-root-id=\"53107\"></div>\n"
      ]
     },
     "metadata": {},
     "output_type": "display_data"
    },
    {
     "data": {
      "application/javascript": [
       "(function(root) {\n",
       "  function embed_document(root) {\n",
       "    \n",
       "  var docs_json = {\"ce1844c7-89d9-4976-bc88-8304024719d4\":{\"roots\":{\"references\":[{\"attributes\":{\"below\":[{\"id\":\"53118\"}],\"center\":[{\"id\":\"53121\"},{\"id\":\"53125\"}],\"left\":[{\"id\":\"53122\"}],\"plot_height\":400,\"plot_width\":900,\"renderers\":[{\"id\":\"53143\"},{\"id\":\"53148\"},{\"id\":\"53153\"},{\"id\":\"53158\"},{\"id\":\"53163\"},{\"id\":\"53168\"},{\"id\":\"53173\"},{\"id\":\"53178\"},{\"id\":\"53183\"},{\"id\":\"53188\"}],\"right\":[{\"id\":\"53190\"}],\"title\":{\"id\":\"53108\"},\"toolbar\":{\"id\":\"53133\"},\"x_range\":{\"id\":\"53110\"},\"x_scale\":{\"id\":\"53114\"},\"y_range\":{\"id\":\"53112\"},\"y_scale\":{\"id\":\"53116\"}},\"id\":\"53107\",\"subtype\":\"Figure\",\"type\":\"Plot\"},{\"attributes\":{\"data\":{\"x\":{\"__ndarray__\":\"AAAAO8Eod0IAAEDVbih3QgAAgG8cKHdCAADACcond0IAAACkdyd3QgAAQD4lJ3dCAACA2NImd0IAAMBygCZ3QgAAAA0uJndCAABAp9sld0IAAIBBiSV3QgAAwNs2JXdCAAAAduQkd0IAAEAQkiR3QgAAgKo/JHdCAADARO0jd0IAAADfmiN3QgAAQHlII3dCAACAE/Yid0IAAMCtoyJ3QgAAAEhRIndCAABA4v4hd0IAAIB8rCF3QgAAwBZaIXdCAAAAsQchd0IAAEBLtSB3QgAAgOViIHdCAADAfxAgd0IAAAAavh93QgAAQLRrH3dCAACAThkfd0IAAMDoxh53QgAAAIN0HndCAABAHSIed0IAAIC3zx13QgAAwFF9HXdCAAAA7Codd0IAAECG2Bx3QgAAgCCGHHdCAADAujMcd0IAAABV4Rt3QgAAQO+OG3dCAACAiTwbd0IAAMAj6hp3QgAAAL6XGndCAABAWEUad0IAAIDy8hl3QgAAwIygGXdCAAAAJ04Zd0IAAEDB+xh3QgAAgFupGHdCAADA9VYYd0IAAACQBBh3QgAAQCqyF3dCAACAxF8Xd0IAAMBeDRd3QgAAAPm6FndCAABAk2gWd0IAAIAtFhZ3QgAAwMfDFXdCAAAAYnEVd0IAAED8HhV3QgAAgJbMFHdCAADAMHoUd0IAAADLJxR3QgAAQGXVE3dCAACA/4ITd0IAAMCZMBN3QgAAADTeEndCAABAzosSd0IAAIBoORJ3QgAAwALnEXdCAAAAnZQRd0IAAEA3QhF3QgAAgNHvEHdCAADAa50Qd0IAAAAGSxB3QgAAQKD4D3dCAACAOqYPd0IAAMDUUw93QgAAAG8BD3dCAABACa8Od0IAAICjXA53QgAAwD0KDndCAAAA2LcNd0IAAEByZQ13QgAAgAwTDXdCAADApsAMd0IAAABBbgx3QgAAQNsbDHdCAACAdckLd0IAAMAPdwt3QgAAAKokC3dCAABARNIKd0IAAIDefwp3QgAAwHgtCndCAAAAE9sJd0IAAECtiAl3QgAAgEc2CXdCAADA4eMId0I=\",\"dtype\":\"float64\",\"order\":\"little\",\"shape\":[100]},\"y\":{\"__ndarray__\":\"QbWUH6vmqEBOySViAC6oQOlXt1rQeadAEGFJCRvKpkDE5Ntt4B6mQATjboggeKVA0lsCWdvVpEAsT5bfEDikQBS9KhzBnqNAiKW/DuwJo0CJCFW3kXmiQBfm6hWy7aFAMj6BKk1moUDZEBj1YuOgQA5er3XzZKBAnUuOWP3Vn0A60L4xCeueQPBJ8HYKCZ5AwLgiKAEwnUCpHFZF7V+cQK11is7OmJtAycO/w6XamkAAB/YkciWaQFA/LfIzeZlAu2xlK+vVmEAhjJ7QlzuYQACdCE4Hf5dACIJnSpjKlkCYZZI8SSKWQDGYs5OphpVASHq36675lEDXEUc4zXyUQAijOhwQEJRAJlAnqzG2k0ACyu/qonCTQIYHRlVPQJNAOYEBV2glk0ANNUOSJh+TQHN5UEWWLZNAE2IPJaZPk0DxueKny4WTQGhvfOkh0ZNAEN7EwqswlEDULwP/cKGUQPnS4Q7AIpVAHk/b5QK1lUB1eRQYf1WWQMbEvi9oApdAZI8/2Sy6l0CB5iZpaXuYQOyDALe7QplAp4o+UKoOmkCSIUGdpdiaQERee2AZoZtA2g2RZRlpnECaDY85Mi6dQI/WCtNG751Arf5YdGGqnkA25KhEU1yfQKFm398AAqBAONHfYHBQoED6/JqH0pegQFa2bmvT1qBAgTEFPcULoUA9ErtydzGhQJ4sJhTTUKFAFq7uusljoUA4UUPAg2qhQDN4B5jOZKFAs2waOHtSoUBsujwesTOhQBUSTP2hCKFAeQv+RevQoEB08CIqhY2gQLbc81ypP6BASGYA9A7nn0By9voKFT2fQBRu1/5kgZ5AL82Vz/6znUDEEzZ94tScQNBBuAcQ5JtAV1ccb4fhmkBXVGKzSM2ZQM44itRTp5hAvwSU0qhvl0AouH+tRyaWQAxTTWUwy5RAaNX8+WJek0A8P45r39+RQIqQAbqlT5BApJKtymtbjUAg0xvbH/SJQJTiTaVnaYZA+cBDKUO7gkCU3PrNZNN9QCjV9bxq6XVAKNfwPjBxa0CwfwrWswNVQKBuXAe27EvAgDukB+YFacA=\",\"dtype\":\"float64\",\"order\":\"little\",\"shape\":[100]}},\"selected\":{\"id\":\"54835\"},\"selection_policy\":{\"id\":\"54834\"}},\"id\":\"53180\",\"type\":\"ColumnDataSource\"},{\"attributes\":{\"source\":{\"id\":\"53165\"}},\"id\":\"53169\",\"type\":\"CDSView\"},{\"attributes\":{},\"id\":\"53131\",\"type\":\"HelpTool\"},{\"attributes\":{\"line_alpha\":0.1,\"line_color\":\"green\",\"x\":{\"field\":\"x\"},\"y\":{\"field\":\"y\"}},\"id\":\"53167\",\"type\":\"Line\"},{\"attributes\":{\"source\":{\"id\":\"53170\"}},\"id\":\"53174\",\"type\":\"CDSView\"},{\"attributes\":{\"line_alpha\":0.1,\"x\":{\"field\":\"x\"},\"y\":{\"field\":\"y\"}},\"id\":\"53177\",\"type\":\"Line\"},{\"attributes\":{\"bottom_units\":\"screen\",\"fill_alpha\":0.5,\"fill_color\":\"lightgrey\",\"left_units\":\"screen\",\"level\":\"overlay\",\"line_alpha\":1.0,\"line_color\":\"black\",\"line_dash\":[4,4],\"line_width\":2,\"right_units\":\"screen\",\"top_units\":\"screen\"},\"id\":\"53132\",\"type\":\"BoxAnnotation\"},{\"attributes\":{\"line_color\":\"green\",\"x\":{\"field\":\"x\"},\"y\":{\"field\":\"y\"}},\"id\":\"53166\",\"type\":\"Line\"},{\"attributes\":{},\"id\":\"54820\",\"type\":\"UnionRenderers\"},{\"attributes\":{},\"id\":\"54818\",\"type\":\"UnionRenderers\"},{\"attributes\":{},\"id\":\"54819\",\"type\":\"Selection\"},{\"attributes\":{\"data_source\":{\"id\":\"53165\"},\"glyph\":{\"id\":\"53166\"},\"hover_glyph\":null,\"muted_glyph\":null,\"nonselection_glyph\":{\"id\":\"53167\"},\"selection_glyph\":null,\"view\":{\"id\":\"53169\"}},\"id\":\"53168\",\"type\":\"GlyphRenderer\"},{\"attributes\":{\"data\":{\"x\":{\"__ndarray__\":\"AAAAO8Eod0IAAEDVbih3QgAAgG8cKHdCAADACcond0IAAACkdyd3QgAAQD4lJ3dCAACA2NImd0IAAMBygCZ3QgAAAA0uJndCAABAp9sld0IAAIBBiSV3QgAAwNs2JXdCAAAAduQkd0IAAEAQkiR3QgAAgKo/JHdCAADARO0jd0IAAADfmiN3QgAAQHlII3dCAACAE/Yid0IAAMCtoyJ3QgAAAEhRIndCAABA4v4hd0IAAIB8rCF3QgAAwBZaIXdCAAAAsQchd0IAAEBLtSB3QgAAgOViIHdCAADAfxAgd0IAAAAavh93QgAAQLRrH3dCAACAThkfd0IAAMDoxh53QgAAAIN0HndCAABAHSIed0IAAIC3zx13QgAAwFF9HXdCAAAA7Codd0IAAECG2Bx3QgAAgCCGHHdCAADAujMcd0IAAABV4Rt3QgAAQO+OG3dCAACAiTwbd0IAAMAj6hp3QgAAAL6XGndCAABAWEUad0IAAIDy8hl3QgAAwIygGXdCAAAAJ04Zd0IAAEDB+xh3QgAAgFupGHdCAADA9VYYd0IAAACQBBh3QgAAQCqyF3dCAACAxF8Xd0IAAMBeDRd3QgAAAPm6FndCAABAk2gWd0IAAIAtFhZ3QgAAwMfDFXdCAAAAYnEVd0IAAED8HhV3QgAAgJbMFHdCAADAMHoUd0IAAADLJxR3QgAAQGXVE3dCAACA/4ITd0IAAMCZMBN3QgAAADTeEndCAABAzosSd0IAAIBoORJ3QgAAwALnEXdCAAAAnZQRd0IAAEA3QhF3QgAAgNHvEHdCAADAa50Qd0IAAAAGSxB3QgAAQKD4D3dCAACAOqYPd0IAAMDUUw93QgAAAG8BD3dCAABACa8Od0IAAICjXA53QgAAwD0KDndCAAAA2LcNd0IAAEByZQ13QgAAgAwTDXdCAADApsAMd0IAAABBbgx3QgAAQNsbDHdCAACAdckLd0IAAMAPdwt3QgAAAKokC3dCAABARNIKd0IAAIDefwp3QgAAwHgtCndCAAAAE9sJd0IAAECtiAl3QgAAgEc2CXdCAADA4eMId0I=\",\"dtype\":\"float64\",\"order\":\"little\",\"shape\":[100]},\"y\":{\"__ndarray__\":\"+gD7AbyKdkC7F9KY3Dd2QD/wrq3sDXZAhYqRQOwMdkCO5nlR2zR2QFoEaOC5hXZA6eNb7Yf/dkA6hVV4RaJ3QE7oVIHybXhAJQ1aCI9ieUC/82QNG4B6QBucdZCWxntAOgaMkQE2fUAcMqgQXM5+QOAP5QbTR4BAlOd4xO88gUAooA9BhEaCQJ85qXyQZINA9rNFdxSXhEAvD+UwEN6FQEpLh6mDOYdARmgs4W6piEAiZtTX0S2KQOFEf42sxotAgQQtAv9zjUD7oN01yTWPQHnSLQK5kpBAIPYVCv+YkUAoYFxBnaqSQMppjjlUxJNAnjMYk6HilEDIhjcrIwWWQN9BWGpxL5dA61Et8f1gmECNAuml0p2ZQErCjMUH5JpAFuHks1E0nEBwnGvXHo+dQNwIzcuU8p5AzLZRC4UxoEAcwWcnYPCgQHiuWmiitqFAsNA/0wSDokDZUBBm41WjQIUCZ08ALqRARh5MPOALpUDGhGr49u2lQDw7a8Rp1aZAVUAgRPfBp0AOTvytnrGoQPrkRXwwoqlA9ayZuZGSqkAIRjPM2ICrQJmzHSF1bqxAYlos+UFZrUCaM4WSCECuQD3V1iMAIK9ANzafA6f2r0C0FeuAL2KwQMWl+pnWw7BA96S7xyMgsUBAZIfiUXexQPpIyJlayLFA7/uhBOIRskC3BGprxVKyQCdUZmHOirJAAwzfsn+5skBwu05tOt6yQDZ/TRYd+bJA2yO5MKwJs0AZ5qSAiw6zQKAAjKpCBrNAeLi+ZYbwskDJMX6l8MyyQPUhCkfkm7JAdv2k5tRPskDyNBd2gPexQMrKYPXmkrFAAb+BZAgisUCUEXrD5KSwQIbCSRJ8G7BApqPhoZwLr0D7ft7+tsetQAwXijtHa6xA1mvkV032qkBcfe1TyWipQJtLpS+7wqdAk9YL6yIEpkBIHiGGAC2kQLYi5QBUPaJA4ONXWx01oECHw/IquSicQL84k14jtpdAbCeRUXkSk0AYH9kHdnuMQETiSuvQb4JA4DDvmgYEcECg9AWNlm9WwFhF/OMiAHzA4JOgk1iUicA=\",\"dtype\":\"float64\",\"order\":\"little\",\"shape\":[100]}},\"selected\":{\"id\":\"54823\"},\"selection_policy\":{\"id\":\"54822\"}},\"id\":\"53150\",\"type\":\"ColumnDataSource\"},{\"attributes\":{},\"id\":\"54821\",\"type\":\"Selection\"},{\"attributes\":{\"line_alpha\":0.8,\"line_color\":\"red\",\"line_dash\":[6],\"x\":{\"field\":\"x\"},\"y\":{\"field\":\"y\"}},\"id\":\"53141\",\"type\":\"Line\"},{\"attributes\":{\"source\":{\"id\":\"53140\"}},\"id\":\"53144\",\"type\":\"CDSView\"},{\"attributes\":{\"data_source\":{\"id\":\"53150\"},\"glyph\":{\"id\":\"53151\"},\"hover_glyph\":null,\"muted_glyph\":null,\"nonselection_glyph\":{\"id\":\"53152\"},\"selection_glyph\":null,\"view\":{\"id\":\"53154\"}},\"id\":\"53153\",\"type\":\"GlyphRenderer\"},{\"attributes\":{\"line_alpha\":0.8,\"line_color\":\"blue\",\"line_dash\":[6],\"x\":{\"field\":\"x\"},\"y\":{\"field\":\"y\"}},\"id\":\"53151\",\"type\":\"Line\"},{\"attributes\":{\"line_alpha\":0.1,\"line_color\":\"red\",\"line_dash\":[6],\"x\":{\"field\":\"x\"},\"y\":{\"field\":\"y\"}},\"id\":\"53142\",\"type\":\"Line\"},{\"attributes\":{\"active_drag\":\"auto\",\"active_inspect\":\"auto\",\"active_multi\":null,\"active_scroll\":\"auto\",\"active_tap\":\"auto\",\"tools\":[{\"id\":\"53126\"},{\"id\":\"53127\"},{\"id\":\"53128\"},{\"id\":\"53129\"},{\"id\":\"53130\"},{\"id\":\"53131\"}]},\"id\":\"53133\",\"type\":\"Toolbar\"},{\"attributes\":{\"source\":{\"id\":\"53145\"}},\"id\":\"53149\",\"type\":\"CDSView\"},{\"attributes\":{},\"id\":\"54822\",\"type\":\"UnionRenderers\"},{\"attributes\":{},\"id\":\"54823\",\"type\":\"Selection\"},{\"attributes\":{\"data_source\":{\"id\":\"53155\"},\"glyph\":{\"id\":\"53156\"},\"hover_glyph\":null,\"muted_glyph\":null,\"nonselection_glyph\":{\"id\":\"53157\"},\"selection_glyph\":null,\"view\":{\"id\":\"53159\"}},\"id\":\"53158\",\"type\":\"GlyphRenderer\"},{\"attributes\":{\"source\":{\"id\":\"53150\"}},\"id\":\"53154\",\"type\":\"CDSView\"},{\"attributes\":{\"line_alpha\":0.1,\"line_color\":\"blue\",\"line_dash\":[6],\"x\":{\"field\":\"x\"},\"y\":{\"field\":\"y\"}},\"id\":\"53152\",\"type\":\"Line\"},{\"attributes\":{\"data\":{\"x\":{\"__ndarray__\":\"AAAASFEid0IAAEDi/iF3QgAAgHysIXdCAADAFlohd0IAAACxByF3QgAAQEu1IHdCAACA5WIgd0IAAMB/ECB3QgAAABq+H3dCAABAtGsfd0IAAIBOGR93QgAAwOjGHndCAAAAg3Qed0IAAEAdIh53QgAAgLfPHXdCAADAUX0dd0IAAADsKh13QgAAQIbYHHdCAACAIIYcd0IAAMC6Mxx3QgAAAFXhG3dCAABA744bd0IAAICJPBt3QgAAwCPqGndCAAAAvpcad0IAAEBYRRp3QgAAgPLyGXdCAADAjKAZd0IAAAAnThl3QgAAQMH7GHdCAACAW6kYd0IAAMD1Vhh3QgAAAJAEGHdCAABAKrIXd0IAAIDEXxd3QgAAwF4NF3dCAAAA+boWd0IAAECTaBZ3QgAAgC0WFndCAADAx8MVd0IAAABicRV3QgAAQPweFXdCAACAlswUd0IAAMAwehR3QgAAAMsnFHdCAABAZdUTd0IAAID/ghN3QgAAwJkwE3dCAAAANN4Sd0IAAEDOixJ3QgAAgGg5EndCAADAAucRd0IAAACdlBF3QgAAQDdCEXdCAACA0e8Qd0IAAMBrnRB3QgAAAAZLEHdCAABAoPgPd0IAAIA6pg93QgAAwNRTD3dCAAAAbwEPd0IAAEAJrw53QgAAgKNcDndCAADAPQoOd0IAAADYtw13QgAAQHJlDXdCAACADBMNd0IAAMCmwAx3QgAAAEFuDHdCAABA2xsMd0IAAIB1yQt3Qg==\",\"dtype\":\"float64\",\"order\":\"little\",\"shape\":[71]},\"y\":{\"__ndarray__\":\"SkuHqYM5h0BGaCzhbqmIQCJm1NfRLYpA4UR/jazGi0CBBC0C/3ONQPug3TXJNY9AedItArmSkEAg9hUK/5iRQChgXEGdqpJAymmOOVTEk0CeMxiToeKUQMiGNysjBZZA30FYanEvl0DrUS3x/WCYQI0C6aXSnZlASsKMxQfkmkAW4eSzUTScQHCca9cej51A3AjNy5TynkDMtlELhTGgQBzBZydg8KBAeK5aaKK2oUCw0D/TBIOiQNlQEGbjVaNAhQJnTwAupEBGHkw84AulQMaEavj27aVAPDtrxGnVpkBVQCBE98GnQA5O/K2esahA+uRFfDCiqUD1rJm5kZKqQAhGM8zYgKtAmbMdIXVurEBiWiz5QVmtQJozhZIIQK5APdXWIwAgr0A3Np8Dp/avQLQV64AvYrBAxaX6mdbDsED3pLvHIyCxQEBkh+JRd7FA+kjImVrIsUDv+6EE4hGyQLcEamvFUrJAJ1RmYc6KskADDN+yf7myQHC7Tm063rJANn9NFh35skDbI7kwrAmzQBnmpICLDrNAoACMqkIGs0B4uL5lhvCyQMkxfqXwzLJA9SEKR+SbskB2/aTm1E+yQPI0F3aA97FAyspg9eaSsUABv4FkCCKxQJQResPkpLBAhsJJEnwbsECmo+GhnAuvQPt+3v62x61ADBeKO0drrEDWa+RXTfaqQFx97VPJaKlAm0ulL7vCp0CT1gvrIgSmQEgeIYYALaRAtiLlAFQ9okDg41dbHTWgQA==\",\"dtype\":\"float64\",\"order\":\"little\",\"shape\":[71]}},\"selected\":{\"id\":\"54825\"},\"selection_policy\":{\"id\":\"54824\"}},\"id\":\"53155\",\"type\":\"ColumnDataSource\"},{\"attributes\":{\"data_source\":{\"id\":\"53160\"},\"glyph\":{\"id\":\"53161\"},\"hover_glyph\":null,\"muted_glyph\":null,\"nonselection_glyph\":{\"id\":\"53162\"},\"selection_glyph\":null,\"view\":{\"id\":\"53164\"}},\"id\":\"53163\",\"type\":\"GlyphRenderer\"},{\"attributes\":{\"data\":{\"x\":{\"__ndarray__\":\"AAAAO8Eod0IAAEDVbih3QgAAgG8cKHdCAADACcond0IAAACkdyd3QgAAQD4lJ3dCAACA2NImd0IAAMBygCZ3QgAAAA0uJndCAABAp9sld0IAAIBBiSV3QgAAwNs2JXdCAAAAduQkd0IAAEAQkiR3QgAAgKo/JHdCAADARO0jd0IAAADfmiN3QgAAQHlII3dCAACAE/Yid0IAAMCtoyJ3QgAAAEhRIndCAABA4v4hd0IAAIB8rCF3QgAAwBZaIXdCAAAAsQchd0IAAEBLtSB3QgAAgOViIHdCAADAfxAgd0IAAAAavh93QgAAQLRrH3dCAACAThkfd0IAAMDoxh53QgAAAIN0HndCAABAHSIed0IAAIC3zx13QgAAwFF9HXdCAAAA7Codd0IAAECG2Bx3QgAAgCCGHHdCAADAujMcd0IAAABV4Rt3QgAAQO+OG3dCAACAiTwbd0IAAMAj6hp3QgAAAL6XGndCAABAWEUad0IAAIDy8hl3QgAAwIygGXdCAAAAJ04Zd0IAAEDB+xh3QgAAgFupGHdCAADA9VYYd0IAAACQBBh3QgAAQCqyF3dCAACAxF8Xd0IAAMBeDRd3QgAAAPm6FndCAABAk2gWd0IAAIAtFhZ3QgAAwMfDFXdCAAAAYnEVd0IAAED8HhV3QgAAgJbMFHdCAADAMHoUd0IAAADLJxR3QgAAQGXVE3dCAACA/4ITd0IAAMCZMBN3QgAAADTeEndCAABAzosSd0IAAIBoORJ3QgAAwALnEXdCAAAAnZQRd0IAAEA3QhF3QgAAgNHvEHdCAADAa50Qd0IAAAAGSxB3QgAAQKD4D3dCAACAOqYPd0IAAMDUUw93QgAAAG8BD3dCAABACa8Od0IAAICjXA53QgAAwD0KDndCAAAA2LcNd0IAAEByZQ13QgAAgAwTDXdCAADApsAMd0IAAABBbgx3QgAAQNsbDHdCAACAdckLd0IAAMAPdwt3QgAAAKokC3dCAABARNIKd0IAAIDefwp3QgAAwHgtCndCAAAAE9sJd0IAAECtiAl3QgAAgEc2CXdCAADA4eMId0I=\",\"dtype\":\"float64\",\"order\":\"little\",\"shape\":[100]},\"y\":{\"__ndarray__\":\"KM8GtI1zgkBEvgxI8F2BQP4tpl7oYIBAqjym7+v4fkCUHicnMmF9QLoBz2Oj+ntAHOadpT/FekC5y5PsBsF5QJKysDj57XhAppr0iRZMeED2g1/gXtt3QIFu8TvSm3dASFqqnHCNd0BKR4oCOrB3QIg1kW0uBHhAAiW/3U2JeEC3FRRTmD95QKcHkM0NJ3pA1PoyTa4/e0A77/zReYl8QN/k7VtwBH5Av9sF65Gwf0DsaaI/78aAQJdmVQwrzoFA4OObW/ztgkAo33UtYyaEQI9RRA+cIoVAqq0D79M3hkD8ZzKhnXOHQLqzuU5F4YhAIYhXRNReikBk4CLW+/aLQI3YYw+ZsY1AyE7n0x6Xj0Ci7ERpwNaQQAhwG+3w/JFA33L0BxFAk0BAmp09VZ+UQI4/abVJGZZALxqJ1IKvl0C7HTitLmKZQJXJqeDlMZtABBisyHUenUDb4d/STiOfQF/mfHubnqBAvCXBv3G0oUDLbXup1tGiQH0MhrWH9aNAJXcdx8EepUCLYhtAs0umQI2ywaAadadAnxV8GoKZqEAANzMhqbWpQHnnlM5FyapAsjyxveLTq0CH2vhas9SsQBxkajV1ya1AI2D1SPuvrkB8aH2qvYSvQFSRPuUYIrBAC+4qaUh3sEDya+1ZUcKwQGt5J+OHArFAZZiVM4s3sUCeft56+V6xQAQYALIgeLFATdVBhKmCsUA8liMfg36xQEJz+ujwa7FA47zrMs1LsUA0I631/x2xQLvGCrjy4rBA6G5KtWeYsECKvlghAj+wQBCuF/Eor69AkGFYNM7frkCqC7mfMvmtQGuwOTNW+6xA0k/a7jjmq0Dc6ZrS2rmqQI9+e947dqlA6A18ElwbqEDnl5xuO6mmQIsc3fLZH6VA1Js9nzd/o0DEFb5zVMehQLYUveBg8J9AMPM9KpcjnED1xv7DSyiYQAGQ/61+/pNAvJyA0F9Mj0AQBILlvj6GQPCrBjY1qHlA4JMkiJdjWECwGelh4GBswLg0eYHmmYHAcDj4SZh4jMDEqPu4JtqTwBRAu/yCppnADOI68GChn8A=\",\"dtype\":\"float64\",\"order\":\"little\",\"shape\":[100]}},\"selected\":{\"id\":\"54827\"},\"selection_policy\":{\"id\":\"54826\"}},\"id\":\"53160\",\"type\":\"ColumnDataSource\"},{\"attributes\":{\"axis_label\":\"number of cases\",\"formatter\":{\"id\":\"54814\"},\"ticker\":{\"id\":\"53123\"}},\"id\":\"53122\",\"type\":\"LinearAxis\"},{\"attributes\":{},\"id\":\"54824\",\"type\":\"UnionRenderers\"},{\"attributes\":{},\"id\":\"54825\",\"type\":\"Selection\"},{\"attributes\":{\"line_color\":\"blue\",\"x\":{\"field\":\"x\"},\"y\":{\"field\":\"y\"}},\"id\":\"53156\",\"type\":\"Line\"},{\"attributes\":{\"data_source\":{\"id\":\"53180\"},\"glyph\":{\"id\":\"53181\"},\"hover_glyph\":null,\"muted_glyph\":null,\"nonselection_glyph\":{\"id\":\"53182\"},\"selection_glyph\":null,\"view\":{\"id\":\"53184\"}},\"id\":\"53183\",\"type\":\"GlyphRenderer\"},{\"attributes\":{\"line_alpha\":0.8,\"line_color\":\"green\",\"line_dash\":[6],\"x\":{\"field\":\"x\"},\"y\":{\"field\":\"y\"}},\"id\":\"53161\",\"type\":\"Line\"},{\"attributes\":{},\"id\":\"54829\",\"type\":\"Selection\"},{\"attributes\":{\"source\":{\"id\":\"53155\"}},\"id\":\"53159\",\"type\":\"CDSView\"},{\"attributes\":{\"line_alpha\":0.1,\"line_color\":\"blue\",\"x\":{\"field\":\"x\"},\"y\":{\"field\":\"y\"}},\"id\":\"53157\",\"type\":\"Line\"},{\"attributes\":{\"source\":{\"id\":\"53160\"}},\"id\":\"53164\",\"type\":\"CDSView\"},{\"attributes\":{},\"id\":\"54826\",\"type\":\"UnionRenderers\"},{\"attributes\":{\"data\":{\"x\":{\"__ndarray__\":\"AAAAJ04Zd0IAAEDB+xh3QgAAgFupGHdCAADA9VYYd0IAAACQBBh3QgAAQCqyF3dCAACAxF8Xd0IAAMBeDRd3QgAAAPm6FndCAABAk2gWd0IAAIAtFhZ3QgAAwMfDFXdCAAAAYnEVd0IAAED8HhV3QgAAgJbMFHdCAADAMHoUd0IAAADLJxR3QgAAQGXVE3dCAACA/4ITd0IAAMCZMBN3QgAAADTeEndCAABAzosSd0IAAIBoORJ3QgAAwALnEXdCAAAAnZQRd0IAAEA3QhF3QgAAgNHvEHdCAADAa50Qd0IAAAAGSxB3Qg==\",\"dtype\":\"float64\",\"order\":\"little\",\"shape\":[29]},\"y\":{\"__ndarray__\":\"JXcdx8EepUCLYhtAs0umQI2ywaAadadAnxV8GoKZqEAANzMhqbWpQHnnlM5FyapAsjyxveLTq0CH2vhas9SsQBxkajV1ya1AI2D1SPuvrkB8aH2qvYSvQFSRPuUYIrBAC+4qaUh3sEDya+1ZUcKwQGt5J+OHArFAZZiVM4s3sUCeft56+V6xQAQYALIgeLFATdVBhKmCsUA8liMfg36xQEJz+ujwa7FA47zrMs1LsUA0I631/x2xQLvGCrjy4rBA6G5KtWeYsECKvlghAj+wQBCuF/Eor69AkGFYNM7frkCqC7mfMvmtQA==\",\"dtype\":\"float64\",\"order\":\"little\",\"shape\":[29]}},\"selected\":{\"id\":\"54829\"},\"selection_policy\":{\"id\":\"54828\"}},\"id\":\"53165\",\"type\":\"ColumnDataSource\"},{\"attributes\":{\"line_alpha\":0.1,\"line_dash\":[6],\"x\":{\"field\":\"x\"},\"y\":{\"field\":\"y\"}},\"id\":\"53172\",\"type\":\"Line\"},{\"attributes\":{},\"id\":\"54827\",\"type\":\"Selection\"},{\"attributes\":{\"line_alpha\":0.1,\"line_color\":\"green\",\"line_dash\":[6],\"x\":{\"field\":\"x\"},\"y\":{\"field\":\"y\"}},\"id\":\"53162\",\"type\":\"Line\"},{\"attributes\":{\"line_alpha\":0.8,\"line_dash\":[6],\"x\":{\"field\":\"x\"},\"y\":{\"field\":\"y\"}},\"id\":\"53171\",\"type\":\"Line\"},{\"attributes\":{\"data_source\":{\"id\":\"53170\"},\"glyph\":{\"id\":\"53171\"},\"hover_glyph\":null,\"muted_glyph\":null,\"nonselection_glyph\":{\"id\":\"53172\"},\"selection_glyph\":null,\"view\":{\"id\":\"53174\"}},\"id\":\"53173\",\"type\":\"GlyphRenderer\"},{\"attributes\":{\"data\":{\"x\":{\"__ndarray__\":\"AAAAO8Eod0IAAEDVbih3QgAAgG8cKHdCAADACcond0IAAACkdyd3QgAAQD4lJ3dCAACA2NImd0IAAMBygCZ3QgAAAA0uJndCAABAp9sld0IAAIBBiSV3QgAAwNs2JXdCAAAAduQkd0IAAEAQkiR3QgAAgKo/JHdCAADARO0jd0IAAADfmiN3QgAAQHlII3dCAACAE/Yid0IAAMCtoyJ3QgAAAEhRIndCAABA4v4hd0IAAIB8rCF3QgAAwBZaIXdCAAAAsQchd0IAAEBLtSB3QgAAgOViIHdCAADAfxAgd0IAAAAavh93QgAAQLRrH3dCAACAThkfd0IAAMDoxh53QgAAAIN0HndCAABAHSIed0IAAIC3zx13QgAAwFF9HXdCAAAA7Codd0IAAECG2Bx3QgAAgCCGHHdCAADAujMcd0IAAABV4Rt3QgAAQO+OG3dCAACAiTwbd0IAAMAj6hp3QgAAAL6XGndCAABAWEUad0IAAIDy8hl3QgAAwIygGXdCAAAAJ04Zd0IAAEDB+xh3QgAAgFupGHdCAADA9VYYd0IAAACQBBh3QgAAQCqyF3dCAACAxF8Xd0IAAMBeDRd3QgAAAPm6FndCAABAk2gWd0IAAIAtFhZ3QgAAwMfDFXdCAAAAYnEVd0IAAED8HhV3QgAAgJbMFHdCAADAMHoUd0IAAADLJxR3QgAAQGXVE3dCAACA/4ITd0IAAMCZMBN3QgAAADTeEndCAABAzosSd0IAAIBoORJ3QgAAwALnEXdCAAAAnZQRd0IAAEA3QhF3QgAAgNHvEHdCAADAa50Qd0IAAAAGSxB3QgAAQKD4D3dCAACAOqYPd0IAAMDUUw93QgAAAG8BD3dCAABACa8Od0IAAICjXA53QgAAwD0KDndCAAAA2LcNd0IAAEByZQ13QgAAgAwTDXdCAADApsAMd0IAAABBbgx3QgAAQNsbDHdCAACAdckLd0IAAMAPdwt3QgAAAKokC3dCAABARNIKd0IAAIDefwp3QgAAwHgtCndCAAAAE9sJd0IAAECtiAl3QgAAgEc2CXdCAADA4eMId0I=\",\"dtype\":\"float64\",\"order\":\"little\",\"shape\":[100]},\"y\":{\"__ndarray__\":\"tVhN/77YgEDmdcIT/Px/QL0vMOWPdn5A7t7jcjkefUB8g928+PN7QGQdHcPN93pAqKyihbgpekBHMW4EuYl5QEGrfz/PF3lAlhrXNvvTeEBGf3TqPL54QFLZV1qU1nhAuSiBhgEdeUB8bfBuhJF5QJinpRMdNHpAENegdMsEe0Dk++GRjwN8QBMWaWtpMH1AnSU2AVmLfkBBlaQpLwqAQGES0bC85YBAL4ogFlXYgUCq/JJZ+OGCQNNpKHumAoRAqtHgel86hUBBMbxYI4mGQGgck7iZcIdA0pwqVDViiEAbGcJdu2uJQAIkc3z9eopAt/h++BWpi0BzAdmb+vqMQBTMBZRldY5AuHXB6r0PkEBGeJiJKAORQMTdiJgMGpJAQLybBYBWk0A+mXBE3bmUQB5hzZsuRpZAEcnTfM/9l0AdmNUT9OKZQPeuxrpJ9JtAqg+jxKQxnkAuLMCRZk2gQHDH8znMlaFAPJJEMPLxokDNOu/VWF+kQGxVwtOp3aVAFg/YaxJqp0B2qJzR5QOpQNl462/qo6pAWLjZtSJIrECLyi0ctOutQAQw1ieqjK9AGk8FNueTsEDIhJ+9nl6xQEhMvCV/JbJACtpj34nmskDuD5hh5p+zQLw/SGFZULRA5JDd9hT2tEBhfhutLZC1QCJW27hxHrZAFFkYEL+gtkAj60ds0BS3QGRQKwOFd7dADp4lwffHt0DaHCRW9gS4QEOZTJUwL7hAef5l1mBEuEDGycCF8kW4QO68ie2xMrhAA3nizEsIuEBuuxnpy8W3QIn4ef/sardAOtBap431tkASf1XMwWy2QBAIam6J0LVANmuYjeQgtUCCqOAp0120QPK/QkNVh7NAi7G+2WqdskBKfVTtE6CxQC4jBH5Qj7BAdUabF0HWrkDa+mEtCGesQI1jXD320KlAiICKRwsUp0DUUexLRzCkQG7XgUqqJaFAnyKWhmjom0AG/49syjeVQAyI4o30coxAgMbnVuC1e0DABr/ihIdFwNDy/N5EJ4HA/pF/w7rIkMAIQhkjhUuZwLbEJccADqHAGjSLAhidpcA=\",\"dtype\":\"float64\",\"order\":\"little\",\"shape\":[100]}},\"selected\":{\"id\":\"54831\"},\"selection_policy\":{\"id\":\"54830\"}},\"id\":\"53170\",\"type\":\"ColumnDataSource\"},{\"attributes\":{\"data_source\":{\"id\":\"53175\"},\"glyph\":{\"id\":\"53176\"},\"hover_glyph\":null,\"muted_glyph\":null,\"nonselection_glyph\":{\"id\":\"53177\"},\"selection_glyph\":null,\"view\":{\"id\":\"53179\"}},\"id\":\"53178\",\"type\":\"GlyphRenderer\"},{\"attributes\":{\"data\":{\"x\":{\"__ndarray__\":\"AABAtGsfd0IAAIBOGR93QgAAwOjGHndCAAAAg3Qed0IAAEAdIh53QgAAgLfPHXdCAADAUX0dd0IAAADsKh13QgAAQIbYHHdCAACAIIYcd0IAAMC6Mxx3QgAAAFXhG3dCAABA744bd0IAAICJPBt3QgAAwCPqGndCAAAAvpcad0IAAEBYRRp3QgAAgPLyGXdCAADAjKAZd0IAAAAnThl3QgAAQMH7GHdCAACAW6kYd0IAAMD1Vhh3QgAAAJAEGHdCAABAKrIXd0IAAIDEXxd3QgAAwF4NF3dCAAAA+boWd0IAAECTaBZ3QgAAgC0WFndCAADAx8MVd0IAAABicRV3QgAAQPweFXdCAACAlswUd0IAAMAwehR3QgAAAMsnFHdCAABAZdUTd0IAAID/ghN3QgAAwJkwE3dCAAAANN4Sd0IAAEDOixJ3QgAAgGg5EndCAADAAucRd0IAAACdlBF3QgAAQDdCEXdCAACA0e8Qd0IAAMBrnRB3QgAAAAZLEHdCAABAoPgPd0IAAIA6pg93QgAAwNRTD3dCAAAAbwEPd0IAAEAJrw53QgAAgKNcDndCAADAPQoOd0IAAADYtw13QgAAQHJlDXdC\",\"dtype\":\"float64\",\"order\":\"little\",\"shape\":[57]},\"y\":{\"__ndarray__\":\"AiRzfP16ikC3+H74FamLQHMB2Zv6+oxAFMwFlGV1jkC4dcHqvQ+QQEZ4mIkoA5FAxN2ImAwakkBAvJsFgFaTQD6ZcETduZRAHmHNmy5GlkARydN8z/2XQB2Y1RP04plA967Gukn0m0CqD6PEpDGeQC4swJFmTaBAcMfzOcyVoUA8kkQw8vGiQM0679VYX6RAbFXC06ndpUAWD9hrEmqnQHaonNHlA6lA2Xjrb+qjqkBYuNm1IkisQIvKLRy0661ABDDWJ6qMr0AaTwU255OwQMiEn72eXrFASEy8JX8lskAK2mPfieayQO4PmGHmn7NAvD9IYVlQtEDkkN32FPa0QGF+G60tkLVAIlbbuHEetkAUWRgQv6C2QCPrR2zQFLdAZFArA4V3t0AOniXB98e3QNocJFb2BLhAQ5lMlTAvuEB5/mXWYES4QMbJwIXyRbhA7ryJ7bEyuEADeeLMSwi4QG67GenLxbdAifh5/+xqt0A60FqnjfW2QBJ/VczBbLZAEAhqbonQtUA2a5iN5CC1QIKo4CnTXbRA8r9CQ1WHs0CLsb7Zap2yQEp9VO0ToLFALiMEflCPsEB1RpsXQdauQNr6YS0IZ6xA\",\"dtype\":\"float64\",\"order\":\"little\",\"shape\":[57]}},\"selected\":{\"id\":\"54833\"},\"selection_policy\":{\"id\":\"54832\"}},\"id\":\"53175\",\"type\":\"ColumnDataSource\"},{\"attributes\":{},\"id\":\"54828\",\"type\":\"UnionRenderers\"},{\"attributes\":{\"x\":{\"field\":\"x\"},\"y\":{\"field\":\"y\"}},\"id\":\"53176\",\"type\":\"Line\"},{\"attributes\":{\"line_alpha\":0.8,\"line_color\":\"orange\",\"line_dash\":[6],\"x\":{\"field\":\"x\"},\"y\":{\"field\":\"y\"}},\"id\":\"53181\",\"type\":\"Line\"},{\"attributes\":{\"source\":{\"id\":\"53175\"}},\"id\":\"53179\",\"type\":\"CDSView\"},{\"attributes\":{\"data\":{\"x\":{\"__ndarray__\":\"AAAAJ04Zd0IAAEDB+xh3QgAAgFupGHdCAADA9VYYd0IAAACQBBh3QgAAQCqyF3dCAACAxF8Xd0IAAMBeDRd3QgAAAPm6FndCAABAk2gWd0IAAIAtFhZ3QgAAwMfDFXdCAAAAYnEVd0IAAED8HhV3QgAAgJbMFHdCAADAMHoUd0IAAADLJxR3QgAAQGXVE3dCAACA/4ITd0IAAMCZMBN3QgAAADTeEndCAABAzosSd0IAAIBoORJ3QgAAwALnEXdCAAAAnZQRd0IAAEA3QhF3QgAAgNHvEHdCAADAa50Qd0IAAAAGSxB3QgAAQKD4D3dCAACAOqYPd0IAAMDUUw93QgAAAG8BD3dCAABACa8Od0IAAICjXA53QgAAwD0KDndCAAAA2LcNd0IAAEByZQ13Qg==\",\"dtype\":\"float64\",\"order\":\"little\",\"shape\":[38]},\"y\":{\"__ndarray__\":\"ZI8/2Sy6l0CB5iZpaXuYQOyDALe7QplAp4o+UKoOmkCSIUGdpdiaQERee2AZoZtA2g2RZRlpnECaDY85Mi6dQI/WCtNG751Arf5YdGGqnkA25KhEU1yfQKFm398AAqBAONHfYHBQoED6/JqH0pegQFa2bmvT1qBAgTEFPcULoUA9ErtydzGhQJ4sJhTTUKFAFq7uusljoUA4UUPAg2qhQDN4B5jOZKFAs2waOHtSoUBsujwesTOhQBUSTP2hCKFAeQv+RevQoEB08CIqhY2gQLbc81ypP6BASGYA9A7nn0By9voKFT2fQBRu1/5kgZ5AL82Vz/6znUDEEzZ94tScQNBBuAcQ5JtAV1ccb4fhmkBXVGKzSM2ZQM44itRTp5hAvwSU0qhvl0AouH+tRyaWQA==\",\"dtype\":\"float64\",\"order\":\"little\",\"shape\":[38]}},\"selected\":{\"id\":\"54837\"},\"selection_policy\":{\"id\":\"54836\"}},\"id\":\"53185\",\"type\":\"ColumnDataSource\"},{\"attributes\":{\"source\":{\"id\":\"53180\"}},\"id\":\"53184\",\"type\":\"CDSView\"},{\"attributes\":{\"data_source\":{\"id\":\"53185\"},\"glyph\":{\"id\":\"53186\"},\"hover_glyph\":null,\"muted_glyph\":null,\"nonselection_glyph\":{\"id\":\"53187\"},\"selection_glyph\":null,\"view\":{\"id\":\"53189\"}},\"id\":\"53188\",\"type\":\"GlyphRenderer\"},{\"attributes\":{},\"id\":\"54830\",\"type\":\"UnionRenderers\"},{\"attributes\":{\"line_alpha\":0.1,\"line_color\":\"orange\",\"line_dash\":[6],\"x\":{\"field\":\"x\"},\"y\":{\"field\":\"y\"}},\"id\":\"53182\",\"type\":\"Line\"},{\"attributes\":{},\"id\":\"54831\",\"type\":\"Selection\"},{\"attributes\":{\"items\":[{\"id\":\"53191\"},{\"id\":\"53192\"},{\"id\":\"53193\"},{\"id\":\"53194\"},{\"id\":\"53195\"}],\"location\":[-98,195]},\"id\":\"53190\",\"type\":\"Legend\"},{\"attributes\":{\"label\":{\"value\":\"Italy\"},\"renderers\":[{\"id\":\"53158\"}]},\"id\":\"53192\",\"type\":\"LegendItem\"},{\"attributes\":{\"line_color\":\"orange\",\"x\":{\"field\":\"x\"},\"y\":{\"field\":\"y\"}},\"id\":\"53186\",\"type\":\"Line\"},{\"attributes\":{},\"id\":\"54832\",\"type\":\"UnionRenderers\"},{\"attributes\":{\"line_alpha\":0.1,\"line_color\":\"red\",\"x\":{\"field\":\"x\"},\"y\":{\"field\":\"y\"}},\"id\":\"53147\",\"type\":\"Line\"},{\"attributes\":{},\"id\":\"54833\",\"type\":\"Selection\"},{\"attributes\":{\"source\":{\"id\":\"53185\"}},\"id\":\"53189\",\"type\":\"CDSView\"},{\"attributes\":{\"line_alpha\":0.1,\"line_color\":\"orange\",\"x\":{\"field\":\"x\"},\"y\":{\"field\":\"y\"}},\"id\":\"53187\",\"type\":\"Line\"},{\"attributes\":{\"data_source\":{\"id\":\"53145\"},\"glyph\":{\"id\":\"53146\"},\"hover_glyph\":null,\"muted_glyph\":null,\"nonselection_glyph\":{\"id\":\"53147\"},\"selection_glyph\":null,\"view\":{\"id\":\"53149\"}},\"id\":\"53148\",\"type\":\"GlyphRenderer\"},{\"attributes\":{\"label\":{\"value\":\"Spain\"},\"renderers\":[{\"id\":\"53178\"}]},\"id\":\"53191\",\"type\":\"LegendItem\"},{\"attributes\":{},\"id\":\"54834\",\"type\":\"UnionRenderers\"},{\"attributes\":{},\"id\":\"54835\",\"type\":\"Selection\"},{\"attributes\":{\"data_source\":{\"id\":\"53140\"},\"glyph\":{\"id\":\"53141\"},\"hover_glyph\":null,\"muted_glyph\":null,\"nonselection_glyph\":{\"id\":\"53142\"},\"selection_glyph\":null,\"view\":{\"id\":\"53144\"}},\"id\":\"53143\",\"type\":\"GlyphRenderer\"},{\"attributes\":{\"label\":{\"value\":\"Germany\"},\"renderers\":[{\"id\":\"53168\"}]},\"id\":\"53193\",\"type\":\"LegendItem\"},{\"attributes\":{\"data\":{\"x\":{\"__ndarray__\":\"AADAfxAgd0IAAAAavh93QgAAQLRrH3dCAACAThkfd0IAAMDoxh53QgAAAIN0HndCAABAHSIed0IAAIC3zx13QgAAwFF9HXdCAAAA7Codd0IAAECG2Bx3QgAAgCCGHHdCAADAujMcd0IAAABV4Rt3QgAAQO+OG3dCAACAiTwbd0IAAMAj6hp3QgAAAL6XGndCAABAWEUad0IAAIDy8hl3QgAAwIygGXdCAAAAJ04Zd0IAAEDB+xh3QgAAgFupGHdCAADA9VYYd0IAAACQBBh3QgAAQCqyF3dCAACAxF8Xd0IAAMBeDRd3QgAAAPm6FndCAABAk2gWd0IAAIAtFhZ3QgAAwMfDFXdCAAAAYnEVd0IAAED8HhV3QgAAgJbMFHdCAADAMHoUd0IAAADLJxR3QgAAQGXVE3dCAACA/4ITd0IAAMCZMBN3QgAAADTeEndCAABAzosSd0IAAIBoORJ3QgAAwALnEXdCAAAAnZQRd0IAAEA3QhF3QgAAgNHvEHdCAADAa50Qd0IAAAAGSxB3QgAAQKD4D3dCAACAOqYPd0IAAMDUUw93QgAAAG8BD3dCAABACa8Od0IAAICjXA53Qg==\",\"dtype\":\"float64\",\"order\":\"little\",\"shape\":[56]},\"y\":{\"__ndarray__\":\"3YTCnvEmhUCqwm8wbB2GQMXz0tMIOodAplBrkGN8iEAWVZke0OaJQNYkHoY3ZYtAV4PcBWUOjUDYzr73guiOQLCD6YGte5BAA20yK+ybkUD/Owpw0NWSQGFPToE6J5RAEKcuSBiOlUAYOuFfIQyXQGyAntjtnphA6zevYixImkBLD8r8VAKcQNfCu+h1yp1AthuW4rCen0CZ0QygBL6gQMvrW8VqrqFA7kZ1pTGgokC/d+dD9pOjQHqGn1QOgqRA1ePRsjFppUDvghmPv0amQL7hg0StGadASt7bEU7cp0CSdT9U3JGoQCAr9+bJOKlATfak2uPOqUDkXdxTu1CqQFTHAcGVwKpANgINpLkcq0AToyW8eWqrQGcM1rmipKtA13FXoXLOq0AQlaRlieOrQBJ1za9z4atAoG1Pkn/Nq0Ct8QvoAKOrQLwNibMIXatATrQodmcBq0Bqm+UJn5OqQOq7nDxwEKpAJeSeb894qUATvA2ILM2oQPyExT7xD6hAr2CBybVgp0DXjqyNtqGmQIcSR4vz0qVAv+tQwmz0pEB/GsoyIgakQMeestwTCKNAl3gKwEH6oUDvp9Hcq9ygQA==\",\"dtype\":\"float64\",\"order\":\"little\",\"shape\":[56]}},\"selected\":{\"id\":\"54821\"},\"selection_policy\":{\"id\":\"54820\"}},\"id\":\"53145\",\"type\":\"ColumnDataSource\"},{\"attributes\":{},\"id\":\"53129\",\"type\":\"SaveTool\"},{\"attributes\":{\"label\":{\"value\":\"France\"},\"renderers\":[{\"id\":\"53148\"}]},\"id\":\"53194\",\"type\":\"LegendItem\"},{\"attributes\":{},\"id\":\"54836\",\"type\":\"UnionRenderers\"},{\"attributes\":{\"label\":{\"value\":\"Iran\"},\"renderers\":[{\"id\":\"53188\"}]},\"id\":\"53195\",\"type\":\"LegendItem\"},{\"attributes\":{},\"id\":\"54837\",\"type\":\"Selection\"},{\"attributes\":{\"mantissas\":[1,2,5],\"max_interval\":500.0,\"num_minor_ticks\":0},\"id\":\"54838\",\"type\":\"AdaptiveTicker\"},{\"attributes\":{\"base\":60,\"mantissas\":[1,2,5,10,15,20,30],\"max_interval\":1800000.0,\"min_interval\":1000.0,\"num_minor_ticks\":0},\"id\":\"54839\",\"type\":\"AdaptiveTicker\"},{\"attributes\":{\"days\":[1,2,3,4,5,6,7,8,9,10,11,12,13,14,15,16,17,18,19,20,21,22,23,24,25,26,27,28,29,30,31]},\"id\":\"54841\",\"type\":\"DaysTicker\"},{\"attributes\":{},\"id\":\"54814\",\"type\":\"BasicTickFormatter\"},{\"attributes\":{\"base\":24,\"mantissas\":[1,2,4,6,8,12],\"max_interval\":43200000.0,\"min_interval\":3600000.0,\"num_minor_ticks\":0},\"id\":\"54840\",\"type\":\"AdaptiveTicker\"},{\"attributes\":{\"months\":[0,1,2,3,4,5,6,7,8,9,10,11]},\"id\":\"54845\",\"type\":\"MonthsTicker\"},{\"attributes\":{\"months\":[0,2,4,6,8,10]},\"id\":\"54846\",\"type\":\"MonthsTicker\"},{\"attributes\":{\"overlay\":{\"id\":\"53132\"}},\"id\":\"53128\",\"type\":\"BoxZoomTool\"},{\"attributes\":{\"days\":[1,4,7,10,13,16,19,22,25,28]},\"id\":\"54842\",\"type\":\"DaysTicker\"},{\"attributes\":{\"days\":[1,15]},\"id\":\"54844\",\"type\":\"DaysTicker\"},{\"attributes\":{\"months\":[0,6]},\"id\":\"54848\",\"type\":\"MonthsTicker\"},{\"attributes\":{\"days\":[1,8,15,22]},\"id\":\"54843\",\"type\":\"DaysTicker\"},{\"attributes\":{},\"id\":\"54849\",\"type\":\"YearsTicker\"},{\"attributes\":{\"line_color\":\"red\",\"x\":{\"field\":\"x\"},\"y\":{\"field\":\"y\"}},\"id\":\"53146\",\"type\":\"Line\"},{\"attributes\":{\"months\":[0,4,8]},\"id\":\"54847\",\"type\":\"MonthsTicker\"},{\"attributes\":{\"axis\":{\"id\":\"53118\"},\"ticker\":null},\"id\":\"53121\",\"type\":\"Grid\"},{\"attributes\":{},\"id\":\"53114\",\"type\":\"LinearScale\"},{\"attributes\":{},\"id\":\"53126\",\"type\":\"PanTool\"},{\"attributes\":{},\"id\":\"53130\",\"type\":\"ResetTool\"},{\"attributes\":{\"text\":\"Numbers of cases over time - The lockdown period is highlighted\"},\"id\":\"53108\",\"type\":\"Title\"},{\"attributes\":{\"data\":{\"x\":{\"__ndarray__\":\"AAAAO8Eod0IAAEDVbih3QgAAgG8cKHdCAADACcond0IAAACkdyd3QgAAQD4lJ3dCAACA2NImd0IAAMBygCZ3QgAAAA0uJndCAABAp9sld0IAAIBBiSV3QgAAwNs2JXdCAAAAduQkd0IAAEAQkiR3QgAAgKo/JHdCAADARO0jd0IAAADfmiN3QgAAQHlII3dCAACAE/Yid0IAAMCtoyJ3QgAAAEhRIndCAABA4v4hd0IAAIB8rCF3QgAAwBZaIXdCAAAAsQchd0IAAEBLtSB3QgAAgOViIHdCAADAfxAgd0IAAAAavh93QgAAQLRrH3dCAACAThkfd0IAAMDoxh53QgAAAIN0HndCAABAHSIed0IAAIC3zx13QgAAwFF9HXdCAAAA7Codd0IAAECG2Bx3QgAAgCCGHHdCAADAujMcd0IAAABV4Rt3QgAAQO+OG3dCAACAiTwbd0IAAMAj6hp3QgAAAL6XGndCAABAWEUad0IAAIDy8hl3QgAAwIygGXdCAAAAJ04Zd0IAAEDB+xh3QgAAgFupGHdCAADA9VYYd0IAAACQBBh3QgAAQCqyF3dCAACAxF8Xd0IAAMBeDRd3QgAAAPm6FndCAABAk2gWd0IAAIAtFhZ3QgAAwMfDFXdCAAAAYnEVd0IAAED8HhV3QgAAgJbMFHdCAADAMHoUd0IAAADLJxR3QgAAQGXVE3dCAACA/4ITd0IAAMCZMBN3QgAAADTeEndCAABAzosSd0IAAIBoORJ3QgAAwALnEXdCAAAAnZQRd0IAAEA3QhF3QgAAgNHvEHdCAADAa50Qd0IAAAAGSxB3QgAAQKD4D3dCAACAOqYPd0IAAMDUUw93QgAAAG8BD3dCAABACa8Od0IAAICjXA53QgAAwD0KDndCAAAA2LcNd0IAAEByZQ13QgAAgAwTDXdCAADApsAMd0IAAABBbgx3QgAAQNsbDHdCAACAdckLd0IAAMAPdwt3QgAAAKokC3dCAABARNIKd0IAAIDefwp3QgAAwHgtCndCAAAAE9sJd0IAAECtiAl3QgAAgEc2CXdCAADA4eMId0I=\",\"dtype\":\"float64\",\"order\":\"little\",\"shape\":[100]},\"y\":{\"__ndarray__\":\"jCRX4UMYh0Cv1me1n9iFQJs9Pn2hsIRAT1naOEmgg0DMKTzolqeCQBCvY4uKxoFAHulQIiT9gED01wOtY0uAQCT3+FaSYn9A8qd1O6ldfkBQwn0HDIh9QD9GEbu64XxAvzMwVrVqfEDPitrY+yJ8QHFLEEOOCnxAo3XRlGwhfEBmCR7Olmd8QLoG9u4M3XxAnm1Z986BfUAUPkjn3FV+QBp4wr42WX9A2Q3kPu5FgEBtlCwS5/aAQMnPOtmFv4FA778OlMqfgkBRYqhCtZeDQJuuMBSmUYRA3YTCnvEmhUCqwm8wbB2GQMXz0tMIOodAplBrkGN8iEAWVZke0OaJQNYkHoY3ZYtAV4PcBWUOjUDYzr73guiOQLCD6YGte5BAA20yK+ybkUD/Owpw0NWSQGFPToE6J5RAEKcuSBiOlUAYOuFfIQyXQGyAntjtnphA6zevYixImkBLD8r8VAKcQNfCu+h1yp1AthuW4rCen0CZ0QygBL6gQMvrW8VqrqFA7kZ1pTGgokC/d+dD9pOjQHqGn1QOgqRA1ePRsjFppUDvghmPv0amQL7hg0StGadASt7bEU7cp0CSdT9U3JGoQCAr9+bJOKlATfak2uPOqUDkXdxTu1CqQFTHAcGVwKpANgINpLkcq0AToyW8eWqrQGcM1rmipKtA13FXoXLOq0AQlaRlieOrQBJ1za9z4atAoG1Pkn/Nq0Ct8QvoAKOrQLwNibMIXatATrQodmcBq0Bqm+UJn5OqQOq7nDxwEKpAJeSeb894qUATvA2ILM2oQPyExT7xD6hAr2CBybVgp0DXjqyNtqGmQIcSR4vz0qVAv+tQwmz0pEB/GsoyIgakQMeestwTCKNAl3gKwEH6oUDvp9Hcq9ygQJ5ZEGakXp9AbQ5chWnknEBNboYXp0qaQDx5jxxdkZdAQS93lIu4lEBRkD1/MsCRQOA4xbmjUI1AQKfMWtPhhkDAa5Hh8zOAQMAMJ5wKjnJAALmXAj3YUEAACMGeFEBlwABK7BNC9HnA4LF+BkzjhMCg6EkdhguNwJzkK6dnuZLA3CnUzJMMl8A=\",\"dtype\":\"float64\",\"order\":\"little\",\"shape\":[100]}},\"selected\":{\"id\":\"54819\"},\"selection_policy\":{\"id\":\"54818\"}},\"id\":\"53140\",\"type\":\"ColumnDataSource\"},{\"attributes\":{},\"id\":\"53110\",\"type\":\"DataRange1d\"},{\"attributes\":{\"axis\":{\"id\":\"53122\"},\"dimension\":1,\"ticker\":null},\"id\":\"53125\",\"type\":\"Grid\"},{\"attributes\":{\"axis_label\":\"date\",\"formatter\":{\"id\":\"54816\"},\"ticker\":{\"id\":\"53119\"}},\"id\":\"53118\",\"type\":\"DatetimeAxis\"},{\"attributes\":{},\"id\":\"53127\",\"type\":\"WheelZoomTool\"},{\"attributes\":{},\"id\":\"53123\",\"type\":\"BasicTicker\"},{\"attributes\":{\"num_minor_ticks\":5,\"tickers\":[{\"id\":\"54838\"},{\"id\":\"54839\"},{\"id\":\"54840\"},{\"id\":\"54841\"},{\"id\":\"54842\"},{\"id\":\"54843\"},{\"id\":\"54844\"},{\"id\":\"54845\"},{\"id\":\"54846\"},{\"id\":\"54847\"},{\"id\":\"54848\"},{\"id\":\"54849\"}]},\"id\":\"53119\",\"type\":\"DatetimeTicker\"},{\"attributes\":{},\"id\":\"53116\",\"type\":\"LinearScale\"},{\"attributes\":{\"end\":7000},\"id\":\"53112\",\"type\":\"Range1d\"},{\"attributes\":{},\"id\":\"54816\",\"type\":\"DatetimeTickFormatter\"}],\"root_ids\":[\"53107\"]},\"title\":\"Bokeh Application\",\"version\":\"2.1.1\"}};\n",
       "  var render_items = [{\"docid\":\"ce1844c7-89d9-4976-bc88-8304024719d4\",\"root_ids\":[\"53107\"],\"roots\":{\"53107\":\"e9a9e398-b53c-4d8d-ad35-dd6a26594c5b\"}}];\n",
       "  root.Bokeh.embed.embed_items_notebook(docs_json, render_items);\n",
       "\n",
       "  }\n",
       "  if (root.Bokeh !== undefined) {\n",
       "    embed_document(root);\n",
       "  } else {\n",
       "    var attempts = 0;\n",
       "    var timer = setInterval(function(root) {\n",
       "      if (root.Bokeh !== undefined) {\n",
       "        clearInterval(timer);\n",
       "        embed_document(root);\n",
       "      } else {\n",
       "        attempts++;\n",
       "        if (attempts > 100) {\n",
       "          clearInterval(timer);\n",
       "          console.log(\"Bokeh: ERROR: Unable to run BokehJS code because BokehJS library is missing\");\n",
       "        }\n",
       "      }\n",
       "    }, 10, root)\n",
       "  }\n",
       "})(window);"
      ],
      "application/vnd.bokehjs_exec.v0+json": ""
     },
     "metadata": {
      "application/vnd.bokehjs_exec.v0+json": {
       "id": "53107"
      }
     },
     "output_type": "display_data"
    }
   ],
   "source": [
    "from bokeh.models import Legend\n",
    "fig=figure(x_axis_type='datetime',title='Numbers of Covid-19 cases over time - The lockdown period is highlighted',plot_height=400, plot_width=900,y_range=(0,7000))\n",
    "fig.yaxis.axis_label = 'number of cases'\n",
    "fig.xaxis.axis_label = 'date'\n",
    "fig.line(fr_df.date ,fr_df.cases,color = \"red\",alpha=0.8, line_dash='dashed')\n",
    "r0=fig.line(fr_df.loc[(fr_df['date']>=start_fr) & (fr_df['date']<=end_fr),:].date ,fr_df.loc[(fr_df['date']>=start_fr) & (fr_df['date']<=end_fr),:].cases, color = \"red\",alpha=1)\n",
    "\n",
    "fig.line(it_df.date ,it_df.cases,color = \"blue\",alpha=0.8, line_dash='dashed')\n",
    "r1=fig.line(it_df.loc[(it_df['date']>=start_it) & (it_df['date']<=end_it),:].date ,it_df.loc[(it_df['date']>=start_it) & (it_df['date']<=end_it),:].cases, color = \"blue\",alpha=1)\n",
    "\n",
    "fig.line(gr_df.date ,gr_df.cases,color = \"green\",alpha=0.8, line_dash='dashed')\n",
    "r2 =fig.line(gr_df.loc[(gr_df['date']>=start_gr) & (gr_df['date']<=end_gr),:].date ,gr_df.loc[(gr_df['date']>=start_gr) & (gr_df['date']<=end_gr),:].cases, color = \"green\",alpha=1)\n",
    "\n",
    "fig.line(sp_df.date ,sp_df.cases,color = \"black\",alpha=0.8, line_dash='dashed')\n",
    "r3 =fig.line(sp_df.loc[(sp_df['date']>=start_sp) & (sp_df['date']<=end_sp),:].date ,sp_df.loc[(sp_df['date']>=start_sp) & (sp_df['date']<=end_sp),:].cases, color = \"black\",alpha=1)\n",
    "\n",
    "fig.line(ir_df.date ,ir_df.cases,color = \"orange\",alpha=0.8, line_dash='dashed')\n",
    "r4 =fig.line(ir_df.loc[(ir_df['date']>=start_ir) & (ir_df['date']<=end_ir),:].date ,ir_df.loc[(ir_df['date']>=start_ir) & (ir_df['date']<=end_ir),:].cases, color = \"orange\",alpha=1)\n",
    "legend1 = Legend(items=[(\"Spain\" , [r3]),(\"Italy\" , [r1]),(\"Germany\" , [r2]),(\"France\" , [r0]),(\"Iran\" , [r4])],\n",
    "                 location=(-98,195))\n",
    "fig.add_layout(legend1, 'right' )                 \n",
    "show(fig)"
   ]
  },
  {
   "cell_type": "code",
   "execution_count": 119,
   "metadata": {},
   "outputs": [
    {
     "data": {
      "text/html": [
       "\n",
       "\n",
       "\n",
       "\n",
       "\n",
       "\n",
       "  <div class=\"bk-root\" id=\"fb5d0e51-e04e-45e3-83ed-1923e9a239ec\" data-root-id=\"59134\"></div>\n"
      ]
     },
     "metadata": {},
     "output_type": "display_data"
    },
    {
     "data": {
      "application/javascript": [
       "(function(root) {\n",
       "  function embed_document(root) {\n",
       "    \n",
       "  var docs_json = {\"4c315a42-54b0-4099-835a-ff7c15af1354\":{\"roots\":{\"references\":[{\"attributes\":{\"below\":[{\"id\":\"59145\"}],\"center\":[{\"id\":\"59148\"},{\"id\":\"59152\"}],\"left\":[{\"id\":\"59149\"}],\"plot_height\":400,\"plot_width\":900,\"renderers\":[{\"id\":\"59170\"},{\"id\":\"59175\"},{\"id\":\"59180\"},{\"id\":\"59185\"},{\"id\":\"59190\"},{\"id\":\"59195\"},{\"id\":\"59200\"},{\"id\":\"59205\"},{\"id\":\"59210\"},{\"id\":\"59215\"}],\"right\":[{\"id\":\"59217\"}],\"title\":{\"id\":\"59135\"},\"toolbar\":{\"id\":\"59160\"},\"x_range\":{\"id\":\"59137\"},\"x_scale\":{\"id\":\"59141\"},\"y_range\":{\"id\":\"59139\"},\"y_scale\":{\"id\":\"59143\"}},\"id\":\"59134\",\"subtype\":\"Figure\",\"type\":\"Plot\"},{\"attributes\":{\"overlay\":{\"id\":\"59159\"}},\"id\":\"59155\",\"type\":\"BoxZoomTool\"},{\"attributes\":{},\"id\":\"60961\",\"type\":\"UnionRenderers\"},{\"attributes\":{\"data_source\":{\"id\":\"59192\"},\"glyph\":{\"id\":\"59193\"},\"hover_glyph\":null,\"muted_glyph\":null,\"nonselection_glyph\":{\"id\":\"59194\"},\"selection_glyph\":null,\"view\":{\"id\":\"59196\"}},\"id\":\"59195\",\"type\":\"GlyphRenderer\"},{\"attributes\":{\"data\":{\"x\":{\"__ndarray__\":\"AADAfxAgd0IAAAAavh93QgAAQLRrH3dCAACAThkfd0IAAMDoxh53QgAAAIN0HndCAABAHSIed0IAAIC3zx13QgAAwFF9HXdCAAAA7Codd0IAAECG2Bx3QgAAgCCGHHdCAADAujMcd0IAAABV4Rt3QgAAQO+OG3dCAACAiTwbd0IAAMAj6hp3QgAAAL6XGndCAABAWEUad0IAAIDy8hl3QgAAwIygGXdCAAAAJ04Zd0IAAEDB+xh3QgAAgFupGHdCAADA9VYYd0IAAACQBBh3QgAAQCqyF3dCAACAxF8Xd0IAAMBeDRd3QgAAAPm6FndCAABAk2gWd0IAAIAtFhZ3QgAAwMfDFXdCAAAAYnEVd0IAAED8HhV3QgAAgJbMFHdCAADAMHoUd0IAAADLJxR3QgAAQGXVE3dCAACA/4ITd0IAAMCZMBN3QgAAADTeEndCAABAzosSd0IAAIBoORJ3QgAAwALnEXdCAAAAnZQRd0IAAEA3QhF3QgAAgNHvEHdCAADAa50Qd0IAAAAGSxB3QgAAQKD4D3dCAACAOqYPd0IAAMDUUw93QgAAAG8BD3dCAABACa8Od0IAAICjXA53Qg==\",\"dtype\":\"float64\",\"order\":\"little\",\"shape\":[56]},\"y\":{\"__ndarray__\":\"vfVHpuGuZUDtg/Fe2YJnQK6wUQfMhGlAaApU0OGua0AAz0vj1gFuQM/9D2onPXBAwSg1YgqLcUCUoICvselyQDUlZ4FrWnRAkL14UzzbdUBJ7ODTqWl3QH2XGlKFAnlA7OWFbMGhekCzx+FrukV8QF6fOv/H6n1AXh/9qO+Qf0CogGjVy5mAQOwPBS68Z4FAn/BAOeUvgkDPdc2LjfCCQPioQb1DqINAOnM9DWhVhEBRRMCeifeEQGNoqFbGh4VAR5a6rj8FhkDYPCCxBG6GQGJGIx7vvIZAxbIKBWH2hkAcC5+2zhuHQP5NRl6SLYdA3res17wqh0AM/KEG9hCHQGwDphY73oZAjkqZT4GYhkBFPEzwXDqGQBu1nvCTyIVAd1nqHmxGhUBe4Ymt4bCEQHzJ5EYcAoRA+MAWFuZFg0C90yNwY32CQGHWS+HyqYFAUhNimprNgEBuW3vXRtV/QFWD6TBSBX5ASZBGu3ksfEDsqE3pMUx6QDs3MVsGaXhAZFSzez0Od0BMxlDpwrB1QA6QCaSWUHRArrHdq7jtckAsK80AKYhxQIb816LnH3BAfEv8I+lpbUCkTX+cn45qQA==\",\"dtype\":\"float64\",\"order\":\"little\",\"shape\":[56]}},\"selected\":{\"id\":\"60962\"},\"selection_policy\":{\"id\":\"60961\"}},\"id\":\"59172\",\"type\":\"ColumnDataSource\"},{\"attributes\":{},\"id\":\"60962\",\"type\":\"Selection\"},{\"attributes\":{\"data_source\":{\"id\":\"59172\"},\"glyph\":{\"id\":\"59173\"},\"hover_glyph\":null,\"muted_glyph\":null,\"nonselection_glyph\":{\"id\":\"59174\"},\"selection_glyph\":null,\"view\":{\"id\":\"59176\"}},\"id\":\"59175\",\"type\":\"GlyphRenderer\"},{\"attributes\":{\"line_color\":\"red\",\"x\":{\"field\":\"x\"},\"y\":{\"field\":\"y\"}},\"id\":\"59173\",\"type\":\"Line\"},{\"attributes\":{},\"id\":\"60977\",\"type\":\"UnionRenderers\"},{\"attributes\":{\"data_source\":{\"id\":\"59187\"},\"glyph\":{\"id\":\"59188\"},\"hover_glyph\":null,\"muted_glyph\":null,\"nonselection_glyph\":{\"id\":\"59189\"},\"selection_glyph\":null,\"view\":{\"id\":\"59191\"}},\"id\":\"59190\",\"type\":\"GlyphRenderer\"},{\"attributes\":{},\"id\":\"60978\",\"type\":\"Selection\"},{\"attributes\":{\"data\":{\"x\":{\"__ndarray__\":\"AAAAO8Eod0IAAEDVbih3QgAAgG8cKHdCAADACcond0IAAACkdyd3QgAAQD4lJ3dCAACA2NImd0IAAMBygCZ3QgAAAA0uJndCAABAp9sld0IAAIBBiSV3QgAAwNs2JXdCAAAAduQkd0IAAEAQkiR3QgAAgKo/JHdCAADARO0jd0IAAADfmiN3QgAAQHlII3dCAACAE/Yid0IAAMCtoyJ3QgAAAEhRIndCAABA4v4hd0IAAIB8rCF3QgAAwBZaIXdCAAAAsQchd0IAAEBLtSB3QgAAgOViIHdCAADAfxAgd0IAAAAavh93QgAAQLRrH3dCAACAThkfd0IAAMDoxh53QgAAAIN0HndCAABAHSIed0IAAIC3zx13QgAAwFF9HXdCAAAA7Codd0IAAECG2Bx3QgAAgCCGHHdCAADAujMcd0IAAABV4Rt3QgAAQO+OG3dCAACAiTwbd0IAAMAj6hp3QgAAAL6XGndCAABAWEUad0IAAIDy8hl3QgAAwIygGXdCAAAAJ04Zd0IAAEDB+xh3QgAAgFupGHdCAADA9VYYd0IAAACQBBh3QgAAQCqyF3dCAACAxF8Xd0IAAMBeDRd3QgAAAPm6FndCAABAk2gWd0IAAIAtFhZ3QgAAwMfDFXdCAAAAYnEVd0IAAED8HhV3QgAAgJbMFHdCAADAMHoUd0IAAADLJxR3QgAAQGXVE3dCAACA/4ITd0IAAMCZMBN3QgAAADTeEndCAABAzosSd0IAAIBoORJ3QgAAwALnEXdCAAAAnZQRd0IAAEA3QhF3QgAAgNHvEHdCAADAa50Qd0IAAAAGSxB3QgAAQKD4D3dCAACAOqYPd0IAAMDUUw93QgAAAG8BD3dCAABACa8Od0IAAICjXA53QgAAwD0KDndCAAAA2LcNd0IAAEByZQ13QgAAgAwTDXdCAADApsAMd0IAAABBbgx3QgAAQNsbDHdCAACAdckLd0IAAMAPdwt3QgAAAKokC3dCAABARNIKd0IAAIDefwp3QgAAwHgtCndCAAAAE9sJd0IAAECtiAl3QgAAgEc2CXdCAADA4eMId0I=\",\"dtype\":\"float64\",\"order\":\"little\",\"shape\":[100]},\"y\":{\"__ndarray__\":\"NIlQLPeOUECpFTcIjQFRQEcLADZqhlFAD2qrtY4dUkD/MTmH+sZSQBljqaqtglNAXP37H6hQVEDIADHn6TBVQF5tSABzI1ZAHENCa0MoV0AEgh4oWz9YQBQq3Ta6aFlATzt+l2CkWkCytQFKTvJbQD6ZZ06DUl1A9OWvpP/EXkDqTW2m4SRgQG3dcyNn8GBAhqFrSRDFYUA0mlQY3aJiQHXHLpDNiWNASyn6sOF5ZEC2v7Z6GXNlQLaKZO10dWZAS4oDCfSAZ0BKu5PNlpVoQAkNGptssmlAkH3KaIfcakBAjGmRRhBsQMyWlnLiSW1ACqHmORyMbkAhNiw4eNVvQHuhxMkyk3BAU+XcjdZCcUBL4S5k5vhxQLNVEXUpuHJAdRFWdpd8c0AEVHWEAEp0QIdKvGNkIHVAUTH2xtj+dUBwad66YeV2QNdSV/OK03dAFNZE46TKeECmoB4VNch5QGUD61uIy3pAkSk89F7Te0AeGIRAF998QORESNMw7H1ALZnC3aX6fkBGBWEqrwSAQADl941/iYBATv1OrR4LgUDv+XNP/IiBQMcSK09KAoJADm4OXl52gkC4pXmt2+SCQJNci2H+TYNAmBMt5uOvg0BrKSNSZAqEQNOF6Q3sXIRAJh6XfUunhEA4bs2PXeiEQHuUssawH4VALoRXMjdNhUCy0U1VYm+FQIT60jCzhIVAwgteVRWNhUBSzZTdX4iFQOubiVqVdYVAagfV/6BUhUD5AYySmiWFQAiSzBnX5oRAJ5OcXb6XhEDb+WBwTDqEQEP2d6/dzoNAkmJKXDZXg0DIIoNmt9KCQG45Is5gQYJAgqYnkzKjgUAFapO1LPiAQPeDZTVPQIBAr+g7JTT3fkBPdnmaGlR9QMywg8pRl3tAKJhatdnAeUBhLP5astB3QHhtbrvbxnVAbVur1lWjc0BA9rSsIGZxQN17Fnt4Hm5AAGVcElE9aUDUpzsfyyhkQNyIaEPNwV1AcHWMM0fLUkBQVow7ELg9QKBbTqrwVzHA1I/XeLmAUMBk1ejbMxJdwK6z46k1BWXA/qI58K+0a8A=\",\"dtype\":\"float64\",\"order\":\"little\",\"shape\":[100]}},\"selected\":{\"id\":\"60964\"},\"selection_policy\":{\"id\":\"60963\"}},\"id\":\"59177\",\"type\":\"ColumnDataSource\"},{\"attributes\":{\"line_color\":\"blue\",\"line_dash\":[6],\"x\":{\"field\":\"x\"},\"y\":{\"field\":\"y\"}},\"id\":\"59178\",\"type\":\"Line\"},{\"attributes\":{\"mantissas\":[1,2,5],\"max_interval\":500.0,\"num_minor_ticks\":0},\"id\":\"60979\",\"type\":\"AdaptiveTicker\"},{\"attributes\":{\"source\":{\"id\":\"59172\"}},\"id\":\"59176\",\"type\":\"CDSView\"},{\"attributes\":{\"base\":60,\"mantissas\":[1,2,5,10,15,20,30],\"max_interval\":1800000.0,\"min_interval\":1000.0,\"num_minor_ticks\":0},\"id\":\"60980\",\"type\":\"AdaptiveTicker\"},{\"attributes\":{\"line_alpha\":0.1,\"line_color\":\"red\",\"x\":{\"field\":\"x\"},\"y\":{\"field\":\"y\"}},\"id\":\"59174\",\"type\":\"Line\"},{\"attributes\":{\"days\":[1,2,3,4,5,6,7,8,9,10,11,12,13,14,15,16,17,18,19,20,21,22,23,24,25,26,27,28,29,30,31]},\"id\":\"60982\",\"type\":\"DaysTicker\"},{\"attributes\":{\"data_source\":{\"id\":\"59182\"},\"glyph\":{\"id\":\"59183\"},\"hover_glyph\":null,\"muted_glyph\":null,\"nonselection_glyph\":{\"id\":\"59184\"},\"selection_glyph\":null,\"view\":{\"id\":\"59186\"}},\"id\":\"59185\",\"type\":\"GlyphRenderer\"},{\"attributes\":{},\"id\":\"60963\",\"type\":\"UnionRenderers\"},{\"attributes\":{\"base\":24,\"mantissas\":[1,2,4,6,8,12],\"max_interval\":43200000.0,\"min_interval\":3600000.0,\"num_minor_ticks\":0},\"id\":\"60981\",\"type\":\"AdaptiveTicker\"},{\"attributes\":{},\"id\":\"60964\",\"type\":\"Selection\"},{\"attributes\":{\"line_alpha\":0.1,\"line_color\":\"green\",\"x\":{\"field\":\"x\"},\"y\":{\"field\":\"y\"}},\"id\":\"59194\",\"type\":\"Line\"},{\"attributes\":{\"months\":[0,1,2,3,4,5,6,7,8,9,10,11]},\"id\":\"60986\",\"type\":\"MonthsTicker\"},{\"attributes\":{\"source\":{\"id\":\"59177\"}},\"id\":\"59181\",\"type\":\"CDSView\"},{\"attributes\":{\"line_color\":\"green\",\"x\":{\"field\":\"x\"},\"y\":{\"field\":\"y\"}},\"id\":\"59193\",\"type\":\"Line\"},{\"attributes\":{\"months\":[0,2,4,6,8,10]},\"id\":\"60987\",\"type\":\"MonthsTicker\"},{\"attributes\":{\"days\":[1,4,7,10,13,16,19,22,25,28]},\"id\":\"60983\",\"type\":\"DaysTicker\"},{\"attributes\":{\"line_alpha\":0.1,\"line_color\":\"blue\",\"line_dash\":[6],\"x\":{\"field\":\"x\"},\"y\":{\"field\":\"y\"}},\"id\":\"59179\",\"type\":\"Line\"},{\"attributes\":{\"days\":[1,15]},\"id\":\"60985\",\"type\":\"DaysTicker\"},{\"attributes\":{\"months\":[0,6]},\"id\":\"60989\",\"type\":\"MonthsTicker\"},{\"attributes\":{\"days\":[1,8,15,22]},\"id\":\"60984\",\"type\":\"DaysTicker\"},{\"attributes\":{\"data\":{\"x\":{\"__ndarray__\":\"AAAASFEid0IAAEDi/iF3QgAAgHysIXdCAADAFlohd0IAAACxByF3QgAAQEu1IHdCAACA5WIgd0IAAMB/ECB3QgAAABq+H3dCAABAtGsfd0IAAIBOGR93QgAAwOjGHndCAAAAg3Qed0IAAEAdIh53QgAAgLfPHXdCAADAUX0dd0IAAADsKh13QgAAQIbYHHdCAACAIIYcd0IAAMC6Mxx3QgAAAFXhG3dCAABA744bd0IAAICJPBt3QgAAwCPqGndCAAAAvpcad0IAAEBYRRp3QgAAgPLyGXdCAADAjKAZd0IAAAAnThl3QgAAQMH7GHdCAACAW6kYd0IAAMD1Vhh3QgAAAJAEGHdCAABAKrIXd0IAAIDEXxd3QgAAwF4NF3dCAAAA+boWd0IAAECTaBZ3QgAAgC0WFndCAADAx8MVd0IAAABicRV3QgAAQPweFXdCAACAlswUd0IAAMAwehR3QgAAAMsnFHdCAABAZdUTd0IAAID/ghN3QgAAwJkwE3dCAAAANN4Sd0IAAEDOixJ3QgAAgGg5EndCAADAAucRd0IAAACdlBF3QgAAQDdCEXdCAACA0e8Qd0IAAMBrnRB3QgAAAAZLEHdCAABAoPgPd0IAAIA6pg93QgAAwNRTD3dCAAAAbwEPd0IAAEAJrw53QgAAgKNcDndCAADAPQoOd0IAAADYtw13QgAAQHJlDXdCAACADBMNd0IAAMCmwAx3QgAAAEFuDHdCAABA2xsMd0IAAIB1yQt3Qg==\",\"dtype\":\"float64\",\"order\":\"little\",\"shape\":[71]},\"y\":{\"__ndarray__\":\"dccukM2JY0BLKfqw4XlkQLa/tnoZc2VAtopk7XR1ZkBLigMJ9IBnQEq7k82WlWhACQ0am2yyaUCQfcpoh9xqQECMaZFGEGxAzJaWcuJJbUAKoeY5HIxuQCE2LDh41W9Ae6HEyTKTcEBT5dyN1kJxQEvhLmTm+HFAs1URdSm4ckB1EVZ2l3xzQARUdYQASnRAh0q8Y2QgdUBRMfbG2P51QHBp3rph5XZA11JX84rTd0AU1kTjpMp4QKagHhU1yHlAZQPrW4jLekCRKTz0XtN7QB4YhEAX33xA5ERI0zDsfUAtmcLdpfp+QEYFYSqvBIBAAOX3jX+JgEBO/U6tHguBQO/5c0/8iIFAxxIrT0oCgkAObg5eXnaCQLilea3b5IJAk1yLYf5Ng0CYEy3m46+DQGspI1JkCoRA04XpDexchEAmHpd9S6eEQDhuzY9d6IRAe5SyxrAfhUAuhFcyN02FQLLRTVVib4VAhPrSMLOEhUDCC15VFY2FQFLNlN1fiIVA65uJWpV1hUBqB9X/oFSFQPkBjJKaJYVACJLMGdfmhEAnk5xdvpeEQNv5YHBMOoRAQ/Z3r93Og0CSYkpcNleDQMgig2a30oJAbjkizmBBgkCCpieTMqOBQAVqk7Us+IBA94NlNU9AgECv6DslNPd+QE92eZoaVH1AzLCDylGXe0AomFq12cB5QGEs/lqy0HdAeG1uu9vGdUBtW6vWVaNzQED2tKwgZnFA3XsWe3gebkAAZVwSUT1pQA==\",\"dtype\":\"float64\",\"order\":\"little\",\"shape\":[71]}},\"selected\":{\"id\":\"60966\"},\"selection_policy\":{\"id\":\"60965\"}},\"id\":\"59182\",\"type\":\"ColumnDataSource\"},{\"attributes\":{},\"id\":\"60990\",\"type\":\"YearsTicker\"},{\"attributes\":{\"months\":[0,4,8]},\"id\":\"60988\",\"type\":\"MonthsTicker\"},{\"attributes\":{\"line_color\":\"blue\",\"x\":{\"field\":\"x\"},\"y\":{\"field\":\"y\"}},\"id\":\"59183\",\"type\":\"Line\"},{\"attributes\":{},\"id\":\"60965\",\"type\":\"UnionRenderers\"},{\"attributes\":{},\"id\":\"60966\",\"type\":\"Selection\"},{\"attributes\":{\"data\":{\"x\":{\"__ndarray__\":\"AAAAO8Eod0IAAEDVbih3QgAAgG8cKHdCAADACcond0IAAACkdyd3QgAAQD4lJ3dCAACA2NImd0IAAMBygCZ3QgAAAA0uJndCAABAp9sld0IAAIBBiSV3QgAAwNs2JXdCAAAAduQkd0IAAEAQkiR3QgAAgKo/JHdCAADARO0jd0IAAADfmiN3QgAAQHlII3dCAACAE/Yid0IAAMCtoyJ3QgAAAEhRIndCAABA4v4hd0IAAIB8rCF3QgAAwBZaIXdCAAAAsQchd0IAAEBLtSB3QgAAgOViIHdCAADAfxAgd0IAAAAavh93QgAAQLRrH3dCAACAThkfd0IAAMDoxh53QgAAAIN0HndCAABAHSIed0IAAIC3zx13QgAAwFF9HXdCAAAA7Codd0IAAECG2Bx3QgAAgCCGHHdCAADAujMcd0IAAABV4Rt3QgAAQO+OG3dCAACAiTwbd0IAAMAj6hp3QgAAAL6XGndCAABAWEUad0IAAIDy8hl3QgAAwIygGXdCAAAAJ04Zd0IAAEDB+xh3QgAAgFupGHdCAADA9VYYd0IAAACQBBh3QgAAQCqyF3dCAACAxF8Xd0IAAMBeDRd3QgAAAPm6FndCAABAk2gWd0IAAIAtFhZ3QgAAwMfDFXdCAAAAYnEVd0IAAED8HhV3QgAAgJbMFHdCAADAMHoUd0IAAADLJxR3QgAAQGXVE3dCAACA/4ITd0IAAMCZMBN3QgAAADTeEndCAABAzosSd0IAAIBoORJ3QgAAwALnEXdCAAAAnZQRd0IAAEA3QhF3QgAAgNHvEHdCAADAa50Qd0IAAAAGSxB3QgAAQKD4D3dCAACAOqYPd0IAAMDUUw93QgAAAG8BD3dCAABACa8Od0IAAICjXA53QgAAwD0KDndCAAAA2LcNd0IAAEByZQ13QgAAgAwTDXdCAADApsAMd0IAAABBbgx3QgAAQNsbDHdCAACAdckLd0IAAMAPdwt3QgAAAKokC3dCAABARNIKd0IAAIDefwp3QgAAwHgtCndCAAAAE9sJd0IAAECtiAl3QgAAgEc2CXdCAADA4eMId0I=\",\"dtype\":\"float64\",\"order\":\"little\",\"shape\":[100]},\"y\":{\"__ndarray__\":\"98MXMWYaMkArv8iyDyYzQLXaRyqnUjRAlhaVlyygNUDOcrD6nw43QFzvmVMBnjhAQYxRolBOOkB8SdfmjR88QA8nKyG5ET5AfJKmKGkSQECcoZ67bCxBQOjAfUnnVkJAXvBD0tiRQ0AAMPFVQd1EQM5/hdQgOUZAxt8ATnelR0DqT2PCRCJJQDrQrDGJr0pAtGDdm0RNTEBaAfUAd/tNQCyy82Aguk9AlLnsXaDEUEApItMIbLRRQNISLTFzrFJAkov61rWsU0C6iTv6M7VUQIlc6bfj9lVAeJnxcxVEV0AdlGwEoqBYQNnys2IcDVpAXkhFm3OCW0AXheepGf1cQN9+29YOfV5AIyDDm3/+X0DE2xXKeMBgQOTWjhvFg2FAMHBThDZHYkAQfJdC+ghjQAL5Lzb8xGNA61LJioN6ZEB3MFTIXSdlQK8umjFPy2VAEnJN+39mZkAJkz87yPZmQODdJdjCeWdAOX07f9bsZ0C+KuAGKE9oQIx26tDKnWhAOiHfvS/aaECvEqjCyQVpQKM7KPzUGmlALmPhexQZaUDdu/GMmf5oQLJSGFmcy2hApC5K14SBaECEWw5vNCRoQBKADT2vtWdAnVbR1CM2Z0CFTpujGKVmQOsb0makAGZAqz7mHBBLZUDwwPWrVIVkQE7Vify9s2NAeEWHBqLZYkA6On+70PVhQAE5OcC6CWFAoIMvnPQWYEDzGZmtWT5eQOh27nnIRVxAyeissnBJWkA5zD4UHVFYQDwP3RpAX1ZALQFNv6dyVECHXhwoUI5SQFkT3fFVtVBAZL9PnsW/TkCkOvcd2SdMQLycsGLmoklAsOV7bO0wR0CEFVk77tFEQCwsSM/ohUJAsClJKN1MQEAgHLiMlk08QJCyAVNmJzhAwBZvoyknNECgSAB+4EwwQFCQasUVMSlA8Coco1EUIkDgwSoq6YYWQEDJWG36+QJAAA0WogSp579AYkVt4J4NwOBpc7DxERrA0HXagFJeIsBQmzMVxWcnwHAlRZVQJSzAGIqHgHpLMMC4s0gsWV4ywKgP5k1ESzTA2J1f5TsSNsA=\",\"dtype\":\"float64\",\"order\":\"little\",\"shape\":[100]}},\"selected\":{\"id\":\"60968\"},\"selection_policy\":{\"id\":\"60967\"}},\"id\":\"59187\",\"type\":\"ColumnDataSource\"},{\"attributes\":{\"line_color\":\"green\",\"line_dash\":[6],\"x\":{\"field\":\"x\"},\"y\":{\"field\":\"y\"}},\"id\":\"59188\",\"type\":\"Line\"},{\"attributes\":{\"data_source\":{\"id\":\"59167\"},\"glyph\":{\"id\":\"59168\"},\"hover_glyph\":null,\"muted_glyph\":null,\"nonselection_glyph\":{\"id\":\"59169\"},\"selection_glyph\":null,\"view\":{\"id\":\"59171\"}},\"id\":\"59170\",\"type\":\"GlyphRenderer\"},{\"attributes\":{\"source\":{\"id\":\"59182\"}},\"id\":\"59186\",\"type\":\"CDSView\"},{\"attributes\":{\"line_alpha\":0.1,\"line_color\":\"blue\",\"x\":{\"field\":\"x\"},\"y\":{\"field\":\"y\"}},\"id\":\"59184\",\"type\":\"Line\"},{\"attributes\":{\"source\":{\"id\":\"59187\"}},\"id\":\"59191\",\"type\":\"CDSView\"},{\"attributes\":{},\"id\":\"60967\",\"type\":\"UnionRenderers\"},{\"attributes\":{\"line_alpha\":0.1,\"line_color\":\"green\",\"line_dash\":[6],\"x\":{\"field\":\"x\"},\"y\":{\"field\":\"y\"}},\"id\":\"59189\",\"type\":\"Line\"},{\"attributes\":{},\"id\":\"60968\",\"type\":\"Selection\"},{\"attributes\":{\"data\":{\"x\":{\"__ndarray__\":\"AAAAJ04Zd0IAAEDB+xh3QgAAgFupGHdCAADA9VYYd0IAAACQBBh3QgAAQCqyF3dCAACAxF8Xd0IAAMBeDRd3QgAAAPm6FndCAABAk2gWd0IAAIAtFhZ3QgAAwMfDFXdCAAAAYnEVd0IAAED8HhV3QgAAgJbMFHdCAADAMHoUd0IAAADLJxR3QgAAQGXVE3dCAACA/4ITd0IAAMCZMBN3QgAAADTeEndCAABAzosSd0IAAIBoORJ3QgAAwALnEXdCAAAAnZQRd0IAAEA3QhF3QgAAgNHvEHdCAADAa50Qd0IAAAAGSxB3Qg==\",\"dtype\":\"float64\",\"order\":\"little\",\"shape\":[29]},\"y\":{\"__ndarray__\":\"OiHfvS/aaECvEqjCyQVpQKM7KPzUGmlALmPhexQZaUDdu/GMmf5oQLJSGFmcy2hApC5K14SBaECEWw5vNCRoQBKADT2vtWdAnVbR1CM2Z0CFTpujGKVmQOsb0makAGZAqz7mHBBLZUDwwPWrVIVkQE7Vify9s2NAeEWHBqLZYkA6On+70PVhQAE5OcC6CWFAoIMvnPQWYEDzGZmtWT5eQOh27nnIRVxAyeissnBJWkA5zD4UHVFYQDwP3RpAX1ZALQFNv6dyVECHXhwoUI5SQFkT3fFVtVBAZL9PnsW/TkCkOvcd2SdMQA==\",\"dtype\":\"float64\",\"order\":\"little\",\"shape\":[29]}},\"selected\":{\"id\":\"60970\"},\"selection_policy\":{\"id\":\"60969\"}},\"id\":\"59192\",\"type\":\"ColumnDataSource\"},{\"attributes\":{\"data\":{\"x\":{\"__ndarray__\":\"AABAtGsfd0IAAIBOGR93QgAAwOjGHndCAAAAg3Qed0IAAEAdIh53QgAAgLfPHXdCAADAUX0dd0IAAADsKh13QgAAQIbYHHdCAACAIIYcd0IAAMC6Mxx3QgAAAFXhG3dCAABA744bd0IAAICJPBt3QgAAwCPqGndCAAAAvpcad0IAAEBYRRp3QgAAgPLyGXdCAADAjKAZd0IAAAAnThl3QgAAQMH7GHdCAACAW6kYd0IAAMD1Vhh3QgAAAJAEGHdCAABAKrIXd0IAAIDEXxd3QgAAwF4NF3dCAAAA+boWd0IAAECTaBZ3QgAAgC0WFndCAADAx8MVd0IAAABicRV3QgAAQPweFXdCAACAlswUd0IAAMAwehR3QgAAAMsnFHdCAABAZdUTd0IAAID/ghN3QgAAwJkwE3dCAAAANN4Sd0IAAEDOixJ3QgAAgGg5EndCAADAAucRd0IAAACdlBF3QgAAQDdCEXdCAACA0e8Qd0IAAMBrnRB3QgAAAAZLEHdCAABAoPgPd0IAAIA6pg93QgAAwNRTD3dCAAAAbwEPd0IAAEAJrw53QgAAgKNcDndCAADAPQoOd0IAAADYtw13QgAAQHJlDXdC\",\"dtype\":\"float64\",\"order\":\"little\",\"shape\":[57]},\"y\":{\"__ndarray__\":\"CzcpveSqZEDtZZUdFE5mQAi015v9B2hADP8JxkPWaUCJCdU8C75rQEGK/x3Kvm1Aa9yJ5Cjbb0DQq+MH2QlxQKdgvH5CMnJACbpv22Bmc0CIipeV9aV0QBAYBlUz7XVAieuvGIo4d0A0UvLdfI94QKJ1LHx77HlAXwXm1HZMe0Cm8XZmmq18QCEWLu7EDH5A2VsL+Mtnf0A/BcJBNl6AQEKOZ61VBIFAFnv69nGhgUClrdz0wDSCQGEm0buNvYJAVXqwHTQ7g0CB9ywrK6yDQBi6JFISEoRAFByKVfNrhEAHyH9xXrqEQCDoihqF/IRAHfcExcYxhUD9rbeXmVmFQHVsCrYYdIVAFHrclhGChUC/JmS7X4OFQNcXdfyZeYVAV3Cg4XxShUBfkmO6ERmFQKWHwCenzYRAQuc5dJZ1hECL4SicrQ2EQPmdaGVrloNATW8JIecPg0BZnrLfyXqCQMnKBWhj2IFATVd3MKEogUCH+ziQaJGAQDLMcpzZ339AZjLx1FuIfkCqKe3JVxx9QAGyZnvNm3tAaMtd6bwGekDgddITJl14QGmxxPoIn3ZAA340nmXMdECu2yH+O+VyQGrKjBqM6XBA\",\"dtype\":\"float64\",\"order\":\"little\",\"shape\":[57]}},\"selected\":{\"id\":\"60974\"},\"selection_policy\":{\"id\":\"60973\"}},\"id\":\"59202\",\"type\":\"ColumnDataSource\"},{\"attributes\":{\"data_source\":{\"id\":\"59202\"},\"glyph\":{\"id\":\"59203\"},\"hover_glyph\":null,\"muted_glyph\":null,\"nonselection_glyph\":{\"id\":\"59204\"},\"selection_glyph\":null,\"view\":{\"id\":\"59206\"}},\"id\":\"59205\",\"type\":\"GlyphRenderer\"},{\"attributes\":{\"x\":{\"field\":\"x\"},\"y\":{\"field\":\"y\"}},\"id\":\"59203\",\"type\":\"Line\"},{\"attributes\":{},\"id\":\"60969\",\"type\":\"UnionRenderers\"},{\"attributes\":{},\"id\":\"60970\",\"type\":\"Selection\"},{\"attributes\":{\"data\":{\"x\":{\"__ndarray__\":\"AAAAO8Eod0IAAEDVbih3QgAAgG8cKHdCAADACcond0IAAACkdyd3QgAAQD4lJ3dCAACA2NImd0IAAMBygCZ3QgAAAA0uJndCAABAp9sld0IAAIBBiSV3QgAAwNs2JXdCAAAAduQkd0IAAEAQkiR3QgAAgKo/JHdCAADARO0jd0IAAADfmiN3QgAAQHlII3dCAACAE/Yid0IAAMCtoyJ3QgAAAEhRIndCAABA4v4hd0IAAIB8rCF3QgAAwBZaIXdCAAAAsQchd0IAAEBLtSB3QgAAgOViIHdCAADAfxAgd0IAAAAavh93QgAAQLRrH3dCAACAThkfd0IAAMDoxh53QgAAAIN0HndCAABAHSIed0IAAIC3zx13QgAAwFF9HXdCAAAA7Codd0IAAECG2Bx3QgAAgCCGHHdCAADAujMcd0IAAABV4Rt3QgAAQO+OG3dCAACAiTwbd0IAAMAj6hp3QgAAAL6XGndCAABAWEUad0IAAIDy8hl3QgAAwIygGXdCAAAAJ04Zd0IAAEDB+xh3QgAAgFupGHdCAADA9VYYd0IAAACQBBh3QgAAQCqyF3dCAACAxF8Xd0IAAMBeDRd3QgAAAPm6FndCAABAk2gWd0IAAIAtFhZ3QgAAwMfDFXdCAAAAYnEVd0IAAED8HhV3QgAAgJbMFHdCAADAMHoUd0IAAADLJxR3QgAAQGXVE3dCAACA/4ITd0IAAMCZMBN3QgAAADTeEndCAABAzosSd0IAAIBoORJ3QgAAwALnEXdCAAAAnZQRd0IAAEA3QhF3QgAAgNHvEHdCAADAa50Qd0IAAAAGSxB3QgAAQKD4D3dCAACAOqYPd0IAAMDUUw93QgAAAG8BD3dCAABACa8Od0IAAICjXA53QgAAwD0KDndCAAAA2LcNd0IAAEByZQ13QgAAgAwTDXdCAADApsAMd0IAAABBbgx3QgAAQNsbDHdCAACAdckLd0IAAMAPdwt3QgAAAKokC3dCAABARNIKd0IAAIDefwp3QgAAwHgtCndCAAAAE9sJd0IAAECtiAl3QgAAgEc2CXdCAADA4eMId0I=\",\"dtype\":\"float64\",\"order\":\"little\",\"shape\":[100]},\"y\":{\"__ndarray__\":\"OEiLim2TUUAkNZeRLCdRQLGF4inowFBA3TltU6BgUECqUTcOVQZQQC2agbQMZE9AR1gTb2jHTkCi3SNMvTZOQDwqs0sLsk1AFj7BbVI5TUAyGU6yksxMQI27WRnMa0xAKSXkov4WTEAFVu1OKs5LQCJOdR1PkUtAfg18Dm1gS0AblAEihDtLQPjhBViUIktAFveIsJ0VS0B004oroBRLQBJ3C8mbH0tA8OEKiZA2S0AQFIlrfllLQG4NhnBliEtADs4BmEXDS0BPUvzhHgpMQF7g8glRVkxAGJSaWs2wTEAyzYLg+BtNQAv73X2+l01A5oQ2wcAiTkAArkD0JbpOQEII8GZuXE9A3zOG5xMFUEAMGfoEwGBQQBSxvU3SwlBA8n2vzYwqUUBTiryUOphRQMd5bfnEC1JAVqM+X+aEUkD2q42YHAVTQLDquzYeilNAytO68HAWVECMKKalmqlUQDxB7JvvQlVAUB4Ke3TiVUDFgmGW34dWQIj+B3UiM1dAcR1mWHXjV0BAr0gUWphYQLehi0BnT1lAkQVWFZEHWkCEuPMoe8BaQBAskJt5eFtA0mthgwMuXECScflg9N9cQMDWREmpjF1APJzCs9EzXkB6UIaX0tNeQOK1xCCfa19ATeoV73r5X0AFH2hDND5gQGUaSblzeWBAMXiP0JytYED/K1ZgkdVgQLQvnBCU+WBAo7ACkdUVYUA4Ev70SSlhQBd9AQDmM2FAAAQTm/41YUChSQL2Ey9hQIBaA8OsHmFAqSo3suQDYUAfw0J+gt1gQMIEcQTZq2BAALJPq3ZhYECu1FfYzgxgQNzdEhfDW19AgAHJiV2JXkBIFNIIbaJdQDEWLpTxplxAQAfdK+uWW0By597PWXJaQMe2M4A9OVlAQHXbPJbrV0DeItYFZIlWQJ2/I9umElVAgUvEvF6HU0CKxreqi+dRQLYw/qQtM1BABRQvV4nUTEDrpAd9oRlJQBgUhrujNUVAiGGqEpAoQUCGGukEzeQ5QIwuyRVOJjFAKP7pr0YrIECAPDdJM9P0vzBUoB9rBCbA5CPBuWMJNcA=\",\"dtype\":\"float64\",\"order\":\"little\",\"shape\":[100]}},\"selected\":{\"id\":\"60976\"},\"selection_policy\":{\"id\":\"60975\"}},\"id\":\"59207\",\"type\":\"ColumnDataSource\"},{\"attributes\":{\"line_color\":\"orange\",\"line_dash\":[6],\"x\":{\"field\":\"x\"},\"y\":{\"field\":\"y\"}},\"id\":\"59208\",\"type\":\"Line\"},{\"attributes\":{\"source\":{\"id\":\"59202\"}},\"id\":\"59206\",\"type\":\"CDSView\"},{\"attributes\":{\"data_source\":{\"id\":\"59212\"},\"glyph\":{\"id\":\"59213\"},\"hover_glyph\":null,\"muted_glyph\":null,\"nonselection_glyph\":{\"id\":\"59214\"},\"selection_glyph\":null,\"view\":{\"id\":\"59216\"}},\"id\":\"59215\",\"type\":\"GlyphRenderer\"},{\"attributes\":{\"items\":[{\"id\":\"59218\"},{\"id\":\"59219\"},{\"id\":\"59220\"},{\"id\":\"59221\"},{\"id\":\"59222\"}],\"location\":[-98,195]},\"id\":\"59217\",\"type\":\"Legend\"},{\"attributes\":{\"line_alpha\":0.1,\"x\":{\"field\":\"x\"},\"y\":{\"field\":\"y\"}},\"id\":\"59204\",\"type\":\"Line\"},{\"attributes\":{\"source\":{\"id\":\"59207\"}},\"id\":\"59211\",\"type\":\"CDSView\"},{\"attributes\":{},\"id\":\"60971\",\"type\":\"UnionRenderers\"},{\"attributes\":{},\"id\":\"60972\",\"type\":\"Selection\"},{\"attributes\":{\"line_alpha\":0.1,\"line_color\":\"orange\",\"line_dash\":[6],\"x\":{\"field\":\"x\"},\"y\":{\"field\":\"y\"}},\"id\":\"59209\",\"type\":\"Line\"},{\"attributes\":{\"data\":{\"x\":{\"__ndarray__\":\"AAAAJ04Zd0IAAEDB+xh3QgAAgFupGHdCAADA9VYYd0IAAACQBBh3QgAAQCqyF3dCAACAxF8Xd0IAAMBeDRd3QgAAAPm6FndCAABAk2gWd0IAAIAtFhZ3QgAAwMfDFXdCAAAAYnEVd0IAAED8HhV3QgAAgJbMFHdCAADAMHoUd0IAAADLJxR3QgAAQGXVE3dCAACA/4ITd0IAAMCZMBN3QgAAADTeEndCAABAzosSd0IAAIBoORJ3QgAAwALnEXdCAAAAnZQRd0IAAEA3QhF3QgAAgNHvEHdCAADAa50Qd0IAAAAGSxB3QgAAQKD4D3dCAACAOqYPd0IAAMDUUw93QgAAAG8BD3dCAABACa8Od0IAAICjXA53QgAAwD0KDndCAAAA2LcNd0IAAEByZQ13Qg==\",\"dtype\":\"float64\",\"order\":\"little\",\"shape\":[38]},\"y\":{\"__ndarray__\":\"cR1mWHXjV0BAr0gUWphYQLehi0BnT1lAkQVWFZEHWkCEuPMoe8BaQBAskJt5eFtA0mthgwMuXECScflg9N9cQMDWREmpjF1APJzCs9EzXkB6UIaX0tNeQOK1xCCfa19ATeoV73r5X0AFH2hDND5gQGUaSblzeWBAMXiP0JytYED/K1ZgkdVgQLQvnBCU+WBAo7ACkdUVYUA4Ev70SSlhQBd9AQDmM2FAAAQTm/41YUChSQL2Ey9hQIBaA8OsHmFAqSo3suQDYUAfw0J+gt1gQMIEcQTZq2BAALJPq3ZhYECu1FfYzgxgQNzdEhfDW19AgAHJiV2JXkBIFNIIbaJdQDEWLpTxplxAQAfdK+uWW0By597PWXJaQMe2M4A9OVlAQHXbPJbrV0DeItYFZIlWQA==\",\"dtype\":\"float64\",\"order\":\"little\",\"shape\":[38]}},\"selected\":{\"id\":\"60978\"},\"selection_policy\":{\"id\":\"60977\"}},\"id\":\"59212\",\"type\":\"ColumnDataSource\"},{\"attributes\":{\"source\":{\"id\":\"59212\"}},\"id\":\"59216\",\"type\":\"CDSView\"},{\"attributes\":{},\"id\":\"60973\",\"type\":\"UnionRenderers\"},{\"attributes\":{\"line_alpha\":0.1,\"line_color\":\"orange\",\"x\":{\"field\":\"x\"},\"y\":{\"field\":\"y\"}},\"id\":\"59214\",\"type\":\"Line\"},{\"attributes\":{},\"id\":\"60974\",\"type\":\"Selection\"},{\"attributes\":{\"active_drag\":\"auto\",\"active_inspect\":\"auto\",\"active_multi\":null,\"active_scroll\":\"auto\",\"active_tap\":\"auto\",\"tools\":[{\"id\":\"59153\"},{\"id\":\"59154\"},{\"id\":\"59155\"},{\"id\":\"59156\"},{\"id\":\"59157\"},{\"id\":\"59158\"}]},\"id\":\"59160\",\"type\":\"Toolbar\"},{\"attributes\":{\"line_color\":\"orange\",\"x\":{\"field\":\"x\"},\"y\":{\"field\":\"y\"}},\"id\":\"59213\",\"type\":\"Line\"},{\"attributes\":{},\"id\":\"59158\",\"type\":\"HelpTool\"},{\"attributes\":{\"label\":{\"value\":\"France\"},\"renderers\":[{\"id\":\"59175\"}]},\"id\":\"59218\",\"type\":\"LegendItem\"},{\"attributes\":{\"label\":{\"value\":\"Spain\"},\"renderers\":[{\"id\":\"59205\"}]},\"id\":\"59219\",\"type\":\"LegendItem\"},{\"attributes\":{\"label\":{\"value\":\"Germany\"},\"renderers\":[{\"id\":\"59195\"}]},\"id\":\"59221\",\"type\":\"LegendItem\"},{\"attributes\":{\"label\":{\"value\":\"Iran\"},\"renderers\":[{\"id\":\"59215\"}]},\"id\":\"59222\",\"type\":\"LegendItem\"},{\"attributes\":{},\"id\":\"60975\",\"type\":\"UnionRenderers\"},{\"attributes\":{},\"id\":\"60976\",\"type\":\"Selection\"},{\"attributes\":{\"label\":{\"value\":\"Italy\"},\"renderers\":[{\"id\":\"59185\"}]},\"id\":\"59220\",\"type\":\"LegendItem\"},{\"attributes\":{\"text\":\"Number of Covid-19 deaths over time - The lockdown period is highlighted\"},\"id\":\"59135\",\"type\":\"Title\"},{\"attributes\":{\"axis_label\":\"number of deaths\",\"formatter\":{\"id\":\"60955\"},\"ticker\":{\"id\":\"59150\"}},\"id\":\"59149\",\"type\":\"LinearAxis\"},{\"attributes\":{},\"id\":\"59143\",\"type\":\"LinearScale\"},{\"attributes\":{},\"id\":\"59150\",\"type\":\"BasicTicker\"},{\"attributes\":{\"line_alpha\":0.1,\"line_color\":\"red\",\"line_dash\":[6],\"x\":{\"field\":\"x\"},\"y\":{\"field\":\"y\"}},\"id\":\"59169\",\"type\":\"Line\"},{\"attributes\":{},\"id\":\"59137\",\"type\":\"DataRange1d\"},{\"attributes\":{},\"id\":\"59154\",\"type\":\"WheelZoomTool\"},{\"attributes\":{\"data\":{\"x\":{\"__ndarray__\":\"AAAAO8Eod0IAAEDVbih3QgAAgG8cKHdCAADACcond0IAAACkdyd3QgAAQD4lJ3dCAACA2NImd0IAAMBygCZ3QgAAAA0uJndCAABAp9sld0IAAIBBiSV3QgAAwNs2JXdCAAAAduQkd0IAAEAQkiR3QgAAgKo/JHdCAADARO0jd0IAAADfmiN3QgAAQHlII3dCAACAE/Yid0IAAMCtoyJ3QgAAAEhRIndCAABA4v4hd0IAAIB8rCF3QgAAwBZaIXdCAAAAsQchd0IAAEBLtSB3QgAAgOViIHdCAADAfxAgd0IAAAAavh93QgAAQLRrH3dCAACAThkfd0IAAMDoxh53QgAAAIN0HndCAABAHSIed0IAAIC3zx13QgAAwFF9HXdCAAAA7Codd0IAAECG2Bx3QgAAgCCGHHdCAADAujMcd0IAAABV4Rt3QgAAQO+OG3dCAACAiTwbd0IAAMAj6hp3QgAAAL6XGndCAABAWEUad0IAAIDy8hl3QgAAwIygGXdCAAAAJ04Zd0IAAEDB+xh3QgAAgFupGHdCAADA9VYYd0IAAACQBBh3QgAAQCqyF3dCAACAxF8Xd0IAAMBeDRd3QgAAAPm6FndCAABAk2gWd0IAAIAtFhZ3QgAAwMfDFXdCAAAAYnEVd0IAAED8HhV3QgAAgJbMFHdCAADAMHoUd0IAAADLJxR3QgAAQGXVE3dCAACA/4ITd0IAAMCZMBN3QgAAADTeEndCAABAzosSd0IAAIBoORJ3QgAAwALnEXdCAAAAnZQRd0IAAEA3QhF3QgAAgNHvEHdCAADAa50Qd0IAAAAGSxB3QgAAQKD4D3dCAACAOqYPd0IAAMDUUw93QgAAAG8BD3dCAABACa8Od0IAAICjXA53QgAAwD0KDndCAAAA2LcNd0IAAEByZQ13QgAAgAwTDXdCAADApsAMd0IAAABBbgx3QgAAQNsbDHdCAACAdckLd0IAAMAPdwt3QgAAAKokC3dCAABARNIKd0IAAIDefwp3QgAAwHgtCndCAAAAE9sJd0IAAECtiAl3QgAAgEc2CXdCAADA4eMId0I=\",\"dtype\":\"float64\",\"order\":\"little\",\"shape\":[100]},\"y\":{\"__ndarray__\":\"pf5g8T4NV0BIgjMSPSlVQBtUXTN+eVNAHHTeVAL+UUBL4rZ2ybZQQFI9zTGnR09Aa1LbdkGKTUDhA5i8YTVMQLVRAwMISUtA5jsdSjTFSkB0wuWR5qlKQGDlXNoe90pAqKSCI92sS0BOAFdtIctMQFL42bfrUU5AWcaFAZ4gUEC43nUniUxRQEZFvU23rFJAAvpbdChBVEDs/FGb3AlWQAZOn8LTBlhATO1D6g04WkDE2j8Si51cQGsWkzpLN19AH9CeMacCYUC5uR9GyoNiQDFpGgKvBmRAvfVHpuGuZUDtg/Fe2YJnQK6wUQfMhGlAaApU0OGua0AAz0vj1gFuQM/9D2onPXBAwSg1YgqLcUCUoICvselyQDUlZ4FrWnRAkL14UzzbdUBJ7ODTqWl3QH2XGlKFAnlA7OWFbMGhekCzx+FrukV8QF6fOv/H6n1AXh/9qO+Qf0CogGjVy5mAQOwPBS68Z4FAn/BAOeUvgkDPdc2LjfCCQPioQb1DqINAOnM9DWhVhEBRRMCeifeEQGNoqFbGh4VAR5a6rj8FhkDYPCCxBG6GQGJGIx7vvIZAxbIKBWH2hkAcC5+2zhuHQP5NRl6SLYdA3res17wqh0AM/KEG9hCHQGwDphY73oZAjkqZT4GYhkBFPEzwXDqGQBu1nvCTyIVAd1nqHmxGhUBe4Ymt4bCEQHzJ5EYcAoRA+MAWFuZFg0C90yNwY32CQGHWS+HyqYFAUhNimprNgEBuW3vXRtV/QFWD6TBSBX5ASZBGu3ksfEDsqE3pMUx6QDs3MVsGaXhAZFSzez0Od0BMxlDpwrB1QA6QCaSWUHRArrHdq7jtckAsK80AKYhxQIb816LnH3BAfEv8I+lpbUCkTX+cn45qQIj/OK/yrWdAKGEpXOLHZECAclCjbtxhQChnXAkv111AyEiFALrqV0DQiRssfvNRQLBUPhj34kdAYKlAgsiSN0AAILtIC2/pv4DdFmXUVDnAIDIZz6UEScA4G2aBN7pSwAA+0ubi/FjAUAHRF1VKX8CUMjEKR9FiwMQ0Q+7GAmbAPIceOKo5acA=\",\"dtype\":\"float64\",\"order\":\"little\",\"shape\":[100]}},\"selected\":{\"id\":\"60960\"},\"selection_policy\":{\"id\":\"60959\"}},\"id\":\"59167\",\"type\":\"ColumnDataSource\"},{\"attributes\":{},\"id\":\"60955\",\"type\":\"BasicTickFormatter\"},{\"attributes\":{\"data_source\":{\"id\":\"59207\"},\"glyph\":{\"id\":\"59208\"},\"hover_glyph\":null,\"muted_glyph\":null,\"nonselection_glyph\":{\"id\":\"59209\"},\"selection_glyph\":null,\"view\":{\"id\":\"59211\"}},\"id\":\"59210\",\"type\":\"GlyphRenderer\"},{\"attributes\":{\"axis_label\":\"date\",\"formatter\":{\"id\":\"60957\"},\"ticker\":{\"id\":\"59146\"}},\"id\":\"59145\",\"type\":\"DatetimeAxis\"},{\"attributes\":{},\"id\":\"59141\",\"type\":\"LinearScale\"},{\"attributes\":{\"end\":800},\"id\":\"59139\",\"type\":\"Range1d\"},{\"attributes\":{},\"id\":\"59156\",\"type\":\"SaveTool\"},{\"attributes\":{\"num_minor_ticks\":5,\"tickers\":[{\"id\":\"60979\"},{\"id\":\"60980\"},{\"id\":\"60981\"},{\"id\":\"60982\"},{\"id\":\"60983\"},{\"id\":\"60984\"},{\"id\":\"60985\"},{\"id\":\"60986\"},{\"id\":\"60987\"},{\"id\":\"60988\"},{\"id\":\"60989\"},{\"id\":\"60990\"}]},\"id\":\"59146\",\"type\":\"DatetimeTicker\"},{\"attributes\":{\"axis\":{\"id\":\"59145\"},\"ticker\":null},\"id\":\"59148\",\"type\":\"Grid\"},{\"attributes\":{},\"id\":\"59153\",\"type\":\"PanTool\"},{\"attributes\":{\"axis\":{\"id\":\"59149\"},\"dimension\":1,\"ticker\":null},\"id\":\"59152\",\"type\":\"Grid\"},{\"attributes\":{\"data\":{\"x\":{\"__ndarray__\":\"AAAAO8Eod0IAAEDVbih3QgAAgG8cKHdCAADACcond0IAAACkdyd3QgAAQD4lJ3dCAACA2NImd0IAAMBygCZ3QgAAAA0uJndCAABAp9sld0IAAIBBiSV3QgAAwNs2JXdCAAAAduQkd0IAAEAQkiR3QgAAgKo/JHdCAADARO0jd0IAAADfmiN3QgAAQHlII3dCAACAE/Yid0IAAMCtoyJ3QgAAAEhRIndCAABA4v4hd0IAAIB8rCF3QgAAwBZaIXdCAAAAsQchd0IAAEBLtSB3QgAAgOViIHdCAADAfxAgd0IAAAAavh93QgAAQLRrH3dCAACAThkfd0IAAMDoxh53QgAAAIN0HndCAABAHSIed0IAAIC3zx13QgAAwFF9HXdCAAAA7Codd0IAAECG2Bx3QgAAgCCGHHdCAADAujMcd0IAAABV4Rt3QgAAQO+OG3dCAACAiTwbd0IAAMAj6hp3QgAAAL6XGndCAABAWEUad0IAAIDy8hl3QgAAwIygGXdCAAAAJ04Zd0IAAEDB+xh3QgAAgFupGHdCAADA9VYYd0IAAACQBBh3QgAAQCqyF3dCAACAxF8Xd0IAAMBeDRd3QgAAAPm6FndCAABAk2gWd0IAAIAtFhZ3QgAAwMfDFXdCAAAAYnEVd0IAAED8HhV3QgAAgJbMFHdCAADAMHoUd0IAAADLJxR3QgAAQGXVE3dCAACA/4ITd0IAAMCZMBN3QgAAADTeEndCAABAzosSd0IAAIBoORJ3QgAAwALnEXdCAAAAnZQRd0IAAEA3QhF3QgAAgNHvEHdCAADAa50Qd0IAAAAGSxB3QgAAQKD4D3dCAACAOqYPd0IAAMDUUw93QgAAAG8BD3dCAABACa8Od0IAAICjXA53QgAAwD0KDndCAAAA2LcNd0IAAEByZQ13QgAAgAwTDXdCAADApsAMd0IAAABBbgx3QgAAQNsbDHdCAACAdckLd0IAAMAPdwt3QgAAAKokC3dCAABARNIKd0IAAIDefwp3QgAAwHgtCndCAAAAE9sJd0IAAECtiAl3QgAAgEc2CXdCAADA4eMId0I=\",\"dtype\":\"float64\",\"order\":\"little\",\"shape\":[100]},\"y\":{\"__ndarray__\":\"7U56wZRdTcDx4RdZoBFMwA6mbt0UlkrARZt+TvLqSMCVwUesOBBHwP4YyvbnBUXAgKEFLgDMQsAaW/pRgWJAwJ6LUMXWkjvAOMMewHwBNsAGXV+U9BAwwAyyJIR8giPAsLm9Sc6SCMBAQ4Sxxt0PQJzLTDjz0SZABuGpiGg1M0AO+rqbBWE7QG/YrGro9UFAvwLDGuVqRkD3+x/eeA9LQBXEw7Sj409AjC1Xz7JzUkCE4O9NXw1VQOz6K1bXvldAynwL6BqIWkBNYo4DKmldQGkvToQtH2BA/ST7n3yUYUBifOjwvhdjQAs3Kb3kqmRA7WWVHRROZkAItNeb/QdoQAz/CcZD1mlAiQnVPAu+a0BBiv8dyr5tQGvcieQo229A0KvjB9kJcUCnYLx+QjJyQAm6b9tgZnNAiIqXlfWldEAQGAZVM+11QInrrxiKOHdANFLy3XyPeECidSx8e+x5QF8F5tR2THtApvF2ZpqtfEAhFi7uxAx+QNlbC/jLZ39APwXCQTZegEBCjmetVQSBQBZ7+vZxoYFApa3c9MA0gkBhJtG7jb2CQFV6sB00O4NAgfcsKyusg0AYuiRSEhKEQBQcilXza4RAB8h/cV66hEAg6IoahfyEQB33BMXGMYVA/a23l5lZhUB1bAq2GHSFQBR63JYRgoVAvyZku1+DhUDXF3X8mXmFQFdwoOF8UoVAX5JjuhEZhUClh8Anp82EQELnOXSWdYRAi+EonK0NhED5nWhla5aDQE1vCSHnD4NAWZ6y38l6gkDJygVoY9iBQE1XdzChKIFAh/s4kGiRgEAyzHKc2d9/QGYy8dRbiH5AqintyVccfUABsmZ7zZt7QGjLXem8BnpA4HXSEyZdeEBpscT6CJ92QAN+NJ5lzHRArtsh/jvlckBqyowajOlwQHCU6uarsm1ALLa2ETNpaUAK+n21rfZkQApgQNIbW2BAWND7z/osV0DASdraSaNKQIDtpeavISlAAJU1B0htPcDwQ3kO8yxSwFjeLimtUF3APBr3KEBjZMAwo1tENkdqwACFYnMcKnDAVqcZCCRFc8A=\",\"dtype\":\"float64\",\"order\":\"little\",\"shape\":[100]}},\"selected\":{\"id\":\"60972\"},\"selection_policy\":{\"id\":\"60971\"}},\"id\":\"59197\",\"type\":\"ColumnDataSource\"},{\"attributes\":{\"line_alpha\":0.1,\"line_dash\":[6],\"x\":{\"field\":\"x\"},\"y\":{\"field\":\"y\"}},\"id\":\"59199\",\"type\":\"Line\"},{\"attributes\":{\"line_dash\":[6],\"x\":{\"field\":\"x\"},\"y\":{\"field\":\"y\"}},\"id\":\"59198\",\"type\":\"Line\"},{\"attributes\":{\"source\":{\"id\":\"59192\"}},\"id\":\"59196\",\"type\":\"CDSView\"},{\"attributes\":{\"data_source\":{\"id\":\"59197\"},\"glyph\":{\"id\":\"59198\"},\"hover_glyph\":null,\"muted_glyph\":null,\"nonselection_glyph\":{\"id\":\"59199\"},\"selection_glyph\":null,\"view\":{\"id\":\"59201\"}},\"id\":\"59200\",\"type\":\"GlyphRenderer\"},{\"attributes\":{},\"id\":\"59157\",\"type\":\"ResetTool\"},{\"attributes\":{\"source\":{\"id\":\"59197\"}},\"id\":\"59201\",\"type\":\"CDSView\"},{\"attributes\":{},\"id\":\"60957\",\"type\":\"DatetimeTickFormatter\"},{\"attributes\":{\"bottom_units\":\"screen\",\"fill_alpha\":0.5,\"fill_color\":\"lightgrey\",\"left_units\":\"screen\",\"level\":\"overlay\",\"line_alpha\":1.0,\"line_color\":\"black\",\"line_dash\":[4,4],\"line_width\":2,\"right_units\":\"screen\",\"top_units\":\"screen\"},\"id\":\"59159\",\"type\":\"BoxAnnotation\"},{\"attributes\":{\"line_color\":\"red\",\"line_dash\":[6],\"x\":{\"field\":\"x\"},\"y\":{\"field\":\"y\"}},\"id\":\"59168\",\"type\":\"Line\"},{\"attributes\":{\"source\":{\"id\":\"59167\"}},\"id\":\"59171\",\"type\":\"CDSView\"},{\"attributes\":{},\"id\":\"60959\",\"type\":\"UnionRenderers\"},{\"attributes\":{},\"id\":\"60960\",\"type\":\"Selection\"},{\"attributes\":{\"data_source\":{\"id\":\"59177\"},\"glyph\":{\"id\":\"59178\"},\"hover_glyph\":null,\"muted_glyph\":null,\"nonselection_glyph\":{\"id\":\"59179\"},\"selection_glyph\":null,\"view\":{\"id\":\"59181\"}},\"id\":\"59180\",\"type\":\"GlyphRenderer\"}],\"root_ids\":[\"59134\"]},\"title\":\"Bokeh Application\",\"version\":\"2.1.1\"}};\n",
       "  var render_items = [{\"docid\":\"4c315a42-54b0-4099-835a-ff7c15af1354\",\"root_ids\":[\"59134\"],\"roots\":{\"59134\":\"fb5d0e51-e04e-45e3-83ed-1923e9a239ec\"}}];\n",
       "  root.Bokeh.embed.embed_items_notebook(docs_json, render_items);\n",
       "\n",
       "  }\n",
       "  if (root.Bokeh !== undefined) {\n",
       "    embed_document(root);\n",
       "  } else {\n",
       "    var attempts = 0;\n",
       "    var timer = setInterval(function(root) {\n",
       "      if (root.Bokeh !== undefined) {\n",
       "        clearInterval(timer);\n",
       "        embed_document(root);\n",
       "      } else {\n",
       "        attempts++;\n",
       "        if (attempts > 100) {\n",
       "          clearInterval(timer);\n",
       "          console.log(\"Bokeh: ERROR: Unable to run BokehJS code because BokehJS library is missing\");\n",
       "        }\n",
       "      }\n",
       "    }, 10, root)\n",
       "  }\n",
       "})(window);"
      ],
      "application/vnd.bokehjs_exec.v0+json": ""
     },
     "metadata": {
      "application/vnd.bokehjs_exec.v0+json": {
       "id": "59134"
      }
     },
     "output_type": "display_data"
    }
   ],
   "source": [
    "\n",
    "fig=figure(x_axis_type='datetime',title='Number of Covid-19 deaths over time - The lockdown period is highlighted',plot_height=400, plot_width=900,y_range=(0, 800))\n",
    "fig.yaxis.axis_label = 'number of deaths'\n",
    "fig.xaxis.axis_label = 'date'\n",
    "fig.line(fr_df.date ,fr_df.deaths,color = \"red\", line_dash='dashed')\n",
    "r0=fig.line(fr_df.loc[(fr_df['date']>=start_fr) & (fr_df['date']<=end_fr),:].date ,fr_df.loc[(fr_df['date']>=start_fr) & (fr_df['date']<=end_fr),:].deaths, color = \"red\",alpha=1)\n",
    "\n",
    "fig.line(it_df.date ,it_df.deaths,color = \"blue\", line_dash='dashed')\n",
    "r1=fig.line(it_df.loc[(it_df['date']>=start_it) & (it_df['date']<=end_it),:].date ,it_df.loc[(it_df['date']>=start_it) & (it_df['date']<=end_it),:].deaths, color = \"blue\",alpha=1)\n",
    "\n",
    "fig.line(gr_df.date ,gr_df.deaths,color = \"green\", line_dash='dashed')\n",
    "r2=fig.line(gr_df.loc[(gr_df['date']>=start_gr) & (gr_df['date']<=end_gr),:].date ,gr_df.loc[(gr_df['date']>=start_gr) & (gr_df['date']<=end_gr),:].deaths, color = \"green\",alpha=1)\n",
    "\n",
    "fig.line(sp_df.date ,sp_df.deaths,color = \"black\", line_dash='dashed')\n",
    "r3=fig.line(sp_df.loc[(sp_df['date']>=start_sp) & (sp_df['date']<=end_sp),:].date ,sp_df.loc[(sp_df['date']>=start_sp) & (sp_df['date']<=end_sp),:].deaths, color = \"black\",alpha=1)\n",
    "\n",
    "fig.line(ir_df.date ,ir_df.deaths,color = \"orange\", line_dash='dashed')\n",
    "r4=fig.line(ir_df.loc[(ir_df['date']>=start_ir) & (ir_df['date']<=end_ir),:].date ,ir_df.loc[(ir_df['date']>=start_ir) & (ir_df['date']<=end_ir),:].deaths, color = \"orange\",alpha=1)\n",
    "\n",
    "legend1 = Legend(items=[(\"France\" , [r0]),(\"Spain\" , [r3]),(\"Italy\" , [r1]),(\"Germany\" , [r2]),(\"Iran\" , [r4])],\n",
    "                 location=(-98,195))\n",
    "fig.add_layout(legend1, 'right' ) \n",
    "show(fig)"
   ]
  },
  {
   "cell_type": "markdown",
   "metadata": {},
   "source": [
    "### What is the best lockdown length?"
   ]
  },
  {
   "cell_type": "code",
   "execution_count": 23,
   "metadata": {},
   "outputs": [
    {
     "data": {
      "text/plain": [
       "(0.0, 7.0)"
      ]
     },
     "execution_count": 23,
     "metadata": {},
     "output_type": "execute_result"
    },
    {
     "data": {
      "image/png": "[encoded data removed]",
      "text/plain": [
       "<Figure size 432x288 with 1 Axes>"
      ]
     },
     "metadata": {
      "needs_background": "light"
     },
     "output_type": "display_data"
    }
   ],
   "source": [
    "plt.scatter(ds.groupby(by=['Length_days']).count().index,ds.groupby(by=['Length_days']).count().Country)\n",
    "plt.ylim(0,7)"
   ]
  },
  {
   "cell_type": "code",
   "execution_count": 145,
   "metadata": {},
   "outputs": [
    {
     "name": "stderr",
     "output_type": "stream",
     "text": [
      "BokehUserWarning: ColumnDataSource's columns must be of the same length. Current lengths: ('left', 7), ('top', 6)\n",
      "BokehUserWarning: ColumnDataSource's columns must be of the same length. Current lengths: ('left', 7), ('right', 6), ('top', 6)\n",
      "C:\\Users\\zst2019\\anaconda3\\lib\\site-packages\\bokeh\\models\\plots.py:764: UserWarning: \n",
      "You are attempting to set `plot.legend.location` on a plot that has zero legends added, this will have no effect.\n",
      "\n",
      "Before legend properties can be set, you must add a Legend explicitly, or call a glyph method with a legend parameter set.\n",
      "\n",
      "  warnings.warn(_LEGEND_EMPTY_WARNING % attr)\n",
      "C:\\Users\\zst2019\\anaconda3\\lib\\site-packages\\bokeh\\models\\plots.py:764: UserWarning: \n",
      "You are attempting to set `plot.legend.background_fill_color` on a plot that has zero legends added, this will have no effect.\n",
      "\n",
      "Before legend properties can be set, you must add a Legend explicitly, or call a glyph method with a legend parameter set.\n",
      "\n",
      "  warnings.warn(_LEGEND_EMPTY_WARNING % attr)\n"
     ]
    },
    {
     "data": {
      "text/html": [
       "\n",
       "\n",
       "\n",
       "\n",
       "\n",
       "\n",
       "  <div class=\"bk-root\" id=\"d031e6af-fbca-48eb-8edf-9d039a1a1989\" data-root-id=\"99920\"></div>\n"
      ]
     },
     "metadata": {},
     "output_type": "display_data"
    },
    {
     "data": {
      "application/javascript": [
       "(function(root) {\n",
       "  function embed_document(root) {\n",
       "    \n",
       "  var docs_json = {\"08f592f6-d35b-495f-a17e-22e490e52a50\":{\"roots\":{\"references\":[{\"attributes\":{\"children\":[[{\"id\":\"99887\"},0,0]]},\"id\":\"99920\",\"type\":\"GridBox\"},{\"attributes\":{},\"id\":\"99914\",\"type\":\"BasicTickFormatter\"},{\"attributes\":{},\"id\":\"99896\",\"type\":\"LinearScale\"},{\"attributes\":{\"source\":{\"id\":\"99907\"}},\"id\":\"99911\",\"type\":\"CDSView\"},{\"attributes\":{\"data\":{\"left\":{\"__ndarray__\":\"AAAAAAAA8D+rqqqqqio6QKuqqqqqqklAAAAAAAAgU0CrqqqqqmpZQFZVVVVVtV9AAAAAAAAAY0A=\",\"dtype\":\"float64\",\"order\":\"little\",\"shape\":[7]},\"right\":{\"__ndarray__\":\"q6qqqqoqOkCrqqqqqqpJQAAAAAAAIFNAq6qqqqpqWUBWVVVVVbVfQAAAAAAAAGNA\",\"dtype\":\"float64\",\"order\":\"little\",\"shape\":[6]},\"top\":[46,16,7,5,3,3]},\"selected\":{\"id\":\"99918\"},\"selection_policy\":{\"id\":\"99917\"}},\"id\":\"99907\",\"type\":\"ColumnDataSource\"},{\"attributes\":{},\"id\":\"99917\",\"type\":\"UnionRenderers\"},{\"attributes\":{\"axis_label\":\"y\",\"formatter\":{\"id\":\"99914\"},\"ticker\":{\"id\":\"99903\"}},\"id\":\"99902\",\"type\":\"LinearAxis\"},{\"attributes\":{},\"id\":\"99916\",\"type\":\"BasicTickFormatter\"},{\"attributes\":{\"bottom\":{\"value\":0},\"fill_color\":{\"value\":\"navy\"},\"left\":{\"field\":\"left\"},\"line_color\":{\"value\":\"#1f77b4\"},\"right\":{\"field\":\"right\"},\"top\":{\"field\":\"top\"}},\"id\":\"99908\",\"type\":\"Quad\"},{\"attributes\":{},\"id\":\"99918\",\"type\":\"Selection\"},{\"attributes\":{},\"id\":\"99899\",\"type\":\"BasicTicker\"},{\"attributes\":{\"text\":\"title\"},\"id\":\"99888\",\"type\":\"Title\"},{\"attributes\":{},\"id\":\"99894\",\"type\":\"LinearScale\"},{\"attributes\":{\"bottom\":{\"value\":0},\"fill_alpha\":{\"value\":0.1},\"fill_color\":{\"value\":\"navy\"},\"left\":{\"field\":\"left\"},\"line_alpha\":{\"value\":0.1},\"line_color\":{\"value\":\"#1f77b4\"},\"right\":{\"field\":\"right\"},\"top\":{\"field\":\"top\"}},\"id\":\"99909\",\"type\":\"Quad\"},{\"attributes\":{\"axis_label\":\"x\",\"formatter\":{\"id\":\"99916\"},\"ticker\":{\"id\":\"99899\"}},\"id\":\"99898\",\"type\":\"LinearAxis\"},{\"attributes\":{\"data_source\":{\"id\":\"99907\"},\"glyph\":{\"id\":\"99908\"},\"hover_glyph\":null,\"muted_glyph\":null,\"nonselection_glyph\":{\"id\":\"99909\"},\"selection_glyph\":null,\"view\":{\"id\":\"99911\"}},\"id\":\"99910\",\"type\":\"GlyphRenderer\"},{\"attributes\":{\"axis\":{\"id\":\"99898\"},\"grid_line_color\":\"white\",\"ticker\":null},\"id\":\"99901\",\"type\":\"Grid\"},{\"attributes\":{\"start\":0},\"id\":\"99890\",\"type\":\"DataRange1d\"},{\"attributes\":{},\"id\":\"99903\",\"type\":\"BasicTicker\"},{\"attributes\":{\"axis\":{\"id\":\"99902\"},\"dimension\":1,\"grid_line_color\":\"white\",\"ticker\":null},\"id\":\"99905\",\"type\":\"Grid\"},{\"attributes\":{\"start\":0},\"id\":\"99892\",\"type\":\"DataRange1d\"},{\"attributes\":{\"background_fill_color\":\"#fafafa\",\"below\":[{\"id\":\"99898\"}],\"center\":[{\"id\":\"99901\"},{\"id\":\"99905\"}],\"left\":[{\"id\":\"99902\"}],\"plot_height\":400,\"plot_width\":800,\"renderers\":[{\"id\":\"99910\"}],\"title\":{\"id\":\"99888\"},\"toolbar\":{\"id\":\"99906\"},\"toolbar_location\":null,\"x_range\":{\"id\":\"99890\"},\"x_scale\":{\"id\":\"99894\"},\"y_range\":{\"id\":\"99892\"},\"y_scale\":{\"id\":\"99896\"}},\"id\":\"99887\",\"subtype\":\"Figure\",\"type\":\"Plot\"},{\"attributes\":{\"active_drag\":\"auto\",\"active_inspect\":\"auto\",\"active_multi\":null,\"active_scroll\":\"auto\",\"active_tap\":\"auto\"},\"id\":\"99906\",\"type\":\"Toolbar\"}],\"root_ids\":[\"99920\"]},\"title\":\"Bokeh Application\",\"version\":\"2.1.1\"}};\n",
       "  var render_items = [{\"docid\":\"08f592f6-d35b-495f-a17e-22e490e52a50\",\"root_ids\":[\"99920\"],\"roots\":{\"99920\":\"d031e6af-fbca-48eb-8edf-9d039a1a1989\"}}];\n",
       "  root.Bokeh.embed.embed_items_notebook(docs_json, render_items);\n",
       "\n",
       "  }\n",
       "  if (root.Bokeh !== undefined) {\n",
       "    embed_document(root);\n",
       "  } else {\n",
       "    var attempts = 0;\n",
       "    var timer = setInterval(function(root) {\n",
       "      if (root.Bokeh !== undefined) {\n",
       "        clearInterval(timer);\n",
       "        embed_document(root);\n",
       "      } else {\n",
       "        attempts++;\n",
       "        if (attempts > 100) {\n",
       "          clearInterval(timer);\n",
       "          console.log(\"Bokeh: ERROR: Unable to run BokehJS code because BokehJS library is missing\");\n",
       "        }\n",
       "      }\n",
       "    }, 10, root)\n",
       "  }\n",
       "})(window);"
      ],
      "application/vnd.bokehjs_exec.v0+json": ""
     },
     "metadata": {
      "application/vnd.bokehjs_exec.v0+json": {
       "id": "99920"
      }
     },
     "output_type": "display_data"
    }
   ],
   "source": [
    "import numpy as np\n",
    "import scipy.special\n",
    "\n",
    "from bokeh.layouts import gridplot\n",
    "from bokeh.plotting import figure, output_file, show\n",
    "\n",
    "\n",
    "def make_plot(title, hist):\n",
    "    p = figure(title=title, tools='', background_fill_color=\"#fafafa\")\n",
    "    p.quad(top=hist, bottom=0, left=edges[:], right=edges[1:],\n",
    "           fill_color=\"navy\")\n",
    "#     p.line(x, pdf, line_color=\"#ff8888\", line_width=4, alpha=0.7, legend_label=\"PDF\")\n",
    "#     p.line(x, cdf, line_color=\"orange\", line_width=2, alpha=0.7, legend_label=\"CDF\")\n",
    "\n",
    "    p.y_range.start = 0\n",
    "    p.x_range.start = 0\n",
    "    p.legend.location = \"center_right\"\n",
    "    p.legend.background_fill_color = \"#fefefe\"\n",
    "    p.xaxis.axis_label = 'x'\n",
    "    p.yaxis.axis_label = 'y'\n",
    "    p.grid.grid_line_color=\"white\"\n",
    "    return p\n",
    "\n",
    "# Normal Distribution\n",
    "\n",
    "\n",
    "\n",
    "measured = ds.groupby(by=['Length_days']).count().index,ds.groupby(by=['Length_days']).count().Country\n",
    "hist, edges = np.histogram(measured, bins=6)\n",
    "\n",
    "\n",
    "\n",
    "p1 = make_plot(\"title\", hist)\n",
    "show(gridplot([p1], ncols=2, plot_width=800, plot_height=400, toolbar_location=None))"
   ]
  },
  {
   "cell_type": "markdown",
   "metadata": {},
   "source": [
    "As best lockdown period is suggested 50 days in this article:https://journals.plos.org/plosone/article?id=10.1371/journal.pone.0243413\n",
    "        we categorize the lockdown dataset based on lockdown Length(days) in 6 groups with a distace of 25 days to increase accuracy "
   ]
  },
  {
   "cell_type": "code",
   "execution_count": 155,
   "metadata": {},
   "outputs": [
    {
     "data": {
      "text/html": [
       "\n",
       "\n",
       "\n",
       "\n",
       "\n",
       "\n",
       "  <div class=\"bk-root\" id=\"16cad7e9-44da-4491-b11d-6f4c517aea1a\" data-root-id=\"120544\"></div>\n"
      ]
     },
     "metadata": {},
     "output_type": "display_data"
    },
    {
     "data": {
      "application/javascript": [
       "(function(root) {\n",
       "  function embed_document(root) {\n",
       "    \n",
       "  var docs_json = {\"e006ed0e-9eab-4d9a-b43e-8b02d0a23b38\":{\"roots\":{\"references\":[{\"attributes\":{\"below\":[{\"id\":\"120555\"}],\"center\":[{\"id\":\"120557\"},{\"id\":\"120561\"}],\"left\":[{\"id\":\"120558\"}],\"plot_height\":350,\"plot_width\":700,\"renderers\":[{\"id\":\"120579\"}],\"title\":{\"id\":\"120545\"},\"toolbar\":{\"id\":\"120569\"},\"x_range\":{\"id\":\"120547\"},\"x_scale\":{\"id\":\"120551\"},\"y_range\":{\"id\":\"120549\"},\"y_scale\":{\"id\":\"120553\"}},\"id\":\"120544\",\"subtype\":\"Figure\",\"type\":\"Plot\"},{\"attributes\":{\"data_source\":{\"id\":\"120543\"},\"glyph\":{\"id\":\"120577\"},\"hover_glyph\":null,\"muted_glyph\":null,\"nonselection_glyph\":{\"id\":\"120578\"},\"selection_glyph\":null,\"view\":{\"id\":\"120580\"}},\"id\":\"120579\",\"type\":\"GlyphRenderer\"},{\"attributes\":{},\"id\":\"120559\",\"type\":\"BasicTicker\"},{\"attributes\":{},\"id\":\"122572\",\"type\":\"CategoricalTickFormatter\"},{\"attributes\":{\"overlay\":{\"id\":\"120568\"}},\"id\":\"120564\",\"type\":\"BoxZoomTool\"},{\"attributes\":{\"line_color\":{\"value\":\"gray\"},\"top\":{\"field\":\"counts\"},\"width\":{\"value\":0.8},\"x\":{\"field\":\"lockdown_length\"}},\"id\":\"120577\",\"type\":\"VBar\"},{\"attributes\":{},\"id\":\"120566\",\"type\":\"ResetTool\"},{\"attributes\":{\"axis_label\":\"lockdown length (days)\",\"formatter\":{\"id\":\"122572\"},\"ticker\":{\"id\":\"120556\"}},\"id\":\"120555\",\"type\":\"CategoricalAxis\"},{\"attributes\":{},\"id\":\"120565\",\"type\":\"SaveTool\"},{\"attributes\":{\"bottom_units\":\"screen\",\"fill_alpha\":0.5,\"fill_color\":\"lightgrey\",\"left_units\":\"screen\",\"level\":\"overlay\",\"line_alpha\":1.0,\"line_color\":\"black\",\"line_dash\":[4,4],\"line_width\":2,\"right_units\":\"screen\",\"top_units\":\"screen\"},\"id\":\"120568\",\"type\":\"BoxAnnotation\"},{\"attributes\":{},\"id\":\"120567\",\"type\":\"HelpTool\"},{\"attributes\":{\"source\":{\"id\":\"120543\"}},\"id\":\"120580\",\"type\":\"CDSView\"},{\"attributes\":{\"data\":{\"color\":[\"#3288bd\",\"#99d594\",\"#e6f598\",\"#fee08b\",\"#fc8d59\",\"#d53e4f\"],\"counts\":[11,23,13,7,3,2],\"lockdown_length\":[\"0 to 25 \",\"25 to 50 \",\"50 to 75 \",\"75 to 100 \",\"100 to 125 \",\"125 to 150 \"]},\"selected\":{\"id\":\"122575\"},\"selection_policy\":{\"id\":\"122574\"}},\"id\":\"120543\",\"type\":\"ColumnDataSource\"},{\"attributes\":{\"fill_alpha\":{\"value\":0.1},\"line_alpha\":{\"value\":0.1},\"line_color\":{\"value\":\"gray\"},\"top\":{\"field\":\"counts\"},\"width\":{\"value\":0.8},\"x\":{\"field\":\"lockdown_length\"}},\"id\":\"120578\",\"type\":\"VBar\"},{\"attributes\":{},\"id\":\"122570\",\"type\":\"BasicTickFormatter\"},{\"attributes\":{},\"id\":\"120556\",\"type\":\"CategoricalTicker\"},{\"attributes\":{},\"id\":\"120562\",\"type\":\"PanTool\"},{\"attributes\":{\"text\":\"Number of countries based on lockdown length\"},\"id\":\"120545\",\"type\":\"Title\"},{\"attributes\":{\"end\":30},\"id\":\"120549\",\"type\":\"Range1d\"},{\"attributes\":{},\"id\":\"120563\",\"type\":\"WheelZoomTool\"},{\"attributes\":{},\"id\":\"122574\",\"type\":\"UnionRenderers\"},{\"attributes\":{},\"id\":\"122575\",\"type\":\"Selection\"},{\"attributes\":{\"factors\":[\"0 to 25 \",\"25 to 50 \",\"50 to 75 \",\"75 to 100 \",\"100 to 125 \",\"125 to 150 \"]},\"id\":\"120547\",\"type\":\"FactorRange\"},{\"attributes\":{\"axis\":{\"id\":\"120558\"},\"dimension\":1,\"ticker\":null},\"id\":\"120561\",\"type\":\"Grid\"},{\"attributes\":{\"active_drag\":\"auto\",\"active_inspect\":\"auto\",\"active_multi\":null,\"active_scroll\":\"auto\",\"active_tap\":\"auto\",\"tools\":[{\"id\":\"120562\"},{\"id\":\"120563\"},{\"id\":\"120564\"},{\"id\":\"120565\"},{\"id\":\"120566\"},{\"id\":\"120567\"}]},\"id\":\"120569\",\"type\":\"Toolbar\"},{\"attributes\":{\"axis_label\":\"count of countries\",\"formatter\":{\"id\":\"122570\"},\"ticker\":{\"id\":\"120559\"}},\"id\":\"120558\",\"type\":\"LinearAxis\"},{\"attributes\":{\"axis\":{\"id\":\"120555\"},\"ticker\":null},\"id\":\"120557\",\"type\":\"Grid\"},{\"attributes\":{},\"id\":\"120551\",\"type\":\"CategoricalScale\"},{\"attributes\":{},\"id\":\"120553\",\"type\":\"LinearScale\"}],\"root_ids\":[\"120544\"]},\"title\":\"Bokeh Application\",\"version\":\"2.1.1\"}};\n",
       "  var render_items = [{\"docid\":\"e006ed0e-9eab-4d9a-b43e-8b02d0a23b38\",\"root_ids\":[\"120544\"],\"roots\":{\"120544\":\"16cad7e9-44da-4491-b11d-6f4c517aea1a\"}}];\n",
       "  root.Bokeh.embed.embed_items_notebook(docs_json, render_items);\n",
       "\n",
       "  }\n",
       "  if (root.Bokeh !== undefined) {\n",
       "    embed_document(root);\n",
       "  } else {\n",
       "    var attempts = 0;\n",
       "    var timer = setInterval(function(root) {\n",
       "      if (root.Bokeh !== undefined) {\n",
       "        clearInterval(timer);\n",
       "        embed_document(root);\n",
       "      } else {\n",
       "        attempts++;\n",
       "        if (attempts > 100) {\n",
       "          clearInterval(timer);\n",
       "          console.log(\"Bokeh: ERROR: Unable to run BokehJS code because BokehJS library is missing\");\n",
       "        }\n",
       "      }\n",
       "    }, 10, root)\n",
       "  }\n",
       "})(window);"
      ],
      "application/vnd.bokehjs_exec.v0+json": ""
     },
     "metadata": {
      "application/vnd.bokehjs_exec.v0+json": {
       "id": "120544"
      }
     },
     "output_type": "display_data"
    }
   ],
   "source": [
    "from bokeh.models import ColumnDataSource\n",
    "from bokeh.palettes import Spectral6\n",
    "from bokeh.plotting import figure,output_file, show\n",
    "output_file(\"line.html\")\n",
    "\n",
    "lockdown_length= ['0 to 25 ', '25 to 50 ', '50 to 75 ', '75 to 100 ','100 to 125 ','125 to 150 ']\n",
    "counts =[ds.loc[(ds['Length_days']>0) & (ds['Length_days']<=25),'Country' ].count(), ds.loc[(ds['Length_days']>25) & (ds['Length_days']<=50),'Country' ].count(), ds.loc[(ds['Length_days']>50) & (ds['Length_days']<=75),'Country' ].count(), ds.loc[(ds['Length_days']>75) & (ds['Length_days']<=100),'Country' ].count(), ds.loc[(ds['Length_days']>100) & (ds['Length_days']<=125),'Country' ].count(), ds.loc[(ds['Length_days']>125) & (ds['Length_days']<=150),'Country' ].count()]\n",
    "\n",
    "source = ColumnDataSource(data=dict(lockdown_length=lockdown_length, counts=counts, color=Spectral6))\n",
    "\n",
    "fig = figure(x_range=lockdown_length ,plot_height=350, plot_width=700,y_range=(0, 30), title=\"Number of countries based on lockdown length\")\n",
    "\n",
    "fig.vbar(x='lockdown_length', top='counts', width=0.8, color='gray', source=source)\n",
    "\n",
    "\n",
    "fig.yaxis.axis_label = 'count of countries'\n",
    "fig.xaxis.axis_label = 'lockdown length (days)'\n",
    "show(fig)"
   ]
  },
  {
   "cell_type": "markdown",
   "metadata": {},
   "source": [
    "as it's shown in the bar chart, majority of countries apply 25 to 50 days lockdown."
   ]
  },
  {
   "cell_type": "markdown",
   "metadata": {},
   "source": [
    "### How can we measure their effectiveness?"
   ]
  },
  {
   "cell_type": "markdown",
   "metadata": {},
   "source": [
    "assume the limited part of the date which the first country started its lockdown and the last country ended. This period has no overlap with the second lockdown."
   ]
  },
  {
   "cell_type": "code",
   "execution_count": 25,
   "metadata": {},
   "outputs": [],
   "source": [
    "min_start=min(ds.start)\n",
    "max_end=max(ds.end)"
   ]
  },
  {
   "cell_type": "code",
   "execution_count": 156,
   "metadata": {},
   "outputs": [
    {
     "data": {
      "text/plain": [
       "Timestamp('2020-03-09 00:00:00')"
      ]
     },
     "execution_count": 156,
     "metadata": {},
     "output_type": "execute_result"
    }
   ],
   "source": [
    "min_start"
   ]
  },
  {
   "cell_type": "code",
   "execution_count": 157,
   "metadata": {},
   "outputs": [
    {
     "data": {
      "text/plain": [
       "Timestamp('2020-09-01 00:00:00')"
      ]
     },
     "execution_count": 157,
     "metadata": {},
     "output_type": "execute_result"
    }
   ],
   "source": [
    "max_end"
   ]
  },
  {
   "cell_type": "code",
   "execution_count": 26,
   "metadata": {},
   "outputs": [],
   "source": [
    "df_sum=covid_data.loc[(covid_data['date']>=min_start) & (covid_data['date']<=max_end)].groupby(by=['country']).sum().reset_index()"
   ]
  },
  {
   "cell_type": "markdown",
   "metadata": {},
   "source": [
    "calculate the ratio of the total number of cases to the population of each country during this period.\n"
   ]
  },
  {
   "cell_type": "code",
   "execution_count": 27,
   "metadata": {},
   "outputs": [],
   "source": [
    "sumCases=dict()\n",
    "for country in ds.Country:\n",
    "    if (len(df_sum.loc[(df_sum['country']==country)].cases.values)!=0):\n",
    "            sumCases[country]=df_sum.loc[(df_sum['country']==country)].cases.values[0]"
   ]
  },
  {
   "cell_type": "code",
   "execution_count": 28,
   "metadata": {},
   "outputs": [],
   "source": [
    "for country in sumCases.keys():\n",
    "    ds.loc[(ds['Country']==country),'sum_cases']=(sumCases[country])"
   ]
  },
  {
   "cell_type": "markdown",
   "metadata": {},
   "source": [
    "calculate an average ratio of the total number of cases to the population of countries  by grouping on lockdown length"
   ]
  },
  {
   "cell_type": "code",
   "execution_count": 29,
   "metadata": {},
   "outputs": [],
   "source": [
    "sum_cases0_25=(((ds.loc[(ds['Length_days']>0) & (ds['Length_days']<=25),: ].sum_cases)/(ds.loc[(ds['Length_days']>0) & (ds['Length_days']<=25),: ].population))*100).mean()\n",
    "sum_cases25_50=(((ds.loc[(ds['Length_days']>25) & (ds['Length_days']<=50),: ].sum_cases)/(ds.loc[(ds['Length_days']>25) & (ds['Length_days']<=50),: ].population))*100).mean()\n",
    "sum_cases50_75=(((ds.loc[(ds['Length_days']>50) & (ds['Length_days']<=75),: ].sum_cases)/(ds.loc[(ds['Length_days']>50) & (ds['Length_days']<=75),: ].population))*100).mean()\n",
    "sum_cases75_100=(((ds.loc[(ds['Length_days']>75) & (ds['Length_days']<=100),: ].sum_cases)/(ds.loc[(ds['Length_days']>75) & (ds['Length_days']<=100),: ].population))*100).mean()\n",
    "sum_cases100_125=(((ds.loc[(ds['Length_days']>100) & (ds['Length_days']<=125),: ].sum_cases)/(ds.loc[(ds['Length_days']>100) & (ds['Length_days']<=125),: ].population))*100).mean()\n",
    "sum_cases125_150=(((ds.loc[(ds['Length_days']>125) & (ds['Length_days']<=150),: ].sum_cases)/(ds.loc[(ds['Length_days']>125) & (ds['Length_days']<=150),: ].population))*100).mean()\n"
   ]
  },
  {
   "cell_type": "markdown",
   "metadata": {},
   "source": [
    "calculate the ratio of the total number of deaths to the population of each country during this period."
   ]
  },
  {
   "cell_type": "code",
   "execution_count": 30,
   "metadata": {},
   "outputs": [],
   "source": [
    "sumDeaths=dict()\n",
    "for country in ds.Country:\n",
    "    if (len(df_sum.loc[(df_sum['country']==country)].deaths.values)!=0):\n",
    "            sumDeaths[country]=df_sum.loc[(df_sum['country']==country)].deaths.values[0]"
   ]
  },
  {
   "cell_type": "code",
   "execution_count": 31,
   "metadata": {},
   "outputs": [],
   "source": [
    "for country in sumDeaths.keys():\n",
    "    ds.loc[(ds['Country']==country),'sum_deaths']=(sumDeaths[country])"
   ]
  },
  {
   "cell_type": "markdown",
   "metadata": {},
   "source": [
    "calculate an average ratio of the total number of deaths to the population of countries  by grouping on lockdown length"
   ]
  },
  {
   "cell_type": "code",
   "execution_count": 32,
   "metadata": {},
   "outputs": [],
   "source": [
    "sum_deaths0_25=(((ds.loc[(ds['Length_days']>0) & (ds['Length_days']<=25),: ].sum_deaths)/(ds.loc[(ds['Length_days']>0) & (ds['Length_days']<=25),: ].population))*100).mean()\n",
    "sum_deaths25_50=(((ds.loc[(ds['Length_days']>25) & (ds['Length_days']<=50),: ].sum_deaths)/(ds.loc[(ds['Length_days']>25) & (ds['Length_days']<=50),: ].population))*100).mean()\n",
    "sum_deaths50_75=(((ds.loc[(ds['Length_days']>50) & (ds['Length_days']<=75),: ].sum_deaths)/(ds.loc[(ds['Length_days']>50) & (ds['Length_days']<=75),: ].population))*100).mean()\n",
    "sum_deaths75_100=(((ds.loc[(ds['Length_days']>75) & (ds['Length_days']<=100),: ].sum_deaths)/(ds.loc[(ds['Length_days']>75) & (ds['Length_days']<=100),: ].population))*100).mean()\n",
    "sum_deaths100_125=(((ds.loc[(ds['Length_days']>100) & (ds['Length_days']<=125),: ].sum_deaths)/(ds.loc[(ds['Length_days']>100) & (ds['Length_days']<=125),: ].population))*100).mean()\n",
    "sum_deaths125_150=(((ds.loc[(ds['Length_days']>125) & (ds['Length_days']<=150),: ].sum_deaths)/(ds.loc[(ds['Length_days']>125) & (ds['Length_days']<=150),: ].population))*100).mean()\n"
   ]
  },
  {
   "cell_type": "code",
   "execution_count": 33,
   "metadata": {},
   "outputs": [
    {
     "data": {
      "image/png": "[encoded data removed]",
      "text/plain": [
       "<Figure size 864x360 with 1 Axes>"
      ]
     },
     "metadata": {
      "needs_background": "light"
     },
     "output_type": "display_data"
    }
   ],
   "source": [
    "labels = ['0 to 25','25 to 50','50 to 75','75 to 100 ','100 to 125','125 to 150']\n",
    "cases_values = [float(sum_cases0_25), sum_cases25_50, sum_cases50_75, sum_cases75_100, sum_cases100_125,sum_cases125_150]\n",
    "deaths_values = [sum_deaths0_25, sum_deaths25_50, sum_deaths50_75, sum_deaths75_100, sum_deaths100_125,sum_deaths125_150]\n",
    "\n",
    "x = np.arange(len(labels))  # the label locations\n",
    "width = 0.4 # the width of the bars\n",
    "\n",
    "fig, ax = plt.subplots(figsize=(12,5))\n",
    "rects1 = ax.bar(x - width/2, cases_values, width, label='Cases')\n",
    "rects2 = ax.bar(x + width/2, deaths_values, width, label='Deaths',color='red')\n",
    "\n",
    "# Add some text for labels, title and custom x-axis tick labels, etc.\n",
    "ax.set_ylim([0, 0.01])\n",
    "ax.yaxis.set_ticks(np.arange(0, 1.1, 0.1))\n",
    "ax.set_ylabel('value(percentage)')\n",
    "ax.set_xlabel('lockdown length(days)')\n",
    "ax.set_title('Average ratio of total deaths/cases to the population in countries, grouped by lockdown length.')\n",
    "ax.set_xticks(x)\n",
    "ax.set_xticklabels(labels)\n",
    "ax.legend()\n",
    "\n",
    "\n",
    "def autolabel(rects):\n",
    "    \"\"\"Attach a text label above each bar in rects, displaying its height.\"\"\"\n",
    "    for rect in rects:\n",
    "        height = rect.get_height()\n",
    "        ax.annotate('{}'.format(height),\n",
    "                    xy=(rect.get_x() + rect.get_width() / 2, height),\n",
    "                    xytext=(0, 3),  # 3 points vertical offset\n",
    "                    textcoords=\"offset points\",\n",
    "                    ha='center', va='bottom')\n",
    "\n",
    "np.set_printoptions(precision=4)\n",
    "autolabel(rects2)\n",
    "# autolabel(rects2)\n",
    "\n",
    "fig.tight_layout()\n",
    "\n",
    "plt.show()"
   ]
  },
  {
   "cell_type": "code",
   "execution_count": 167,
   "metadata": {},
   "outputs": [
    {
     "data": {
      "text/html": [
       "\n",
       "\n",
       "\n",
       "\n",
       "\n",
       "\n",
       "  <div class=\"bk-root\" id=\"c918d0ad-0acd-4653-af6c-44f6c72d92b4\" data-root-id=\"129516\"></div>\n"
      ]
     },
     "metadata": {},
     "output_type": "display_data"
    },
    {
     "data": {
      "application/javascript": [
       "(function(root) {\n",
       "  function embed_document(root) {\n",
       "    \n",
       "  var docs_json = {\"6ad4597e-22a4-4bce-a4e7-93e3b2627b32\":{\"roots\":{\"references\":[{\"attributes\":{\"below\":[{\"id\":\"129527\"}],\"center\":[{\"id\":\"129529\"},{\"id\":\"129533\"},{\"id\":\"129550\"}],\"left\":[{\"id\":\"129530\"}],\"plot_height\":350,\"plot_width\":800,\"renderers\":[{\"id\":\"129541\"},{\"id\":\"129556\"}],\"title\":{\"id\":\"129517\"},\"toolbar\":{\"id\":\"129535\"},\"x_range\":{\"id\":\"129519\"},\"x_scale\":{\"id\":\"129523\"},\"y_range\":{\"id\":\"129521\"},\"y_scale\":{\"id\":\"129525\"}},\"id\":\"129516\",\"subtype\":\"Figure\",\"type\":\"Plot\"},{\"attributes\":{\"label\":{\"value\":\"cases\"},\"renderers\":[{\"id\":\"129541\"}]},\"id\":\"129551\",\"type\":\"LegendItem\"},{\"attributes\":{\"factors\":[\"0 to 25\",\"25 to 50\",\"50 to 75\",\"75 to 100 \",\"100 to 125\",\"125 to 150\"],\"range_padding\":0.15},\"id\":\"129519\",\"type\":\"FactorRange\"},{\"attributes\":{},\"id\":\"129523\",\"type\":\"CategoricalScale\"},{\"attributes\":{\"items\":[{\"id\":\"129551\"},{\"id\":\"129565\"}]},\"id\":\"129550\",\"type\":\"Legend\"},{\"attributes\":{\"source\":{\"id\":\"129515\"}},\"id\":\"129542\",\"type\":\"CDSView\"},{\"attributes\":{},\"id\":\"129528\",\"type\":\"CategoricalTicker\"},{\"attributes\":{\"text\":\"Average ratio of total deaths/cases to the population in countries, grouped by lockdown length\"},\"id\":\"129517\",\"type\":\"Title\"},{\"attributes\":{\"axis\":{\"id\":\"129527\"},\"grid_line_color\":null,\"ticker\":null},\"id\":\"129529\",\"type\":\"Grid\"},{\"attributes\":{\"axis_label\":\"lockdown length(days)\",\"formatter\":{\"id\":\"129547\"},\"ticker\":{\"id\":\"129528\"}},\"id\":\"129527\",\"type\":\"CategoricalAxis\"},{\"attributes\":{},\"id\":\"129521\",\"type\":\"Range1d\"},{\"attributes\":{\"fill_alpha\":{\"value\":0.1},\"fill_color\":{\"value\":\"#718dbf\"},\"line_alpha\":{\"value\":0.1},\"line_color\":{\"value\":\"#718dbf\"},\"top\":{\"field\":\"cases\"},\"width\":{\"value\":0.4},\"x\":{\"field\":\"labels\",\"transform\":{\"id\":\"129537\"}}},\"id\":\"129540\",\"type\":\"VBar\"},{\"attributes\":{\"data_source\":{\"id\":\"129515\"},\"glyph\":{\"id\":\"129539\"},\"hover_glyph\":null,\"muted_glyph\":null,\"nonselection_glyph\":{\"id\":\"129540\"},\"selection_glyph\":null,\"view\":{\"id\":\"129542\"}},\"id\":\"129541\",\"type\":\"GlyphRenderer\"},{\"attributes\":{\"fill_color\":{\"value\":\"#718dbf\"},\"line_color\":{\"value\":\"#718dbf\"},\"top\":{\"field\":\"cases\"},\"width\":{\"value\":0.4},\"x\":{\"field\":\"labels\",\"transform\":{\"id\":\"129537\"}}},\"id\":\"129539\",\"type\":\"VBar\"},{\"attributes\":{\"active_drag\":\"auto\",\"active_inspect\":\"auto\",\"active_multi\":null,\"active_scroll\":\"auto\",\"active_tap\":\"auto\",\"tools\":[{\"id\":\"129534\"}]},\"id\":\"129535\",\"type\":\"Toolbar\"},{\"attributes\":{},\"id\":\"129547\",\"type\":\"CategoricalTickFormatter\"},{\"attributes\":{},\"id\":\"129545\",\"type\":\"BasicTickFormatter\"},{\"attributes\":{\"fill_color\":{\"value\":\"#e84d60\"},\"line_color\":{\"value\":\"#e84d60\"},\"top\":{\"field\":\"deaths\"},\"width\":{\"value\":0.4},\"x\":{\"field\":\"labels\",\"transform\":{\"id\":\"129552\"}}},\"id\":\"129554\",\"type\":\"VBar\"},{\"attributes\":{},\"id\":\"129525\",\"type\":\"LinearScale\"},{\"attributes\":{\"axis_label\":\" value (percentage) \",\"formatter\":{\"id\":\"129545\"},\"ticker\":{\"id\":\"129531\"}},\"id\":\"129530\",\"type\":\"LinearAxis\"},{\"attributes\":{},\"id\":\"129549\",\"type\":\"Selection\"},{\"attributes\":{\"range\":{\"id\":\"129519\"},\"value\":-0.2},\"id\":\"129537\",\"type\":\"Dodge\"},{\"attributes\":{},\"id\":\"129531\",\"type\":\"BasicTicker\"},{\"attributes\":{\"range\":{\"id\":\"129519\"},\"value\":0.2},\"id\":\"129552\",\"type\":\"Dodge\"},{\"attributes\":{\"axis\":{\"id\":\"129530\"},\"dimension\":1,\"ticker\":null},\"id\":\"129533\",\"type\":\"Grid\"},{\"attributes\":{\"fill_alpha\":{\"value\":0.1},\"fill_color\":{\"value\":\"#e84d60\"},\"line_alpha\":{\"value\":0.1},\"line_color\":{\"value\":\"#e84d60\"},\"top\":{\"field\":\"deaths\"},\"width\":{\"value\":0.4},\"x\":{\"field\":\"labels\",\"transform\":{\"id\":\"129552\"}}},\"id\":\"129555\",\"type\":\"VBar\"},{\"attributes\":{},\"id\":\"129548\",\"type\":\"UnionRenderers\"},{\"attributes\":{\"label\":{\"value\":\"deaths\"},\"renderers\":[{\"id\":\"129556\"}]},\"id\":\"129565\",\"type\":\"LegendItem\"},{\"attributes\":{\"data_source\":{\"id\":\"129515\"},\"glyph\":{\"id\":\"129554\"},\"hover_glyph\":null,\"muted_glyph\":null,\"nonselection_glyph\":{\"id\":\"129555\"},\"selection_glyph\":null,\"view\":{\"id\":\"129557\"}},\"id\":\"129556\",\"type\":\"GlyphRenderer\"},{\"attributes\":{\"data\":{\"cases\":[0.38491172553765496,0.3026968182910144,0.6165551878707913,0.35061342206672824,0.8690740824933121,0.5139484190327559],\"deaths\":[0.008700173306387496,0.01165086474948886,0.02732213624473201,0.011942194685107944,0.0498989734160413,0.021532543095712346],\"labels\":[\"0 to 25\",\"25 to 50\",\"50 to 75\",\"75 to 100 \",\"100 to 125\",\"125 to 150\"]},\"selected\":{\"id\":\"129549\"},\"selection_policy\":{\"id\":\"129548\"}},\"id\":\"129515\",\"type\":\"ColumnDataSource\"},{\"attributes\":{\"callback\":null,\"tooltips\":\" @labels: $%.3f $y\"},\"id\":\"129534\",\"type\":\"HoverTool\"},{\"attributes\":{\"source\":{\"id\":\"129515\"}},\"id\":\"129557\",\"type\":\"CDSView\"}],\"root_ids\":[\"129516\"]},\"title\":\"Bokeh Application\",\"version\":\"2.1.1\"}};\n",
       "  var render_items = [{\"docid\":\"6ad4597e-22a4-4bce-a4e7-93e3b2627b32\",\"root_ids\":[\"129516\"],\"roots\":{\"129516\":\"c918d0ad-0acd-4653-af6c-44f6c72d92b4\"}}];\n",
       "  root.Bokeh.embed.embed_items_notebook(docs_json, render_items);\n",
       "\n",
       "  }\n",
       "  if (root.Bokeh !== undefined) {\n",
       "    embed_document(root);\n",
       "  } else {\n",
       "    var attempts = 0;\n",
       "    var timer = setInterval(function(root) {\n",
       "      if (root.Bokeh !== undefined) {\n",
       "        clearInterval(timer);\n",
       "        embed_document(root);\n",
       "      } else {\n",
       "        attempts++;\n",
       "        if (attempts > 100) {\n",
       "          clearInterval(timer);\n",
       "          console.log(\"Bokeh: ERROR: Unable to run BokehJS code because BokehJS library is missing\");\n",
       "        }\n",
       "      }\n",
       "    }, 10, root)\n",
       "  }\n",
       "})(window);"
      ],
      "application/vnd.bokehjs_exec.v0+json": ""
     },
     "metadata": {
      "application/vnd.bokehjs_exec.v0+json": {
       "id": "129516"
      }
     },
     "output_type": "display_data"
    }
   ],
   "source": [
    "from bokeh.io import output_file, show\n",
    "from bokeh.models import ColumnDataSource\n",
    "from bokeh.plotting import figure\n",
    "from bokeh.transform import dodge\n",
    "\n",
    "np.set_printoptions(precision=2)\n",
    "labels = ['0 to 25','25 to 50','50 to 75','75 to 100 ','100 to 125','125 to 150']\n",
    "\n",
    "catgories = ['cases', 'deaths']\n",
    "\n",
    "data = {'labels' : labels,\n",
    "        'cases'   : [sum_cases0_25, sum_cases25_50, sum_cases50_75, sum_cases75_100, sum_cases100_125,sum_cases125_150],\n",
    "        'deaths'   : [sum_deaths0_25, sum_deaths25_50, sum_deaths50_75, sum_deaths75_100, sum_deaths100_125,sum_deaths125_150]\n",
    "       }\n",
    "\n",
    "\n",
    "x = [ (label, category) for label in labels for category in catgories ]\n",
    "source = ColumnDataSource(data=data)\n",
    "p = figure(x_range=labels,plot_height=350, plot_width=800,y_range=(0, 1), title=\"Average ratio of total deaths/cases to the population in countries, grouped by lockdown length\",\n",
    "       tooltips=\" @labels: $%.3f $y\")\n",
    "p.yaxis.axis_label = ' value (percentage) '\n",
    "p.xaxis.axis_label = 'lockdown length(days)'\n",
    "\n",
    "p.vbar(x=dodge('labels',  -0.2,  range=p.x_range), top='cases', width=0.4, source=source,\n",
    "       color=\"#718dbf\", legend_label=\"cases\")\n",
    "\n",
    "p.vbar(x=dodge('labels',  0.2, range=p.x_range), top='deaths', width=0.4, source=source,\n",
    "       color=\"#e84d60\", legend_label=\"deaths\")\n",
    "\n",
    "p.y_range.start = 0\n",
    "p.x_range.range_padding = 0.15\n",
    "\n",
    "p.xgrid.grid_line_color = None\n",
    "\n",
    "p.legend.location = \"top_right\"\n",
    "\n",
    "# autolabel(data['deaths'].values().astype(float32))\n",
    "show(p)"
   ]
  },
  {
   "cell_type": "markdown",
   "metadata": {},
   "source": [
    "### Has lockdown length related to start and end time?"
   ]
  },
  {
   "cell_type": "code",
   "execution_count": 165,
   "metadata": {},
   "outputs": [
    {
     "data": {
      "text/plain": [
       "[0.008700173306387496,\n",
       " 0.01165086474948886,\n",
       " 0.02732213624473201,\n",
       " 0.011942194685107944,\n",
       " 0.0498989734160413,\n",
       " 0.021532543095712346]"
      ]
     },
     "execution_count": 165,
     "metadata": {},
     "output_type": "execute_result"
    }
   ],
   "source": [
    "data['deaths']"
   ]
  },
  {
   "cell_type": "markdown",
   "metadata": {},
   "source": [
    "Calculate first peak of cases date befor 2020-05-1."
   ]
  },
  {
   "cell_type": "code",
   "execution_count": 35,
   "metadata": {},
   "outputs": [],
   "source": [
    "df_peak=covid_data.loc[(covid_data['date']<='2020-05-1')]"
   ]
  },
  {
   "cell_type": "code",
   "execution_count": 36,
   "metadata": {},
   "outputs": [],
   "source": [
    "peak_dict=dict()\n",
    "for country in ds.Country:\n",
    "    df=df_peak.loc[(df_peak['country']==country)]\n",
    "    peak_dict[country]=df.loc[(df['cases']==max(df.cases))].date.values[0]"
   ]
  },
  {
   "cell_type": "code",
   "execution_count": 37,
   "metadata": {},
   "outputs": [],
   "source": [
    "for country in peak_dict.keys():\n",
    "    ds.loc[(ds['Country']==country),'peak_cases_date']=(peak_dict[country])"
   ]
  },
  {
   "cell_type": "markdown",
   "metadata": {},
   "source": [
    "number of countries ended lockdown befor their peak:"
   ]
  },
  {
   "cell_type": "code",
   "execution_count": 38,
   "metadata": {},
   "outputs": [
    {
     "data": {
      "text/plain": [
       "5"
      ]
     },
     "execution_count": 38,
     "metadata": {},
     "output_type": "execute_result"
    }
   ],
   "source": [
    "len(ds.loc[(ds['end']<ds['peak_cases_date'])])"
   ]
  },
  {
   "cell_type": "markdown",
   "metadata": {},
   "source": [
    "number of countries ended lockdown after their peak:"
   ]
  },
  {
   "cell_type": "code",
   "execution_count": 39,
   "metadata": {},
   "outputs": [
    {
     "data": {
      "text/plain": [
       "54"
      ]
     },
     "execution_count": 39,
     "metadata": {},
     "output_type": "execute_result"
    }
   ],
   "source": [
    "len(ds.loc[(ds['end']>ds['peak_cases_date'])])"
   ]
  },
  {
   "cell_type": "code",
   "execution_count": 40,
   "metadata": {},
   "outputs": [
    {
     "data": {
      "text/html": [
       "\n",
       "\n",
       "\n",
       "\n",
       "\n",
       "\n",
       "  <div class=\"bk-root\" id=\"ba2ccbc6-45b4-4321-896e-5a4ce7bb916d\" data-root-id=\"2385\"></div>\n"
      ]
     },
     "metadata": {},
     "output_type": "display_data"
    },
    {
     "data": {
      "application/javascript": [
       "(function(root) {\n",
       "  function embed_document(root) {\n",
       "    \n",
       "  var docs_json = {\"5bdc2875-86b5-4948-903a-38bb08bab0f2\":{\"roots\":{\"references\":[{\"attributes\":{\"below\":[{\"id\":\"2396\"}],\"center\":[{\"id\":\"2398\"},{\"id\":\"2402\"},{\"id\":\"2431\"}],\"left\":[{\"id\":\"2399\"}],\"plot_height\":350,\"plot_width\":500,\"renderers\":[{\"id\":\"2421\"},{\"id\":\"2437\"}],\"title\":{\"id\":\"2386\"},\"toolbar\":{\"id\":\"2410\"},\"toolbar_location\":null,\"x_range\":{\"id\":\"2388\"},\"x_scale\":{\"id\":\"2392\"},\"y_range\":{\"id\":\"2390\"},\"y_scale\":{\"id\":\"2394\"}},\"id\":\"2385\",\"subtype\":\"Figure\",\"type\":\"Plot\"},{\"attributes\":{\"axis\":{\"id\":\"2396\"},\"grid_line_color\":null,\"ticker\":null},\"id\":\"2398\",\"type\":\"Grid\"},{\"attributes\":{\"axis_label\":\"count of countries \",\"formatter\":{\"id\":\"2425\"},\"ticker\":{\"id\":\"2400\"}},\"id\":\"2399\",\"type\":\"LinearAxis\"},{\"attributes\":{},\"id\":\"2427\",\"type\":\"CategoricalTickFormatter\"},{\"attributes\":{\"fill_alpha\":{\"value\":0.1},\"fill_color\":{\"value\":\"#B0C4DE\"},\"line_alpha\":{\"value\":0.1},\"line_color\":{\"value\":\"#B0C4DE\"},\"top\":{\"field\":\"end\"},\"width\":{\"value\":0.4},\"x\":{\"field\":\"labels\",\"transform\":{\"id\":\"2433\"}}},\"id\":\"2436\",\"type\":\"VBar\"},{\"attributes\":{},\"id\":\"2400\",\"type\":\"BasicTicker\"},{\"attributes\":{\"axis\":{\"id\":\"2399\"},\"dimension\":1,\"ticker\":null},\"id\":\"2402\",\"type\":\"Grid\"},{\"attributes\":{\"source\":{\"id\":\"2384\"}},\"id\":\"2438\",\"type\":\"CDSView\"},{\"attributes\":{\"active_drag\":\"auto\",\"active_inspect\":\"auto\",\"active_multi\":null,\"active_scroll\":\"auto\",\"active_tap\":\"auto\",\"tools\":[{\"id\":\"2403\"},{\"id\":\"2404\"},{\"id\":\"2405\"},{\"id\":\"2406\"},{\"id\":\"2407\"},{\"id\":\"2408\"}]},\"id\":\"2410\",\"type\":\"Toolbar\"},{\"attributes\":{\"fill_alpha\":{\"value\":0.9},\"fill_color\":{\"value\":\"red\"},\"line_alpha\":{\"value\":0.9},\"line_color\":{\"value\":\"red\"},\"top\":{\"field\":\"start\"},\"width\":{\"value\":0.4},\"x\":{\"field\":\"labels\",\"transform\":{\"id\":\"2417\"}}},\"id\":\"2419\",\"type\":\"VBar\"},{\"attributes\":{\"label\":{\"value\":\"end\"},\"renderers\":[{\"id\":\"2437\"}]},\"id\":\"2447\",\"type\":\"LegendItem\"},{\"attributes\":{},\"id\":\"2404\",\"type\":\"WheelZoomTool\"},{\"attributes\":{\"data_source\":{\"id\":\"2384\"},\"glyph\":{\"id\":\"2435\"},\"hover_glyph\":null,\"muted_glyph\":null,\"nonselection_glyph\":{\"id\":\"2436\"},\"selection_glyph\":null,\"view\":{\"id\":\"2438\"}},\"id\":\"2437\",\"type\":\"GlyphRenderer\"},{\"attributes\":{},\"id\":\"2408\",\"type\":\"HelpTool\"},{\"attributes\":{\"overlay\":{\"id\":\"2409\"}},\"id\":\"2405\",\"type\":\"BoxZoomTool\"},{\"attributes\":{},\"id\":\"2406\",\"type\":\"SaveTool\"},{\"attributes\":{\"source\":{\"id\":\"2384\"}},\"id\":\"2422\",\"type\":\"CDSView\"},{\"attributes\":{},\"id\":\"2407\",\"type\":\"ResetTool\"},{\"attributes\":{\"range\":{\"id\":\"2388\"},\"value\":0.2},\"id\":\"2433\",\"type\":\"Dodge\"},{\"attributes\":{\"items\":[{\"id\":\"2432\"},{\"id\":\"2447\"}],\"location\":\"top_center\"},\"id\":\"2431\",\"type\":\"Legend\"},{\"attributes\":{\"fill_alpha\":{\"value\":0.1},\"fill_color\":{\"value\":\"red\"},\"line_alpha\":{\"value\":0.1},\"line_color\":{\"value\":\"red\"},\"top\":{\"field\":\"start\"},\"width\":{\"value\":0.4},\"x\":{\"field\":\"labels\",\"transform\":{\"id\":\"2417\"}}},\"id\":\"2420\",\"type\":\"VBar\"},{\"attributes\":{\"data_source\":{\"id\":\"2384\"},\"glyph\":{\"id\":\"2419\"},\"hover_glyph\":null,\"muted_glyph\":null,\"nonselection_glyph\":{\"id\":\"2420\"},\"selection_glyph\":null,\"view\":{\"id\":\"2422\"}},\"id\":\"2421\",\"type\":\"GlyphRenderer\"},{\"attributes\":{},\"id\":\"2429\",\"type\":\"UnionRenderers\"},{\"attributes\":{},\"id\":\"2430\",\"type\":\"Selection\"},{\"attributes\":{\"fill_alpha\":{\"value\":0.9},\"fill_color\":{\"value\":\"#B0C4DE\"},\"line_alpha\":{\"value\":0.9},\"line_color\":{\"value\":\"#B0C4DE\"},\"top\":{\"field\":\"end\"},\"width\":{\"value\":0.4},\"x\":{\"field\":\"labels\",\"transform\":{\"id\":\"2433\"}}},\"id\":\"2435\",\"type\":\"VBar\"},{\"attributes\":{},\"id\":\"2403\",\"type\":\"PanTool\"},{\"attributes\":{\"text\":\"Number of countries started/ended lockdown before or after their peak date.\"},\"id\":\"2386\",\"type\":\"Title\"},{\"attributes\":{},\"id\":\"2392\",\"type\":\"CategoricalScale\"},{\"attributes\":{},\"id\":\"2425\",\"type\":\"BasicTickFormatter\"},{\"attributes\":{\"bottom_units\":\"screen\",\"fill_alpha\":0.5,\"fill_color\":\"lightgrey\",\"left_units\":\"screen\",\"level\":\"overlay\",\"line_alpha\":1.0,\"line_color\":\"black\",\"line_dash\":[4,4],\"line_width\":2,\"right_units\":\"screen\",\"top_units\":\"screen\"},\"id\":\"2409\",\"type\":\"BoxAnnotation\"},{\"attributes\":{\"range\":{\"id\":\"2388\"},\"value\":-0.2},\"id\":\"2417\",\"type\":\"Dodge\"},{\"attributes\":{\"factors\":[\" before\",\"after\"],\"range_padding\":0.1},\"id\":\"2388\",\"type\":\"FactorRange\"},{\"attributes\":{\"data\":{\"end\":[5,54],\"labels\":[\" before\",\"after\"],\"start\":[56,3]},\"selected\":{\"id\":\"2430\"},\"selection_policy\":{\"id\":\"2429\"}},\"id\":\"2384\",\"type\":\"ColumnDataSource\"},{\"attributes\":{\"end\":60},\"id\":\"2390\",\"type\":\"Range1d\"},{\"attributes\":{},\"id\":\"2394\",\"type\":\"LinearScale\"},{\"attributes\":{\"axis_label\":\"category\",\"formatter\":{\"id\":\"2427\"},\"ticker\":{\"id\":\"2397\"}},\"id\":\"2396\",\"type\":\"CategoricalAxis\"},{\"attributes\":{\"label\":{\"value\":\"start\"},\"renderers\":[{\"id\":\"2421\"}]},\"id\":\"2432\",\"type\":\"LegendItem\"},{\"attributes\":{},\"id\":\"2397\",\"type\":\"CategoricalTicker\"}],\"root_ids\":[\"2385\"]},\"title\":\"Bokeh Application\",\"version\":\"2.1.1\"}};\n",
       "  var render_items = [{\"docid\":\"5bdc2875-86b5-4948-903a-38bb08bab0f2\",\"root_ids\":[\"2385\"],\"roots\":{\"2385\":\"ba2ccbc6-45b4-4321-896e-5a4ce7bb916d\"}}];\n",
       "  root.Bokeh.embed.embed_items_notebook(docs_json, render_items);\n",
       "\n",
       "  }\n",
       "  if (root.Bokeh !== undefined) {\n",
       "    embed_document(root);\n",
       "  } else {\n",
       "    var attempts = 0;\n",
       "    var timer = setInterval(function(root) {\n",
       "      if (root.Bokeh !== undefined) {\n",
       "        clearInterval(timer);\n",
       "        embed_document(root);\n",
       "      } else {\n",
       "        attempts++;\n",
       "        if (attempts > 100) {\n",
       "          clearInterval(timer);\n",
       "          console.log(\"Bokeh: ERROR: Unable to run BokehJS code because BokehJS library is missing\");\n",
       "        }\n",
       "      }\n",
       "    }, 10, root)\n",
       "  }\n",
       "})(window);"
      ],
      "application/vnd.bokehjs_exec.v0+json": ""
     },
     "metadata": {
      "application/vnd.bokehjs_exec.v0+json": {
       "id": "2385"
      }
     },
     "output_type": "display_data"
    }
   ],
   "source": [
    "from bokeh.io import output_file, show\n",
    "from bokeh.models import ColumnDataSource\n",
    "from bokeh.plotting import figure\n",
    "from bokeh.transform import dodge\n",
    "from bokeh.models import ColumnDataSource, FactorRange\n",
    "\n",
    "labels = [' before','after']\n",
    "\n",
    "catgories = ['start', 'end']\n",
    "\n",
    "data = {'labels' : labels,\n",
    "        'start'   : [len(ds.loc[(ds['start']<ds['peak_cases_date'])]),len(ds.loc[(ds['start']>ds['peak_cases_date'])])],\n",
    "        'end'   :[len(ds.loc[(ds['end']<ds['peak_cases_date'])]),len(ds.loc[(ds['end']>ds['peak_cases_date'])])]\n",
    "\n",
    "       }\n",
    "\n",
    "\n",
    "x = [ (label, category) for label in labels for category in catgories ]\n",
    "source = ColumnDataSource(data=data)\n",
    "# catgories = sum(zip(data['start'], data['end']), ()) # like an hstack\n",
    "# source = ColumnDataSource(data=dict(x=x, labels=labels))\n",
    "\n",
    "p = figure(x_range=labels,plot_height=350, plot_width=500,y_range=(0, 60), title=\"Number of countries started/ended lockdown before or after their peak date.\",\n",
    "           toolbar_location=None)\n",
    "# p = figure(x_range=FactorRange(*x),plot_height=350, plot_width=600,y_range=(0, 60), title=\"Number of countries started/ended lockdown before or after their peak date.\",\n",
    "#            toolbar_location=None)\n",
    "p.yaxis.axis_label = 'count of countries '\n",
    "p.xaxis.axis_label = 'category'\n",
    "x\n",
    "p.vbar(x=dodge('labels',  -0.2, range=p.x_range), top='start', width=0.40, source=source,\n",
    "       color=\"red\", legend_label=\"start\", alpha=0.9)\n",
    "\n",
    "p.vbar(x=dodge('labels',  0.2, range=p.x_range), top='end', width=0.40, source=source,\n",
    "       color=\"#B0C4DE\", legend_label=\"end\", alpha=0.9)\n",
    "\n",
    "p.y_range.start = 0\n",
    "p.x_range.range_padding = 0.1\n",
    "p.legend.location = \"top_center\"\n",
    "p.xgrid.grid_line_color = None\n",
    "\n",
    "\n",
    "\n",
    "\n",
    "show(p)"
   ]
  },
  {
   "cell_type": "markdown",
   "metadata": {},
   "source": [
    "Calculate start date distance to peak date:\n",
    "    distance=start date of lockdown- peak date "
   ]
  },
  {
   "cell_type": "code",
   "execution_count": 41,
   "metadata": {},
   "outputs": [],
   "source": [
    "dis_dict=dict()\n",
    "for country in ds.Country:\n",
    "    df=ds.loc[(ds['Country']==country)]\n",
    "    dis_dict[country]= df.start.values[0]-df.peak_cases_date.values[0]"
   ]
  },
  {
   "cell_type": "code",
   "execution_count": 42,
   "metadata": {},
   "outputs": [],
   "source": [
    "for country in dis_dict.keys():\n",
    "    ds.loc[(ds['Country']==country),'distance_start_peak']=(dis_dict[country])"
   ]
  },
  {
   "cell_type": "code",
   "execution_count": 43,
   "metadata": {},
   "outputs": [],
   "source": [
    "ds.distance_start_peak=ds.distance_start_peak.values / np.timedelta64(1, 'D')"
   ]
  },
  {
   "cell_type": "markdown",
   "metadata": {},
   "source": [
    "calculate end date distance to peak date: distance=peak date - end date of lockdown"
   ]
  },
  {
   "cell_type": "code",
   "execution_count": 44,
   "metadata": {},
   "outputs": [],
   "source": [
    "dis_dict=dict()\n",
    "for country in ds.Country:\n",
    "    df=ds.loc[(ds['Country']==country)]\n",
    "    dis_dict[country]=df.end.values[0]-df.peak_cases_date.values[0]"
   ]
  },
  {
   "cell_type": "code",
   "execution_count": 45,
   "metadata": {},
   "outputs": [],
   "source": [
    "for country in dis_dict.keys():\n",
    "    ds.loc[(ds['Country']==country),'distance_end_peak']=(dis_dict[country])"
   ]
  },
  {
   "cell_type": "code",
   "execution_count": 46,
   "metadata": {},
   "outputs": [],
   "source": [
    "ds.distance_end_peak=ds.distance_end_peak.values / np.timedelta64(1, 'D')"
   ]
  },
  {
   "cell_type": "code",
   "execution_count": 47,
   "metadata": {},
   "outputs": [
    {
     "data": {
      "text/html": [
       "\n",
       "\n",
       "\n",
       "\n",
       "\n",
       "\n",
       "  <div class=\"bk-root\" id=\"899c0768-9249-4aba-8241-928c50c5da1c\" data-root-id=\"2595\"></div>\n"
      ]
     },
     "metadata": {},
     "output_type": "display_data"
    },
    {
     "data": {
      "application/javascript": [
       "(function(root) {\n",
       "  function embed_document(root) {\n",
       "    \n",
       "  var docs_json = {\"3068d18a-161e-4f88-8a71-4f14da8e07a3\":{\"roots\":{\"references\":[{\"attributes\":{\"below\":[{\"id\":\"2604\"}],\"center\":[{\"id\":\"2607\"},{\"id\":\"2611\"}],\"left\":[{\"id\":\"2608\"}],\"plot_height\":400,\"plot_width\":800,\"renderers\":[{\"id\":\"2629\"},{\"id\":\"2634\"},{\"id\":\"2639\"},{\"id\":\"2644\"}],\"title\":{\"id\":\"2745\"},\"toolbar\":{\"id\":\"2619\"},\"x_range\":{\"id\":\"2596\"},\"x_scale\":{\"id\":\"2600\"},\"y_range\":{\"id\":\"2598\"},\"y_scale\":{\"id\":\"2602\"}},\"id\":\"2595\",\"subtype\":\"Figure\",\"type\":\"Plot\"},{\"attributes\":{},\"id\":\"2754\",\"type\":\"UnionRenderers\"},{\"attributes\":{},\"id\":\"2612\",\"type\":\"PanTool\"},{\"attributes\":{\"fill_alpha\":{\"value\":0.5},\"fill_color\":{\"value\":\"black\"},\"line_alpha\":{\"value\":0.5},\"size\":{\"units\":\"screen\",\"value\":15},\"x\":{\"value\":-18.766666666666666},\"y\":{\"value\":53.38333333333333}},\"id\":\"2642\",\"type\":\"Circle\"},{\"attributes\":{\"data\":{},\"selected\":{\"id\":\"2759\"},\"selection_policy\":{\"id\":\"2758\"}},\"id\":\"2641\",\"type\":\"ColumnDataSource\"},{\"attributes\":{\"end\":200},\"id\":\"2598\",\"type\":\"Range1d\"},{\"attributes\":{\"source\":{\"id\":\"2631\"}},\"id\":\"2635\",\"type\":\"CDSView\"},{\"attributes\":{},\"id\":\"2613\",\"type\":\"WheelZoomTool\"},{\"attributes\":{},\"id\":\"2752\",\"type\":\"UnionRenderers\"},{\"attributes\":{\"text\":\"\"},\"id\":\"2745\",\"type\":\"Title\"},{\"attributes\":{},\"id\":\"2753\",\"type\":\"Selection\"},{\"attributes\":{},\"id\":\"2758\",\"type\":\"UnionRenderers\"},{\"attributes\":{\"data_source\":{\"id\":\"2631\"},\"glyph\":{\"id\":\"2632\"},\"hover_glyph\":null,\"muted_glyph\":null,\"nonselection_glyph\":{\"id\":\"2633\"},\"selection_glyph\":null,\"view\":{\"id\":\"2635\"}},\"id\":\"2634\",\"type\":\"GlyphRenderer\"},{\"attributes\":{\"overlay\":{\"id\":\"2618\"}},\"id\":\"2614\",\"type\":\"BoxZoomTool\"},{\"attributes\":{\"axis\":{\"id\":\"2604\"},\"ticker\":null},\"id\":\"2607\",\"type\":\"Grid\"},{\"attributes\":{},\"id\":\"2615\",\"type\":\"SaveTool\"},{\"attributes\":{\"fill_alpha\":{\"value\":0.1},\"fill_color\":{\"value\":\"#B0C4DE\"},\"line_alpha\":{\"value\":0.1},\"line_color\":{\"value\":\"#B0C4DE\"},\"size\":{\"units\":\"screen\",\"value\":15},\"x\":{\"field\":\"x\"},\"y\":{\"field\":\"y\"}},\"id\":\"2628\",\"type\":\"Circle\"},{\"attributes\":{},\"id\":\"2600\",\"type\":\"LinearScale\"},{\"attributes\":{\"axis_label\":\"The distance from the starting date of the lockdown to the peak date (days)\",\"formatter\":{\"id\":\"2750\"},\"ticker\":{\"id\":\"2605\"}},\"id\":\"2604\",\"type\":\"LinearAxis\"},{\"attributes\":{\"end\":150,\"start\":-100},\"id\":\"2596\",\"type\":\"Range1d\"},{\"attributes\":{\"data\":{},\"selected\":{\"id\":\"2757\"},\"selection_policy\":{\"id\":\"2756\"}},\"id\":\"2636\",\"type\":\"ColumnDataSource\"},{\"attributes\":{},\"id\":\"2617\",\"type\":\"HelpTool\"},{\"attributes\":{},\"id\":\"2759\",\"type\":\"Selection\"},{\"attributes\":{},\"id\":\"2755\",\"type\":\"Selection\"},{\"attributes\":{},\"id\":\"2602\",\"type\":\"LinearScale\"},{\"attributes\":{},\"id\":\"2616\",\"type\":\"ResetTool\"},{\"attributes\":{},\"id\":\"2609\",\"type\":\"BasicTicker\"},{\"attributes\":{\"fill_alpha\":{\"value\":0.1},\"fill_color\":{\"value\":\"red\"},\"line_alpha\":{\"value\":0.1},\"line_color\":{\"value\":\"red\"},\"size\":{\"units\":\"screen\",\"value\":15},\"x\":{\"field\":\"x\"},\"y\":{\"field\":\"y\"}},\"id\":\"2633\",\"type\":\"Circle\"},{\"attributes\":{},\"id\":\"2748\",\"type\":\"BasicTickFormatter\"},{\"attributes\":{\"source\":{\"id\":\"2626\"}},\"id\":\"2630\",\"type\":\"CDSView\"},{\"attributes\":{\"data\":{\"x\":{\"__ndarray__\":\"AAAAAAAAQsAAAAAAAAAqwAAAAAAAABzAAAAAAAAAN8AAAAAAAABFwAAAAAAAADDAAAAAAAAAMsAAAAAAAAAIwAAAAAAAADHAAAAAAAAAJEAAAAAAAAAiQAAAAAAAACbAAAAAAAAAKMAAAAAAAAAgwAAAAAAAABTAAAAAAAAAKMAAAAAAAABDwAAAAAAAgEHAAAAAAAAALsAAAAAAAAA7wAAAAAAAADHAAAAAAAAAFMAAAAAAAAA2wAAAAAAAAAAAAAAAAACAQMAAAAAAAIBCwAAAAAAAACbAAAAAAAAAPsAAAAAAAAAkwAAAAAAAAD3AAAAAAAAAP8AAAAAAAAA4wAAAAAAAADLAAAAAAACAQMAAAAAAAIBBwAAAAAAAAD7AAAAAAAAALsAAAAAAAAAswAAAAAAAACrAAAAAAAAAHMAAAAAAAABCwAAAAAAAAD3AAAAAAAAALsAAAAAAAAAYwAAAAAAAACrAAAAAAAAAQsAAAAAAAIBCwAAAAAAAAEbAAAAAAAAAIsAAAAAAAAA+wAAAAAAAACTAAAAAAACARcAAAAAAAAAzwAAAAAAAgEHAAAAAAAAAQMAAAAAAAIBEwAAAAAAAADnAAAAAAAAAQcAAAAAAAIBbQAAAAAAAACLA\",\"dtype\":\"float64\",\"order\":\"little\",\"shape\":[60]},\"y\":[6,13,13,14,15,20,20,21,21,21,21,28,28,28,28,28,29,29,32,33,33,36,37,38,38,41,41,42,43,44,46,47,48,50,51,51,55,55,56,57,58,67,67,67,70,70,74,80,83,83,87,94,94,97,103,106,120,131,143,152]},\"selected\":{\"id\":\"2755\"},\"selection_policy\":{\"id\":\"2754\"}},\"id\":\"2631\",\"type\":\"ColumnDataSource\"},{\"attributes\":{\"fill_alpha\":{\"value\":0.5},\"fill_color\":{\"value\":\"black\"},\"line_alpha\":{\"value\":0.5},\"size\":{\"units\":\"screen\",\"value\":15},\"x\":{\"value\":32.55},\"y\":{\"value\":53.38333333333333}},\"id\":\"2637\",\"type\":\"Circle\"},{\"attributes\":{},\"id\":\"2750\",\"type\":\"BasicTickFormatter\"},{\"attributes\":{\"source\":{\"id\":\"2641\"}},\"id\":\"2645\",\"type\":\"CDSView\"},{\"attributes\":{},\"id\":\"2756\",\"type\":\"UnionRenderers\"},{\"attributes\":{\"axis_label\":\"lockdown length(days) \",\"formatter\":{\"id\":\"2748\"},\"ticker\":{\"id\":\"2609\"}},\"id\":\"2608\",\"type\":\"LinearAxis\"},{\"attributes\":{\"fill_alpha\":{\"value\":0.1},\"fill_color\":{\"value\":\"black\"},\"line_alpha\":{\"value\":0.1},\"size\":{\"units\":\"screen\",\"value\":15},\"x\":{\"value\":32.55},\"y\":{\"value\":53.38333333333333}},\"id\":\"2638\",\"type\":\"Circle\"},{\"attributes\":{},\"id\":\"2757\",\"type\":\"Selection\"},{\"attributes\":{\"data_source\":{\"id\":\"2636\"},\"glyph\":{\"id\":\"2637\"},\"hover_glyph\":null,\"muted_glyph\":null,\"nonselection_glyph\":{\"id\":\"2638\"},\"selection_glyph\":null,\"view\":{\"id\":\"2640\"}},\"id\":\"2639\",\"type\":\"GlyphRenderer\"},{\"attributes\":{\"data\":{\"x\":{\"__ndarray__\":\"AAAAAAAAPsAAAAAAAAAAAAAAAAAAABhAAAAAAAAAIsAAAAAAAAA7wAAAAAAAABBAAAAAAAAAAEAAAAAAAAAyQAAAAAAAABBAAAAAAAAAP0AAAAAAAAA+QAAAAAAAADFAAAAAAAAAMEAAAAAAAAA0QAAAAAAAADdAAAAAAAAAMEAAAAAAAAAiwAAAAAAAABjAAAAAAAAAMUAAAAAAAAAUQAAAAAAAADBAAAAAAAAAP0AAAAAAAAAuQAAAAAAAAENAAAAAAAAAFEAAAAAAAAAQQAAAAAAAAD5AAAAAAAAAKEAAAAAAAIBAQAAAAAAAAC5AAAAAAAAALkAAAAAAAAA3QAAAAAAAAD5AAAAAAAAAMUAAAAAAAAAwQAAAAAAAADVAAAAAAAAAREAAAAAAAIBEQAAAAAAAgEVAAAAAAAAASUAAAAAAAAA2QAAAAAAAAENAAAAAAAAASkAAAAAAAIBOQAAAAAAAgExAAAAAAAAAQUAAAAAAAIBCQAAAAAAAAEJAAAAAAACAUkAAAAAAAIBKQAAAAAAAQFNAAAAAAACASUAAAAAAAMBSQAAAAAAAAE9AAAAAAADAUUAAAAAAAEBQQAAAAAAAgFdAAAAAAABAWEAAAAAAAGBgQAAAAAAA4GFA\",\"dtype\":\"float64\",\"order\":\"little\",\"shape\":[60]},\"y\":[6,13,13,14,15,20,20,21,21,21,21,28,28,28,28,28,29,29,32,33,33,36,37,38,38,41,41,42,43,44,46,47,48,50,51,51,55,55,56,57,58,67,67,67,70,70,74,80,83,83,87,94,94,97,103,106,120,131,143,152]},\"selected\":{\"id\":\"2753\"},\"selection_policy\":{\"id\":\"2752\"}},\"id\":\"2626\",\"type\":\"ColumnDataSource\"},{\"attributes\":{\"fill_alpha\":{\"value\":0.1},\"fill_color\":{\"value\":\"black\"},\"line_alpha\":{\"value\":0.1},\"size\":{\"units\":\"screen\",\"value\":15},\"x\":{\"value\":-18.766666666666666},\"y\":{\"value\":53.38333333333333}},\"id\":\"2643\",\"type\":\"Circle\"},{\"attributes\":{},\"id\":\"2605\",\"type\":\"BasicTicker\"},{\"attributes\":{\"data_source\":{\"id\":\"2626\"},\"glyph\":{\"id\":\"2627\"},\"hover_glyph\":null,\"muted_glyph\":null,\"nonselection_glyph\":{\"id\":\"2628\"},\"selection_glyph\":null,\"view\":{\"id\":\"2630\"}},\"id\":\"2629\",\"type\":\"GlyphRenderer\"},{\"attributes\":{\"bottom_units\":\"screen\",\"fill_alpha\":0.5,\"fill_color\":\"lightgrey\",\"left_units\":\"screen\",\"level\":\"overlay\",\"line_alpha\":1.0,\"line_color\":\"black\",\"line_dash\":[4,4],\"line_width\":2,\"right_units\":\"screen\",\"top_units\":\"screen\"},\"id\":\"2618\",\"type\":\"BoxAnnotation\"},{\"attributes\":{\"active_drag\":\"auto\",\"active_inspect\":\"auto\",\"active_multi\":null,\"active_scroll\":\"auto\",\"active_tap\":\"auto\",\"tools\":[{\"id\":\"2612\"},{\"id\":\"2613\"},{\"id\":\"2614\"},{\"id\":\"2615\"},{\"id\":\"2616\"},{\"id\":\"2617\"}]},\"id\":\"2619\",\"type\":\"Toolbar\"},{\"attributes\":{\"axis\":{\"id\":\"2608\"},\"dimension\":1,\"ticker\":null},\"id\":\"2611\",\"type\":\"Grid\"},{\"attributes\":{\"fill_alpha\":{\"value\":0.5},\"fill_color\":{\"value\":\"red\"},\"line_alpha\":{\"value\":0.5},\"line_color\":{\"value\":\"red\"},\"size\":{\"units\":\"screen\",\"value\":15},\"x\":{\"field\":\"x\"},\"y\":{\"field\":\"y\"}},\"id\":\"2632\",\"type\":\"Circle\"},{\"attributes\":{\"source\":{\"id\":\"2636\"}},\"id\":\"2640\",\"type\":\"CDSView\"},{\"attributes\":{\"data_source\":{\"id\":\"2641\"},\"glyph\":{\"id\":\"2642\"},\"hover_glyph\":null,\"muted_glyph\":null,\"nonselection_glyph\":{\"id\":\"2643\"},\"selection_glyph\":null,\"view\":{\"id\":\"2645\"}},\"id\":\"2644\",\"type\":\"GlyphRenderer\"},{\"attributes\":{\"fill_alpha\":{\"value\":0.5},\"fill_color\":{\"value\":\"#B0C4DE\"},\"line_alpha\":{\"value\":0.5},\"line_color\":{\"value\":\"#B0C4DE\"},\"size\":{\"units\":\"screen\",\"value\":15},\"x\":{\"field\":\"x\"},\"y\":{\"field\":\"y\"}},\"id\":\"2627\",\"type\":\"Circle\"}],\"root_ids\":[\"2595\"]},\"title\":\"Bokeh Application\",\"version\":\"2.1.1\"}};\n",
       "  var render_items = [{\"docid\":\"3068d18a-161e-4f88-8a71-4f14da8e07a3\",\"root_ids\":[\"2595\"],\"roots\":{\"2595\":\"899c0768-9249-4aba-8241-928c50c5da1c\"}}];\n",
       "  root.Bokeh.embed.embed_items_notebook(docs_json, render_items);\n",
       "\n",
       "  }\n",
       "  if (root.Bokeh !== undefined) {\n",
       "    embed_document(root);\n",
       "  } else {\n",
       "    var attempts = 0;\n",
       "    var timer = setInterval(function(root) {\n",
       "      if (root.Bokeh !== undefined) {\n",
       "        clearInterval(timer);\n",
       "        embed_document(root);\n",
       "      } else {\n",
       "        attempts++;\n",
       "        if (attempts > 100) {\n",
       "          clearInterval(timer);\n",
       "          console.log(\"Bokeh: ERROR: Unable to run BokehJS code because BokehJS library is missing\");\n",
       "        }\n",
       "      }\n",
       "    }, 10, root)\n",
       "  }\n",
       "})(window);"
      ],
      "application/vnd.bokehjs_exec.v0+json": ""
     },
     "metadata": {
      "application/vnd.bokehjs_exec.v0+json": {
       "id": "2595"
      }
     },
     "output_type": "display_data"
    }
   ],
   "source": [
    "from bokeh.plotting import figure, show\n",
    "\n",
    "# output to static HTML file\n",
    "\n",
    "\n",
    "p = figure(plot_width=800, plot_height=400,x_range=(-100,150),y_range=(0, 200))\n",
    "p.yaxis.axis_label = 'lockdown length(days) '\n",
    "p.xaxis.axis_label = 'The distance from the starting date of the lockdown to the peak date (days)'\n",
    "\n",
    "\n",
    "# add a circle renderer with a size, color, and alpha\n",
    "p.circle(ds.distance_end_peak,ds.Length_days,  size=15, color=\"#B0C4DE\", alpha=0.5)\n",
    "p.circle(ds.distance_start_peak,ds.Length_days,  size=15, color=\"red\", alpha=0.5)\n",
    "p.circle((ds.distance_end_peak).mean(),(ds.Length_days).mean(),  size=15, color=\"black\", alpha=0.5)\n",
    "p.circle((ds.distance_start_peak).mean(),(ds.Length_days).mean(),  size=15, color=\"black\", alpha=0.5)\n",
    "\n",
    "# show the results\n",
    "show(p)"
   ]
  },
  {
   "cell_type": "code",
   "execution_count": 48,
   "metadata": {},
   "outputs": [
    {
     "data": {
      "text/html": [
       "\n",
       "\n",
       "\n",
       "\n",
       "\n",
       "\n",
       "  <div class=\"bk-root\" id=\"380c09ab-d222-4a31-bbef-3207b0398873\" data-root-id=\"2850\"></div>\n"
      ]
     },
     "metadata": {},
     "output_type": "display_data"
    },
    {
     "data": {
      "application/javascript": [
       "(function(root) {\n",
       "  function embed_document(root) {\n",
       "    \n",
       "  var docs_json = {\"faac805d-ddf4-4f8a-bf3e-91cac9a5f18f\":{\"roots\":{\"references\":[{\"attributes\":{\"below\":[{\"id\":\"2859\"}],\"center\":[{\"id\":\"2862\"},{\"id\":\"2866\"}],\"left\":[{\"id\":\"2863\"}],\"plot_height\":400,\"plot_width\":800,\"renderers\":[{\"id\":\"2884\"}],\"title\":{\"id\":\"3000\"},\"toolbar\":{\"id\":\"2874\"},\"x_range\":{\"id\":\"2851\"},\"x_scale\":{\"id\":\"2855\"},\"y_range\":{\"id\":\"2853\"},\"y_scale\":{\"id\":\"2857\"}},\"id\":\"2850\",\"subtype\":\"Figure\",\"type\":\"Plot\"},{\"attributes\":{\"source\":{\"id\":\"2881\"}},\"id\":\"2885\",\"type\":\"CDSView\"},{\"attributes\":{\"text\":\"\"},\"id\":\"3000\",\"type\":\"Title\"},{\"attributes\":{\"data_source\":{\"id\":\"2881\"},\"glyph\":{\"id\":\"2882\"},\"hover_glyph\":null,\"muted_glyph\":null,\"nonselection_glyph\":{\"id\":\"2883\"},\"selection_glyph\":null,\"view\":{\"id\":\"2885\"}},\"id\":\"2884\",\"type\":\"GlyphRenderer\"},{\"attributes\":{\"end\":150,\"start\":-50},\"id\":\"2851\",\"type\":\"Range1d\"},{\"attributes\":{\"fill_alpha\":{\"value\":0.5},\"fill_color\":{\"value\":\"#B0C4DE\"},\"line_alpha\":{\"value\":0.5},\"line_color\":{\"value\":\"#B0C4DE\"},\"size\":{\"units\":\"screen\",\"value\":15},\"x\":{\"field\":\"x\"},\"y\":{\"field\":\"y\"}},\"id\":\"2882\",\"type\":\"Circle\"},{\"attributes\":{\"bottom_units\":\"screen\",\"fill_alpha\":0.5,\"fill_color\":\"lightgrey\",\"left_units\":\"screen\",\"level\":\"overlay\",\"line_alpha\":1.0,\"line_color\":\"black\",\"line_dash\":[4,4],\"line_width\":2,\"right_units\":\"screen\",\"top_units\":\"screen\"},\"id\":\"2873\",\"type\":\"BoxAnnotation\"},{\"attributes\":{\"active_drag\":\"auto\",\"active_inspect\":\"auto\",\"active_multi\":null,\"active_scroll\":\"auto\",\"active_tap\":\"auto\",\"tools\":[{\"id\":\"2867\"},{\"id\":\"2868\"},{\"id\":\"2869\"},{\"id\":\"2870\"},{\"id\":\"2871\"},{\"id\":\"2872\"}]},\"id\":\"2874\",\"type\":\"Toolbar\"},{\"attributes\":{\"data\":{\"x\":{\"__ndarray__\":\"AAAAAAAAPsAAAAAAAAAAAAAAAAAAABhAAAAAAAAAIsAAAAAAAAA7wAAAAAAAABBAAAAAAAAAAEAAAAAAAAAyQAAAAAAAABBAAAAAAAAAP0AAAAAAAAA+QAAAAAAAADFAAAAAAAAAMEAAAAAAAAA0QAAAAAAAADdAAAAAAAAAMEAAAAAAAAAiwAAAAAAAABjAAAAAAAAAMUAAAAAAAAAUQAAAAAAAADBAAAAAAAAAP0AAAAAAAAAuQAAAAAAAAENAAAAAAAAAFEAAAAAAAAAQQAAAAAAAAD5AAAAAAAAAKEAAAAAAAIBAQAAAAAAAAC5AAAAAAAAALkAAAAAAAAA3QAAAAAAAAD5AAAAAAAAAMUAAAAAAAAAwQAAAAAAAADVAAAAAAAAAREAAAAAAAIBEQAAAAAAAgEVAAAAAAAAASUAAAAAAAAA2QAAAAAAAAENAAAAAAAAASkAAAAAAAIBOQAAAAAAAgExAAAAAAAAAQUAAAAAAAIBCQAAAAAAAAEJAAAAAAACAUkAAAAAAAIBKQAAAAAAAQFNAAAAAAACASUAAAAAAAMBSQAAAAAAAAE9AAAAAAADAUUAAAAAAAEBQQAAAAAAAgFdAAAAAAABAWEAAAAAAAGBgQAAAAAAA4GFA\",\"dtype\":\"float64\",\"order\":\"little\",\"shape\":[60]},\"y\":[6,13,13,14,15,20,20,21,21,21,21,28,28,28,28,28,29,29,32,33,33,36,37,38,38,41,41,42,43,44,46,47,48,50,51,51,55,55,56,57,58,67,67,67,70,70,74,80,83,83,87,94,94,97,103,106,120,131,143,152]},\"selected\":{\"id\":\"3008\"},\"selection_policy\":{\"id\":\"3007\"}},\"id\":\"2881\",\"type\":\"ColumnDataSource\"},{\"attributes\":{},\"id\":\"3005\",\"type\":\"BasicTickFormatter\"},{\"attributes\":{},\"id\":\"2867\",\"type\":\"PanTool\"},{\"attributes\":{},\"id\":\"2860\",\"type\":\"BasicTicker\"},{\"attributes\":{},\"id\":\"2872\",\"type\":\"HelpTool\"},{\"attributes\":{},\"id\":\"2857\",\"type\":\"LinearScale\"},{\"attributes\":{\"end\":200},\"id\":\"2853\",\"type\":\"Range1d\"},{\"attributes\":{},\"id\":\"2855\",\"type\":\"LinearScale\"},{\"attributes\":{\"axis_label\":\"The distance from the ending date of the lockdown to the peak date (days)\",\"formatter\":{\"id\":\"3005\"},\"ticker\":{\"id\":\"2860\"}},\"id\":\"2859\",\"type\":\"LinearAxis\"},{\"attributes\":{\"fill_alpha\":{\"value\":0.1},\"fill_color\":{\"value\":\"#B0C4DE\"},\"line_alpha\":{\"value\":0.1},\"line_color\":{\"value\":\"#B0C4DE\"},\"size\":{\"units\":\"screen\",\"value\":15},\"x\":{\"field\":\"x\"},\"y\":{\"field\":\"y\"}},\"id\":\"2883\",\"type\":\"Circle\"},{\"attributes\":{},\"id\":\"3008\",\"type\":\"Selection\"},{\"attributes\":{\"axis\":{\"id\":\"2859\"},\"ticker\":null},\"id\":\"2862\",\"type\":\"Grid\"},{\"attributes\":{\"axis_label\":\"lockdown length(days) \",\"formatter\":{\"id\":\"3003\"},\"ticker\":{\"id\":\"2864\"}},\"id\":\"2863\",\"type\":\"LinearAxis\"},{\"attributes\":{},\"id\":\"2864\",\"type\":\"BasicTicker\"},{\"attributes\":{\"axis\":{\"id\":\"2863\"},\"dimension\":1,\"ticker\":null},\"id\":\"2866\",\"type\":\"Grid\"},{\"attributes\":{},\"id\":\"3003\",\"type\":\"BasicTickFormatter\"},{\"attributes\":{},\"id\":\"2868\",\"type\":\"WheelZoomTool\"},{\"attributes\":{\"overlay\":{\"id\":\"2873\"}},\"id\":\"2869\",\"type\":\"BoxZoomTool\"},{\"attributes\":{},\"id\":\"2870\",\"type\":\"SaveTool\"},{\"attributes\":{},\"id\":\"3007\",\"type\":\"UnionRenderers\"},{\"attributes\":{},\"id\":\"2871\",\"type\":\"ResetTool\"}],\"root_ids\":[\"2850\"]},\"title\":\"Bokeh Application\",\"version\":\"2.1.1\"}};\n",
       "  var render_items = [{\"docid\":\"faac805d-ddf4-4f8a-bf3e-91cac9a5f18f\",\"root_ids\":[\"2850\"],\"roots\":{\"2850\":\"380c09ab-d222-4a31-bbef-3207b0398873\"}}];\n",
       "  root.Bokeh.embed.embed_items_notebook(docs_json, render_items);\n",
       "\n",
       "  }\n",
       "  if (root.Bokeh !== undefined) {\n",
       "    embed_document(root);\n",
       "  } else {\n",
       "    var attempts = 0;\n",
       "    var timer = setInterval(function(root) {\n",
       "      if (root.Bokeh !== undefined) {\n",
       "        clearInterval(timer);\n",
       "        embed_document(root);\n",
       "      } else {\n",
       "        attempts++;\n",
       "        if (attempts > 100) {\n",
       "          clearInterval(timer);\n",
       "          console.log(\"Bokeh: ERROR: Unable to run BokehJS code because BokehJS library is missing\");\n",
       "        }\n",
       "      }\n",
       "    }, 10, root)\n",
       "  }\n",
       "})(window);"
      ],
      "application/vnd.bokehjs_exec.v0+json": ""
     },
     "metadata": {
      "application/vnd.bokehjs_exec.v0+json": {
       "id": "2850"
      }
     },
     "output_type": "display_data"
    }
   ],
   "source": [
    "from bokeh.plotting import figure, show\n",
    "\n",
    "# output to static HTML file\n",
    "\n",
    "\n",
    "p = figure(plot_width=800, plot_height=400,x_range=(-50, 150),y_range=(0, 200))\n",
    "p.yaxis.axis_label = 'lockdown length(days) '\n",
    "p.xaxis.axis_label = 'The distance from the ending date of the lockdown to the peak date (days)'\n",
    "\n",
    "# add a circle renderer with a size, color, and alpha\n",
    "p.circle(ds.distance_end_peak,ds.Length_days,  size=15, color=\"#B0C4DE\", alpha=0.5)\n",
    "# p.circle(ds.distance_start_peak,ds.Length_days,  size=15, color=\"red\", alpha=0.5)\n",
    "\n",
    "# show the results\n",
    "show(p)"
   ]
  },
  {
   "cell_type": "code",
   "execution_count": 49,
   "metadata": {
    "scrolled": true
   },
   "outputs": [
    {
     "data": {
      "text/html": [
       "<div>\n",
       "<style scoped>\n",
       "    .dataframe tbody tr th:only-of-type {\n",
       "        vertical-align: middle;\n",
       "    }\n",
       "\n",
       "    .dataframe tbody tr th {\n",
       "        vertical-align: top;\n",
       "    }\n",
       "\n",
       "    .dataframe thead th {\n",
       "        text-align: right;\n",
       "    }\n",
       "</style>\n",
       "<table border=\"1\" class=\"dataframe\">\n",
       "  <thead>\n",
       "    <tr style=\"text-align: right;\">\n",
       "      <th></th>\n",
       "      <th>Country</th>\n",
       "      <th>start</th>\n",
       "      <th>end</th>\n",
       "      <th>Length_days</th>\n",
       "      <th>Level</th>\n",
       "      <th>population</th>\n",
       "      <th>sum_cases</th>\n",
       "      <th>sum_deaths</th>\n",
       "      <th>peak_cases_date</th>\n",
       "      <th>distance_start_peak</th>\n",
       "      <th>distance_end_peak</th>\n",
       "    </tr>\n",
       "  </thead>\n",
       "  <tbody>\n",
       "    <tr>\n",
       "      <th>0</th>\n",
       "      <td>Mongolia</td>\n",
       "      <td>2020-03-10</td>\n",
       "      <td>2020-03-16</td>\n",
       "      <td>6</td>\n",
       "      <td>National</td>\n",
       "      <td>3278292</td>\n",
       "      <td>304.0</td>\n",
       "      <td>0.0</td>\n",
       "      <td>2020-04-15</td>\n",
       "      <td>-36.0</td>\n",
       "      <td>-30.0</td>\n",
       "    </tr>\n",
       "    <tr>\n",
       "      <th>5</th>\n",
       "      <td>Portugal</td>\n",
       "      <td>2020-03-19</td>\n",
       "      <td>2020-04-02</td>\n",
       "      <td>14</td>\n",
       "      <td>National</td>\n",
       "      <td>10196707</td>\n",
       "      <td>57991.0</td>\n",
       "      <td>1822.0</td>\n",
       "      <td>2020-04-11</td>\n",
       "      <td>-23.0</td>\n",
       "      <td>-9.0</td>\n",
       "    </tr>\n",
       "    <tr>\n",
       "      <th>7</th>\n",
       "      <td>Ecuador</td>\n",
       "      <td>2020-03-16</td>\n",
       "      <td>2020-03-31</td>\n",
       "      <td>15</td>\n",
       "      <td>National</td>\n",
       "      <td>17643060</td>\n",
       "      <td>113754.0</td>\n",
       "      <td>6556.0</td>\n",
       "      <td>2020-04-27</td>\n",
       "      <td>-42.0</td>\n",
       "      <td>-27.0</td>\n",
       "    </tr>\n",
       "    <tr>\n",
       "      <th>22</th>\n",
       "      <td>Poland</td>\n",
       "      <td>2020-03-13</td>\n",
       "      <td>2020-04-11</td>\n",
       "      <td>29</td>\n",
       "      <td>National</td>\n",
       "      <td>37846605</td>\n",
       "      <td>67366.0</td>\n",
       "      <td>2039.0</td>\n",
       "      <td>2020-04-20</td>\n",
       "      <td>-38.0</td>\n",
       "      <td>-9.0</td>\n",
       "    </tr>\n",
       "    <tr>\n",
       "      <th>23</th>\n",
       "      <td>Rwanda</td>\n",
       "      <td>2020-03-21</td>\n",
       "      <td>2020-04-19</td>\n",
       "      <td>29</td>\n",
       "      <td>National</td>\n",
       "      <td>12952209</td>\n",
       "      <td>4063.0</td>\n",
       "      <td>16.0</td>\n",
       "      <td>2020-04-25</td>\n",
       "      <td>-35.0</td>\n",
       "      <td>-6.0</td>\n",
       "    </tr>\n",
       "  </tbody>\n",
       "</table>\n",
       "</div>"
      ],
      "text/plain": [
       "     Country      start        end  Length_days     Level  population  \\\n",
       "0   Mongolia 2020-03-10 2020-03-16            6  National     3278292   \n",
       "5   Portugal 2020-03-19 2020-04-02           14  National    10196707   \n",
       "7    Ecuador 2020-03-16 2020-03-31           15  National    17643060   \n",
       "22    Poland 2020-03-13 2020-04-11           29  National    37846605   \n",
       "23    Rwanda 2020-03-21 2020-04-19           29  National    12952209   \n",
       "\n",
       "    sum_cases  sum_deaths peak_cases_date  distance_start_peak  \\\n",
       "0       304.0         0.0      2020-04-15                -36.0   \n",
       "5     57991.0      1822.0      2020-04-11                -23.0   \n",
       "7    113754.0      6556.0      2020-04-27                -42.0   \n",
       "22    67366.0      2039.0      2020-04-20                -38.0   \n",
       "23     4063.0        16.0      2020-04-25                -35.0   \n",
       "\n",
       "    distance_end_peak  \n",
       "0               -30.0  \n",
       "5                -9.0  \n",
       "7               -27.0  \n",
       "22               -9.0  \n",
       "23               -6.0  "
      ]
     },
     "execution_count": 49,
     "metadata": {},
     "output_type": "execute_result"
    }
   ],
   "source": [
    "ds.loc[ds.distance_end_peak<0]"
   ]
  },
  {
   "cell_type": "code",
   "execution_count": 50,
   "metadata": {},
   "outputs": [],
   "source": [
    "ds['total_deaths_ratio']=ds.sum_deaths/ds.population\n",
    "ds['total_cases_ratio']=ds.sum_cases/ds.population"
   ]
  },
  {
   "cell_type": "code",
   "execution_count": 51,
   "metadata": {},
   "outputs": [
    {
     "data": {
      "text/plain": [
       "<matplotlib.axes._subplots.AxesSubplot at 0x1eeec20b310>"
      ]
     },
     "execution_count": 51,
     "metadata": {},
     "output_type": "execute_result"
    },
    {
     "data": {
      "image/png": "[encoded data removed]",
      "text/plain": [
       "<Figure size 432x288 with 2 Axes>"
      ]
     },
     "metadata": {
      "needs_background": "light"
     },
     "output_type": "display_data"
    }
   ],
   "source": [
    "import seaborn as sns\n",
    "correlation=ds[['Length_days','distance_start_peak', 'distance_end_peak','population','sum_cases','sum_deaths']].corr()\n",
    "sns.color_palette(\"coolwarm\")\n",
    "sns.heatmap(correlation,annot=True,cmap='coolwarm')"
   ]
  },
  {
   "cell_type": "code",
   "execution_count": 52,
   "metadata": {},
   "outputs": [
    {
     "data": {
      "text/html": [
       "\n",
       "\n",
       "\n",
       "\n",
       "\n",
       "\n",
       "  <div class=\"bk-root\" id=\"d12639f9-854e-43eb-9854-5ee81ec0ce5c\" data-root-id=\"3063\"></div>\n"
      ]
     },
     "metadata": {},
     "output_type": "display_data"
    },
    {
     "data": {
      "application/javascript": [
       "(function(root) {\n",
       "  function embed_document(root) {\n",
       "    \n",
       "  var docs_json = {\"53cbc8d6-7120-496e-8d08-04cf12ba91c9\":{\"roots\":{\"references\":[{\"attributes\":{\"below\":[{\"id\":\"3072\"}],\"center\":[{\"id\":\"3075\"},{\"id\":\"3079\"}],\"left\":[{\"id\":\"3076\"}],\"plot_height\":400,\"plot_width\":400,\"renderers\":[{\"id\":\"3097\"},{\"id\":\"3102\"}],\"title\":{\"id\":\"3227\"},\"toolbar\":{\"id\":\"3087\"},\"x_range\":{\"id\":\"3064\"},\"x_scale\":{\"id\":\"3068\"},\"y_range\":{\"id\":\"3066\"},\"y_scale\":{\"id\":\"3070\"}},\"id\":\"3063\",\"subtype\":\"Figure\",\"type\":\"Plot\"},{\"attributes\":{\"end\":150,\"start\":-100},\"id\":\"3064\",\"type\":\"Range1d\"},{\"attributes\":{\"active_drag\":\"auto\",\"active_inspect\":\"auto\",\"active_multi\":null,\"active_scroll\":\"auto\",\"active_tap\":\"auto\",\"tools\":[{\"id\":\"3080\"},{\"id\":\"3081\"},{\"id\":\"3082\"},{\"id\":\"3083\"},{\"id\":\"3084\"},{\"id\":\"3085\"}]},\"id\":\"3087\",\"type\":\"Toolbar\"},{\"attributes\":{\"axis\":{\"id\":\"3076\"},\"dimension\":1,\"ticker\":null},\"id\":\"3079\",\"type\":\"Grid\"},{\"attributes\":{},\"id\":\"3080\",\"type\":\"PanTool\"},{\"attributes\":{},\"id\":\"3073\",\"type\":\"BasicTicker\"},{\"attributes\":{\"data\":{\"right\":{\"__ndarray__\":\"AAAAAAAAPsAAAAAAAAAAAAAAAAAAABhAAAAAAAAAIsAAAAAAAAA7wAAAAAAAABBAAAAAAAAAAEAAAAAAAAAyQAAAAAAAABBAAAAAAAAAP0AAAAAAAAA+QAAAAAAAADFAAAAAAAAAMEAAAAAAAAA0QAAAAAAAADdAAAAAAAAAMEAAAAAAAAAiwAAAAAAAABjAAAAAAAAAMUAAAAAAAAAUQAAAAAAAADBAAAAAAAAAP0AAAAAAAAAuQAAAAAAAAENAAAAAAAAAFEAAAAAAAAAQQAAAAAAAAD5AAAAAAAAAKEAAAAAAAIBAQAAAAAAAAC5AAAAAAAAALkAAAAAAAAA3QAAAAAAAAD5AAAAAAAAAMUAAAAAAAAAwQAAAAAAAADVAAAAAAAAAREAAAAAAAIBEQAAAAAAAgEVAAAAAAAAASUAAAAAAAAA2QAAAAAAAAENAAAAAAAAASkAAAAAAAIBOQAAAAAAAgExAAAAAAAAAQUAAAAAAAIBCQAAAAAAAAEJAAAAAAACAUkAAAAAAAIBKQAAAAAAAQFNAAAAAAACASUAAAAAAAMBSQAAAAAAAAE9AAAAAAADAUUAAAAAAAEBQQAAAAAAAgFdAAAAAAABAWEAAAAAAAGBgQAAAAAAA4GFA\",\"dtype\":\"float64\",\"order\":\"little\",\"shape\":[60]},\"y\":[6,13,13,14,15,20,20,21,21,21,21,28,28,28,28,28,29,29,32,33,33,36,37,38,38,41,41,42,43,44,46,47,48,50,51,51,55,55,56,57,58,67,67,67,70,70,74,80,83,83,87,94,94,97,103,106,120,131,143,152]},\"selected\":{\"id\":\"3235\"},\"selection_policy\":{\"id\":\"3234\"}},\"id\":\"3094\",\"type\":\"ColumnDataSource\"},{\"attributes\":{\"axis\":{\"id\":\"3072\"},\"ticker\":null},\"id\":\"3075\",\"type\":\"Grid\"},{\"attributes\":{},\"id\":\"3070\",\"type\":\"LinearScale\"},{\"attributes\":{\"end\":160},\"id\":\"3066\",\"type\":\"Range1d\"},{\"attributes\":{},\"id\":\"3084\",\"type\":\"ResetTool\"},{\"attributes\":{},\"id\":\"3232\",\"type\":\"BasicTickFormatter\"},{\"attributes\":{},\"id\":\"3083\",\"type\":\"SaveTool\"},{\"attributes\":{\"overlay\":{\"id\":\"3086\"}},\"id\":\"3082\",\"type\":\"BoxZoomTool\"},{\"attributes\":{},\"id\":\"3236\",\"type\":\"UnionRenderers\"},{\"attributes\":{\"source\":{\"id\":\"3094\"}},\"id\":\"3098\",\"type\":\"CDSView\"},{\"attributes\":{\"fill_alpha\":{\"value\":0.1},\"fill_color\":{\"value\":\"navy\"},\"height\":{\"value\":0.6},\"line_alpha\":{\"value\":0.1},\"line_color\":{\"value\":\"navy\"},\"right\":{\"field\":\"right\"},\"y\":{\"field\":\"y\"}},\"id\":\"3096\",\"type\":\"HBar\"},{\"attributes\":{},\"id\":\"3077\",\"type\":\"BasicTicker\"},{\"attributes\":{\"bottom_units\":\"screen\",\"fill_alpha\":0.5,\"fill_color\":\"lightgrey\",\"left_units\":\"screen\",\"level\":\"overlay\",\"line_alpha\":1.0,\"line_color\":\"black\",\"line_dash\":[4,4],\"line_width\":2,\"right_units\":\"screen\",\"top_units\":\"screen\"},\"id\":\"3086\",\"type\":\"BoxAnnotation\"},{\"attributes\":{\"data\":{\"right\":{\"__ndarray__\":\"AAAAAAAAQsAAAAAAAAAqwAAAAAAAABzAAAAAAAAAN8AAAAAAAABFwAAAAAAAADDAAAAAAAAAMsAAAAAAAAAIwAAAAAAAADHAAAAAAAAAJEAAAAAAAAAiQAAAAAAAACbAAAAAAAAAKMAAAAAAAAAgwAAAAAAAABTAAAAAAAAAKMAAAAAAAABDwAAAAAAAgEHAAAAAAAAALsAAAAAAAAA7wAAAAAAAADHAAAAAAAAAFMAAAAAAAAA2wAAAAAAAAAAAAAAAAACAQMAAAAAAAIBCwAAAAAAAACbAAAAAAAAAPsAAAAAAAAAkwAAAAAAAAD3AAAAAAAAAP8AAAAAAAAA4wAAAAAAAADLAAAAAAACAQMAAAAAAAIBBwAAAAAAAAD7AAAAAAAAALsAAAAAAAAAswAAAAAAAACrAAAAAAAAAHMAAAAAAAABCwAAAAAAAAD3AAAAAAAAALsAAAAAAAAAYwAAAAAAAACrAAAAAAAAAQsAAAAAAAIBCwAAAAAAAAEbAAAAAAAAAIsAAAAAAAAA+wAAAAAAAACTAAAAAAACARcAAAAAAAAAzwAAAAAAAgEHAAAAAAAAAQMAAAAAAAIBEwAAAAAAAADnAAAAAAAAAQcAAAAAAAIBbQAAAAAAAACLA\",\"dtype\":\"float64\",\"order\":\"little\",\"shape\":[60]},\"y\":{\"__ndarray__\":\"AAAAAAAAGUAAAAAAAIAqQAAAAAAAgCpAAAAAAACALEAAAAAAAIAuQAAAAAAAQDRAAAAAAABANEAAAAAAAEA1QAAAAAAAQDVAAAAAAABANUAAAAAAAEA1QAAAAAAAQDxAAAAAAABAPEAAAAAAAEA8QAAAAAAAQDxAAAAAAABAPEAAAAAAAEA9QAAAAAAAQD1AAAAAAAAgQEAAAAAAAKBAQAAAAAAAoEBAAAAAAAAgQkAAAAAAAKBCQAAAAAAAIENAAAAAAAAgQ0AAAAAAAKBEQAAAAAAAoERAAAAAAAAgRUAAAAAAAKBFQAAAAAAAIEZAAAAAAAAgR0AAAAAAAKBHQAAAAAAAIEhAAAAAAAAgSUAAAAAAAKBJQAAAAAAAoElAAAAAAACgS0AAAAAAAKBLQAAAAAAAIExAAAAAAACgTEAAAAAAACBNQAAAAAAA0FBAAAAAAADQUEAAAAAAANBQQAAAAAAAkFFAAAAAAACQUUAAAAAAAJBSQAAAAAAAEFRAAAAAAADQVEAAAAAAANBUQAAAAAAA0FVAAAAAAACQV0AAAAAAAJBXQAAAAAAAUFhAAAAAAADQWUAAAAAAAJBaQAAAAAAAEF5AAAAAAABoYEAAAAAAAOhhQAAAAAAACGNA\",\"dtype\":\"float64\",\"order\":\"little\",\"shape\":[60]}},\"selected\":{\"id\":\"3237\"},\"selection_policy\":{\"id\":\"3236\"}},\"id\":\"3099\",\"type\":\"ColumnDataSource\"},{\"attributes\":{\"fill_color\":{\"value\":\"navy\"},\"height\":{\"value\":0.6},\"line_color\":{\"value\":\"navy\"},\"right\":{\"field\":\"right\"},\"y\":{\"field\":\"y\"}},\"id\":\"3095\",\"type\":\"HBar\"},{\"attributes\":{\"text\":\"\"},\"id\":\"3227\",\"type\":\"Title\"},{\"attributes\":{\"formatter\":{\"id\":\"3230\"},\"ticker\":{\"id\":\"3077\"}},\"id\":\"3076\",\"type\":\"LinearAxis\"},{\"attributes\":{},\"id\":\"3230\",\"type\":\"BasicTickFormatter\"},{\"attributes\":{\"data_source\":{\"id\":\"3094\"},\"glyph\":{\"id\":\"3095\"},\"hover_glyph\":null,\"muted_glyph\":null,\"nonselection_glyph\":{\"id\":\"3096\"},\"selection_glyph\":null,\"view\":{\"id\":\"3098\"}},\"id\":\"3097\",\"type\":\"GlyphRenderer\"},{\"attributes\":{},\"id\":\"3234\",\"type\":\"UnionRenderers\"},{\"attributes\":{},\"id\":\"3235\",\"type\":\"Selection\"},{\"attributes\":{\"fill_color\":{\"value\":\"red\"},\"height\":{\"value\":0.6},\"line_color\":{\"value\":\"red\"},\"right\":{\"field\":\"right\"},\"y\":{\"field\":\"y\"}},\"id\":\"3100\",\"type\":\"HBar\"},{\"attributes\":{},\"id\":\"3081\",\"type\":\"WheelZoomTool\"},{\"attributes\":{\"source\":{\"id\":\"3099\"}},\"id\":\"3103\",\"type\":\"CDSView\"},{\"attributes\":{},\"id\":\"3068\",\"type\":\"LinearScale\"},{\"attributes\":{\"fill_alpha\":{\"value\":0.1},\"fill_color\":{\"value\":\"red\"},\"height\":{\"value\":0.6},\"line_alpha\":{\"value\":0.1},\"line_color\":{\"value\":\"red\"},\"right\":{\"field\":\"right\"},\"y\":{\"field\":\"y\"}},\"id\":\"3101\",\"type\":\"HBar\"},{\"attributes\":{\"data_source\":{\"id\":\"3099\"},\"glyph\":{\"id\":\"3100\"},\"hover_glyph\":null,\"muted_glyph\":null,\"nonselection_glyph\":{\"id\":\"3101\"},\"selection_glyph\":null,\"view\":{\"id\":\"3103\"}},\"id\":\"3102\",\"type\":\"GlyphRenderer\"},{\"attributes\":{},\"id\":\"3085\",\"type\":\"HelpTool\"},{\"attributes\":{\"formatter\":{\"id\":\"3232\"},\"ticker\":{\"id\":\"3073\"}},\"id\":\"3072\",\"type\":\"LinearAxis\"},{\"attributes\":{},\"id\":\"3237\",\"type\":\"Selection\"}],\"root_ids\":[\"3063\"]},\"title\":\"Bokeh Application\",\"version\":\"2.1.1\"}};\n",
       "  var render_items = [{\"docid\":\"53cbc8d6-7120-496e-8d08-04cf12ba91c9\",\"root_ids\":[\"3063\"],\"roots\":{\"3063\":\"d12639f9-854e-43eb-9854-5ee81ec0ce5c\"}}];\n",
       "  root.Bokeh.embed.embed_items_notebook(docs_json, render_items);\n",
       "\n",
       "  }\n",
       "  if (root.Bokeh !== undefined) {\n",
       "    embed_document(root);\n",
       "  } else {\n",
       "    var attempts = 0;\n",
       "    var timer = setInterval(function(root) {\n",
       "      if (root.Bokeh !== undefined) {\n",
       "        clearInterval(timer);\n",
       "        embed_document(root);\n",
       "      } else {\n",
       "        attempts++;\n",
       "        if (attempts > 100) {\n",
       "          clearInterval(timer);\n",
       "          console.log(\"Bokeh: ERROR: Unable to run BokehJS code because BokehJS library is missing\");\n",
       "        }\n",
       "      }\n",
       "    }, 10, root)\n",
       "  }\n",
       "})(window);"
      ],
      "application/vnd.bokehjs_exec.v0+json": ""
     },
     "metadata": {
      "application/vnd.bokehjs_exec.v0+json": {
       "id": "3063"
      }
     },
     "output_type": "display_data"
    }
   ],
   "source": [
    " from bokeh.plotting import figure, show\n",
    "from bokeh.transform import dodge\n",
    "\n",
    "\n",
    "p = figure(plot_width=400, plot_height=400,x_range=(-100,150),y_range=(0, 160))\n",
    "p.hbar(y=ds.Length_days, height=0.6,right=ds.distance_end_peak, color=\"navy\")\n",
    "p.hbar(y=ds.Length_days+0.25, height=0.6,right=ds.distance_start_peak, color=\"red\")\n",
    "\n",
    "show(p)"
   ]
  },
  {
   "cell_type": "code",
   "execution_count": null,
   "metadata": {},
   "outputs": [],
   "source": []
  }
 ],
 "metadata": {
  "kernelspec": {
   "display_name": "Python 3",
   "language": "python",
   "name": "python3"
  },
  "language_info": {
   "codemirror_mode": {
    "name": "ipython",
    "version": 3
   },
   "file_extension": ".py",
   "mimetype": "text/x-python",
   "name": "python",
   "nbconvert_exporter": "python",
   "pygments_lexer": "ipython3",
   "version": "3.8.3"
  }
 },
 "nbformat": 4,
 "nbformat_minor": 4
}
