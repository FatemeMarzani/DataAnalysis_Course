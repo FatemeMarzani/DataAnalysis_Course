{
 "cells": [
  {
   "cell_type": "code",
   "execution_count": 10,
   "metadata": {},
   "outputs": [],
   "source": [
    "import pandas as pd\n",
    "import numpy as np\n",
    "from  persiantools.jdatetime import JalaliDate"
   ]
  },
  {
   "cell_type": "markdown",
   "metadata": {},
   "source": [
    "# load data"
   ]
  },
  {
   "cell_type": "code",
   "execution_count": 11,
   "metadata": {},
   "outputs": [],
   "source": [
    "df=pd.read_csv('../datasets/lockdown.csv')"
   ]
  },
  {
   "cell_type": "code",
   "execution_count": 12,
   "metadata": {},
   "outputs": [
    {
     "name": "stdout",
     "output_type": "stream",
     "text": [
      "<class 'pandas.core.frame.DataFrame'>\n",
      "RangeIndex: 101080 entries, 0 to 101079\n",
      "Data columns (total 49 columns):\n",
      " #   Column                                 Non-Null Count   Dtype  \n",
      "---  ------                                 --------------   -----  \n",
      " 0   CountryName                            101080 non-null  object \n",
      " 1   CountryCode                            101080 non-null  object \n",
      " 2   RegionName                             34656 non-null   object \n",
      " 3   RegionCode                             34656 non-null   object \n",
      " 4   Jurisdiction                           101080 non-null  object \n",
      " 5   Date                                   101080 non-null  int64  \n",
      " 6   C1_School closing                      98019 non-null   float64\n",
      " 7   C1_Flag                                74962 non-null   float64\n",
      " 8   C2_Workplace closing                   97647 non-null   float64\n",
      " 9   C2_Flag                                68172 non-null   float64\n",
      " 10  C3_Cancel public events                97665 non-null   float64\n",
      " 11  C3_Flag                                73945 non-null   float64\n",
      " 12  C4_Restrictions on gatherings          97663 non-null   float64\n",
      " 13  C4_Flag                                69091 non-null   float64\n",
      " 14  C5_Close public transport              97648 non-null   float64\n",
      " 15  C5_Flag                                41258 non-null   float64\n",
      " 16  C6_Stay at home requirements           97677 non-null   float64\n",
      " 17  C6_Flag                                59401 non-null   float64\n",
      " 18  C7_Restrictions on internal movement   97974 non-null   float64\n",
      " 19  C7_Flag                                57555 non-null   float64\n",
      " 20  C8_International travel controls       97266 non-null   float64\n",
      " 21  E1_Income support                      88781 non-null   float64\n",
      " 22  E1_Flag                                51126 non-null   float64\n",
      " 23  E2_Debt/contract relief                88815 non-null   float64\n",
      " 24  E3_Fiscal measures                     75364 non-null   float64\n",
      " 25  E4_International support               75776 non-null   float64\n",
      " 26  H1_Public information campaigns        96582 non-null   float64\n",
      " 27  H1_Flag                                84669 non-null   float64\n",
      " 28  H2_Testing policy                      97947 non-null   float64\n",
      " 29  H3_Contact tracing                     97584 non-null   float64\n",
      " 30  H4_Emergency investment in healthcare  76052 non-null   float64\n",
      " 31  H5_Investment in vaccines              76192 non-null   float64\n",
      " 32  H6_Facial Coverings                    97591 non-null   float64\n",
      " 33  H6_Flag                                63331 non-null   float64\n",
      " 34  H7_Vaccination policy                  80985 non-null   float64\n",
      " 35  H7_Flag                                553 non-null     float64\n",
      " 36  M1_Wildcard                            0 non-null       float64\n",
      " 37  ConfirmedCases                         91551 non-null   float64\n",
      " 38  ConfirmedDeaths                        91421 non-null   float64\n",
      " 39  StringencyIndex                        97591 non-null   float64\n",
      " 40  StringencyIndexForDisplay              98637 non-null   float64\n",
      " 41  StringencyLegacyIndex                  97627 non-null   float64\n",
      " 42  StringencyLegacyIndexForDisplay        98673 non-null   float64\n",
      " 43  GovernmentResponseIndex                96486 non-null   float64\n",
      " 44  GovernmentResponseIndexForDisplay      97532 non-null   float64\n",
      " 45  ContainmentHealthIndex                 97581 non-null   float64\n",
      " 46  ContainmentHealthIndexForDisplay       98627 non-null   float64\n",
      " 47  EconomicSupportIndex                   88771 non-null   float64\n",
      " 48  EconomicSupportIndexForDisplay         89813 non-null   float64\n",
      "dtypes: float64(43), int64(1), object(5)\n",
      "memory usage: 37.8+ MB\n"
     ]
    }
   ],
   "source": [
    "df.info()"
   ]
  },
  {
   "cell_type": "markdown",
   "metadata": {},
   "source": [
    "# detect and drop duplicates from data"
   ]
  },
  {
   "cell_type": "code",
   "execution_count": 16,
   "metadata": {},
   "outputs": [
    {
     "data": {
      "text/html": [
       "<div>\n",
       "<style scoped>\n",
       "    .dataframe tbody tr th:only-of-type {\n",
       "        vertical-align: middle;\n",
       "    }\n",
       "\n",
       "    .dataframe tbody tr th {\n",
       "        vertical-align: top;\n",
       "    }\n",
       "\n",
       "    .dataframe thead th {\n",
       "        text-align: right;\n",
       "    }\n",
       "</style>\n",
       "<table border=\"1\" class=\"dataframe\">\n",
       "  <thead>\n",
       "    <tr style=\"text-align: right;\">\n",
       "      <th></th>\n",
       "      <th>CountryName</th>\n",
       "      <th>CountryCode</th>\n",
       "      <th>RegionName</th>\n",
       "      <th>RegionCode</th>\n",
       "      <th>Jurisdiction</th>\n",
       "      <th>Date</th>\n",
       "      <th>C1_School closing</th>\n",
       "      <th>C1_Flag</th>\n",
       "      <th>C2_Workplace closing</th>\n",
       "      <th>C2_Flag</th>\n",
       "      <th>...</th>\n",
       "      <th>StringencyIndex</th>\n",
       "      <th>StringencyIndexForDisplay</th>\n",
       "      <th>StringencyLegacyIndex</th>\n",
       "      <th>StringencyLegacyIndexForDisplay</th>\n",
       "      <th>GovernmentResponseIndex</th>\n",
       "      <th>GovernmentResponseIndexForDisplay</th>\n",
       "      <th>ContainmentHealthIndex</th>\n",
       "      <th>ContainmentHealthIndexForDisplay</th>\n",
       "      <th>EconomicSupportIndex</th>\n",
       "      <th>EconomicSupportIndexForDisplay</th>\n",
       "    </tr>\n",
       "  </thead>\n",
       "  <tbody>\n",
       "  </tbody>\n",
       "</table>\n",
       "<p>0 rows × 49 columns</p>\n",
       "</div>"
      ],
      "text/plain": [
       "Empty DataFrame\n",
       "Columns: [CountryName, CountryCode, RegionName, RegionCode, Jurisdiction, Date, C1_School closing, C1_Flag, C2_Workplace closing, C2_Flag, C3_Cancel public events, C3_Flag, C4_Restrictions on gatherings, C4_Flag, C5_Close public transport, C5_Flag, C6_Stay at home requirements, C6_Flag, C7_Restrictions on internal movement, C7_Flag, C8_International travel controls, E1_Income support, E1_Flag, E2_Debt/contract relief, E3_Fiscal measures, E4_International support, H1_Public information campaigns, H1_Flag, H2_Testing policy, H3_Contact tracing, H4_Emergency investment in healthcare, H5_Investment in vaccines, H6_Facial Coverings, H6_Flag, H7_Vaccination policy, H7_Flag, M1_Wildcard, ConfirmedCases, ConfirmedDeaths, StringencyIndex, StringencyIndexForDisplay, StringencyLegacyIndex, StringencyLegacyIndexForDisplay, GovernmentResponseIndex, GovernmentResponseIndexForDisplay, ContainmentHealthIndex, ContainmentHealthIndexForDisplay, EconomicSupportIndex, EconomicSupportIndexForDisplay]\n",
       "Index: []\n",
       "\n",
       "[0 rows x 49 columns]"
      ]
     },
     "execution_count": 16,
     "metadata": {},
     "output_type": "execute_result"
    }
   ],
   "source": [
    "df.loc[df.duplicated(keep=False)]"
   ]
  },
  {
   "cell_type": "code",
   "execution_count": 4,
   "metadata": {},
   "outputs": [],
   "source": [
    "#df.drop_duplicates(keep='first',inplace=True,ignore_index=True)"
   ]
  },
  {
   "cell_type": "markdown",
   "metadata": {},
   "source": [
    "# convert date to DateType"
   ]
  },
  {
   "cell_type": "code",
   "execution_count": 5,
   "metadata": {},
   "outputs": [],
   "source": [
    "df.Date=pd.to_datetime(df.Date, format='%Y%m%d', errors='coerce')"
   ]
  },
  {
   "cell_type": "markdown",
   "metadata": {},
   "source": [
    "# fill missing values in ConfirmedCases and deaths"
   ]
  },
  {
   "cell_type": "code",
   "execution_count": 6,
   "metadata": {},
   "outputs": [],
   "source": [
    "df.ConfirmedCases.fillna(method='ffill',inplace=True)"
   ]
  },
  {
   "cell_type": "code",
   "execution_count": 9,
   "metadata": {},
   "outputs": [],
   "source": [
    "df.ConfirmedDeaths.fillna(method='ffill',inplace=True)"
   ]
  },
  {
   "cell_type": "markdown",
   "metadata": {},
   "source": [
    "# detect and fill outlayers"
   ]
  },
  {
   "cell_type": "code",
   "execution_count": 7,
   "metadata": {},
   "outputs": [],
   "source": [
    "# df.insert(38,'Cases',df.ConfirmedCases-df.ConfirmedCases.shift(-1))"
   ]
  },
  {
   "cell_type": "code",
   "execution_count": 8,
   "metadata": {},
   "outputs": [],
   "source": [
    "# df.loc[df['CountryName']==\"Iran\",'ConfirmedCases':'Cases'].head(10)\n"
   ]
  },
  {
   "cell_type": "code",
   "execution_count": null,
   "metadata": {},
   "outputs": [],
   "source": []
  },
  {
   "cell_type": "code",
   "execution_count": null,
   "metadata": {},
   "outputs": [],
   "source": []
  },
  {
   "cell_type": "code",
   "execution_count": null,
   "metadata": {},
   "outputs": [],
   "source": []
  }
 ],
 "metadata": {
  "kernelspec": {
   "display_name": "Python 3",
   "language": "python",
   "name": "python3"
  },
  "language_info": {
   "codemirror_mode": {
    "name": "ipython",
    "version": 3
   },
   "file_extension": ".py",
   "mimetype": "text/x-python",
   "name": "python",
   "nbconvert_exporter": "python",
   "pygments_lexer": "ipython3",
   "version": "3.8.3"
  }
 },
 "nbformat": 4,
 "nbformat_minor": 4
}
