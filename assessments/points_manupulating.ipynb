{
 "cells": [
  {
   "cell_type": "code",
   "execution_count": 2,
   "metadata": {},
   "outputs": [],
   "source": [
    "import pandas as pd\n",
    "import matplotlib.pyplot as plt\n",
    "import numpy as np\n",
    "from numpy import inf"
   ]
  },
  {
   "cell_type": "markdown",
   "metadata": {},
   "source": [
    "## generate 1000 random points with mean=(2,2) and variance=1"
   ]
  },
  {
   "cell_type": "code",
   "execution_count": 3,
   "metadata": {},
   "outputs": [],
   "source": [
    "mean = [2,2]\n",
    "# cov = np.array([[variance,0],[0,variance]])\n",
    "cov = [[1,0],[0,1]]\n",
    "x, y, = np.random.multivariate_normal(mean, cov, 1000).T\n",
    "points=np.hstack((x.reshape(-1,1),y.reshape(-1,1)))\n"
   ]
  },
  {
   "cell_type": "markdown",
   "metadata": {},
   "source": [
    "#1 comput numbers of point with negitive x or negitive y value"
   ]
  },
  {
   "cell_type": "code",
   "execution_count": 4,
   "metadata": {},
   "outputs": [
    {
     "name": "stdout",
     "output_type": "stream",
     "text": [
      "50\n"
     ]
    }
   ],
   "source": [
    "neg_points=[]\n",
    "for point in points:\n",
    "    if(point[0]<0 or point[1]<0):\n",
    "        neg_points.append(point)\n",
    "print(len(neg_points))"
   ]
  },
  {
   "cell_type": "code",
   "execution_count": 5,
   "metadata": {},
   "outputs": [
    {
     "name": "stdout",
     "output_type": "stream",
     "text": [
      "50\n"
     ]
    }
   ],
   "source": [
    "# you can simply use it too!\n",
    "print(np.sum( (points[:,0]<0) + (points[:,1]<0) ))"
   ]
  },
  {
   "cell_type": "markdown",
   "metadata": {},
   "source": [
    "#2 comput numbers of point with negitive x and negitive y value"
   ]
  },
  {
   "cell_type": "code",
   "execution_count": 6,
   "metadata": {},
   "outputs": [
    {
     "name": "stdout",
     "output_type": "stream",
     "text": [
      "0\n"
     ]
    }
   ],
   "source": [
    "both_neg_points=[]\n",
    "for point in points:\n",
    "    if(point[0]<0 and point[1]<0):\n",
    "        both_neg_points.append(point)\n",
    "        \n",
    "print(len(both_neg_points))"
   ]
  },
  {
   "cell_type": "code",
   "execution_count": 7,
   "metadata": {},
   "outputs": [
    {
     "name": "stdout",
     "output_type": "stream",
     "text": [
      "0\n"
     ]
    }
   ],
   "source": [
    "# you can simply use it too!\n",
    "print(np.sum( (points[:,0]<0) * (points[:,1]<0) ))"
   ]
  },
  {
   "cell_type": "markdown",
   "metadata": {},
   "source": [
    "#3 comput mean of points and euclidean of the real and expected average"
   ]
  },
  {
   "cell_type": "code",
   "execution_count": 8,
   "metadata": {},
   "outputs": [
    {
     "name": "stdout",
     "output_type": "stream",
     "text": [
      "average: [1.97260671 1.97156449]\n",
      "Euclidean of the real and expected average: 0.03948380514344575\n"
     ]
    }
   ],
   "source": [
    "avg = np.mean(points, axis=0)\n",
    "print(f\"average:\", avg)\n",
    "print(\"Euclidean of the real and expected average:\", np.linalg.norm(avg - [2, 2]))"
   ]
  },
  {
   "cell_type": "markdown",
   "metadata": {},
   "source": [
    "#4 calculate distance between two points taking input from the user\n"
   ]
  },
  {
   "cell_type": "code",
   "execution_count": 9,
   "metadata": {},
   "outputs": [],
   "source": [
    "def points_distance(point1,point2):\n",
    "    x1=point1[0]\n",
    "    x2=point2[0]\n",
    "    y1=point1[1]\n",
    "    y2=point2[1]\n",
    "    distance = ((((x2 - x1 )**2) + ((y2-y1)**2) )** 0.5)\n",
    "    return distance\n"
   ]
  },
  {
   "cell_type": "code",
   "execution_count": 10,
   "metadata": {
    "scrolled": false
   },
   "outputs": [
    {
     "name": "stdout",
     "output_type": "stream",
     "text": [
      "[1.96805126 1.97919832]\n"
     ]
    }
   ],
   "source": [
    "min_distance=float (inf)\n",
    "min_distance_point=points[0]\n",
    "for point in points:\n",
    "    distance=points_distance(point,(2,2))\n",
    "    if(distance<=min_distance):\n",
    "        min_distance=distance\n",
    "        min_distance_point=point\n",
    "print(min_distance_point)"
   ]
  },
  {
   "cell_type": "markdown",
   "metadata": {},
   "source": [
    "#5 compute covariance matrix for points"
   ]
  },
  {
   "cell_type": "code",
   "execution_count": 12,
   "metadata": {},
   "outputs": [
    {
     "name": "stdout",
     "output_type": "stream",
     "text": [
      "[[9.94012325e-01 9.97859187e-04]\n",
      " [9.97859187e-04 1.03732592e+00]]\n"
     ]
    }
   ],
   "source": [
    "\n",
    "print(np.cov(points.T))"
   ]
  },
  {
   "cell_type": "code",
   "execution_count": null,
   "metadata": {},
   "outputs": [],
   "source": []
  },
  {
   "cell_type": "code",
   "execution_count": null,
   "metadata": {},
   "outputs": [],
   "source": []
  },
  {
   "cell_type": "code",
   "execution_count": 9,
   "metadata": {},
   "outputs": [],
   "source": [
    "# mu, sigma =2, 1 # mean and standard deviation\n",
    "# x = np.random.normal(mu, sigma, 1000)\n",
    "# y= np.random.normal(mu, sigma, 1000)\n",
    "# variance_x = np.var(x)\n",
    "# mean_x = np.mean(x)\n",
    "# print(\"variance_x:\",variance_x)\n",
    "# print(\"mean_x:\",mean_x)\n",
    "# variance_y = np.var(y)\n",
    "# mean_y = np.mean(y)\n",
    "# print(\"variance_y:\",variance_x)\n",
    "# print(\"mean_y:\",mean_y)\n"
   ]
  },
  {
   "cell_type": "code",
   "execution_count": null,
   "metadata": {},
   "outputs": [],
   "source": []
  },
  {
   "cell_type": "code",
   "execution_count": null,
   "metadata": {},
   "outputs": [],
   "source": []
  },
  {
   "cell_type": "code",
   "execution_count": null,
   "metadata": {},
   "outputs": [],
   "source": []
  },
  {
   "cell_type": "code",
   "execution_count": null,
   "metadata": {},
   "outputs": [],
   "source": []
  }
 ],
 "metadata": {
  "kernelspec": {
   "display_name": "Python 3",
   "language": "python",
   "name": "python3"
  },
  "language_info": {
   "codemirror_mode": {
    "name": "ipython",
    "version": 3
   },
   "file_extension": ".py",
   "mimetype": "text/x-python",
   "name": "python",
   "nbconvert_exporter": "python",
   "pygments_lexer": "ipython3",
   "version": "3.8.3"
  }
 },
 "nbformat": 4,
 "nbformat_minor": 4
}
