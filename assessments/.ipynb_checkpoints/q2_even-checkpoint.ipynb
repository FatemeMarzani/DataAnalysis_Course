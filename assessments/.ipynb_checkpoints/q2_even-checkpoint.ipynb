{
 "cells": [
  {
   "cell_type": "code",
   "execution_count": 29,
   "metadata": {},
   "outputs": [
    {
     "name": "stdout",
     "output_type": "stream",
     "text": [
      "                            Count_of_person  Work_mean  Percent_of_Female_worker\n",
      "United-States                         43832  40.440774                 33.329531\n",
      "?                                       857  41.032672                 28.938156\n",
      "Peru                                     46  36.543478                 39.130435\n",
      "Guatemala                                88  38.715909                 29.545455\n",
      "Mexico                                  951  40.213460                 22.607781\n",
      "Dominican-Republic                      103  41.621359                 46.601942\n",
      "Ireland                                  37  42.432432                 24.324324\n",
      "Germany                                 206  40.815534                 42.233010\n",
      "Philippines                             295  39.620339                 38.983051\n",
      "Thailand                                 30  44.700000                 46.666667\n",
      "Haiti                                    75  36.920000                 41.333333\n",
      "El-Salvador                             155  36.361290                 34.838710\n",
      "Puerto-Rico                             184  39.016304                 40.760870\n",
      "Vietnam                                  86  37.976744                 34.883721\n",
      "South                                   115  42.852174                 38.260870\n",
      "Columbia                                 85  39.929412                 37.647059\n",
      "Japan                                    92  42.282609                 33.695652\n",
      "India                                   151  41.423841                 11.920530\n",
      "Cambodia                                 28  42.035714                 21.428571\n",
      "Poland                                   87  37.689655                 27.586207\n",
      "Laos                                     23  39.391304                 39.130435\n",
      "England                                 127  41.937008                 35.433071\n",
      "Cuba                                    138  40.101449                 36.231884\n",
      "Taiwan                                   65  39.400000                 29.230769\n",
      "Italy                                   105  40.942857                 26.666667\n",
      "Canada                                  182  40.406593                 34.615385\n",
      "Portugal                                 67  42.238806                 20.895522\n",
      "China                                   122  38.262295                 27.049180\n",
      "Nicaragua                                49  36.938776                 44.897959\n",
      "Honduras                                 20  35.650000                 55.000000\n",
      "Iran                                     59  42.949153                 20.338983\n",
      "Scotland                                 21  41.666667                 38.095238\n",
      "Jamaica                                 106  39.160377                 54.716981\n",
      "Ecuador                                  45  39.266667                 35.555556\n",
      "Yugoslavia                               23  40.217391                 21.739130\n",
      "Hungary                                  19  37.947368                 36.842105\n",
      "Hong                                     30  40.266667                 36.666667\n",
      "Greece                                   49  46.897959                 18.367347\n",
      "Trinadad&Tobago                          27  38.888889                 51.851852\n",
      "Outlying-US(Guam-USVI-etc)               23  41.347826                 39.130435\n",
      "France                                   38  42.789474                 36.842105\n",
      "Holand-Netherlands                        1  40.000000                100.000000\n"
     ]
    }
   ],
   "source": [
    "import pandas as pd\n",
    "import numpy as np\n",
    "countries=income['native-country'].unique()\n",
    "data={}\n",
    "for country in countries:\n",
    "    data[country]=[len(income.loc[(income['native-country'] ==country)]),np.mean(income.loc[(income['native-country'] ==country)]['hours-per-week']),((len(income.loc[(income['native-country'] ==country) & (income['gender'] =='Female')])/len(income.loc[(income['native-country'] ==country)]))*100)]\n",
    "# table=pd.DataFrame.from_dict(data, orient='index',columns=[ 'تعداد افراد در جدول', 'میانگین ساعت کار', 'درصد شاغلین خانم'])\n",
    "\n",
    "table=pd.DataFrame.from_dict(data, orient='index',columns=[ 'Count_of_person', 'Work_mean', 'Percent_of_Female_worker'])\n",
    "print(table)"
   ]
  },
  {
   "cell_type": "code",
   "execution_count": null,
   "metadata": {},
   "outputs": [],
   "source": []
  }
 ],
 "metadata": {
  "kernelspec": {
   "display_name": "Python 3",
   "language": "python",
   "name": "python3"
  },
  "language_info": {
   "codemirror_mode": {
    "name": "ipython",
    "version": 3
   },
   "file_extension": ".py",
   "mimetype": "text/x-python",
   "name": "python",
   "nbconvert_exporter": "python",
   "pygments_lexer": "ipython3",
   "version": "3.8.3"
  }
 },
 "nbformat": 4,
 "nbformat_minor": 4
}
