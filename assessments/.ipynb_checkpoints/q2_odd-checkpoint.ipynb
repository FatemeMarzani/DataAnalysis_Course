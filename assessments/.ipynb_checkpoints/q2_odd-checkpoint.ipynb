{
 "cells": [
  {
   "cell_type": "code",
   "execution_count": 1,
   "metadata": {},
   "outputs": [],
   "source": [
    "import pandas as pd\n",
    "from functools import reduce\n",
    "import numpy as np\n",
    "income = pd.read_csv('income.csv')"
   ]
  },
  {
   "cell_type": "code",
   "execution_count": 2,
   "metadata": {},
   "outputs": [],
   "source": [
    "isoutlier_workclass=(income.loc[:,'workclass']=='?')\n",
    "income.loc[isoutlier_workclass,'workclass']=np.nan\n",
    "isoutlier_occupation=(income.loc[:,'occupation']=='?')\n",
    "income.loc[isoutlier_occupation,'occupation']=np.nan\n"
   ]
  },
  {
   "cell_type": "code",
   "execution_count": 3,
   "metadata": {},
   "outputs": [
    {
     "name": "stdout",
     "output_type": "stream",
     "text": [
      "Numbers of rows with nan workclass:  2799\n",
      "Numbers of rows with nan occupation:  2809\n",
      "Numbers of rows with nan occupation or nan workclass:  2809\n"
     ]
    },
    {
     "name": "stderr",
     "output_type": "stream",
     "text": [
      "C:\\Users\\zst2019\\anaconda3\\lib\\site-packages\\pandas\\core\\computation\\expressions.py:177: UserWarning: evaluating in Python space because the '+' operator is not supported by numexpr for the bool dtype, use '|' instead\n",
      "  warnings.warn(\n"
     ]
    }
   ],
   "source": [
    "print(\"Numbers of rows with nan workclass: \",np.sum( (income.loc[:,'workclass'].isnull())  ))\n",
    "print(\"Numbers of rows with nan occupation: \",np.sum( (income.loc[:,'occupation'].isnull())  ))\n",
    "print(\"Numbers of rows with nan occupation or nan workclass: \",np.sum( (income.loc[:,'occupation'].isnull()) + (income.loc[:,'workclass'].isnull())))"
   ]
  },
  {
   "cell_type": "code",
   "execution_count": 4,
   "metadata": {},
   "outputs": [
    {
     "name": "stdout",
     "output_type": "stream",
     "text": [
      "       age workclass  fnlwgt     education  educational-num  \\\n",
      "4       18       NaN  103497  Some-college               10   \n",
      "6       29       NaN  227026       HS-grad                9   \n",
      "13      58       NaN  299831       HS-grad                9   \n",
      "22      72       NaN  132015       7th-8th                4   \n",
      "35      65       NaN  191846       HS-grad                9   \n",
      "...    ...       ...     ...           ...              ...   \n",
      "48811   35       NaN  320084     Bachelors               13   \n",
      "48812   30       NaN   33811     Bachelors               13   \n",
      "48820   71       NaN  287372     Doctorate               16   \n",
      "48822   41       NaN  202822       HS-grad                9   \n",
      "48823   72       NaN  129912       HS-grad                9   \n",
      "\n",
      "           marital-status occupation   relationship                race  \\\n",
      "4           Never-married        NaN      Own-child               White   \n",
      "6           Never-married        NaN      Unmarried               Black   \n",
      "13     Married-civ-spouse        NaN        Husband               White   \n",
      "22               Divorced        NaN  Not-in-family               White   \n",
      "35     Married-civ-spouse        NaN        Husband               White   \n",
      "...                   ...        ...            ...                 ...   \n",
      "48811  Married-civ-spouse        NaN           Wife               White   \n",
      "48812       Never-married        NaN  Not-in-family  Asian-Pac-Islander   \n",
      "48820  Married-civ-spouse        NaN        Husband               White   \n",
      "48822           Separated        NaN  Not-in-family               Black   \n",
      "48823  Married-civ-spouse        NaN        Husband               White   \n",
      "\n",
      "       gender  capital-gain  capital-loss  hours-per-week native-country  \\\n",
      "4      Female             0             0              30  United-States   \n",
      "6        Male             0             0              40  United-States   \n",
      "13       Male             0             0              35  United-States   \n",
      "22     Female             0             0               6  United-States   \n",
      "35       Male             0             0              40  United-States   \n",
      "...       ...           ...           ...             ...            ...   \n",
      "48811  Female             0             0              55  United-States   \n",
      "48812  Female             0             0              99  United-States   \n",
      "48820    Male             0             0              10  United-States   \n",
      "48822  Female             0             0              32  United-States   \n",
      "48823    Male             0             0              25  United-States   \n",
      "\n",
      "      income  \n",
      "4      <=50K  \n",
      "6      <=50K  \n",
      "13     <=50K  \n",
      "22     <=50K  \n",
      "35     <=50K  \n",
      "...      ...  \n",
      "48811   >50K  \n",
      "48812  <=50K  \n",
      "48820   >50K  \n",
      "48822  <=50K  \n",
      "48823  <=50K  \n",
      "\n",
      "[2809 rows x 15 columns]\n"
     ]
    }
   ],
   "source": [
    "df=income.loc[(income['workclass'] .isnull())+(income['occupation'] .isnull())]\n",
    "print(df)"
   ]
  },
  {
   "cell_type": "code",
   "execution_count": 5,
   "metadata": {},
   "outputs": [
    {
     "name": "stdout",
     "output_type": "stream",
     "text": [
      "       age     workclass  fnlwgt     education  educational-num  \\\n",
      "7590    33  Self-emp-inc   96245       HS-grad                9   \n",
      "22899   27       Private  336951       HS-grad                9   \n",
      "7178    34       Private  132544  Some-college               10   \n",
      "37428   39       Private  348521  Some-college               10   \n",
      "31815   29       Private  167716       HS-grad                9   \n",
      "15909   41           NaN  173651    Assoc-acdm               12   \n",
      "31741   37       Private  241174     Bachelors               13   \n",
      "36012   34   Federal-gov  345259     Doctorate               16   \n",
      "40764   39  Self-emp-inc  124685       Masters               14   \n",
      "47273   40  Self-emp-inc  104235       Masters               14   \n",
      "\n",
      "           marital-status        occupation   relationship  \\\n",
      "7590   Married-civ-spouse             Sales        Husband   \n",
      "22899  Married-civ-spouse  Transport-moving        Husband   \n",
      "7178   Married-civ-spouse             Sales        Husband   \n",
      "37428  Married-civ-spouse   Farming-fishing        Husband   \n",
      "31815            Divorced     Other-service      Unmarried   \n",
      "15909  Married-civ-spouse               NaN        Husband   \n",
      "31741  Married-civ-spouse    Prof-specialty        Husband   \n",
      "36012       Never-married    Prof-specialty  Not-in-family   \n",
      "40764            Divorced   Exec-managerial  Not-in-family   \n",
      "47273       Never-married     Other-service      Own-child   \n",
      "\n",
      "                     race  gender  capital-gain  capital-loss  hours-per-week  \\\n",
      "7590                White    Male             0             0              99   \n",
      "22899               White    Male             0             0              99   \n",
      "7178                White    Male             0             0              99   \n",
      "37428               White    Male             0          2415              99   \n",
      "31815               White  Female             0             0              99   \n",
      "15909               White    Male             0             0              99   \n",
      "31741               White    Male             0             0              99   \n",
      "36012               White  Female             0             0              99   \n",
      "40764  Asian-Pac-Islander    Male             0             0              99   \n",
      "47273               White    Male             0             0              99   \n",
      "\n",
      "      native-country income  \n",
      "7590   United-States  <=50K  \n",
      "22899  United-States  <=50K  \n",
      "7178   United-States  <=50K  \n",
      "37428  United-States   >50K  \n",
      "31815  United-States  <=50K  \n",
      "15909  United-States  <=50K  \n",
      "31741  United-States   >50K  \n",
      "36012  United-States  <=50K  \n",
      "40764          Japan   >50K  \n",
      "47273  United-States  <=50K  \n"
     ]
    }
   ],
   "source": [
    "ten_most_hours_per_week=income.loc[:,:].sort_values(by='hours-per-week').tail(10)\n",
    "print(ten_most_hours_per_week)"
   ]
  },
  {
   "cell_type": "code",
   "execution_count": 6,
   "metadata": {},
   "outputs": [
    {
     "name": "stdout",
     "output_type": "stream",
     "text": [
      "42.94915254237288\n"
     ]
    }
   ],
   "source": [
    "income_iran=income.loc[income['native-country']=='Iran']\n",
    "mean_income_iran=np.mean(income_iran['hours-per-week'])\n",
    "print(mean_income_iran)"
   ]
  },
  {
   "cell_type": "code",
   "execution_count": 7,
   "metadata": {},
   "outputs": [
    {
     "name": "stdout",
     "output_type": "stream",
     "text": [
      "0.2033898305084746\n"
     ]
    }
   ],
   "source": [
    "mean_female_income_iran=np.mean((income_iran.loc[:,'gender']=='Female') )\n",
    "print(mean_female_income_iran)\n",
    "\n"
   ]
  },
  {
   "cell_type": "code",
   "execution_count": null,
   "metadata": {},
   "outputs": [],
   "source": []
  }
 ],
 "metadata": {
  "kernelspec": {
   "display_name": "Python 3",
   "language": "python",
   "name": "python3"
  },
  "language_info": {
   "codemirror_mode": {
    "name": "ipython",
    "version": 3
   },
   "file_extension": ".py",
   "mimetype": "text/x-python",
   "name": "python",
   "nbconvert_exporter": "python",
   "pygments_lexer": "ipython3",
   "version": "3.8.3"
  }
 },
 "nbformat": 4,
 "nbformat_minor": 4
}
